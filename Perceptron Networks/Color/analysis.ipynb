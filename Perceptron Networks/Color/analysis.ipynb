{
 "cells": [
  {
   "cell_type": "code",
   "execution_count": 1,
   "metadata": {},
   "outputs": [],
   "source": [
    "import sys\n",
    "import math\n",
    "import numpy as np\n",
    "import json\n",
    "sys.path.insert(0, '..')\n",
    "from net_framework import *\n",
    "from sklearn.model_selection import train_test_split\n",
    "import matplotlib.pyplot as plt\n",
    "import pandas as pd"
   ]
  },
  {
   "cell_type": "markdown",
   "metadata": {},
   "source": [
    "## Analyzing json Data"
   ]
  },
  {
   "cell_type": "code",
   "execution_count": 2,
   "metadata": {},
   "outputs": [],
   "source": [
    "num_langs = 3\n",
    "node_num = range(1,25)"
   ]
  },
  {
   "cell_type": "code",
   "execution_count": 3,
   "metadata": {},
   "outputs": [],
   "source": [
    "files = []\n",
    "for i in range(num_langs):\n",
    "    with open('validation_errors_{0}.json'.format(i+1)) as f:\n",
    "        output_file=json.load(f)\n",
    "    files.append(output_file)"
   ]
  },
  {
   "cell_type": "code",
   "execution_count": 4,
   "metadata": {},
   "outputs": [],
   "source": [
    "experiment_complexities = []\n",
    "for i in range(num_langs):\n",
    "    output_file = files[i]\n",
    "    errors = []\n",
    "    for size in node_num:\n",
    "        out_dict_for_size = output_file[str(size)]\n",
    "        vals = list(out_dict_for_size.values())\n",
    "        vals = np.array(vals)\n",
    "        vals = vals[:,0]\n",
    "        errors.append(np.min(vals))\n",
    "    errors = np.array(errors)\n",
    "\n",
    "    thresholds = np.arange(.001, 1, .001)\n",
    "\n",
    "    min_sizes = []\n",
    "    for threshold in thresholds:\n",
    "        idx = 0\n",
    "        for err in errors:\n",
    "            if err <= threshold:\n",
    "                break\n",
    "            idx += 1\n",
    "        if idx < len(node_num):\n",
    "            min_sizes.append(node_num[idx])\n",
    "        else:\n",
    "            min_sizes.append(max(node_num))\n",
    "\n",
    "    complexity = np.mean(min_sizes)\n",
    "    experiment_complexities.append(complexity)"
   ]
  },
  {
   "cell_type": "markdown",
   "metadata": {},
   "source": [
    "## Calculating Information Complexities"
   ]
  },
  {
   "cell_type": "markdown",
   "metadata": {},
   "source": [
    "### Formatting Data"
   ]
  },
  {
   "cell_type": "code",
   "execution_count": 5,
   "metadata": {
    "scrolled": true
   },
   "outputs": [
    {
     "data": {
      "text/html": [
       "<div>\n",
       "<style scoped>\n",
       "    .dataframe tbody tr th:only-of-type {\n",
       "        vertical-align: middle;\n",
       "    }\n",
       "\n",
       "    .dataframe tbody tr th {\n",
       "        vertical-align: top;\n",
       "    }\n",
       "\n",
       "    .dataframe thead th {\n",
       "        text-align: right;\n",
       "    }\n",
       "</style>\n",
       "<table border=\"1\" class=\"dataframe\">\n",
       "  <thead>\n",
       "    <tr style=\"text-align: right;\">\n",
       "      <th></th>\n",
       "      <th>#Lnum</th>\n",
       "      <th>#snum</th>\n",
       "      <th>#cnum</th>\n",
       "      <th>Term Abbrev</th>\n",
       "    </tr>\n",
       "  </thead>\n",
       "  <tbody>\n",
       "    <tr>\n",
       "      <th>0</th>\n",
       "      <td>1</td>\n",
       "      <td>1</td>\n",
       "      <td>1</td>\n",
       "      <td>LB</td>\n",
       "    </tr>\n",
       "    <tr>\n",
       "      <th>1</th>\n",
       "      <td>1</td>\n",
       "      <td>1</td>\n",
       "      <td>2</td>\n",
       "      <td>LB</td>\n",
       "    </tr>\n",
       "    <tr>\n",
       "      <th>2</th>\n",
       "      <td>1</td>\n",
       "      <td>1</td>\n",
       "      <td>3</td>\n",
       "      <td>LE</td>\n",
       "    </tr>\n",
       "    <tr>\n",
       "      <th>3</th>\n",
       "      <td>1</td>\n",
       "      <td>1</td>\n",
       "      <td>4</td>\n",
       "      <td>WK</td>\n",
       "    </tr>\n",
       "    <tr>\n",
       "      <th>4</th>\n",
       "      <td>1</td>\n",
       "      <td>1</td>\n",
       "      <td>5</td>\n",
       "      <td>LF</td>\n",
       "    </tr>\n",
       "  </tbody>\n",
       "</table>\n",
       "</div>"
      ],
      "text/plain": [
       "   #Lnum  #snum  #cnum Term Abbrev\n",
       "0      1      1      1          LB\n",
       "1      1      1      2          LB\n",
       "2      1      1      3          LE\n",
       "3      1      1      4          WK\n",
       "4      1      1      5          LF"
      ]
     },
     "execution_count": 5,
     "metadata": {},
     "output_type": "execute_result"
    }
   ],
   "source": [
    "term_data = pd.read_csv('term.txt', sep=\"\\t\", header=None)\n",
    "term_data.columns = [\"#Lnum\", \"#snum\", \"#cnum\", \"Term Abbrev\"]\n",
    "term_data.head()"
   ]
  },
  {
   "cell_type": "markdown",
   "metadata": {},
   "source": [
    "### Information complexities"
   ]
  },
  {
   "cell_type": "code",
   "execution_count": 6,
   "metadata": {},
   "outputs": [],
   "source": [
    "def language_complexity(lnum):\n",
    "    language_data = term_data[term_data.get('#Lnum').eq(lnum)]\n",
    "    unique_terms = list(language_data['Term Abbrev'].unique())\n",
    "    l1_grouped = language_data.groupby('#cnum')['Term Abbrev'].apply(list)\n",
    "\n",
    "    l1_chip_abbrev_percentage = [[(l1_grouped[i + 1].count(abbrev) / len(l1_grouped[i + 1])) \\\n",
    "                              for abbrev in unique_terms] for i in range(len(l1_grouped))]\n",
    "    l1_result = pd.DataFrame(l1_chip_abbrev_percentage)\n",
    "    l1_result.index += 1\n",
    "    l1_result.index.name = '#cnum'\n",
    "    l1_result.columns = unique_terms\n",
    "\n",
    "    terms = unique_terms\n",
    "    chips = list(language_data['#cnum'].unique())\n",
    "    \n",
    "    complexity = 0\n",
    "    p_chip = 1 / len(chips)\n",
    "    for w in terms:\n",
    "        word_prob = 0\n",
    "        for m in chips:\n",
    "            word_prob += p_chip * l1_result.at[m, w]\n",
    "        for m in chips:\n",
    "            encoder_prob = l1_result.at[m, w]\n",
    "            if encoder_prob != 0:\n",
    "                mutual_information = p_chip * encoder_prob * np.log2(encoder_prob / word_prob)\n",
    "            complexity += mutual_information\n",
    "    return complexity"
   ]
  },
  {
   "cell_type": "code",
   "execution_count": 7,
   "metadata": {},
   "outputs": [],
   "source": [
    "information_complexities = []\n",
    "for i in range(num_langs):\n",
    "    information_complexities.append(language_complexity(i+1))"
   ]
  },
  {
   "cell_type": "markdown",
   "metadata": {},
   "source": [
    "## Scatter Plotting Both Complexities"
   ]
  },
  {
   "cell_type": "code",
   "execution_count": 8,
   "metadata": {},
   "outputs": [
    {
     "data": {
      "text/plain": [
       "Text(0, 0.5, 'Estimated Complexity (arb. units)')"
      ]
     },
     "execution_count": 8,
     "metadata": {},
     "output_type": "execute_result"
    },
    {
     "data": {
      "image/png": "[encoded data removed]",
      "text/plain": [
       "<Figure size 432x288 with 1 Axes>"
      ]
     },
     "metadata": {
      "needs_background": "light"
     },
     "output_type": "display_data"
    }
   ],
   "source": [
    "plt.scatter(np.array(information_complexities), np.array(experiment_complexities))\n",
    "plt.xlabel('Complexity (bits)')\n",
    "plt.ylabel('Estimated Complexity (arb. units)')\n"
   ]
  },
  {
   "cell_type": "code",
   "execution_count": null,
   "metadata": {},
   "outputs": [],
   "source": []
  }
 ],
 "metadata": {
  "kernelspec": {
   "display_name": "Python 3",
   "language": "python",
   "name": "python3"
  },
  "language_info": {
   "codemirror_mode": {
    "name": "ipython",
    "version": 3
   },
   "file_extension": ".py",
   "mimetype": "text/x-python",
   "name": "python",
   "nbconvert_exporter": "python",
   "pygments_lexer": "ipython3",
   "version": "3.7.9"
  }
 },
 "nbformat": 4,
 "nbformat_minor": 4
}
