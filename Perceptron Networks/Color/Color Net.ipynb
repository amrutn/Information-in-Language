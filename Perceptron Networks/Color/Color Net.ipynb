{
 "cells": [
  {
   "cell_type": "code",
   "execution_count": 6,
   "metadata": {},
   "outputs": [
    {
     "output_type": "error",
     "ename": "ModuleNotFoundError",
     "evalue": "No module named 'sklearn'",
     "traceback": [
      "\u001b[1;31m---------------------------------------------------------------------------\u001b[0m",
      "\u001b[1;31mModuleNotFoundError\u001b[0m                       Traceback (most recent call last)",
      "\u001b[1;32m<ipython-input-6-085fdd136118>\u001b[0m in \u001b[0;36m<module>\u001b[1;34m\u001b[0m\n\u001b[0;32m      3\u001b[0m \u001b[1;32mimport\u001b[0m \u001b[0mnumpy\u001b[0m \u001b[1;32mas\u001b[0m \u001b[0mnp\u001b[0m\u001b[1;33m\u001b[0m\u001b[1;33m\u001b[0m\u001b[0m\n\u001b[0;32m      4\u001b[0m \u001b[1;32mimport\u001b[0m \u001b[0mjson\u001b[0m\u001b[1;33m\u001b[0m\u001b[1;33m\u001b[0m\u001b[0m\n\u001b[1;32m----> 5\u001b[1;33m \u001b[1;32mimport\u001b[0m \u001b[0msklearn\u001b[0m\u001b[1;33m\u001b[0m\u001b[1;33m\u001b[0m\u001b[0m\n\u001b[0m\u001b[0;32m      6\u001b[0m \u001b[0msys\u001b[0m\u001b[1;33m.\u001b[0m\u001b[0mpath\u001b[0m\u001b[1;33m.\u001b[0m\u001b[0minsert\u001b[0m\u001b[1;33m(\u001b[0m\u001b[1;36m0\u001b[0m\u001b[1;33m,\u001b[0m \u001b[1;34m'..'\u001b[0m\u001b[1;33m)\u001b[0m\u001b[1;33m\u001b[0m\u001b[1;33m\u001b[0m\u001b[0m\n\u001b[0;32m      7\u001b[0m \u001b[1;32mfrom\u001b[0m \u001b[0mnet_framework\u001b[0m \u001b[1;32mimport\u001b[0m \u001b[1;33m*\u001b[0m\u001b[1;33m\u001b[0m\u001b[1;33m\u001b[0m\u001b[0m\n",
      "\u001b[1;31mModuleNotFoundError\u001b[0m: No module named 'sklearn'"
     ]
    }
   ],
   "source": [
    "import sys\n",
    "import math\n",
    "import numpy as np\n",
    "import json\n",
    "import sklearn\n",
    "sys.path.insert(0, '..')\n",
    "from net_framework import *\n",
    "from sklearn.model_selection import train_test_split\n",
    "import matplotlib.pyplot as plt\n",
    "import pandas as pd"
   ]
  },
  {
   "cell_type": "markdown",
   "metadata": {},
   "source": [
    "### Formatting Data"
   ]
  },
  {
   "cell_type": "code",
   "execution_count": null,
   "metadata": {},
   "outputs": [],
   "source": [
    "term_data = pd.read_csv('term.txt', sep=\"\\t\", header=None)\n",
    "term_data.columns = [\"#Lnum\", \"#snum\", \"#cnum\", \"Term Abbrev\"]\n",
    "term_data.head()"
   ]
  },
  {
   "cell_type": "code",
   "execution_count": 3,
   "metadata": {},
   "outputs": [
    {
     "data": {
      "text/plain": [
       "array([  1,   2,   3,   4,   5,   6,   7,   8,   9,  10,  11,  12,  13,\n",
       "        14,  15,  16,  17,  18,  19,  20,  21,  22,  23,  24,  25,  26,\n",
       "        27,  28,  29,  30,  31,  32,  33,  34,  35,  36,  37,  38,  39,\n",
       "        40,  41,  42,  43,  44,  45,  46,  47,  48,  49,  50,  51,  52,\n",
       "        53,  54,  55,  56,  57,  58,  59,  60,  61,  62,  63,  64,  65,\n",
       "        66,  67,  68,  69,  70,  71,  72,  73,  74,  75,  76,  77,  78,\n",
       "        79,  80,  81,  82,  83,  84,  85,  86,  87,  88,  89,  90,  91,\n",
       "        92,  93,  94,  95,  96,  97,  98,  99, 100, 101, 102, 103, 104,\n",
       "       105, 106, 107, 108, 109, 110], dtype=int64)"
      ]
     },
     "execution_count": 3,
     "metadata": {},
     "output_type": "execute_result"
    }
   ],
   "source": [
    "term_data['#Lnum'].unique()"
   ]
  },
  {
   "cell_type": "code",
   "execution_count": 4,
   "metadata": {},
   "outputs": [
    {
     "name": "stderr",
     "output_type": "stream",
     "text": [
      "C:\\ProgramData\\Anaconda3\\lib\\site-packages\\ipykernel_launcher.py:3: SettingWithCopyWarning: \n",
      "A value is trying to be set on a copy of a slice from a DataFrame.\n",
      "Try using .loc[row_indexer,col_indexer] = value instead\n",
      "\n",
      "See the caveats in the documentation: https://pandas.pydata.org/pandas-docs/stable/user_guide/indexing.html#returning-a-view-versus-a-copy\n",
      "  This is separate from the ipykernel package so we can avoid doing imports until\n",
      "C:\\ProgramData\\Anaconda3\\lib\\site-packages\\ipykernel_launcher.py:4: SettingWithCopyWarning: \n",
      "A value is trying to be set on a copy of a slice from a DataFrame.\n",
      "Try using .loc[row_indexer,col_indexer] = value instead\n",
      "\n",
      "See the caveats in the documentation: https://pandas.pydata.org/pandas-docs/stable/user_guide/indexing.html#returning-a-view-versus-a-copy\n",
      "  after removing the cwd from sys.path.\n",
      "C:\\ProgramData\\Anaconda3\\lib\\site-packages\\ipykernel_launcher.py:5: SettingWithCopyWarning: \n",
      "A value is trying to be set on a copy of a slice from a DataFrame.\n",
      "Try using .loc[row_indexer,col_indexer] = value instead\n",
      "\n",
      "See the caveats in the documentation: https://pandas.pydata.org/pandas-docs/stable/user_guide/indexing.html#returning-a-view-versus-a-copy\n",
      "  \"\"\"\n"
     ]
    },
    {
     "data": {
      "text/html": [
       "<div>\n",
       "<style scoped>\n",
       "    .dataframe tbody tr th:only-of-type {\n",
       "        vertical-align: middle;\n",
       "    }\n",
       "\n",
       "    .dataframe tbody tr th {\n",
       "        vertical-align: top;\n",
       "    }\n",
       "\n",
       "    .dataframe thead th {\n",
       "        text-align: right;\n",
       "    }\n",
       "</style>\n",
       "<table border=\"1\" class=\"dataframe\">\n",
       "  <thead>\n",
       "    <tr style=\"text-align: right;\">\n",
       "      <th></th>\n",
       "      <th>#cnum</th>\n",
       "      <th>Normalized-L</th>\n",
       "      <th>Normalized-a</th>\n",
       "      <th>Normalized-b</th>\n",
       "    </tr>\n",
       "  </thead>\n",
       "  <tbody>\n",
       "    <tr>\n",
       "      <th>0</th>\n",
       "      <td>141</td>\n",
       "      <td>0.853205</td>\n",
       "      <td>-0.025675</td>\n",
       "      <td>-0.138822</td>\n",
       "    </tr>\n",
       "    <tr>\n",
       "      <th>1</th>\n",
       "      <td>274</td>\n",
       "      <td>0.747664</td>\n",
       "      <td>-0.025504</td>\n",
       "      <td>-0.138822</td>\n",
       "    </tr>\n",
       "    <tr>\n",
       "      <th>2</th>\n",
       "      <td>129</td>\n",
       "      <td>0.747664</td>\n",
       "      <td>0.070445</td>\n",
       "      <td>-0.106039</td>\n",
       "    </tr>\n",
       "    <tr>\n",
       "      <th>3</th>\n",
       "      <td>230</td>\n",
       "      <td>0.747664</td>\n",
       "      <td>0.070101</td>\n",
       "      <td>-0.089951</td>\n",
       "    </tr>\n",
       "    <tr>\n",
       "      <th>4</th>\n",
       "      <td>302</td>\n",
       "      <td>0.747664</td>\n",
       "      <td>0.070617</td>\n",
       "      <td>-0.072041</td>\n",
       "    </tr>\n",
       "    <tr>\n",
       "      <th>...</th>\n",
       "      <td>...</td>\n",
       "      <td>...</td>\n",
       "      <td>...</td>\n",
       "      <td>...</td>\n",
       "    </tr>\n",
       "    <tr>\n",
       "      <th>325</th>\n",
       "      <td>305</td>\n",
       "      <td>-0.765518</td>\n",
       "      <td>0.567556</td>\n",
       "      <td>-0.362691</td>\n",
       "    </tr>\n",
       "    <tr>\n",
       "      <th>326</th>\n",
       "      <td>267</td>\n",
       "      <td>-0.765518</td>\n",
       "      <td>0.584752</td>\n",
       "      <td>-0.297579</td>\n",
       "    </tr>\n",
       "    <tr>\n",
       "      <th>327</th>\n",
       "      <td>243</td>\n",
       "      <td>-0.765518</td>\n",
       "      <td>0.593865</td>\n",
       "      <td>-0.235807</td>\n",
       "    </tr>\n",
       "    <tr>\n",
       "      <th>328</th>\n",
       "      <td>182</td>\n",
       "      <td>-0.765518</td>\n",
       "      <td>0.601603</td>\n",
       "      <td>-0.171302</td>\n",
       "    </tr>\n",
       "    <tr>\n",
       "      <th>329</th>\n",
       "      <td>89</td>\n",
       "      <td>-0.871488</td>\n",
       "      <td>-0.024988</td>\n",
       "      <td>-0.139429</td>\n",
       "    </tr>\n",
       "  </tbody>\n",
       "</table>\n",
       "<p>330 rows × 4 columns</p>\n",
       "</div>"
      ],
      "text/plain": [
       "     #cnum  Normalized-L  Normalized-a  Normalized-b\n",
       "0      141      0.853205     -0.025675     -0.138822\n",
       "1      274      0.747664     -0.025504     -0.138822\n",
       "2      129      0.747664      0.070445     -0.106039\n",
       "3      230      0.747664      0.070101     -0.089951\n",
       "4      302      0.747664      0.070617     -0.072041\n",
       "..     ...           ...           ...           ...\n",
       "325    305     -0.765518      0.567556     -0.362691\n",
       "326    267     -0.765518      0.584752     -0.297579\n",
       "327    243     -0.765518      0.593865     -0.235807\n",
       "328    182     -0.765518      0.601603     -0.171302\n",
       "329     89     -0.871488     -0.024988     -0.139429\n",
       "\n",
       "[330 rows x 4 columns]"
      ]
     },
     "metadata": {},
     "output_type": "display_data"
    }
   ],
   "source": [
    "cnum_data = pd.read_csv('cnum-vhcm-lab-new.txt', sep=\"\\t\")\n",
    "locations = cnum_data[['#cnum']]\n",
    "locations['Normalized-L'] = (cnum_data['L*'] - cnum_data['L*'].mean())/(cnum_data['L*'] - cnum_data['L*'].mean()).std() * 1/2\n",
    "locations['Normalized-a'] = (cnum_data['a*'] - cnum_data['a*'].mean())/(cnum_data['a*'] - cnum_data['a*'].mean()).std() * 1/2\n",
    "locations['Normalized-b'] = (cnum_data['b*'] - cnum_data['b*'].mean())/(cnum_data['b*'] - cnum_data['b*'].mean()).std() * 1/2\n",
    "display(locations)"
   ]
  },
  {
   "cell_type": "code",
   "execution_count": 5,
   "metadata": {},
   "outputs": [],
   "source": [
    "# debug1 = cnum_data.loc[:, ['#cnum', 'L*', 'a*', 'b*']]\n",
    "# debug1['L*'] = (debug1['L*'] - debug1['L*'].mean()) / debug1['L*'].std()\n",
    "# debug1"
   ]
  },
  {
   "cell_type": "code",
   "execution_count": 6,
   "metadata": {},
   "outputs": [],
   "source": [
    "locations = locations.sort_values('#cnum')\n",
    "chip_num = list(locations['#cnum'])\n",
    "lab_norm = [[row[2], row[3], row[4]] for row in locations.itertuples()]\n",
    "# print(lab_norm)"
   ]
  },
  {
   "cell_type": "code",
   "execution_count": 7,
   "metadata": {},
   "outputs": [],
   "source": [
    "# #Neural Network Shape Test\n",
    "# NNtest = Neural_Network(inputSize = 3, outputSize = 9, hiddenSize = [3,3,3] , learning_rate = 0.001)\n",
    "# NNtest(torch.FloatTensor([[1, 1, 1], [1, 1, 1]]))\n"
   ]
  },
  {
   "cell_type": "code",
   "execution_count": 8,
   "metadata": {},
   "outputs": [],
   "source": [
    "language_num=5\n",
    "l1 = term_data[term_data.get('#Lnum').eq(language_num)]\n",
    "unique_symbols = list(l1['Term Abbrev'].unique())\n",
    "l1_grouped = l1.groupby('#cnum')['Term Abbrev'].apply(list)\n",
    "l1_chip_abbrev_percentage = [[(l1_grouped[i + 1].count(abbrev) / len(l1_grouped[i + 1])) \\\n",
    "                              for abbrev in unique_symbols] for i in range(len(l1_grouped))]\n",
    "#display(l1_chip_abbrev_percentage)"
   ]
  },
  {
   "cell_type": "code",
   "execution_count": 9,
   "metadata": {},
   "outputs": [
    {
     "name": "stdout",
     "output_type": "stream",
     "text": [
      "              7         2    4         6         9         1         5    3  \\\n",
      "#cnum                                                                         \n",
      "1      0.833333  0.166667  0.0  0.000000  0.000000  0.000000  0.000000  0.0   \n",
      "2      0.333333  0.666667  0.0  0.000000  0.000000  0.000000  0.000000  0.0   \n",
      "3      0.000000  0.000000  1.0  0.000000  0.000000  0.000000  0.000000  0.0   \n",
      "4      0.000000  0.000000  0.0  1.000000  0.000000  0.000000  0.000000  0.0   \n",
      "5      0.333333  0.666667  0.0  0.000000  0.000000  0.000000  0.000000  0.0   \n",
      "...         ...       ...  ...       ...       ...       ...       ...  ...   \n",
      "326    0.000000  0.000000  0.0  0.000000  0.000000  0.000000  1.000000  0.0   \n",
      "327    0.166667  0.000000  0.0  0.000000  0.666667  0.000000  0.166667  0.0   \n",
      "328    0.166667  0.666667  0.0  0.166667  0.000000  0.000000  0.000000  0.0   \n",
      "329    0.000000  0.000000  0.0  0.333333  0.000000  0.166667  0.500000  0.0   \n",
      "330    0.166667  0.000000  0.0  0.000000  0.833333  0.000000  0.000000  0.0   \n",
      "\n",
      "         8  \n",
      "#cnum       \n",
      "1      0.0  \n",
      "2      0.0  \n",
      "3      0.0  \n",
      "4      0.0  \n",
      "5      0.0  \n",
      "...    ...  \n",
      "326    0.0  \n",
      "327    0.0  \n",
      "328    0.0  \n",
      "329    0.0  \n",
      "330    0.0  \n",
      "\n",
      "[330 rows x 9 columns]\n"
     ]
    }
   ],
   "source": [
    "l1_result = pd.DataFrame(l1_chip_abbrev_percentage)\n",
    "l1_result.index += 1\n",
    "l1_result.index.name = '#cnum'\n",
    "l1_result.columns = unique_symbols\n",
    "print(l1_result)\n",
    "chip_norm = []\n",
    "#pull the percentage for each cnum\n",
    "for x in chip_num:\n",
    "#     chip_norm.append((l1_result.loc[l1[\"#cnum\"]==x]).values.tolist()[0])\n",
    "    chip_norm.append(l1_result.loc[x,:].values.tolist())\n",
    "#display(chip_norm)"
   ]
  },
  {
   "cell_type": "markdown",
   "metadata": {},
   "source": [
    "### Defining Network Shapes"
   ]
  },
  {
   "cell_type": "code",
   "execution_count": 10,
   "metadata": {},
   "outputs": [
    {
     "name": "stdout",
     "output_type": "stream",
     "text": [
      "[[1], [2], [3], [4], [5], [6], [3, 3], [7], [8], [4, 4], [9], [3, 3, 3], [10], [5, 5], [3, 4, 3], [11], [3, 5, 3], [12], [6, 6], [4, 4, 4], [13], [4, 5, 4], [14], [7, 7], [4, 6, 4], [15], [5, 5, 5], [16], [8, 8], [5, 6, 5], [17], [5, 7, 5], [18], [9, 9], [6, 6, 6], [19], [6, 7, 6], [20], [10, 10], [6, 8, 6], [21], [7, 7, 7], [22], [11, 11], [7, 8, 7], [23], [7, 9, 7], [24], [12, 12], [8, 8, 8]]\n"
     ]
    }
   ],
   "source": [
    "node_num = range(1,25)\n",
    "layer_num = range(1,4)\n",
    "\n",
    "\n",
    "shape_collection = []\n",
    "for node in node_num:\n",
    "    if node < 3:\n",
    "        shape_collection.append([node])\n",
    "\n",
    "def trickle(arr, iteration_left, check):\n",
    "    if iteration_left == 0:\n",
    "        global shape_collection\n",
    "        #running the int fxn to make sure we don't have floats\n",
    "        mp = map(int, arr)\n",
    "        x = list(mp)\n",
    "        if check == sum(x):\n",
    "            shape_collection.append(x)\n",
    "    else:\n",
    "        new_arr = [0]+ arr + [0]\n",
    "        #recursively expanding the list symmetrically\n",
    "        while new_arr[0] < new_arr[1]-2 and new_arr[-1] < new_arr[-2]-2:\n",
    "            new_arr[0] += 1\n",
    "            new_arr[1] -= 1\n",
    "            new_arr[-1] += 1\n",
    "            new_arr[-2] -= 1\n",
    "        trickle(new_arr, iteration_left - 1, check)\n",
    "\n",
    "for node in node_num:\n",
    "    for layer in layer_num:\n",
    "        if node//layer < 3:\n",
    "            continue\n",
    "        if layer%2 == 0:\n",
    "            trickle([node/2, node/2], (layer-2)/2, node)\n",
    "        else:\n",
    "            trickle([node], (layer-1)/2, node)      \n",
    "\n",
    "print(shape_collection)\n"
   ]
  },
  {
   "cell_type": "markdown",
   "metadata": {},
   "source": [
    "### Training Network"
   ]
  },
  {
   "cell_type": "code",
   "execution_count": 11,
   "metadata": {},
   "outputs": [
    {
     "name": "stdout",
     "output_type": "stream",
     "text": [
      "[(3, [1], 9), (3, [2], 9), (3, [3], 9), (3, [4], 9), (3, [5], 9), (3, [6], 9), (3, [3, 3], 9), (3, [7], 9), (3, [8], 9), (3, [4, 4], 9), (3, [9], 9), (3, [3, 3, 3], 9), (3, [10], 9), (3, [5, 5], 9), (3, [3, 4, 3], 9), (3, [11], 9), (3, [3, 5, 3], 9), (3, [12], 9), (3, [6, 6], 9), (3, [4, 4, 4], 9), (3, [13], 9), (3, [4, 5, 4], 9), (3, [14], 9), (3, [7, 7], 9), (3, [4, 6, 4], 9), (3, [15], 9), (3, [5, 5, 5], 9), (3, [16], 9), (3, [8, 8], 9), (3, [5, 6, 5], 9), (3, [17], 9), (3, [5, 7, 5], 9), (3, [18], 9), (3, [9, 9], 9), (3, [6, 6, 6], 9), (3, [19], 9), (3, [6, 7, 6], 9), (3, [20], 9), (3, [10, 10], 9), (3, [6, 8, 6], 9), (3, [21], 9), (3, [7, 7, 7], 9), (3, [22], 9), (3, [11, 11], 9), (3, [7, 8, 7], 9), (3, [23], 9), (3, [7, 9, 7], 9), (3, [24], 9), (3, [12, 12], 9), (3, [8, 8, 8], 9)]\n"
     ]
    }
   ],
   "source": [
    "\n",
    "#Number of training iterations\n",
    "num_iters = 1000\n",
    "\n",
    "#Listing out the shapes of each model\n",
    "colors_num = len(chip_norm[0])\n",
    "input_size = 3\n",
    "\n",
    "network_shapes = []\n",
    "for s in shape_collection:\n",
    "    network_shapes.append((input_size,s,colors_num))\n",
    "\n",
    "#Learning rate of the network\n",
    "rate = 0.001\n",
    "\n",
    "#Generating Training Data\n",
    "def shuffle(lab_norm, chip_norm):\n",
    "    '''\n",
    "    Applying train-test split\n",
    "    '''\n",
    "    lab_train, lab_test, chip_train, chip_test = train_test_split(lab_norm, chip_norm, test_size=0.2, shuffle = True)\n",
    "    input_train = torch.FloatTensor(lab_train)\n",
    "    output_train = torch.FloatTensor(chip_train)\n",
    "    input_test= torch.FloatTensor(lab_test)\n",
    "    output_test = torch.FloatTensor(chip_test)\n",
    "    return input_train, output_train, input_test, output_test\n",
    "\n",
    "print(network_shapes)"
   ]
  },
  {
   "cell_type": "code",
   "execution_count": null,
   "metadata": {
    "scrolled": true
   },
   "outputs": [],
   "source": [
    "#Array of losses over training period for each network\n",
    "num_average = 10\n",
    "output_file = {}\n",
    "for n in node_num:\n",
    "    output_file[n] = {}\n",
    "    \n",
    "\n",
    "for net_num, shape in enumerate(network_shapes):\n",
    "    print(\"Training: \",shape)\n",
    "    net_error_arr = []\n",
    "    for j in range(num_average):\n",
    "        print('Run ' + str(j+1))\n",
    "        NN = Neural_Network(inputSize = shape[0], outputSize = shape[2],\n",
    "                            hiddenSize = shape[1] , learning_rate = rate)\n",
    "        error_arr = []\n",
    "        prev_error = 0\n",
    "        strike = 0\n",
    "\n",
    "        input_train, output_train, input_test, output_test = shuffle(lab_norm, chip_norm)\n",
    "\n",
    "        for i in range(num_iters):  \n",
    "            NN.train(input_train, output_train)\n",
    "            validation_error = NN.l1error(output_test, NN(input_test))\n",
    "            #Printing error\n",
    "            if i == 0: \n",
    "                dh = display(\"#\" + str(i) + \" Validation Error: \" + str(validation_error), display_id=True)\n",
    "            else:\n",
    "                dh.update(\"#\" + str(i) + \" Validation Error: \" + str(validation_error))\n",
    "            \n",
    "            #zero small error change\n",
    "            if i == 0:\n",
    "                strike = 0\n",
    "            #adding error to array\n",
    "            error_arr.append(validation_error)\n",
    "            #waiting for number 'too small' decreases or increases in validation error before ending training\n",
    "            if (prev_error < validation_error) and i > 100:\n",
    "                if strike > 5:\n",
    "                    print(\"Complete at iteration \", i, \"\\nFinal error: \", np.min(error_arr), \"\\n\")\n",
    "                    break\n",
    "                else:\n",
    "                    strike += 1\n",
    "            prev_error = validation_error\n",
    "        net_error_arr.append(np.min(error_arr))\n",
    "    output_file[sum(shape[1])][len(shape[1])] = [np.mean(net_error_arr), np.std(net_error_arr)]"
   ]
  },
  {
   "cell_type": "code",
   "execution_count": null,
   "metadata": {},
   "outputs": [],
   "source": [
    "with open('validation_errors_{0}.json'.format(language_num), 'w') as f:\n",
    "    json.dump(output_file, f)"
   ]
  },
  {
   "cell_type": "markdown",
   "metadata": {},
   "source": [
    "### Looking at minimum size of networks for each threshold value"
   ]
  },
  {
   "cell_type": "code",
   "execution_count": 12,
   "metadata": {},
   "outputs": [],
   "source": [
    "with open('validation_errors_{0}.json'.format(language_num)) as f:\n",
    "    output_file=json.load(f)"
   ]
  },
  {
   "cell_type": "code",
   "execution_count": 13,
   "metadata": {
    "scrolled": true
   },
   "outputs": [
    {
     "data": {
      "text/plain": [
       "(0.0, 0.2)"
      ]
     },
     "execution_count": 13,
     "metadata": {},
     "output_type": "execute_result"
    },
    {
     "data": {
      "image/png": "[encoded data removed]",
      "text/plain": [
       "<Figure size 432x288 with 1 Axes>"
      ]
     },
     "metadata": {
      "needs_background": "light"
     },
     "output_type": "display_data"
    }
   ],
   "source": [
    "errors = []\n",
    "for size in node_num:\n",
    "    out_dict_for_size = output_file[str(size)]\n",
    "    vals = list(out_dict_for_size.values())\n",
    "    vals = np.array(vals)\n",
    "    vals = vals[:,0]\n",
    "    errors.append(np.min(vals))\n",
    "errors = np.array(errors)\n",
    "\n",
    "thresholds = np.arange(.001, 1, .001)\n",
    "\n",
    "min_sizes = []\n",
    "for threshold in thresholds:\n",
    "    idx = 0\n",
    "    for err in errors:\n",
    "        if err <= threshold:\n",
    "            break\n",
    "        idx += 1\n",
    "    if idx < len(node_num):\n",
    "        min_sizes.append(node_num[idx])\n",
    "    else:\n",
    "        min_sizes.append(max(node_num))\n",
    "        \n",
    "plt.title('Threshold Plot for Language {0}'.format(language_num))\n",
    "plt.plot(thresholds, min_sizes)\n",
    "plt.xlabel('Error Treshold Value')\n",
    "plt.ylabel('Minimum Network Size')\n",
    "plt.xlim(0,0.2)"
   ]
  },
  {
   "cell_type": "markdown",
   "metadata": {},
   "source": [
    "**Calculating Complexity in bits**"
   ]
  },
  {
   "cell_type": "code",
   "execution_count": 1,
   "metadata": {},
   "outputs": [],
   "source": [
    "def language_complexity(lnum):\n",
    "    language_data = term_data[term_data.get('#Lnum').eq(lnum)]\n",
    "    unique_terms = list(language_data['Term Abbrev'].unique())\n",
    "    l1_grouped = language_data.groupby('#cnum')['Term Abbrev'].apply(list)\n",
    "    display(l1_grouped)\n",
    "    l1_chip_abbrev_percentage = [[(l1_grouped[i + 1].count(abbrev) / len(l1_grouped[i + 1])) \\\n",
    "                              for abbrev in unique_terms] for i in range(len(l1_grouped))]\n",
    "    l1_result = pd.DataFrame(l1_chip_abbrev_percentage)\n",
    "    l1_result.index += 1\n",
    "    l1_result.index.name = '#cnum'\n",
    "    l1_result.columns = unique_terms\n",
    "    print(l1_result)\n",
    "\n",
    "    chip_norm = []\n",
    "\n",
    "    for x in chip_num:\n",
    "        chip_norm.append(l1_result.loc[x,:].values.tolist())\n",
    "\n",
    "    terms = unique_terms\n",
    "    chips = list(language_data['#cnum'].unique())\n",
    "\n",
    "    complexity = 0\n",
    "    prior_m = 1 / len(chips)\n",
    "    for w in terms:\n",
    "        word_prob = 0\n",
    "        for m in chips:\n",
    "            word_prob += prior_m * l1_result.at[m, w]\n",
    "        for m in chips:\n",
    "            encoder_prob = l1_result.at[m, w]\n",
    "            if encoder_prob != 0:\n",
    "                mutual_information = prior_m * encoder_prob * np.log2(encoder_prob / word_prob)\n",
    "            complexity += mutual_information\n",
    "\n",
    "    return complexity"
   ]
  },
  {
   "cell_type": "code",
   "execution_count": 2,
   "metadata": {},
   "outputs": [
    {
     "output_type": "error",
     "ename": "NameError",
     "evalue": "name 'language_num' is not defined",
     "traceback": [
      "\u001b[1;31m---------------------------------------------------------------------------\u001b[0m",
      "\u001b[1;31mNameError\u001b[0m                                 Traceback (most recent call last)",
      "\u001b[1;32m<ipython-input-2-2f2dfb32cd03>\u001b[0m in \u001b[0;36m<module>\u001b[1;34m\u001b[0m\n\u001b[1;32m----> 1\u001b[1;33m \u001b[0mresult\u001b[0m \u001b[1;33m=\u001b[0m \u001b[0mlanguage_complexity\u001b[0m\u001b[1;33m(\u001b[0m\u001b[0mlanguage_num\u001b[0m\u001b[1;33m)\u001b[0m\u001b[1;33m\u001b[0m\u001b[1;33m\u001b[0m\u001b[0m\n\u001b[0m\u001b[0;32m      2\u001b[0m \u001b[0mprint\u001b[0m\u001b[1;33m(\u001b[0m\u001b[0mresult\u001b[0m\u001b[1;33m)\u001b[0m\u001b[1;33m\u001b[0m\u001b[1;33m\u001b[0m\u001b[0m\n",
      "\u001b[1;31mNameError\u001b[0m: name 'language_num' is not defined"
     ]
    }
   ],
   "source": [
    "result = language_complexity(language_num)\n",
    "print(result)"
   ]
  },
  {
   "cell_type": "code",
   "execution_count": null,
   "metadata": {},
   "outputs": [],
   "source": []
  }
 ],
 "metadata": {
  "history": [
   {
    "code": "import sys\nimport math\nimport numpy as np\n\"\"\"\nnot working\nfrom Language_Data_Scraper.py import *\n\"\"\"\nsys.path.insert(0, '..')\nfrom net_framework import *\nfrom sklearn.model_selection import train_test_split\nimport pandas as pd",
    "id": "98b63ce99ffa4f428115004fb0366917",
    "idx": 0,
    "time": "2021-02-03T02:17:02.768Z",
    "type": "execution"
   },
   {
    "code": "term_data = pd.read_csv('term.txt', sep=\"\\t\", header=None)\nterm_data.columns = [\"#Lnum\", \"#snum\", \"#cnum\", \"Term Abbrev\"]\nterm_data.head()",
    "id": "20b0acb43c014af6866c6ee50356a0b2",
    "idx": 1,
    "time": "2021-02-03T02:17:03.459Z",
    "type": "execution"
   },
   {
    "id": "98b63ce99ffa4f428115004fb0366917",
    "time": "2021-02-03T02:17:04.551Z",
    "type": "completion"
   },
   {
    "id": "20b0acb43c014af6866c6ee50356a0b2",
    "time": "2021-02-03T02:17:04.866Z",
    "type": "completion"
   },
   {
    "code": "cnum_data = pd.read_csv('cnum-vhcm-lab-new.txt', sep=\"\\t\")\nlocations = cnum_data[['#cnum']]\nlocations['Normalized-L'] = (cnum_data['L*'] - cnum_data['L*'].mean())/(cnum_data['L*'] - cnum_data['L*'].mean()).max()\nlocations['Normalized-a'] = (cnum_data['a*'] - cnum_data['a*'].mean())/(cnum_data['a*'] - cnum_data['a*'].mean()).std() * 1/2\nlocations['Normalized-b'] = (cnum_data['b*'] - cnum_data['b*'].mean())/(cnum_data['b*'] - cnum_data['b*'].mean()).std() * 1/2\ndisplay(locations.head(5))",
    "id": "6e3071fb1dde4215810e2a80d8e471a4",
    "idx": 2,
    "time": "2021-02-03T02:17:08.061Z",
    "type": "execution"
   },
   {
    "id": "6e3071fb1dde4215810e2a80d8e471a4",
    "time": "2021-02-03T02:17:08.139Z",
    "type": "completion"
   },
   {
    "code": "locations = locations.sort_values('#cnum')\nchip_num = list(locations['#cnum'])\nlab_norm = [[row[2], row[3], row[4]] for row in locations.itertuples()]",
    "id": "467e3a66759c4d08a81372178f7abd45",
    "idx": 3,
    "time": "2021-02-03T02:17:11.506Z",
    "type": "execution"
   },
   {
    "id": "467e3a66759c4d08a81372178f7abd45",
    "time": "2021-02-03T02:17:11.558Z",
    "type": "completion"
   },
   {
    "code": "l1 = term_data[term_data.get('#Lnum').eq(1)]\nunique_symbols = list(l1['Term Abbrev'].unique())\nl1_grouped = l1.groupby('#cnum')['Term Abbrev'].apply(list)\nl1_chip_abbrev_percentage = [[(l1_grouped[i + 1].count(abbrev) / len(l1_grouped[i + 1])) for abbrev in unique_symbols] for i in range(len(l1_grouped))]",
    "id": "02eaf4a67fb7453dadf7ec4de2ba2b00",
    "idx": 4,
    "time": "2021-02-03T02:17:11.748Z",
    "type": "execution"
   },
   {
    "id": "02eaf4a67fb7453dadf7ec4de2ba2b00",
    "time": "2021-02-03T02:17:11.840Z",
    "type": "completion"
   },
   {
    "code": "l1_result = pd.DataFrame(l1_chip_abbrev_percentage)\nl1_result.index += 1\nl1_result.index.name = '#cnum'\nl1_result.columns = unique_symbols\nprint(l1_result)\nchip_norm = []\n#pull the percentage for each cnum\nfor x in chip_num:\n    chip_norm.append((l1_result.loc[l1[\"#cnum\"]==x]).values.tolist()[0])",
    "id": "0f5a1ecf987049e68b1f180f53d014bd",
    "idx": 5,
    "time": "2021-02-03T02:17:11.958Z",
    "type": "execution"
   },
   {
    "id": "0f5a1ecf987049e68b1f180f53d014bd",
    "time": "2021-02-03T02:17:12.253Z",
    "type": "completion"
   },
   {
    "code": "#Number of training iterations\nnum_iters = 5000\n#Size of training dataset\nnum_examples = 2000\n#Listing out the shapes of each model\ncolors_num = len(chip_norm[0])\ninput_size = 3\n\nnetwork_shapes = [(input_size, [100], colors_num), (input_size, [100], colors_num), (input_size, [100], colors_num)]\n#Learning rate of the network\nrate = 0.001\n\n#Generating Training Data\nlab_train, lab_test, chip_train, chip_test = train_test_split(lab_norm, chip_norm, test_size=0.1)\n\ninput_train = torch.FloatTensor(lab_train)\noutput_train = torch.FloatTensor(chip_train)\ninput_test= torch.FloatTensor(lab_test)\noutput_test = torch.FloatTensor(chip_test)",
    "id": "8cc05ec00119411f8f0b62b4fa50265b",
    "idx": 6,
    "time": "2021-02-03T02:17:12.570Z",
    "type": "execution"
   },
   {
    "id": "8cc05ec00119411f8f0b62b4fa50265b",
    "time": "2021-02-03T02:17:12.619Z",
    "type": "completion"
   },
   {
    "code": "#Array of losses over training period for each network\nfor net_num, shape in enumerate(network_shapes):\n    print('Network Shape:',flush = True)\n    print('Input Size = ' + str(shape[0]), flush = True)\n    print('Hidden Size = ' + str(shape[1]), flush = True)\n    print('Output Size = ' + str(shape[2]), flush = True)\n    NN = Neural_Network(inputSize = 3, outputSize = colors_num, hiddenSize = [3,3,3] , learning_rate = 0.001)\n\n    for i in range(num_iters):\n        #Calculating l1 error\n        error = NN.l1error(output_train, NN(input_train))\n        if i == 0: \n            dh = display(\"#\" + str(i) + \" Error: \" + str(error), display_id=True)\n        else:\n            dh.update(\"#\" + str(i) + \" Error: \" + str(error))\n            \n        NN.train(input_train, output_train)\n    #Saves the training results in a filed named \"Net 0\", \"Net 1\", etc. \n    NN.saveWeights(model = NN, path = \"saved_networks/Net \" + str(net_num));",
    "id": "9277c562ac6843d08f0c0336d9745513",
    "idx": 7,
    "time": "2021-02-03T02:17:13.098Z",
    "type": "execution"
   },
   {
    "id": "9277c562ac6843d08f0c0336d9745513",
    "time": "2021-02-03T02:17:16.262Z",
    "type": "completion"
   },
   {
    "code": "l1_result = pd.DataFrame(l1_chip_abbrev_percentage)\nl1_result.index += 1\nl1_result.index.name = '#cnum'\nl1_result.columns = unique_symbols\nprint(l1_result)\nchip_norm = []\n#pull the percentage for each cnum\nfor x in chip_num:\n    chip_norm.append((l1_result.loc[l1[\"#cnum\"]==x]).values.tolist()[0])",
    "id": "0f5a1ecf987049e68b1f180f53d014bd",
    "idx": 5,
    "time": "2021-02-03T02:24:19.024Z",
    "type": "execution"
   },
   {
    "id": "0f5a1ecf987049e68b1f180f53d014bd",
    "time": "2021-02-03T02:24:19.357Z",
    "type": "completion"
   },
   {
    "code": "l1 = term_data[term_data.get('#Lnum').eq(2)]\nunique_symbols = list(l1['Term Abbrev'].unique())\nl1_grouped = l1.groupby('#cnum')['Term Abbrev'].apply(list)\nl1_chip_abbrev_percentage = [[(l1_grouped[i + 1].count(abbrev) / len(l1_grouped[i + 1])) for abbrev in unique_symbols] for i in range(len(l1_grouped))]",
    "id": "02eaf4a67fb7453dadf7ec4de2ba2b00",
    "idx": 4,
    "time": "2021-02-03T02:24:49.472Z",
    "type": "execution"
   },
   {
    "id": "02eaf4a67fb7453dadf7ec4de2ba2b00",
    "time": "2021-02-03T02:24:49.625Z",
    "type": "completion"
   },
   {
    "code": "l1_result = pd.DataFrame(l1_chip_abbrev_percentage)\nl1_result.index += 1\nl1_result.index.name = '#cnum'\nl1_result.columns = unique_symbols\nprint(l1_result)\nchip_norm = []\n#pull the percentage for each cnum\nfor x in chip_num:\n    chip_norm.append((l1_result.loc[l1[\"#cnum\"]==x]).values.tolist()[0])",
    "id": "0f5a1ecf987049e68b1f180f53d014bd",
    "idx": 5,
    "time": "2021-02-03T02:24:50.379Z",
    "type": "execution"
   },
   {
    "id": "0f5a1ecf987049e68b1f180f53d014bd",
    "time": "2021-02-03T02:24:50.485Z",
    "type": "completion"
   },
   {
    "code": "l1_result = pd.DataFrame(l1_chip_abbrev_percentage)\nl1_result.index += 1\nl1_result.index.name = '#cnum'\nl1_result.columns = unique_symbols\nprint(l1_result)\nchip_norm = []\n#pull the percentage for each cnum\nfor x in chip_num:\n    chip_norm.append((l1_result.loc[l1[\"#cnum\"]==x]).values.tolist()[0])\n    \nchip_norm",
    "id": "0f5a1ecf987049e68b1f180f53d014bd",
    "idx": 5,
    "time": "2021-02-03T02:25:21.820Z",
    "type": "execution"
   },
   {
    "id": "0f5a1ecf987049e68b1f180f53d014bd",
    "time": "2021-02-03T02:25:21.934Z",
    "type": "completion"
   },
   {
    "code": "l1 = term_data[term_data.get('#Lnum').eq(1)]\nunique_symbols = list(l1['Term Abbrev'].unique())\nl1_grouped = l1.groupby('#cnum')['Term Abbrev'].apply(list)\nl1_chip_abbrev_percentage = [[(l1_grouped[i + 1].count(abbrev) / len(l1_grouped[i + 1])) for abbrev in unique_symbols] for i in range(len(l1_grouped))]",
    "id": "02eaf4a67fb7453dadf7ec4de2ba2b00",
    "idx": 4,
    "time": "2021-02-03T02:25:26.177Z",
    "type": "execution"
   },
   {
    "id": "02eaf4a67fb7453dadf7ec4de2ba2b00",
    "time": "2021-02-03T02:25:26.258Z",
    "type": "completion"
   },
   {
    "code": "l1_result = pd.DataFrame(l1_chip_abbrev_percentage)\nl1_result.index += 1\nl1_result.index.name = '#cnum'\nl1_result.columns = unique_symbols\nprint(l1_result)\nchip_norm = []\n#pull the percentage for each cnum\nfor x in chip_num:\n    chip_norm.append((l1_result.loc[l1[\"#cnum\"]==x]).values.tolist()[0])\n    \nchip_norm",
    "id": "0f5a1ecf987049e68b1f180f53d014bd",
    "idx": 5,
    "time": "2021-02-03T02:25:26.373Z",
    "type": "execution"
   },
   {
    "id": "0f5a1ecf987049e68b1f180f53d014bd",
    "time": "2021-02-03T02:25:26.772Z",
    "type": "completion"
   },
   {
    "code": "chip_num",
    "id": "cf646372e8c149f695e18186263057f5",
    "idx": 4,
    "time": "2021-02-03T02:26:11.410Z",
    "type": "execution"
   },
   {
    "id": "cf646372e8c149f695e18186263057f5",
    "time": "2021-02-03T02:26:11.478Z",
    "type": "completion"
   },
   {
    "code": "lab_norm",
    "id": "cf646372e8c149f695e18186263057f5",
    "idx": 4,
    "time": "2021-02-03T02:26:22.729Z",
    "type": "execution"
   },
   {
    "id": "cf646372e8c149f695e18186263057f5",
    "time": "2021-02-03T02:26:22.830Z",
    "type": "completion"
   },
   {
    "code": "locations",
    "id": "cf646372e8c149f695e18186263057f5",
    "idx": 4,
    "time": "2021-02-03T02:26:29.288Z",
    "type": "execution"
   },
   {
    "id": "cf646372e8c149f695e18186263057f5",
    "time": "2021-02-03T02:26:29.375Z",
    "type": "completion"
   },
   {
    "code": "l1",
    "id": "11d0c357e9c0412a866ee6c42928bedd",
    "idx": 5,
    "time": "2021-02-03T02:28:27.321Z",
    "type": "execution"
   },
   {
    "id": "11d0c357e9c0412a866ee6c42928bedd",
    "time": "2021-02-03T02:28:27.377Z",
    "type": "completion"
   },
   {
    "code": "l1_grouped",
    "id": "11d0c357e9c0412a866ee6c42928bedd",
    "idx": 5,
    "time": "2021-02-03T02:29:19.390Z",
    "type": "execution"
   },
   {
    "id": "11d0c357e9c0412a866ee6c42928bedd",
    "time": "2021-02-03T02:29:19.445Z",
    "type": "completion"
   },
   {
    "code": "l1_grouped[0]",
    "id": "11d0c357e9c0412a866ee6c42928bedd",
    "idx": 5,
    "time": "2021-02-03T02:29:25.010Z",
    "type": "execution"
   },
   {
    "id": "11d0c357e9c0412a866ee6c42928bedd",
    "time": "2021-02-03T02:29:25.098Z",
    "type": "completion"
   },
   {
    "code": "l1_grouped",
    "id": "11d0c357e9c0412a866ee6c42928bedd",
    "idx": 5,
    "time": "2021-02-03T02:29:34.880Z",
    "type": "execution"
   },
   {
    "id": "11d0c357e9c0412a866ee6c42928bedd",
    "time": "2021-02-03T02:29:34.932Z",
    "type": "completion"
   },
   {
    "code": "l1_grouped[1]",
    "id": "11d0c357e9c0412a866ee6c42928bedd",
    "idx": 5,
    "time": "2021-02-03T02:29:45.667Z",
    "type": "execution"
   },
   {
    "id": "11d0c357e9c0412a866ee6c42928bedd",
    "time": "2021-02-03T02:29:45.710Z",
    "type": "completion"
   },
   {
    "code": "len(l1_grouped[1]",
    "id": "11d0c357e9c0412a866ee6c42928bedd",
    "idx": 5,
    "time": "2021-02-03T02:29:55.651Z",
    "type": "execution"
   },
   {
    "id": "11d0c357e9c0412a866ee6c42928bedd",
    "time": "2021-02-03T02:29:55.695Z",
    "type": "completion"
   },
   {
    "code": "len(l1_grouped[1])",
    "id": "11d0c357e9c0412a866ee6c42928bedd",
    "idx": 5,
    "time": "2021-02-03T02:29:58.486Z",
    "type": "execution"
   },
   {
    "id": "11d0c357e9c0412a866ee6c42928bedd",
    "time": "2021-02-03T02:29:58.586Z",
    "type": "completion"
   },
   {
    "code": "len(l1_grouped[2])",
    "id": "11d0c357e9c0412a866ee6c42928bedd",
    "idx": 5,
    "time": "2021-02-03T02:30:08.947Z",
    "type": "execution"
   },
   {
    "id": "11d0c357e9c0412a866ee6c42928bedd",
    "time": "2021-02-03T02:30:08.994Z",
    "type": "completion"
   },
   {
    "code": "l1 = term_data[term_data.get('#Lnum').eq(2)]\nunique_symbols = list(l1['Term Abbrev'].unique())\nl1_grouped = l1.groupby('#cnum')['Term Abbrev'].apply(list)\nl1_chip_abbrev_percentage = [[(l1_grouped[i + 1].count(abbrev) / len(l1_grouped[i + 1])) for abbrev in unique_symbols] for i in range(len(l1_grouped))]",
    "id": "02eaf4a67fb7453dadf7ec4de2ba2b00",
    "idx": 4,
    "time": "2021-02-03T02:30:25.427Z",
    "type": "execution"
   },
   {
    "id": "02eaf4a67fb7453dadf7ec4de2ba2b00",
    "time": "2021-02-03T02:30:25.558Z",
    "type": "completion"
   },
   {
    "code": "(l1_grouped[2])",
    "id": "11d0c357e9c0412a866ee6c42928bedd",
    "idx": 5,
    "time": "2021-02-03T02:30:29.331Z",
    "type": "execution"
   },
   {
    "id": "11d0c357e9c0412a866ee6c42928bedd",
    "time": "2021-02-03T02:30:29.375Z",
    "type": "completion"
   },
   {
    "code": "(l1_grouped)",
    "id": "11d0c357e9c0412a866ee6c42928bedd",
    "idx": 5,
    "time": "2021-02-03T02:30:35.569Z",
    "type": "execution"
   },
   {
    "id": "11d0c357e9c0412a866ee6c42928bedd",
    "time": "2021-02-03T02:30:35.630Z",
    "type": "completion"
   },
   {
    "code": "(l1_grouped)",
    "id": "11d0c357e9c0412a866ee6c42928bedd",
    "idx": 5,
    "time": "2021-02-03T02:31:07.091Z",
    "type": "execution"
   },
   {
    "id": "11d0c357e9c0412a866ee6c42928bedd",
    "time": "2021-02-03T02:31:07.141Z",
    "type": "completion"
   },
   {
    "code": "l1_result = pd.DataFrame(l1_chip_abbrev_percentage)\nl1_result.index += 1\nl1_result.index.name = '#cnum'\nl1_result.columns = unique_symbols\nprint(l1_result)\nchip_norm = []\n#pull the percentage for each cnum\nfor x in chip_num:\n    chip_norm.append((l1_result.loc[l1[\"#cnum\"]==x]).values.tolist()[0])\n    \nchip_norm",
    "id": "0f5a1ecf987049e68b1f180f53d014bd",
    "idx": 6,
    "time": "2021-02-03T02:31:57.834Z",
    "type": "execution"
   },
   {
    "id": "0f5a1ecf987049e68b1f180f53d014bd",
    "time": "2021-02-03T02:31:57.989Z",
    "type": "completion"
   },
   {
    "code": "unique_symbols",
    "id": "11d0c357e9c0412a866ee6c42928bedd",
    "idx": 5,
    "time": "2021-02-03T02:32:18.603Z",
    "type": "execution"
   },
   {
    "id": "11d0c357e9c0412a866ee6c42928bedd",
    "time": "2021-02-03T02:32:18.650Z",
    "type": "completion"
   },
   {
    "code": "len(unique_symbols)",
    "id": "11d0c357e9c0412a866ee6c42928bedd",
    "idx": 5,
    "time": "2021-02-03T02:32:31.570Z",
    "type": "execution"
   },
   {
    "id": "11d0c357e9c0412a866ee6c42928bedd",
    "time": "2021-02-03T02:32:31.661Z",
    "type": "completion"
   },
   {
    "code": "l1_grouped",
    "id": "11d0c357e9c0412a866ee6c42928bedd",
    "idx": 5,
    "time": "2021-02-03T02:32:44.502Z",
    "type": "execution"
   },
   {
    "id": "11d0c357e9c0412a866ee6c42928bedd",
    "time": "2021-02-03T02:32:44.556Z",
    "type": "completion"
   },
   {
    "code": "l1_grouped\nl1_chip_abbrev_percentage",
    "id": "11d0c357e9c0412a866ee6c42928bedd",
    "idx": 5,
    "time": "2021-02-03T02:33:02.372Z",
    "type": "execution"
   },
   {
    "id": "11d0c357e9c0412a866ee6c42928bedd",
    "time": "2021-02-03T02:33:03.174Z",
    "type": "completion"
   },
   {
    "code": "l1_result",
    "id": "c5f34e313dc24add925362a88193da74",
    "idx": 5,
    "time": "2021-02-03T02:34:25.660Z",
    "type": "execution"
   },
   {
    "id": "c5f34e313dc24add925362a88193da74",
    "time": "2021-02-03T02:34:25.764Z",
    "type": "completion"
   },
   {
    "code": "l1_result.loc[l1[\"#cnum\"]==1]",
    "id": "c5f34e313dc24add925362a88193da74",
    "idx": 5,
    "time": "2021-02-03T02:34:41.836Z",
    "type": "execution"
   },
   {
    "id": "c5f34e313dc24add925362a88193da74",
    "time": "2021-02-03T02:34:41.934Z",
    "type": "completion"
   },
   {
    "code": "l1_result.loc[1:]",
    "id": "c5f34e313dc24add925362a88193da74",
    "idx": 5,
    "time": "2021-02-03T02:36:01.388Z",
    "type": "execution"
   },
   {
    "id": "c5f34e313dc24add925362a88193da74",
    "time": "2021-02-03T02:36:01.493Z",
    "type": "completion"
   },
   {
    "code": "l1_result.loc[1,:]",
    "id": "c5f34e313dc24add925362a88193da74",
    "idx": 5,
    "time": "2021-02-03T02:36:16.371Z",
    "type": "execution"
   },
   {
    "id": "c5f34e313dc24add925362a88193da74",
    "time": "2021-02-03T02:36:16.426Z",
    "type": "completion"
   },
   {
    "code": "l1_result.loc[1,:].values.tolist()",
    "id": "c5f34e313dc24add925362a88193da74",
    "idx": 5,
    "time": "2021-02-03T02:37:22.747Z",
    "type": "execution"
   },
   {
    "id": "c5f34e313dc24add925362a88193da74",
    "time": "2021-02-03T02:37:22.801Z",
    "type": "completion"
   },
   {
    "code": "l1 = term_data[term_data.get('#Lnum').eq(1)]\nunique_symbols = list(l1['Term Abbrev'].unique())\nl1_grouped = l1.groupby('#cnum')['Term Abbrev'].apply(list)\nl1_chip_abbrev_percentage = [[(l1_grouped[i + 1].count(abbrev) / len(l1_grouped[i + 1])) for abbrev in unique_symbols] for i in range(len(l1_grouped))]",
    "id": "02eaf4a67fb7453dadf7ec4de2ba2b00",
    "idx": 4,
    "time": "2021-02-03T02:40:06.885Z",
    "type": "execution"
   },
   {
    "id": "02eaf4a67fb7453dadf7ec4de2ba2b00",
    "time": "2021-02-03T02:40:06.970Z",
    "type": "completion"
   },
   {
    "code": "l1_result = pd.DataFrame(l1_chip_abbrev_percentage)\nl1_result.index += 1\nl1_result.index.name = '#cnum'\nl1_result.columns = unique_symbols\nprint(l1_result)\nchip_norm = []\n#pull the percentage for each cnum\nfor x in chip_num:\n    chip_norm.append((l1_result.loc[l1[\"#cnum\"]==x]).values.tolist()[0])\n    \nchip_norm",
    "id": "0f5a1ecf987049e68b1f180f53d014bd",
    "idx": 6,
    "time": "2021-02-03T02:40:09.847Z",
    "type": "execution"
   },
   {
    "id": "0f5a1ecf987049e68b1f180f53d014bd",
    "time": "2021-02-03T02:40:10.221Z",
    "type": "completion"
   },
   {
    "code": "l1_result = pd.DataFrame(l1_chip_abbrev_percentage)\nl1_result.index += 1\nl1_result.index.name = '#cnum'\nl1_result.columns = unique_symbols\nprint(l1_result)\nchip_norm = []\n#pull the percentage for each cnum\nfor x in chip_num:\n#     chip_norm.append((l1_result.loc[l1[\"#cnum\"]==x]).values.tolist()[0])\n    chip_norm.append(l1_result.loc[1,:].values.tolist())\n    \nchip_norm",
    "id": "0f5a1ecf987049e68b1f180f53d014bd",
    "idx": 6,
    "time": "2021-02-03T02:40:41.672Z",
    "type": "execution"
   },
   {
    "id": "0f5a1ecf987049e68b1f180f53d014bd",
    "time": "2021-02-03T02:40:41.846Z",
    "type": "completion"
   },
   {
    "code": "l1_result = pd.DataFrame(l1_chip_abbrev_percentage)\nl1_result.index += 1\nl1_result.index.name = '#cnum'\nl1_result.columns = unique_symbols\nprint(l1_result)\nchip_norm = []\n#pull the percentage for each cnum\nfor x in chip_num:\n#     chip_norm.append((l1_result.loc[l1[\"#cnum\"]==x]).values.tolist()[0])\n    chip_norm.append(l1_result.loc[x,:].values.tolist())\n    \nchip_norm",
    "id": "0f5a1ecf987049e68b1f180f53d014bd",
    "idx": 6,
    "time": "2021-02-03T02:40:47.442Z",
    "type": "execution"
   },
   {
    "id": "0f5a1ecf987049e68b1f180f53d014bd",
    "time": "2021-02-03T02:40:47.600Z",
    "type": "completion"
   },
   {
    "code": "l1 = term_data[term_data.get('#Lnum').eq(2)]\nunique_symbols = list(l1['Term Abbrev'].unique())\nl1_grouped = l1.groupby('#cnum')['Term Abbrev'].apply(list)\nl1_chip_abbrev_percentage = [[(l1_grouped[i + 1].count(abbrev) / len(l1_grouped[i + 1])) for abbrev in unique_symbols] for i in range(len(l1_grouped))]",
    "id": "02eaf4a67fb7453dadf7ec4de2ba2b00",
    "idx": 4,
    "time": "2021-02-03T02:41:07.062Z",
    "type": "execution"
   },
   {
    "id": "02eaf4a67fb7453dadf7ec4de2ba2b00",
    "time": "2021-02-03T02:41:07.197Z",
    "type": "completion"
   },
   {
    "code": "l1_result = pd.DataFrame(l1_chip_abbrev_percentage)\nl1_result.index += 1\nl1_result.index.name = '#cnum'\nl1_result.columns = unique_symbols\nprint(l1_result)\nchip_norm = []\n#pull the percentage for each cnum\nfor x in chip_num:\n#     chip_norm.append((l1_result.loc[l1[\"#cnum\"]==x]).values.tolist()[0])\n    chip_norm.append(l1_result.loc[x,:].values.tolist())\n    \nchip_norm",
    "id": "0f5a1ecf987049e68b1f180f53d014bd",
    "idx": 6,
    "time": "2021-02-03T02:41:09.666Z",
    "type": "execution"
   },
   {
    "id": "0f5a1ecf987049e68b1f180f53d014bd",
    "time": "2021-02-03T02:41:10.109Z",
    "type": "completion"
   },
   {
    "code": "l1_result = pd.DataFrame(l1_chip_abbrev_percentage)\nl1_result.index += 1\nl1_result.index.name = '#cnum'\nl1_result.columns = unique_symbols\nprint(l1_result)\nchip_norm = []\n#pull the percentage for each cnum\nfor x in chip_num:\n#     chip_norm.append((l1_result.loc[l1[\"#cnum\"]==x]).values.tolist()[0])\n    chip_norm.append(l1_result.loc[x,:].values.tolist())\n    \nchip_norm.shape()",
    "id": "0f5a1ecf987049e68b1f180f53d014bd",
    "idx": 6,
    "time": "2021-02-03T02:41:27.119Z",
    "type": "execution"
   },
   {
    "id": "0f5a1ecf987049e68b1f180f53d014bd",
    "time": "2021-02-03T02:41:27.254Z",
    "type": "completion"
   },
   {
    "code": "l1_result = pd.DataFrame(l1_chip_abbrev_percentage)\nl1_result.index += 1\nl1_result.index.name = '#cnum'\nl1_result.columns = unique_symbols\nprint(l1_result)\nchip_norm = []\n#pull the percentage for each cnum\nfor x in chip_num:\n#     chip_norm.append((l1_result.loc[l1[\"#cnum\"]==x]).values.tolist()[0])\n    chip_norm.append(l1_result.loc[x,:].values.tolist())\n    \nchip_norm.shape",
    "id": "0f5a1ecf987049e68b1f180f53d014bd",
    "idx": 6,
    "time": "2021-02-03T02:41:39.706Z",
    "type": "execution"
   },
   {
    "id": "0f5a1ecf987049e68b1f180f53d014bd",
    "time": "2021-02-03T02:41:39.828Z",
    "type": "completion"
   },
   {
    "code": "l1_result = pd.DataFrame(l1_chip_abbrev_percentage)\nl1_result.index += 1\nl1_result.index.name = '#cnum'\nl1_result.columns = unique_symbols\nprint(l1_result)\nchip_norm = []\n#pull the percentage for each cnum\nfor x in chip_num:\n#     chip_norm.append((l1_result.loc[l1[\"#cnum\"]==x]).values.tolist()[0])\n    chip_norm.append(l1_result.loc[x,:].values.tolist())\n    \nlen(chip_norm)\nchip_norm[0]",
    "id": "0f5a1ecf987049e68b1f180f53d014bd",
    "idx": 6,
    "time": "2021-02-03T02:41:54.333Z",
    "type": "execution"
   },
   {
    "id": "0f5a1ecf987049e68b1f180f53d014bd",
    "time": "2021-02-03T02:41:54.583Z",
    "type": "completion"
   },
   {
    "code": "l1_result = pd.DataFrame(l1_chip_abbrev_percentage)\nl1_result.index += 1\nl1_result.index.name = '#cnum'\nl1_result.columns = unique_symbols\nprint(l1_result)\nchip_norm = []\n#pull the percentage for each cnum\nfor x in chip_num:\n#     chip_norm.append((l1_result.loc[l1[\"#cnum\"]==x]).values.tolist()[0])\n    chip_norm.append(l1_result.loc[x,:].values.tolist())\n    \nprint(len(chip_norm))\nchip_norm[0]",
    "id": "0f5a1ecf987049e68b1f180f53d014bd",
    "idx": 6,
    "time": "2021-02-03T02:42:07.176Z",
    "type": "execution"
   },
   {
    "id": "0f5a1ecf987049e68b1f180f53d014bd",
    "time": "2021-02-03T02:42:07.339Z",
    "type": "completion"
   },
   {
    "code": "l1_result = pd.DataFrame(l1_chip_abbrev_percentage)\nl1_result.index += 1\nl1_result.index.name = '#cnum'\nl1_result.columns = unique_symbols\nprint(l1_result)\nchip_norm = []\n#pull the percentage for each cnum\nfor x in chip_num:\n#     chip_norm.append((l1_result.loc[l1[\"#cnum\"]==x]).values.tolist()[0])\n    chip_norm.append(l1_result.loc[x,:].values.tolist())\n    \nprint(len(chip_norm))\nprint(len(chip_norm[0]))",
    "id": "0f5a1ecf987049e68b1f180f53d014bd",
    "idx": 6,
    "time": "2021-02-03T02:42:30.050Z",
    "type": "execution"
   },
   {
    "id": "0f5a1ecf987049e68b1f180f53d014bd",
    "time": "2021-02-03T02:42:30.147Z",
    "type": "completion"
   },
   {
    "code": "l1_result = pd.DataFrame(l1_chip_abbrev_percentage)\nl1_result.index += 1\nl1_result.index.name = '#cnum'\nl1_result.columns = unique_symbols\nprint(l1_result)\nchip_norm = []\n#pull the percentage for each cnum\nfor x in chip_num:\n#     chip_norm.append((l1_result.loc[l1[\"#cnum\"]==x]).values.tolist()[0])\n    chip_norm.append(l1_result.loc[x,:].values.tolist())",
    "id": "0f5a1ecf987049e68b1f180f53d014bd",
    "idx": 6,
    "time": "2021-02-03T02:42:57.806Z",
    "type": "execution"
   },
   {
    "id": "0f5a1ecf987049e68b1f180f53d014bd",
    "time": "2021-02-03T02:42:57.896Z",
    "type": "completion"
   },
   {
    "code": "#Number of training iterations\nnum_iters = 5000\n#Size of training dataset\nnum_examples = 2000\n#Listing out the shapes of each model\ncolors_num = len(chip_norm[0])\ninput_size = 3\n\nnetwork_shapes = [(input_size, [100], colors_num), (input_size, [100], colors_num), (input_size, [100], colors_num)]\n#Learning rate of the network\nrate = 0.001\n\n#Generating Training Data\nlab_train, lab_test, chip_train, chip_test = train_test_split(lab_norm, chip_norm, test_size=0.1)\n\ninput_train = torch.FloatTensor(lab_train)\noutput_train = torch.FloatTensor(chip_train)\ninput_test= torch.FloatTensor(lab_test)\noutput_test = torch.FloatTensor(chip_test)",
    "id": "8cc05ec00119411f8f0b62b4fa50265b",
    "idx": 7,
    "time": "2021-02-03T02:42:58.790Z",
    "type": "execution"
   },
   {
    "id": "8cc05ec00119411f8f0b62b4fa50265b",
    "time": "2021-02-03T02:42:58.834Z",
    "type": "completion"
   },
   {
    "code": "#Array of losses over training period for each network\nfor net_num, shape in enumerate(network_shapes):\n    print('Network Shape:',flush = True)\n    print('Input Size = ' + str(shape[0]), flush = True)\n    print('Hidden Size = ' + str(shape[1]), flush = True)\n    print('Output Size = ' + str(shape[2]), flush = True)\n    NN = Neural_Network(inputSize = 3, outputSize = colors_num, hiddenSize = [3,3,3] , learning_rate = 0.001)\n\n    for i in range(num_iters):\n        #Calculating l1 error\n        error = NN.l1error(output_train, NN(input_train))\n        if i == 0: \n            dh = display(\"#\" + str(i) + \" Error: \" + str(error), display_id=True)\n        else:\n            dh.update(\"#\" + str(i) + \" Error: \" + str(error))\n            \n        NN.train(input_train, output_train)\n    #Saves the training results in a filed named \"Net 0\", \"Net 1\", etc. \n    NN.saveWeights(model = NN, path = \"saved_networks/Net \" + str(net_num));",
    "id": "9277c562ac6843d08f0c0336d9745513",
    "idx": 8,
    "time": "2021-02-03T02:44:08.571Z",
    "type": "execution"
   },
   {
    "id": "9277c562ac6843d08f0c0336d9745513",
    "time": "2021-02-03T02:45:02.125Z",
    "type": "completion"
   },
   {
    "code": "for net_num, shape in enumerate(network_shapes):\n    print('Network Shape:',flush = True)\n    print('Input Size = ' + str(shape[0]), flush = True)\n    print('Hidden Size = ' + str(shape[1]), flush = True)\n    print('Output Size = ' + str(shape[2]), flush = True)\n    # Loading the network we trained in the prev. section\n    \n    NN = Neural_Network(inputSize = shape[0], outputSize = shape[2],\n                        hiddenSize = shape[1] , learning_rate = rate)\n    NN.load_state_dict(torch.load(\"saved_networks/Net \" + str(net_num)))\n    \n    validation_error = NN.l1error(output_test, NN(input_test))\n    max_error = np.max(np.abs((output_test - NN(input_test)).detach().numpy()))\n    print(\"The validation error is: \" + str(validation_error), flush = True)  \n    print(\"The maximum error is:\" + str(max_error), flush = True)",
    "id": "21a85bde696a47ee98c20f205cad5cd4",
    "idx": 9,
    "time": "2021-02-03T02:45:57.807Z",
    "type": "execution"
   },
   {
    "id": "21a85bde696a47ee98c20f205cad5cd4",
    "time": "2021-02-03T02:45:57.924Z",
    "type": "completion"
   },
   {
    "code": "l1 = term_data[term_data.get('#Lnum').eq(1)]\nunique_symbols = list(l1['Term Abbrev'].unique())\nl1_grouped = l1.groupby('#cnum')['Term Abbrev'].apply(list)\nl1_chip_abbrev_percentage = [[(l1_grouped[i + 1].count(abbrev) / len(l1_grouped[i + 1])) for abbrev in unique_symbols] for i in range(len(l1_grouped))]",
    "id": "02eaf4a67fb7453dadf7ec4de2ba2b00",
    "idx": 4,
    "time": "2021-02-03T02:53:48.766Z",
    "type": "execution"
   },
   {
    "id": "02eaf4a67fb7453dadf7ec4de2ba2b00",
    "time": "2021-02-03T02:53:48.849Z",
    "type": "completion"
   },
   {
    "code": "l1_result = pd.DataFrame(l1_chip_abbrev_percentage)\nl1_result.index += 1\nl1_result.index.name = '#cnum'\nl1_result.columns = unique_symbols\nprint(l1_result)\nchip_norm = []\n#pull the percentage for each cnum\nfor x in chip_num:\n#     chip_norm.append((l1_result.loc[l1[\"#cnum\"]==x]).values.tolist()[0])\n    chip_norm.append(l1_result.loc[x,:].values.tolist())",
    "id": "0f5a1ecf987049e68b1f180f53d014bd",
    "idx": 5,
    "time": "2021-02-03T02:53:48.976Z",
    "type": "execution"
   },
   {
    "id": "0f5a1ecf987049e68b1f180f53d014bd",
    "time": "2021-02-03T02:53:49.086Z",
    "type": "completion"
   },
   {
    "code": "#Number of training iterations\nnum_iters = 5000\n#Size of training dataset\nnum_examples = 2000\n#Listing out the shapes of each model\ncolors_num = len(chip_norm[0])\ninput_size = 3\n\nnetwork_shapes = [(input_size, [100], colors_num), (input_size, [100], colors_num), (input_size, [100], colors_num)]\n#Learning rate of the network\nrate = 0.001\n\n#Generating Training Data\nlab_train, lab_test, chip_train, chip_test = train_test_split(lab_norm, chip_norm, test_size=0.1)\n\ninput_train = torch.FloatTensor(lab_train)\noutput_train = torch.FloatTensor(chip_train)\ninput_test= torch.FloatTensor(lab_test)\noutput_test = torch.FloatTensor(chip_test)",
    "id": "8cc05ec00119411f8f0b62b4fa50265b",
    "idx": 6,
    "time": "2021-02-03T02:53:49.316Z",
    "type": "execution"
   },
   {
    "id": "8cc05ec00119411f8f0b62b4fa50265b",
    "time": "2021-02-03T02:53:49.365Z",
    "type": "completion"
   },
   {
    "code": "#Array of losses over training period for each network\nfor net_num, shape in enumerate(network_shapes):\n    print('Network Shape:',flush = True)\n    print('Input Size = ' + str(shape[0]), flush = True)\n    print('Hidden Size = ' + str(shape[1]), flush = True)\n    print('Output Size = ' + str(shape[2]), flush = True)\n    NN = Neural_Network(inputSize = 3, outputSize = colors_num, hiddenSize = [3,3,3] , learning_rate = 0.001)\n\n    for i in range(num_iters):\n        #Calculating l1 error\n        error = NN.l1error(output_train, NN(input_train))\n        if i == 0: \n            dh = display(\"#\" + str(i) + \" Error: \" + str(error), display_id=True)\n        else:\n            dh.update(\"#\" + str(i) + \" Error: \" + str(error))\n            \n        NN.train(input_train, output_train)\n    #Saves the training results in a filed named \"Net 0\", \"Net 1\", etc. \n    NN.saveWeights(model = NN, path = \"saved_networks/Net \" + str(net_num));",
    "id": "9277c562ac6843d08f0c0336d9745513",
    "idx": 7,
    "time": "2021-02-03T02:53:50.090Z",
    "type": "execution"
   },
   {
    "id": "9277c562ac6843d08f0c0336d9745513",
    "time": "2021-02-03T02:54:46.055Z",
    "type": "completion"
   },
   {
    "code": "for net_num, shape in enumerate(network_shapes):\n    print('Network Shape:',flush = True)\n    print('Input Size = ' + str(shape[0]), flush = True)\n    print('Hidden Size = ' + str(shape[1]), flush = True)\n    print('Output Size = ' + str(shape[2]), flush = True)\n    # Loading the network we trained in the prev. section\n    \n    NN = Neural_Network(inputSize = shape[0], outputSize = shape[2],\n                        hiddenSize = shape[1] , learning_rate = rate)\n    NN.load_state_dict(torch.load(\"saved_networks/Net \" + str(net_num)))\n    \n    validation_error = NN.l1error(output_test, NN(input_test))\n    max_error = np.max(np.abs((output_test - NN(input_test)).detach().numpy()))\n    print(\"The validation error is: \" + str(validation_error), flush = True)  \n    print(\"The maximum error is:\" + str(max_error), flush = True)",
    "id": "21a85bde696a47ee98c20f205cad5cd4",
    "idx": 8,
    "time": "2021-02-03T02:54:48.422Z",
    "type": "execution"
   },
   {
    "id": "21a85bde696a47ee98c20f205cad5cd4",
    "time": "2021-02-03T02:54:48.523Z",
    "type": "completion"
   },
   {
    "code": "for net_num, shape in enumerate(network_shapes):\n    print('Network Shape:',flush = True)\n    print('Input Size = ' + str(shape[0]), flush = True)\n    print('Hidden Size = ' + str(shape[1]), flush = True)\n    print('Output Size = ' + str(shape[2]), flush = True)\n    # Loading the network we trained in the prev. section\n    \n    NN = Neural_Network(inputSize = shape[0], outputSize = shape[2],\n                        hiddenSize = shape[1] , learning_rate = rate)\n    NN.load_state_dict(torch.load(\"saved_networks/Net \" + str(net_num)))\n    \n    validation_error = NN.l1error(output_test, NN(input_test))\n    max_error = np.max(np.abs((output_test - NN(input_test)).detach().numpy()))\n    print(\"The validation error is: \" + str(validation_error), flush = True)  \n    print(\"The maximum error is:\" + str(max_error), flush = True)",
    "id": "21a85bde696a47ee98c20f205cad5cd4",
    "idx": 8,
    "time": "2021-02-03T02:54:54.136Z",
    "type": "execution"
   },
   {
    "id": "21a85bde696a47ee98c20f205cad5cd4",
    "time": "2021-02-03T02:54:54.236Z",
    "type": "completion"
   },
   {
    "code": "locations",
    "id": "fd38caded7c2472d8d7f45c3be57ae56",
    "idx": 4,
    "time": "2021-02-03T04:04:36.310Z",
    "type": "execution"
   },
   {
    "id": "fd38caded7c2472d8d7f45c3be57ae56",
    "time": "2021-02-03T04:04:46.687Z",
    "type": "completion"
   },
   {
    "code": "import sys\nimport math\nimport numpy as np\n\"\"\"\nnot working\nfrom Language_Data_Scraper.py import *\n\"\"\"\nsys.path.insert(0, '..')\nfrom net_framework import *\nfrom sklearn.model_selection import train_test_split\nimport pandas as pd",
    "id": "98b63ce99ffa4f428115004fb0366917",
    "idx": 0,
    "time": "2021-02-03T04:04:53.275Z",
    "type": "execution"
   },
   {
    "code": "term_data = pd.read_csv('term.txt', sep=\"\\t\", header=None)\nterm_data.columns = [\"#Lnum\", \"#snum\", \"#cnum\", \"Term Abbrev\"]\nterm_data.head()",
    "id": "20b0acb43c014af6866c6ee50356a0b2",
    "idx": 1,
    "time": "2021-02-03T04:04:53.503Z",
    "type": "execution"
   },
   {
    "code": "cnum_data = pd.read_csv('cnum-vhcm-lab-new.txt', sep=\"\\t\")\nlocations = cnum_data[['#cnum']]\nlocations['Normalized-L'] = (cnum_data['L*'] - cnum_data['L*'].mean())/(cnum_data['L*'] - cnum_data['L*'].mean()).max()\nlocations['Normalized-a'] = (cnum_data['a*'] - cnum_data['a*'].mean())/(cnum_data['a*'] - cnum_data['a*'].mean()).std() * 1/2\nlocations['Normalized-b'] = (cnum_data['b*'] - cnum_data['b*'].mean())/(cnum_data['b*'] - cnum_data['b*'].mean()).std() * 1/2\ndisplay(locations.head(5))",
    "id": "6e3071fb1dde4215810e2a80d8e471a4",
    "idx": 2,
    "time": "2021-02-03T04:04:53.670Z",
    "type": "execution"
   },
   {
    "code": "locations = locations.sort_values('#cnum')\nchip_num = list(locations['#cnum'])\nlab_norm = [[row[2], row[3], row[4]] for row in locations.itertuples()]",
    "id": "467e3a66759c4d08a81372178f7abd45",
    "idx": 3,
    "time": "2021-02-03T04:04:53.858Z",
    "type": "execution"
   },
   {
    "id": "98b63ce99ffa4f428115004fb0366917",
    "time": "2021-02-03T04:04:54.984Z",
    "type": "completion"
   },
   {
    "code": "locations",
    "id": "fd38caded7c2472d8d7f45c3be57ae56",
    "idx": 4,
    "time": "2021-02-03T04:04:55.008Z",
    "type": "execution"
   },
   {
    "id": "20b0acb43c014af6866c6ee50356a0b2",
    "time": "2021-02-03T04:04:55.263Z",
    "type": "completion"
   },
   {
    "id": "6e3071fb1dde4215810e2a80d8e471a4",
    "time": "2021-02-03T04:04:55.293Z",
    "type": "completion"
   },
   {
    "id": "467e3a66759c4d08a81372178f7abd45",
    "time": "2021-02-03T04:04:55.297Z",
    "type": "completion"
   },
   {
    "id": "fd38caded7c2472d8d7f45c3be57ae56",
    "time": "2021-02-03T04:04:55.316Z",
    "type": "completion"
   },
   {
    "code": "locations = locations.sort_values('#cnum')\nchip_num = list(locations['#cnum'])\nlab_norm = [[row[2], row[3], row[4]] for row in locations.itertuples()]",
    "id": "467e3a66759c4d08a81372178f7abd45",
    "idx": 3,
    "time": "2021-02-03T04:06:06.303Z",
    "type": "execution"
   },
   {
    "id": "467e3a66759c4d08a81372178f7abd45",
    "time": "2021-02-03T04:06:06.357Z",
    "type": "completion"
   },
   {
    "code": "l1 = term_data[term_data.get('#Lnum').eq(1)]\nunique_symbols = list(l1['Term Abbrev'].unique())\nl1_grouped = l1.groupby('#cnum')['Term Abbrev'].apply(list)\nl1_chip_abbrev_percentage = [[(l1_grouped[i + 1].count(abbrev) / len(l1_grouped[i + 1])) for abbrev in unique_symbols] for i in range(len(l1_grouped))]",
    "id": "02eaf4a67fb7453dadf7ec4de2ba2b00",
    "idx": 4,
    "time": "2021-02-03T04:11:42.418Z",
    "type": "execution"
   },
   {
    "id": "02eaf4a67fb7453dadf7ec4de2ba2b00",
    "time": "2021-02-03T04:11:42.514Z",
    "type": "completion"
   },
   {
    "code": "l1_result = pd.DataFrame(l1_chip_abbrev_percentage)\nl1_result.index += 1\nl1_result.index.name = '#cnum'\nl1_result.columns = unique_symbols\nprint(l1_result)\nchip_norm = []\n#pull the percentage for each cnum\nfor x in chip_num:\n#     chip_norm.append((l1_result.loc[l1[\"#cnum\"]==x]).values.tolist()[0])\n    chip_norm.append(l1_result.loc[x,:].values.tolist())",
    "id": "0f5a1ecf987049e68b1f180f53d014bd",
    "idx": 5,
    "time": "2021-02-03T04:11:42.981Z",
    "type": "execution"
   },
   {
    "id": "0f5a1ecf987049e68b1f180f53d014bd",
    "time": "2021-02-03T04:11:43.076Z",
    "type": "completion"
   },
   {
    "code": "l1 = term_data[term_data.get('#Lnum').eq(2)]\nunique_symbols = list(l1['Term Abbrev'].unique())\nl1_grouped = l1.groupby('#cnum')['Term Abbrev'].apply(list)\nl1_chip_abbrev_percentage = [[(l1_grouped[i + 1].count(abbrev) / len(l1_grouped[i + 1])) for abbrev in unique_symbols] for i in range(len(l1_grouped))]",
    "id": "02eaf4a67fb7453dadf7ec4de2ba2b00",
    "idx": 4,
    "time": "2021-02-03T04:11:46.972Z",
    "type": "execution"
   },
   {
    "id": "02eaf4a67fb7453dadf7ec4de2ba2b00",
    "time": "2021-02-03T04:11:47.117Z",
    "type": "completion"
   },
   {
    "code": "l1_result = pd.DataFrame(l1_chip_abbrev_percentage)\nl1_result.index += 1\nl1_result.index.name = '#cnum'\nl1_result.columns = unique_symbols\nprint(l1_result)\nchip_norm = []\n#pull the percentage for each cnum\nfor x in chip_num:\n#     chip_norm.append((l1_result.loc[l1[\"#cnum\"]==x]).values.tolist()[0])\n    chip_norm.append(l1_result.loc[x,:].values.tolist())",
    "id": "0f5a1ecf987049e68b1f180f53d014bd",
    "idx": 5,
    "time": "2021-02-03T04:11:47.514Z",
    "type": "execution"
   },
   {
    "id": "0f5a1ecf987049e68b1f180f53d014bd",
    "time": "2021-02-03T04:11:47.630Z",
    "type": "completion"
   },
   {
    "code": "l1 = term_data[term_data.get('#Lnum').eq(3)]\nunique_symbols = list(l1['Term Abbrev'].unique())\nl1_grouped = l1.groupby('#cnum')['Term Abbrev'].apply(list)\nl1_chip_abbrev_percentage = [[(l1_grouped[i + 1].count(abbrev) / len(l1_grouped[i + 1])) for abbrev in unique_symbols] for i in range(len(l1_grouped))]",
    "id": "02eaf4a67fb7453dadf7ec4de2ba2b00",
    "idx": 4,
    "time": "2021-02-03T04:12:27.648Z",
    "type": "execution"
   },
   {
    "id": "02eaf4a67fb7453dadf7ec4de2ba2b00",
    "time": "2021-02-03T04:12:27.955Z",
    "type": "completion"
   },
   {
    "code": "l1_result = pd.DataFrame(l1_chip_abbrev_percentage)\nl1_result.index += 1\nl1_result.index.name = '#cnum'\nl1_result.columns = unique_symbols\nprint(l1_result)\nchip_norm = []\n#pull the percentage for each cnum\nfor x in chip_num:\n#     chip_norm.append((l1_result.loc[l1[\"#cnum\"]==x]).values.tolist()[0])\n    chip_norm.append(l1_result.loc[x,:].values.tolist())",
    "id": "0f5a1ecf987049e68b1f180f53d014bd",
    "idx": 5,
    "time": "2021-02-03T04:12:29.357Z",
    "type": "execution"
   },
   {
    "id": "0f5a1ecf987049e68b1f180f53d014bd",
    "time": "2021-02-03T04:12:29.517Z",
    "type": "completion"
   },
   {
    "code": "l1 = term_data[term_data.get('#Lnum').eq(1)]\nunique_symbols = list(l1['Term Abbrev'].unique())\nl1_grouped = l1.groupby('#cnum')['Term Abbrev'].apply(list)\nl1_chip_abbrev_percentage = [[(l1_grouped[i + 1].count(abbrev) / len(l1_grouped[i + 1])) for abbrev in unique_symbols] for i in range(len(l1_grouped))]",
    "id": "02eaf4a67fb7453dadf7ec4de2ba2b00",
    "idx": 4,
    "time": "2021-02-03T04:12:38.986Z",
    "type": "execution"
   },
   {
    "id": "02eaf4a67fb7453dadf7ec4de2ba2b00",
    "time": "2021-02-03T04:12:39.154Z",
    "type": "completion"
   },
   {
    "code": "l1_result = pd.DataFrame(l1_chip_abbrev_percentage)\nl1_result.index += 1\nl1_result.index.name = '#cnum'\nl1_result.columns = unique_symbols\nprint(l1_result)\nchip_norm = []\n#pull the percentage for each cnum\nfor x in chip_num:\n#     chip_norm.append((l1_result.loc[l1[\"#cnum\"]==x]).values.tolist()[0])\n    chip_norm.append(l1_result.loc[x,:].values.tolist())",
    "id": "0f5a1ecf987049e68b1f180f53d014bd",
    "idx": 5,
    "time": "2021-02-03T04:12:40.407Z",
    "type": "execution"
   },
   {
    "id": "0f5a1ecf987049e68b1f180f53d014bd",
    "time": "2021-02-03T04:12:40.495Z",
    "type": "completion"
   },
   {
    "code": "term_data['#cnum']",
    "id": "466c00fff29a428ca60f9db17cd69273",
    "idx": 2,
    "time": "2021-02-03T04:38:47.778Z",
    "type": "execution"
   },
   {
    "id": "466c00fff29a428ca60f9db17cd69273",
    "time": "2021-02-03T04:38:47.976Z",
    "type": "completion"
   },
   {
    "code": "term_data['#cnum'].unique",
    "id": "466c00fff29a428ca60f9db17cd69273",
    "idx": 2,
    "time": "2021-02-03T04:38:54.487Z",
    "type": "execution"
   },
   {
    "id": "466c00fff29a428ca60f9db17cd69273",
    "time": "2021-02-03T04:38:54.529Z",
    "type": "completion"
   },
   {
    "code": "term_data['#cnum'].unique()",
    "id": "466c00fff29a428ca60f9db17cd69273",
    "idx": 2,
    "time": "2021-02-03T04:38:59.539Z",
    "type": "execution"
   },
   {
    "id": "466c00fff29a428ca60f9db17cd69273",
    "time": "2021-02-03T04:38:59.592Z",
    "type": "completion"
   },
   {
    "code": "term_data['#Lnum'].unique()",
    "id": "466c00fff29a428ca60f9db17cd69273",
    "idx": 2,
    "time": "2021-02-03T04:39:07.612Z",
    "type": "execution"
   },
   {
    "id": "466c00fff29a428ca60f9db17cd69273",
    "time": "2021-02-03T04:39:07.672Z",
    "type": "completion"
   },
   {
    "code": "import sys\nimport math\nimport numpy as np\n\"\"\"\nnot working\nfrom Language_Data_Scraper.py import *\n\"\"\"\nsys.path.insert(0, '..')\nfrom net_framework import *\nfrom sklearn.model_selection import train_test_split\nimport pandas as pd",
    "id": "0e0ac933829d471595492e4acc88ea34",
    "idx": 0,
    "time": "2021-02-06T18:06:22.906Z",
    "type": "execution"
   },
   {
    "code": "term_data = pd.read_csv('term.txt', sep=\"\\t\", header=None)\nterm_data.columns = [\"#Lnum\", \"#snum\", \"#cnum\", \"Term Abbrev\"]\nterm_data.head()",
    "id": "4903bda737bf4f61a75993cf916b5233",
    "idx": 1,
    "time": "2021-02-06T18:06:23.110Z",
    "type": "execution"
   },
   {
    "code": "term_data['#Lnum'].unique()",
    "id": "4907e05ff41d411c8ef84c6c8eed8834",
    "idx": 2,
    "time": "2021-02-06T18:06:23.325Z",
    "type": "execution"
   },
   {
    "code": "cnum_data = pd.read_csv('cnum-vhcm-lab-new.txt', sep=\"\\t\")\nlocations = cnum_data[['#cnum']]\nlocations['Normalized-L'] = (cnum_data['L*'] - cnum_data['L*'].mean())/(cnum_data['L*'] - cnum_data['L*'].mean()).max()\nlocations['Normalized-a'] = (cnum_data['a*'] - cnum_data['a*'].mean())/(cnum_data['a*'] - cnum_data['a*'].mean()).std() * 1/2\nlocations['Normalized-b'] = (cnum_data['b*'] - cnum_data['b*'].mean())/(cnum_data['b*'] - cnum_data['b*'].mean()).std() * 1/2\ndisplay(locations.head(5))",
    "id": "d9226fd6339f4307870bf39af7b51873",
    "idx": 3,
    "time": "2021-02-06T18:06:23.570Z",
    "type": "execution"
   },
   {
    "code": "locations = locations.sort_values('#cnum')\nchip_num = list(locations['#cnum'])\nlab_norm = [[row[2], row[3], row[4]] for row in locations.itertuples()]",
    "id": "964bc2f9ed444796ade9ad151d64c2d2",
    "idx": 4,
    "time": "2021-02-06T18:06:23.889Z",
    "type": "execution"
   },
   {
    "code": "l1 = term_data[term_data.get('#Lnum').eq(1)]\nunique_symbols = list(l1['Term Abbrev'].unique())\nl1_grouped = l1.groupby('#cnum')['Term Abbrev'].apply(list)\nl1_chip_abbrev_percentage = [[(l1_grouped[i + 1].count(abbrev) / len(l1_grouped[i + 1])) for abbrev in unique_symbols] for i in range(len(l1_grouped))]",
    "id": "81f3f938e2c94d988f9b7cd7027da05d",
    "idx": 5,
    "time": "2021-02-06T18:06:24.430Z",
    "type": "execution"
   },
   {
    "code": "l1_result = pd.DataFrame(l1_chip_abbrev_percentage)\nl1_result.index += 1\nl1_result.index.name = '#cnum'\nl1_result.columns = unique_symbols\nprint(l1_result)\nchip_norm = []\n#pull the percentage for each cnum\nfor x in chip_num:\n#     chip_norm.append((l1_result.loc[l1[\"#cnum\"]==x]).values.tolist()[0])\n    chip_norm.append(l1_result.loc[x,:].values.tolist())",
    "id": "d4504a9739224a928fc7397367dfcfe3",
    "idx": 6,
    "time": "2021-02-06T18:06:25.289Z",
    "type": "execution"
   },
   {
    "id": "0e0ac933829d471595492e4acc88ea34",
    "time": "2021-02-06T18:06:25.313Z",
    "type": "completion"
   },
   {
    "id": "4903bda737bf4f61a75993cf916b5233",
    "time": "2021-02-06T18:06:25.820Z",
    "type": "completion"
   },
   {
    "id": "4907e05ff41d411c8ef84c6c8eed8834",
    "time": "2021-02-06T18:06:25.853Z",
    "type": "completion"
   },
   {
    "id": "d9226fd6339f4307870bf39af7b51873",
    "time": "2021-02-06T18:06:25.889Z",
    "type": "completion"
   },
   {
    "id": "964bc2f9ed444796ade9ad151d64c2d2",
    "time": "2021-02-06T18:06:25.908Z",
    "type": "completion"
   },
   {
    "id": "81f3f938e2c94d988f9b7cd7027da05d",
    "time": "2021-02-06T18:06:25.969Z",
    "type": "completion"
   },
   {
    "id": "d4504a9739224a928fc7397367dfcfe3",
    "time": "2021-02-06T18:06:26.066Z",
    "type": "completion"
   },
   {
    "code": "#Number of training iterations\nnum_iters = 5000\n#Size of training dataset\nnum_examples = 2000\n#Listing out the shapes of each model\ncolors_num = len(chip_norm[0])\ninput_size = 3\n\nnetwork_shapes = [(input_size, [100], colors_num), (input_size, [100], colors_num), (input_size, [100], colors_num)]\n#Learning rate of the network\nrate = 0.001\n\n#Generating Training Data\nlab_train, lab_test, chip_train, chip_test = train_test_split(lab_norm, chip_norm, test_size=0.1)\n\ninput_train = torch.FloatTensor(lab_train)\noutput_train = torch.FloatTensor(chip_train)\ninput_test= torch.FloatTensor(lab_test)\noutput_test = torch.FloatTensor(chip_test)",
    "id": "44941f4587c5419d9f229a7472ac6520",
    "idx": 7,
    "time": "2021-02-06T18:06:27.543Z",
    "type": "execution"
   },
   {
    "id": "44941f4587c5419d9f229a7472ac6520",
    "time": "2021-02-06T18:06:27.594Z",
    "type": "completion"
   },
   {
    "code": "l1 = term_data[term_data.get('#Lnum').eq(1)]\nunique_symbols = list(l1['Term Abbrev'].unique())\nl1_grouped = l1.groupby('#cnum')['Term Abbrev'].apply(list)\nl1_chip_abbrev_percentage = [[(l1_grouped[i + 1].count(abbrev) / len(l1_grouped[i + 1])) for abbrev in unique_symbols] for i in range(len(l1_grouped))]",
    "id": "81f3f938e2c94d988f9b7cd7027da05d",
    "idx": 5,
    "time": "2021-02-06T18:11:49.708Z",
    "type": "execution"
   },
   {
    "id": "81f3f938e2c94d988f9b7cd7027da05d",
    "time": "2021-02-06T18:11:49.815Z",
    "type": "completion"
   },
   {
    "code": "l1_result = pd.DataFrame(l1_chip_abbrev_percentage)\nl1_result.index += 1\nl1_result.index.name = '#cnum'\nl1_result.columns = unique_symbols\nprint(l1_result)\nchip_norm = []\n#pull the percentage for each cnum\nfor x in chip_num:\n#     chip_norm.append((l1_result.loc[l1[\"#cnum\"]==x]).values.tolist()[0])\n    chip_norm.append(l1_result.loc[x,:].values.tolist())",
    "id": "d4504a9739224a928fc7397367dfcfe3",
    "idx": 6,
    "time": "2021-02-06T18:11:49.997Z",
    "type": "execution"
   },
   {
    "id": "d4504a9739224a928fc7397367dfcfe3",
    "time": "2021-02-06T18:11:50.122Z",
    "type": "completion"
   },
   {
    "code": "#Number of training iterations\nnum_iters = 5000\n#Size of training dataset\nnum_examples = 2000\n#Listing out the shapes of each model\ncolors_num = len(chip_norm[0])\ninput_size = 3\n\nnetwork_shapes = [(input_size, [100], colors_num), (input_size, [100], colors_num), (input_size, [100], colors_num)]\n#Learning rate of the network\nrate = 0.001\n\n#Generating Training Data\nlab_train, lab_test, chip_train, chip_test = train_test_split(lab_norm, chip_norm, test_size=0.1)\n\ninput_train = torch.FloatTensor(lab_train)\noutput_train = torch.FloatTensor(chip_train)\ninput_test= torch.FloatTensor(lab_test)\noutput_test = torch.FloatTensor(chip_test)",
    "id": "44941f4587c5419d9f229a7472ac6520",
    "idx": 7,
    "time": "2021-02-06T18:11:54.897Z",
    "type": "execution"
   },
   {
    "id": "44941f4587c5419d9f229a7472ac6520",
    "time": "2021-02-06T18:11:54.948Z",
    "type": "completion"
   },
   {
    "code": "#Array of losses over training period for each network\nfor net_num, shape in enumerate(network_shapes):\n    print('Network Shape:',flush = True)\n    print('Input Size = ' + str(shape[0]), flush = True)\n    print('Hidden Size = ' + str(shape[1]), flush = True)\n    print('Output Size = ' + str(shape[2]), flush = True)\n    NN = Neural_Network(inputSize = 3, outputSize = colors_num, hiddenSize = [3,3,3] , learning_rate = 0.001)\n\n    for i in range(num_iters):\n        #Calculating l1 error\n        error = NN.l1error(output_train, NN(input_train))\n        if i == 0: \n            dh = display(\"#\" + str(i) + \" Error: \" + str(error), display_id=True)\n        else:\n            dh.update(\"#\" + str(i) + \" Error: \" + str(error))\n            \n        NN.train(input_train, output_train)\n    #Saves the training results in a filed named \"Net 0\", \"Net 1\", etc. \n    NN.saveWeights(model = NN, path = \"saved_networks/Net \" + str(net_num));",
    "id": "f673e22a10ec4607805bafd68cb56ec6",
    "idx": 8,
    "time": "2021-02-06T18:12:17.336Z",
    "type": "execution"
   },
   {
    "id": "f673e22a10ec4607805bafd68cb56ec6",
    "time": "2021-02-06T18:13:38.420Z",
    "type": "completion"
   },
   {
    "code": "for net_num, shape in enumerate(network_shapes):\n    print('Network Shape:',flush = True)\n    print('Input Size = ' + str(shape[0]), flush = True)\n    print('Hidden Size = ' + str(shape[1]), flush = True)\n    print('Output Size = ' + str(shape[2]), flush = True)\n    # Loading the network we trained in the prev. section\n    \n    NN = Neural_Network(inputSize = shape[0], outputSize = shape[2],\n                        hiddenSize = shape[1] , learning_rate = rate)\n    NN.load_state_dict(torch.load(\"saved_networks/Net \" + str(net_num)))\n    \n    validation_error = NN.l1error(output_test, NN(input_test))\n    max_error = np.max(np.abs((output_test - NN(input_test)).detach().numpy()))\n    print(\"The validation error is: \" + str(validation_error), flush = True)  \n    print(\"The maximum error is:\" + str(max_error), flush = True)",
    "id": "5c2f3a6b17b647788bd419eb494fc079",
    "idx": 9,
    "time": "2021-02-06T18:14:33.150Z",
    "type": "execution"
   },
   {
    "id": "5c2f3a6b17b647788bd419eb494fc079",
    "time": "2021-02-06T18:14:33.388Z",
    "type": "completion"
   },
   {
    "code": "#Array of losses over training period for each network\nfor net_num, shape in enumerate(network_shapes):\n    print('Network Shape:',flush = True)\n    print('Input Size = ' + str(shape[0]), flush = True)\n    print('Hidden Size = ' + str(shape[1]), flush = True)\n    print('Output Size = ' + str(shape[2]), flush = True)\n    NN = Neural_Network(inputSize = 3, outputSize = colors_num, hiddenSize = [3,3,3] , learning_rate = 0.001)\n\n    for i in range(num_iters):\n        #Calculating l1 error\n        error = NN.l1error(output_train, NN(input_train))\n        if i == 0: \n            dh = display(\"#\" + str(i) + \" Error: \" + str(error), display_id=True)\n        else:\n            dh.update(\"#\" + str(i) + \" Error: \" + str(error))\n            \n        NN.train(input_train, output_train)\n    #Saves the training results in a filed named \"Net 0\", \"Net 1\", etc. \n    NN.saveWeights(model = NN, path = \"saved_networks/Net \" + str(net_num));",
    "id": "f673e22a10ec4607805bafd68cb56ec6",
    "idx": 8,
    "time": "2021-02-06T18:15:52.597Z",
    "type": "execution"
   },
   {
    "id": "f673e22a10ec4607805bafd68cb56ec6",
    "time": "2021-02-06T18:17:12.579Z",
    "type": "completion"
   },
   {
    "code": "for net_num, shape in enumerate(network_shapes):\n    print('Network Shape:',flush = True)\n    print('Input Size = ' + str(shape[0]), flush = True)\n    print('Hidden Size = ' + str(shape[1]), flush = True)\n    print('Output Size = ' + str(shape[2]), flush = True)\n    # Loading the network we trained in the prev. section\n    \n    NN = Neural_Network(inputSize = shape[0], outputSize = shape[2],\n                        hiddenSize = shape[1] , learning_rate = rate)\n    NN.load_state_dict(torch.load(\"saved_networks/Net \" + str(net_num)))\n    \n    validation_error = NN.l1error(output_test, NN(input_test))\n    max_error = np.max(np.abs((output_test - NN(input_test)).detach().numpy()))\n    print(\"The validation error is: \" + str(validation_error), flush = True)  \n    print(\"The maximum error is:\" + str(max_error), flush = True)",
    "id": "5c2f3a6b17b647788bd419eb494fc079",
    "idx": 9,
    "time": "2021-02-06T18:17:15.471Z",
    "type": "execution"
   },
   {
    "id": "5c2f3a6b17b647788bd419eb494fc079",
    "time": "2021-02-06T18:17:15.790Z",
    "type": "completion"
   },
   {
    "code": "import sys\nimport math\nimport numpy as np\n\"\"\"\nnot working\nfrom Language_Data_Scraper.py import *\n\"\"\"\nsys.path.insert(0, '..')\nfrom net_framework import *\nfrom sklearn.model_selection import train_test_split\nimport pandas as pd",
    "id": "0e0ac933829d471595492e4acc88ea34",
    "idx": 0,
    "time": "2021-02-06T18:21:50.043Z",
    "type": "execution"
   },
   {
    "code": "term_data = pd.read_csv('term.txt', sep=\"\\t\", header=None)\nterm_data.columns = [\"#Lnum\", \"#snum\", \"#cnum\", \"Term Abbrev\"]\nterm_data.head()",
    "id": "4903bda737bf4f61a75993cf916b5233",
    "idx": 1,
    "time": "2021-02-06T18:21:50.046Z",
    "type": "execution"
   },
   {
    "code": "term_data['#Lnum'].unique()",
    "id": "4907e05ff41d411c8ef84c6c8eed8834",
    "idx": 2,
    "time": "2021-02-06T18:21:50.047Z",
    "type": "execution"
   },
   {
    "code": "cnum_data = pd.read_csv('cnum-vhcm-lab-new.txt', sep=\"\\t\")\nlocations = cnum_data[['#cnum']]\nlocations['Normalized-L'] = (cnum_data['L*'] - cnum_data['L*'].mean())/(cnum_data['L*'] - cnum_data['L*'].mean()).max()\nlocations['Normalized-a'] = (cnum_data['a*'] - cnum_data['a*'].mean())/(cnum_data['a*'] - cnum_data['a*'].mean()).std() * 1/2\nlocations['Normalized-b'] = (cnum_data['b*'] - cnum_data['b*'].mean())/(cnum_data['b*'] - cnum_data['b*'].mean()).std() * 1/2\ndisplay(locations.head(5))",
    "id": "d9226fd6339f4307870bf39af7b51873",
    "idx": 3,
    "time": "2021-02-06T18:21:50.048Z",
    "type": "execution"
   },
   {
    "code": "locations = locations.sort_values('#cnum')\nchip_num = list(locations['#cnum'])\nlab_norm = [[row[2], row[3], row[4]] for row in locations.itertuples()]",
    "id": "964bc2f9ed444796ade9ad151d64c2d2",
    "idx": 4,
    "time": "2021-02-06T18:21:50.049Z",
    "type": "execution"
   },
   {
    "code": "l1 = term_data[term_data.get('#Lnum').eq(1)]\nunique_symbols = list(l1['Term Abbrev'].unique())\nl1_grouped = l1.groupby('#cnum')['Term Abbrev'].apply(list)\nl1_chip_abbrev_percentage = [[(l1_grouped[i + 1].count(abbrev) / len(l1_grouped[i + 1])) for abbrev in unique_symbols] for i in range(len(l1_grouped))]",
    "id": "81f3f938e2c94d988f9b7cd7027da05d",
    "idx": 5,
    "time": "2021-02-06T18:21:50.050Z",
    "type": "execution"
   },
   {
    "code": "l1_result = pd.DataFrame(l1_chip_abbrev_percentage)\nl1_result.index += 1\nl1_result.index.name = '#cnum'\nl1_result.columns = unique_symbols\nprint(l1_result)\nchip_norm = []\n#pull the percentage for each cnum\nfor x in chip_num:\n#     chip_norm.append((l1_result.loc[l1[\"#cnum\"]==x]).values.tolist()[0])\n    chip_norm.append(l1_result.loc[x,:].values.tolist())",
    "id": "d4504a9739224a928fc7397367dfcfe3",
    "idx": 6,
    "time": "2021-02-06T18:21:50.051Z",
    "type": "execution"
   },
   {
    "code": "#Number of training iterations\nnum_iters = 5000\n#Size of training dataset\nnum_examples = 2000\n#Listing out the shapes of each model\ncolors_num = len(chip_norm[0])\ninput_size = 3\n\nnetwork_shapes = [(input_size, [100], colors_num), (input_size, [100], colors_num), (input_size, [100], colors_num)]\n#Learning rate of the network\nrate = 0.001\n\n#Generating Training Data\nlab_train, lab_test, chip_train, chip_test = train_test_split(lab_norm, chip_norm, test_size=0.1)\n\ninput_train = torch.FloatTensor(lab_train)\noutput_train = torch.FloatTensor(chip_train)\ninput_test= torch.FloatTensor(lab_test)\noutput_test = torch.FloatTensor(chip_test)",
    "id": "44941f4587c5419d9f229a7472ac6520",
    "idx": 7,
    "time": "2021-02-06T18:21:50.052Z",
    "type": "execution"
   },
   {
    "code": "#Array of losses over training period for each network\nfor net_num, shape in enumerate(network_shapes):\n    print('Network Shape:',flush = True)\n    print('Input Size = ' + str(shape[0]), flush = True)\n    print('Hidden Size = ' + str(shape[1]), flush = True)\n    print('Output Size = ' + str(shape[2]), flush = True)\n    NN = Neural_Network(inputSize = 3, outputSize = colors_num, hiddenSize = [3,3,3] , learning_rate = 0.001)\n\n    for i in range(num_iters):\n        #Calculating l1 error\n        error = NN.l1error(output_train, NN(input_train))\n        if i == 0: \n            dh = display(\"#\" + str(i) + \" Error: \" + str(error), display_id=True)\n        else:\n            dh.update(\"#\" + str(i) + \" Error: \" + str(error))\n            \n        NN.train(input_train, output_train)\n    #Saves the training results in a filed named \"Net 0\", \"Net 1\", etc. \n    NN.saveWeights(model = NN, path = \"saved_networks/Net \" + str(net_num));",
    "id": "f673e22a10ec4607805bafd68cb56ec6",
    "idx": 8,
    "time": "2021-02-06T18:21:50.053Z",
    "type": "execution"
   },
   {
    "code": "for net_num, shape in enumerate(network_shapes):\n    print('Network Shape:',flush = True)\n    print('Input Size = ' + str(shape[0]), flush = True)\n    print('Hidden Size = ' + str(shape[1]), flush = True)\n    print('Output Size = ' + str(shape[2]), flush = True)\n    # Loading the network we trained in the prev. section\n    \n    NN = Neural_Network(inputSize = shape[0], outputSize = shape[2],\n                        hiddenSize = shape[1] , learning_rate = rate)\n    NN.load_state_dict(torch.load(\"saved_networks/Net \" + str(net_num)))\n    \n    validation_error = NN.l1error(output_test, NN(input_test))\n    max_error = np.max(np.abs((output_test - NN(input_test)).detach().numpy()))\n    print(\"The validation error is: \" + str(validation_error), flush = True)  \n    print(\"The maximum error is:\" + str(max_error), flush = True)",
    "id": "5c2f3a6b17b647788bd419eb494fc079",
    "idx": 9,
    "time": "2021-02-06T18:21:50.054Z",
    "type": "execution"
   },
   {
    "id": "0e0ac933829d471595492e4acc88ea34",
    "time": "2021-02-06T18:21:52.356Z",
    "type": "completion"
   },
   {
    "id": "4903bda737bf4f61a75993cf916b5233",
    "time": "2021-02-06T18:21:52.798Z",
    "type": "completion"
   },
   {
    "id": "4907e05ff41d411c8ef84c6c8eed8834",
    "time": "2021-02-06T18:21:52.820Z",
    "type": "completion"
   },
   {
    "id": "d9226fd6339f4307870bf39af7b51873",
    "time": "2021-02-06T18:21:52.867Z",
    "type": "completion"
   },
   {
    "id": "964bc2f9ed444796ade9ad151d64c2d2",
    "time": "2021-02-06T18:21:52.876Z",
    "type": "completion"
   },
   {
    "id": "81f3f938e2c94d988f9b7cd7027da05d",
    "time": "2021-02-06T18:21:52.949Z",
    "type": "completion"
   },
   {
    "id": "d4504a9739224a928fc7397367dfcfe3",
    "time": "2021-02-06T18:21:53.049Z",
    "type": "completion"
   },
   {
    "id": "44941f4587c5419d9f229a7472ac6520",
    "time": "2021-02-06T18:21:53.056Z",
    "type": "completion"
   },
   {
    "id": "f673e22a10ec4607805bafd68cb56ec6",
    "time": "2021-02-06T18:21:53.266Z",
    "type": "completion"
   },
   {
    "id": "5c2f3a6b17b647788bd419eb494fc079",
    "time": "2021-02-06T18:21:53.304Z",
    "type": "completion"
   },
   {
    "code": "import sys\nimport math\nimport numpy as np\n\"\"\"\nnot working\nfrom Language_Data_Scraper.py import *\n\"\"\"\nsys.path.insert(0, '..')\nfrom net_framework import *\nfrom sklearn.model_selection import train_test_split\nimport pandas as pd",
    "id": "0e0ac933829d471595492e4acc88ea34",
    "idx": 0,
    "time": "2021-02-06T18:22:16.243Z",
    "type": "execution"
   },
   {
    "code": "term_data = pd.read_csv('term.txt', sep=\"\\t\", header=None)\nterm_data.columns = [\"#Lnum\", \"#snum\", \"#cnum\", \"Term Abbrev\"]\nterm_data.head()",
    "id": "4903bda737bf4f61a75993cf916b5233",
    "idx": 1,
    "time": "2021-02-06T18:22:16.244Z",
    "type": "execution"
   },
   {
    "code": "term_data['#Lnum'].unique()",
    "id": "4907e05ff41d411c8ef84c6c8eed8834",
    "idx": 2,
    "time": "2021-02-06T18:22:16.245Z",
    "type": "execution"
   },
   {
    "code": "cnum_data = pd.read_csv('cnum-vhcm-lab-new.txt', sep=\"\\t\")\nlocations = cnum_data[['#cnum']]\nlocations['Normalized-L'] = (cnum_data['L*'] - cnum_data['L*'].mean())/(cnum_data['L*'] - cnum_data['L*'].mean()).max()\nlocations['Normalized-a'] = (cnum_data['a*'] - cnum_data['a*'].mean())/(cnum_data['a*'] - cnum_data['a*'].mean()).std() * 1/2\nlocations['Normalized-b'] = (cnum_data['b*'] - cnum_data['b*'].mean())/(cnum_data['b*'] - cnum_data['b*'].mean()).std() * 1/2\ndisplay(locations.head(5))",
    "id": "d9226fd6339f4307870bf39af7b51873",
    "idx": 3,
    "time": "2021-02-06T18:22:16.246Z",
    "type": "execution"
   },
   {
    "code": "locations = locations.sort_values('#cnum')\nchip_num = list(locations['#cnum'])\nlab_norm = [[row[2], row[3], row[4]] for row in locations.itertuples()]",
    "id": "964bc2f9ed444796ade9ad151d64c2d2",
    "idx": 4,
    "time": "2021-02-06T18:22:16.248Z",
    "type": "execution"
   },
   {
    "code": "l1 = term_data[term_data.get('#Lnum').eq(1)]\nunique_symbols = list(l1['Term Abbrev'].unique())\nl1_grouped = l1.groupby('#cnum')['Term Abbrev'].apply(list)\nl1_chip_abbrev_percentage = [[(l1_grouped[i + 1].count(abbrev) / len(l1_grouped[i + 1])) for abbrev in unique_symbols] for i in range(len(l1_grouped))]",
    "id": "81f3f938e2c94d988f9b7cd7027da05d",
    "idx": 5,
    "time": "2021-02-06T18:22:16.248Z",
    "type": "execution"
   },
   {
    "code": "l1_result = pd.DataFrame(l1_chip_abbrev_percentage)\nl1_result.index += 1\nl1_result.index.name = '#cnum'\nl1_result.columns = unique_symbols\nprint(l1_result)\nchip_norm = []\n#pull the percentage for each cnum\nfor x in chip_num:\n#     chip_norm.append((l1_result.loc[l1[\"#cnum\"]==x]).values.tolist()[0])\n    chip_norm.append(l1_result.loc[x,:].values.tolist())",
    "id": "d4504a9739224a928fc7397367dfcfe3",
    "idx": 6,
    "time": "2021-02-06T18:22:16.249Z",
    "type": "execution"
   },
   {
    "code": "#Number of training iterations\nnum_iters = 5000\n#Size of training dataset\nnum_examples = 2000\n#Listing out the shapes of each model\ncolors_num = len(chip_norm[0])\ninput_size = 3\n\nnetwork_shapes = [(input_size, [100], colors_num), (input_size, [100], colors_num), (input_size, [100], colors_num)]\n#Learning rate of the network\nrate = 0.001\n\n#Generating Training Data\nlab_train, lab_test, chip_train, chip_test = train_test_split(lab_norm, chip_norm, test_size=0.1)\n\ninput_train = torch.FloatTensor(lab_train)\noutput_train = torch.FloatTensor(chip_train)\ninput_test= torch.FloatTensor(lab_test)\noutput_test = torch.FloatTensor(chip_test)",
    "id": "44941f4587c5419d9f229a7472ac6520",
    "idx": 7,
    "time": "2021-02-06T18:22:16.250Z",
    "type": "execution"
   },
   {
    "code": "#Array of losses over training period for each network\nfor net_num, shape in enumerate(network_shapes):\n    print('Network Shape:',flush = True)\n    print('Input Size = ' + str(shape[0]), flush = True)\n    print('Hidden Size = ' + str(shape[1]), flush = True)\n    print('Output Size = ' + str(shape[2]), flush = True)\n    NN = Neural_Network(inputSize = 3, outputSize = colors_num, hiddenSize = [3,3,3] , learning_rate = 0.001)\n\n    for i in range(num_iters):\n        #Calculating l1 error\n        error = NN.l1error(output_train, NN(input_train))\n        if i == 0: \n            dh = display(\"#\" + str(i) + \" Error: \" + str(error), display_id=True)\n        else:\n            dh.update(\"#\" + str(i) + \" Error: \" + str(error))\n            \n        NN.train(input_train, output_train)\n    #Saves the training results in a filed named \"Net 0\", \"Net 1\", etc. \n    NN.saveWeights(model = NN, path = \"saved_networks/Net \" + str(net_num));",
    "id": "f673e22a10ec4607805bafd68cb56ec6",
    "idx": 8,
    "time": "2021-02-06T18:22:16.251Z",
    "type": "execution"
   },
   {
    "code": "for net_num, shape in enumerate(network_shapes):\n    print('Network Shape:',flush = True)\n    print('Input Size = ' + str(shape[0]), flush = True)\n    print('Hidden Size = ' + str(shape[1]), flush = True)\n    print('Output Size = ' + str(shape[2]), flush = True)\n    # Loading the network we trained in the prev. section\n    \n    NN = Neural_Network(inputSize = shape[0], outputSize = shape[2],\n                        hiddenSize = shape[1] , learning_rate = rate)\n    NN.load_state_dict(torch.load(\"saved_networks/Net \" + str(net_num)))\n    \n    validation_error = NN.l1error(output_test, NN(input_test))\n    max_error = np.max(np.abs((output_test - NN(input_test)).detach().numpy()))\n    print(\"The validation error is: \" + str(validation_error), flush = True)  \n    print(\"The maximum error is:\" + str(max_error), flush = True)",
    "id": "5c2f3a6b17b647788bd419eb494fc079",
    "idx": 9,
    "time": "2021-02-06T18:22:16.252Z",
    "type": "execution"
   },
   {
    "id": "0e0ac933829d471595492e4acc88ea34",
    "time": "2021-02-06T18:22:18.731Z",
    "type": "completion"
   },
   {
    "id": "4903bda737bf4f61a75993cf916b5233",
    "time": "2021-02-06T18:22:19.173Z",
    "type": "completion"
   },
   {
    "id": "4907e05ff41d411c8ef84c6c8eed8834",
    "time": "2021-02-06T18:22:19.194Z",
    "type": "completion"
   },
   {
    "id": "d9226fd6339f4307870bf39af7b51873",
    "time": "2021-02-06T18:22:19.267Z",
    "type": "completion"
   },
   {
    "id": "964bc2f9ed444796ade9ad151d64c2d2",
    "time": "2021-02-06T18:22:19.279Z",
    "type": "completion"
   },
   {
    "id": "81f3f938e2c94d988f9b7cd7027da05d",
    "time": "2021-02-06T18:22:19.422Z",
    "type": "completion"
   },
   {
    "id": "d4504a9739224a928fc7397367dfcfe3",
    "time": "2021-02-06T18:22:19.500Z",
    "type": "completion"
   },
   {
    "id": "44941f4587c5419d9f229a7472ac6520",
    "time": "2021-02-06T18:22:19.518Z",
    "type": "completion"
   },
   {
    "id": "f673e22a10ec4607805bafd68cb56ec6",
    "time": "2021-02-06T18:23:01.889Z",
    "type": "completion"
   },
   {
    "id": "5c2f3a6b17b647788bd419eb494fc079",
    "time": "2021-02-06T18:23:01.921Z",
    "type": "completion"
   },
   {
    "code": "#Number of training iterations\nnum_iters = 50\n#Size of training dataset\nnum_examples = 2000\n#Listing out the shapes of each model\ncolors_num = len(chip_norm[0])\ninput_size = 3\n\nnetwork_shapes = [(input_size, [100], colors_num), (input_size, [100], colors_num), (input_size, [100], colors_num)]\n#Learning rate of the network\nrate = 0.001\n\n#Generating Training Data\nlab_train, lab_test, chip_train, chip_test = train_test_split(lab_norm, chip_norm, test_size=0.1)\n\ninput_train = torch.FloatTensor(lab_train)\noutput_train = torch.FloatTensor(chip_train)\ninput_test= torch.FloatTensor(lab_test)\noutput_test = torch.FloatTensor(chip_test)",
    "id": "44941f4587c5419d9f229a7472ac6520",
    "idx": 7,
    "time": "2021-02-06T18:23:21.229Z",
    "type": "execution"
   },
   {
    "id": "44941f4587c5419d9f229a7472ac6520",
    "time": "2021-02-06T18:23:21.285Z",
    "type": "completion"
   },
   {
    "code": "#Array of losses over training period for each network\nfor net_num, shape in enumerate(network_shapes):\n    print('Network Shape:',flush = True)\n    print('Input Size = ' + str(shape[0]), flush = True)\n    print('Hidden Size = ' + str(shape[1]), flush = True)\n    print('Output Size = ' + str(shape[2]), flush = True)\n    NN = Neural_Network(inputSize = 3, outputSize = colors_num, hiddenSize = [3,3,3] , learning_rate = 0.001)\n\n    for i in range(num_iters):\n        #Calculating l1 error\n        error = NN.l1error(output_train, NN(input_train))\n        if i == 0: \n            dh = display(\"#\" + str(i) + \" Error: \" + str(error), display_id=True)\n        else:\n            dh.update(\"#\" + str(i) + \" Error: \" + str(error))\n            \n        NN.train(input_train, output_train)\n    #Saves the training results in a filed named \"Net 0\", \"Net 1\", etc. \n    NN.saveWeights(model = NN, path = \"saved_networks/Net \" + str(net_num));",
    "id": "f673e22a10ec4607805bafd68cb56ec6",
    "idx": 8,
    "time": "2021-02-06T18:23:21.456Z",
    "type": "execution"
   },
   {
    "code": "for net_num, shape in enumerate(network_shapes):\n    print('Network Shape:',flush = True)\n    print('Input Size = ' + str(shape[0]), flush = True)\n    print('Hidden Size = ' + str(shape[1]), flush = True)\n    print('Output Size = ' + str(shape[2]), flush = True)\n    # Loading the network we trained in the prev. section\n    \n    NN = Neural_Network(inputSize = shape[0], outputSize = shape[2],\n                        hiddenSize = shape[1] , learning_rate = rate)\n    NN.load_state_dict(torch.load(\"saved_networks/Net \" + str(net_num)))\n    \n    validation_error = NN.l1error(output_test, NN(input_test))\n    max_error = np.max(np.abs((output_test - NN(input_test)).detach().numpy()))\n    print(\"The validation error is: \" + str(validation_error), flush = True)  \n    print(\"The maximum error is:\" + str(max_error), flush = True)",
    "id": "5c2f3a6b17b647788bd419eb494fc079",
    "idx": 9,
    "time": "2021-02-06T18:23:21.747Z",
    "type": "execution"
   },
   {
    "id": "f673e22a10ec4607805bafd68cb56ec6",
    "time": "2021-02-06T18:24:53.493Z",
    "type": "completion"
   },
   {
    "id": "5c2f3a6b17b647788bd419eb494fc079",
    "time": "2021-02-06T18:24:53.653Z",
    "type": "completion"
   },
   {
    "code": "chip_norm",
    "id": "42db734a766c45fba8b74a2a838c014d",
    "idx": 7,
    "time": "2021-02-06T18:26:53.230Z",
    "type": "execution"
   },
   {
    "id": "42db734a766c45fba8b74a2a838c014d",
    "time": "2021-02-06T18:26:53.399Z",
    "type": "completion"
   },
   {
    "code": "l1 = term_data[term_data.get('#Lnum').eq(2)]\nunique_symbols = list(l1['Term Abbrev'].unique())\nl1_grouped = l1.groupby('#cnum')['Term Abbrev'].apply(list)\nl1_chip_abbrev_percentage = [[(l1_grouped[i + 1].count(abbrev) / len(l1_grouped[i + 1])) for abbrev in unique_symbols] for i in range(len(l1_grouped))]",
    "id": "81f3f938e2c94d988f9b7cd7027da05d",
    "idx": 5,
    "time": "2021-02-06T18:27:09.279Z",
    "type": "execution"
   },
   {
    "id": "81f3f938e2c94d988f9b7cd7027da05d",
    "time": "2021-02-06T18:27:09.459Z",
    "type": "completion"
   },
   {
    "code": "l1_result = pd.DataFrame(l1_chip_abbrev_percentage)\nl1_result.index += 1\nl1_result.index.name = '#cnum'\nl1_result.columns = unique_symbols\nprint(l1_result)\nchip_norm = []\n#pull the percentage for each cnum\nfor x in chip_num:\n#     chip_norm.append((l1_result.loc[l1[\"#cnum\"]==x]).values.tolist()[0])\n    chip_norm.append(l1_result.loc[x,:].values.tolist())",
    "id": "d4504a9739224a928fc7397367dfcfe3",
    "idx": 6,
    "time": "2021-02-06T18:27:09.735Z",
    "type": "execution"
   },
   {
    "id": "d4504a9739224a928fc7397367dfcfe3",
    "time": "2021-02-06T18:27:09.879Z",
    "type": "completion"
   },
   {
    "code": "l1 = term_data[term_data.get('#Lnum').eq(1)]\nunique_symbols = list(l1['Term Abbrev'].unique())\nl1_grouped = l1.groupby('#cnum')['Term Abbrev'].apply(list)\nl1_chip_abbrev_percentage = [[(l1_grouped[i + 1].count(abbrev) / len(l1_grouped[i + 1])) for abbrev in unique_symbols] for i in range(len(l1_grouped))]",
    "id": "81f3f938e2c94d988f9b7cd7027da05d",
    "idx": 5,
    "time": "2021-02-06T18:27:32.992Z",
    "type": "execution"
   },
   {
    "id": "81f3f938e2c94d988f9b7cd7027da05d",
    "time": "2021-02-06T18:27:33.107Z",
    "type": "completion"
   },
   {
    "code": "l1_result = pd.DataFrame(l1_chip_abbrev_percentage)\nl1_result.index += 1\nl1_result.index.name = '#cnum'\nl1_result.columns = unique_symbols\nprint(l1_result)\nchip_norm = []\n#pull the percentage for each cnum\nfor x in chip_num:\n#     chip_norm.append((l1_result.loc[l1[\"#cnum\"]==x]).values.tolist()[0])\n    chip_norm.append(l1_result.loc[x,:].values.tolist())",
    "id": "d4504a9739224a928fc7397367dfcfe3",
    "idx": 6,
    "time": "2021-02-06T18:27:33.440Z",
    "type": "execution"
   },
   {
    "id": "d4504a9739224a928fc7397367dfcfe3",
    "time": "2021-02-06T18:27:33.576Z",
    "type": "completion"
   },
   {
    "code": "l1_result",
    "id": "42db734a766c45fba8b74a2a838c014d",
    "idx": 7,
    "time": "2021-02-06T18:27:44.399Z",
    "type": "execution"
   },
   {
    "id": "42db734a766c45fba8b74a2a838c014d",
    "time": "2021-02-06T18:27:44.499Z",
    "type": "completion"
   },
   {
    "code": "l1_result.GB",
    "id": "42db734a766c45fba8b74a2a838c014d",
    "idx": 7,
    "time": "2021-02-06T18:27:53.103Z",
    "type": "execution"
   },
   {
    "id": "42db734a766c45fba8b74a2a838c014d",
    "time": "2021-02-06T18:27:53.165Z",
    "type": "completion"
   },
   {
    "code": "l1_result.GB.unique()",
    "id": "42db734a766c45fba8b74a2a838c014d",
    "idx": 7,
    "time": "2021-02-06T18:27:57.411Z",
    "type": "execution"
   },
   {
    "id": "42db734a766c45fba8b74a2a838c014d",
    "time": "2021-02-06T18:27:57.481Z",
    "type": "completion"
   },
   {
    "code": "cnum_data[['#cnum']]",
    "id": "bd9253b38b51423a9a3ea36ed78f65dd",
    "idx": 4,
    "time": "2021-02-06T18:30:39.517Z",
    "type": "execution"
   },
   {
    "id": "bd9253b38b51423a9a3ea36ed78f65dd",
    "time": "2021-02-06T18:30:39.585Z",
    "type": "completion"
   },
   {
    "code": "cnum_data",
    "id": "bd9253b38b51423a9a3ea36ed78f65dd",
    "idx": 4,
    "time": "2021-02-06T18:30:49.443Z",
    "type": "execution"
   },
   {
    "id": "bd9253b38b51423a9a3ea36ed78f65dd",
    "time": "2021-02-06T18:30:49.514Z",
    "type": "completion"
   },
   {
    "code": "cnum_data.loc[:, ['L*', 'a*', 'b*']]",
    "id": "bd9253b38b51423a9a3ea36ed78f65dd",
    "idx": 4,
    "time": "2021-02-06T18:31:42.664Z",
    "type": "execution"
   },
   {
    "id": "bd9253b38b51423a9a3ea36ed78f65dd",
    "time": "2021-02-06T18:31:42.747Z",
    "type": "completion"
   },
   {
    "code": "cnum_data.loc[:, ['#cnum', 'L*', 'a*', 'b*']]",
    "id": "bd9253b38b51423a9a3ea36ed78f65dd",
    "idx": 4,
    "time": "2021-02-06T18:31:57.416Z",
    "type": "execution"
   },
   {
    "id": "bd9253b38b51423a9a3ea36ed78f65dd",
    "time": "2021-02-06T18:31:57.478Z",
    "type": "completion"
   },
   {
    "code": "debug1 = cnum_data.loc[:, ['#cnum', 'L*', 'a*', 'b*']]\n# debug1['L*'] = debug1['L*'] - \nnormalized_df=(debug1-debug1.mean())/debug1.std()",
    "id": "bd9253b38b51423a9a3ea36ed78f65dd",
    "idx": 4,
    "time": "2021-02-06T18:34:07.368Z",
    "type": "execution"
   },
   {
    "id": "bd9253b38b51423a9a3ea36ed78f65dd",
    "time": "2021-02-06T18:34:07.427Z",
    "type": "completion"
   },
   {
    "code": "debug1 = cnum_data.loc[:, ['#cnum', 'L*', 'a*', 'b*']]\n# debug1['L*'] = debug1['L*'] - \nnormalized_df=(debug1-debug1.mean())/debug1.std()\nnormalized_df",
    "id": "bd9253b38b51423a9a3ea36ed78f65dd",
    "idx": 4,
    "time": "2021-02-06T18:34:16.430Z",
    "type": "execution"
   },
   {
    "id": "bd9253b38b51423a9a3ea36ed78f65dd",
    "time": "2021-02-06T18:34:16.505Z",
    "type": "completion"
   },
   {
    "code": "debug1 = cnum_data.loc[:, ['#cnum', 'L*', 'a*', 'b*']]\ndebug1['L*'] = (debug1['L*'] - debug1['L*'].mean) / debug1['L*'].std()\n",
    "id": "bd9253b38b51423a9a3ea36ed78f65dd",
    "idx": 4,
    "time": "2021-02-06T18:35:43.131Z",
    "type": "execution"
   },
   {
    "id": "bd9253b38b51423a9a3ea36ed78f65dd",
    "time": "2021-02-06T18:35:43.245Z",
    "type": "completion"
   },
   {
    "code": "debug1 = cnum_data.loc[:, ['#cnum', 'L*', 'a*', 'b*']]\ndebug1['L*'] = (debug1['L*'] - debug1['L*'].mean) / debug1['L*'].std\n",
    "id": "bd9253b38b51423a9a3ea36ed78f65dd",
    "idx": 4,
    "time": "2021-02-06T18:36:00.211Z",
    "type": "execution"
   },
   {
    "id": "bd9253b38b51423a9a3ea36ed78f65dd",
    "time": "2021-02-06T18:36:00.325Z",
    "type": "completion"
   },
   {
    "code": "debug1 = cnum_data.loc[:, ['#cnum', 'L*', 'a*', 'b*']]\ndebug1['L*'] = (debug1['L*'] - debug1['L*'].mean()) #/ debug1['L*'].std\n",
    "id": "bd9253b38b51423a9a3ea36ed78f65dd",
    "idx": 4,
    "time": "2021-02-06T18:36:06.335Z",
    "type": "execution"
   },
   {
    "id": "bd9253b38b51423a9a3ea36ed78f65dd",
    "time": "2021-02-06T18:36:06.387Z",
    "type": "completion"
   },
   {
    "code": "debug1 = cnum_data.loc[:, ['#cnum', 'L*', 'a*', 'b*']]\ndebug1['L*'] = (debug1['L*'] - debug1['L*'].mean()) / debug1['L*'].std()\n",
    "id": "bd9253b38b51423a9a3ea36ed78f65dd",
    "idx": 4,
    "time": "2021-02-06T18:36:18.477Z",
    "type": "execution"
   },
   {
    "id": "bd9253b38b51423a9a3ea36ed78f65dd",
    "time": "2021-02-06T18:36:18.554Z",
    "type": "completion"
   },
   {
    "code": "debug1 = cnum_data.loc[:, ['#cnum', 'L*', 'a*', 'b*']]\ndebug1['L*'] = (debug1['L*'] - debug1['L*'].mean()) / debug1['L*'].std()\ndebug1",
    "id": "bd9253b38b51423a9a3ea36ed78f65dd",
    "idx": 4,
    "time": "2021-02-06T18:36:24.120Z",
    "type": "execution"
   },
   {
    "id": "bd9253b38b51423a9a3ea36ed78f65dd",
    "time": "2021-02-06T18:36:24.192Z",
    "type": "completion"
   },
   {
    "code": "# debug1 = cnum_data.loc[:, ['#cnum', 'L*', 'a*', 'b*']]\n# debug1['L*'] = (debug1['L*'] - debug1['L*'].mean()) / debug1['L*'].std()\n# debug1",
    "id": "bd9253b38b51423a9a3ea36ed78f65dd",
    "idx": 4,
    "time": "2021-02-06T18:39:11.010Z",
    "type": "execution"
   },
   {
    "id": "bd9253b38b51423a9a3ea36ed78f65dd",
    "time": "2021-02-06T18:39:11.057Z",
    "type": "completion"
   },
   {
    "code": "locattions",
    "id": "d8ce44b873434ba88decdb4f4709e46b",
    "idx": 6,
    "time": "2021-02-06T18:39:58.590Z",
    "type": "execution"
   },
   {
    "id": "d8ce44b873434ba88decdb4f4709e46b",
    "time": "2021-02-06T18:39:58.665Z",
    "type": "completion"
   },
   {
    "code": "locations",
    "id": "d8ce44b873434ba88decdb4f4709e46b",
    "idx": 6,
    "time": "2021-02-06T18:40:00.807Z",
    "type": "execution"
   },
   {
    "id": "d8ce44b873434ba88decdb4f4709e46b",
    "time": "2021-02-06T18:40:00.869Z",
    "type": "completion"
   },
   {
    "code": "chip_num",
    "id": "d8ce44b873434ba88decdb4f4709e46b",
    "idx": 6,
    "time": "2021-02-06T18:40:06.496Z",
    "type": "execution"
   },
   {
    "id": "d8ce44b873434ba88decdb4f4709e46b",
    "time": "2021-02-06T18:40:06.563Z",
    "type": "completion"
   },
   {
    "code": "len(chip_num)",
    "id": "d8ce44b873434ba88decdb4f4709e46b",
    "idx": 6,
    "time": "2021-02-06T18:40:21.037Z",
    "type": "execution"
   },
   {
    "code": "l1",
    "id": "3e8b7c30c3154eeba55292a9c9f2a338",
    "idx": 7,
    "time": "2021-02-06T18:44:08.553Z",
    "type": "execution"
   },
   {
    "id": "3e8b7c30c3154eeba55292a9c9f2a338",
    "time": "2021-02-06T18:44:08.624Z",
    "type": "completion"
   },
   {
    "code": "NNtest = Neural_Network(inputSize = 3, outputSize = 1, hiddenSize = [3,3,3] , learning_rate = 0.001)",
    "id": "a0f7425e61a24e9287eedeb3847c96a9",
    "idx": 6,
    "time": "2021-02-06T18:45:07.997Z",
    "type": "execution"
   },
   {
    "id": "a0f7425e61a24e9287eedeb3847c96a9",
    "time": "2021-02-06T18:45:08.264Z",
    "type": "completion"
   },
   {
    "code": "lab_norm",
    "id": "4332d3385ba746e3b29bcac0b0c43061",
    "idx": 6,
    "time": "2021-02-06T18:45:36.177Z",
    "type": "execution"
   },
   {
    "id": "4332d3385ba746e3b29bcac0b0c43061",
    "time": "2021-02-06T18:45:36.310Z",
    "type": "completion"
   },
   {
    "code": "lab_norm.shape",
    "id": "4332d3385ba746e3b29bcac0b0c43061",
    "idx": 6,
    "time": "2021-02-06T18:45:40.341Z",
    "type": "execution"
   },
   {
    "id": "4332d3385ba746e3b29bcac0b0c43061",
    "time": "2021-02-06T18:45:40.396Z",
    "type": "completion"
   },
   {
    "code": "len(lab_norm)",
    "id": "4332d3385ba746e3b29bcac0b0c43061",
    "idx": 6,
    "time": "2021-02-06T18:45:51.499Z",
    "type": "execution"
   },
   {
    "id": "4332d3385ba746e3b29bcac0b0c43061",
    "time": "2021-02-06T18:45:51.627Z",
    "type": "completion"
   },
   {
    "code": "NNtest = Neural_Network(inputSize = 3, outputSize = 1, hiddenSize = [3,3,3] , learning_rate = 0.001)\nNNtest([[1, 1, 1]])\n",
    "id": "a0f7425e61a24e9287eedeb3847c96a9",
    "idx": 6,
    "time": "2021-02-06T18:46:31.225Z",
    "type": "execution"
   },
   {
    "id": "a0f7425e61a24e9287eedeb3847c96a9",
    "time": "2021-02-06T18:46:31.365Z",
    "type": "completion"
   },
   {
    "code": "NNtest = Neural_Network(inputSize = 3, outputSize = 1, hiddenSize = [3,3,3] , learning_rate = 0.001)\nNNtest(torch.FloatTensor([[1, 1, 1]]))\n",
    "id": "a0f7425e61a24e9287eedeb3847c96a9",
    "idx": 6,
    "time": "2021-02-06T18:47:37.740Z",
    "type": "execution"
   },
   {
    "id": "a0f7425e61a24e9287eedeb3847c96a9",
    "time": "2021-02-06T18:47:37.815Z",
    "type": "completion"
   },
   {
    "code": "NNtest = Neural_Network(inputSize = 3, outputSize = 1, hiddenSize = [3,3,3] , learning_rate = 0.001)\nNNtest(torch.FloatTensor([[1, 1, 1], [1, 1, 1]]))\n",
    "id": "a0f7425e61a24e9287eedeb3847c96a9",
    "idx": 6,
    "time": "2021-02-06T18:48:01.822Z",
    "type": "execution"
   },
   {
    "id": "a0f7425e61a24e9287eedeb3847c96a9",
    "time": "2021-02-06T18:48:01.883Z",
    "type": "completion"
   },
   {
    "code": "# #Neural Network Shape Test\n# NNtest = Neural_Network(inputSize = 3, outputSize = 1, hiddenSize = [3,3,3] , learning_rate = 0.001)\n# NNtest(torch.FloatTensor([[1, 1, 1], [1, 1, 1]]))\n",
    "id": "a0f7425e61a24e9287eedeb3847c96a9",
    "idx": 6,
    "time": "2021-02-06T18:48:38.123Z",
    "type": "execution"
   },
   {
    "id": "a0f7425e61a24e9287eedeb3847c96a9",
    "time": "2021-02-06T18:48:38.178Z",
    "type": "completion"
   },
   {
    "code": "unique_symbols",
    "id": "3e8b7c30c3154eeba55292a9c9f2a338",
    "idx": 8,
    "time": "2021-02-06T18:49:22.578Z",
    "type": "execution"
   },
   {
    "id": "3e8b7c30c3154eeba55292a9c9f2a338",
    "time": "2021-02-06T18:49:22.633Z",
    "type": "completion"
   },
   {
    "code": "l1",
    "id": "3e8b7c30c3154eeba55292a9c9f2a338",
    "idx": 8,
    "time": "2021-02-06T18:49:37.774Z",
    "type": "execution"
   },
   {
    "id": "3e8b7c30c3154eeba55292a9c9f2a338",
    "time": "2021-02-06T18:49:37.863Z",
    "type": "completion"
   },
   {
    "code": "l1['#Lnum']",
    "id": "3e8b7c30c3154eeba55292a9c9f2a338",
    "idx": 8,
    "time": "2021-02-06T18:50:46.716Z",
    "type": "execution"
   },
   {
    "id": "3e8b7c30c3154eeba55292a9c9f2a338",
    "time": "2021-02-06T18:50:46.795Z",
    "type": "completion"
   },
   {
    "code": "l1['#Lnum'].unique()",
    "id": "3e8b7c30c3154eeba55292a9c9f2a338",
    "idx": 8,
    "time": "2021-02-06T18:50:52.868Z",
    "type": "execution"
   },
   {
    "id": "3e8b7c30c3154eeba55292a9c9f2a338",
    "time": "2021-02-06T18:50:52.969Z",
    "type": "completion"
   },
   {
    "code": "unique_symbols",
    "id": "3e8b7c30c3154eeba55292a9c9f2a338",
    "idx": 8,
    "time": "2021-02-06T18:50:58.566Z",
    "type": "execution"
   },
   {
    "id": "3e8b7c30c3154eeba55292a9c9f2a338",
    "time": "2021-02-06T18:50:58.976Z",
    "type": "completion"
   },
   {
    "code": "l1_grouped",
    "id": "3e8b7c30c3154eeba55292a9c9f2a338",
    "idx": 8,
    "time": "2021-02-06T18:51:14.664Z",
    "type": "execution"
   },
   {
    "id": "3e8b7c30c3154eeba55292a9c9f2a338",
    "time": "2021-02-06T18:51:14.766Z",
    "type": "completion"
   },
   {
    "code": "l1_chip_abbrev_percentage",
    "id": "3e8b7c30c3154eeba55292a9c9f2a338",
    "idx": 8,
    "time": "2021-02-06T18:52:17.986Z",
    "type": "execution"
   },
   {
    "id": "3e8b7c30c3154eeba55292a9c9f2a338",
    "time": "2021-02-06T18:52:18.155Z",
    "type": "completion"
   },
   {
    "code": "len(l1_chip_abbrev_percentage)",
    "id": "3e8b7c30c3154eeba55292a9c9f2a338",
    "idx": 8,
    "time": "2021-02-06T18:52:31.119Z",
    "type": "execution"
   },
   {
    "id": "3e8b7c30c3154eeba55292a9c9f2a338",
    "time": "2021-02-06T18:52:31.188Z",
    "type": "completion"
   },
   {
    "code": "l1_result",
    "id": "1a980cbd8b2744578380cb27f9517068",
    "idx": 9,
    "time": "2021-02-06T18:52:53.003Z",
    "type": "execution"
   },
   {
    "id": "1a980cbd8b2744578380cb27f9517068",
    "time": "2021-02-06T18:52:53.092Z",
    "type": "completion"
   },
   {
    "code": "l1_result.shape",
    "id": "1a980cbd8b2744578380cb27f9517068",
    "idx": 9,
    "time": "2021-02-06T18:52:58.477Z",
    "type": "execution"
   },
   {
    "id": "1a980cbd8b2744578380cb27f9517068",
    "time": "2021-02-06T18:52:58.608Z",
    "type": "completion"
   },
   {
    "code": "chip_norm",
    "id": "1a980cbd8b2744578380cb27f9517068",
    "idx": 9,
    "time": "2021-02-06T18:53:26.083Z",
    "type": "execution"
   },
   {
    "id": "1a980cbd8b2744578380cb27f9517068",
    "time": "2021-02-06T18:53:26.329Z",
    "type": "completion"
   },
   {
    "code": "l1_chip_abbrev_percentage",
    "id": "6a4ca79e1c1f4970821c477347770df2",
    "idx": 9,
    "time": "2021-02-06T18:53:37.681Z",
    "type": "execution"
   },
   {
    "id": "6a4ca79e1c1f4970821c477347770df2",
    "time": "2021-02-06T18:53:37.886Z",
    "type": "completion"
   },
   {
    "code": "l1_chip_abbrev_percentage == chip_norm",
    "id": "6a4ca79e1c1f4970821c477347770df2",
    "idx": 9,
    "time": "2021-02-06T18:54:01.573Z",
    "type": "execution"
   },
   {
    "id": "6a4ca79e1c1f4970821c477347770df2",
    "time": "2021-02-06T18:54:01.634Z",
    "type": "completion"
   },
   {
    "code": "l1 = term_data[term_data.get('#Lnum').eq(1)]\nunique_symbols = list(l1['Term Abbrev'].unique())\nl1_grouped = l1.groupby('#cnum')['Term Abbrev'].apply(list)\nl1_chip_abbrev_percentage = [[(l1_grouped[i + 1].count(abbrev) / len(l1_grouped[i + 1])) \\\n                              for abbrev in unique_symbols] for i in range(len(l1_grouped))]",
    "id": "d87e693cad3e42ed8e6cc801b9ea65a0",
    "idx": 7,
    "time": "2021-02-06T18:55:04.151Z",
    "type": "execution"
   },
   {
    "id": "d87e693cad3e42ed8e6cc801b9ea65a0",
    "time": "2021-02-06T18:55:04.267Z",
    "type": "completion"
   },
   {
    "code": "range(1, 10)",
    "id": "166fd4bb85d84a50b6e68cd2a14428f6",
    "idx": 8,
    "time": "2021-02-06T18:55:50.684Z",
    "type": "execution"
   },
   {
    "id": "166fd4bb85d84a50b6e68cd2a14428f6",
    "time": "2021-02-06T18:55:50.738Z",
    "type": "completion"
   },
   {
    "code": "np.arange(1, 10)",
    "id": "166fd4bb85d84a50b6e68cd2a14428f6",
    "idx": 8,
    "time": "2021-02-06T18:55:56.492Z",
    "type": "execution"
   },
   {
    "id": "166fd4bb85d84a50b6e68cd2a14428f6",
    "time": "2021-02-06T18:55:56.559Z",
    "type": "completion"
   },
   {
    "code": "l1",
    "id": "166fd4bb85d84a50b6e68cd2a14428f6",
    "idx": 8,
    "time": "2021-02-06T18:56:08.844Z",
    "type": "execution"
   },
   {
    "id": "166fd4bb85d84a50b6e68cd2a14428f6",
    "time": "2021-02-06T18:56:08.948Z",
    "type": "completion"
   },
   {
    "code": "# #Neural Network Shape Test\nNNtest = Neural_Network(inputSize = 3, outputSize = 9, hiddenSize = [3,3,3] , learning_rate = 0.001)\nNNtest(torch.FloatTensor([[1, 1, 1], [1, 1, 1]]))\n",
    "id": "a0f7425e61a24e9287eedeb3847c96a9",
    "idx": 6,
    "time": "2021-02-06T18:57:33.980Z",
    "type": "execution"
   },
   {
    "id": "a0f7425e61a24e9287eedeb3847c96a9",
    "time": "2021-02-06T18:57:34.052Z",
    "type": "completion"
   },
   {
    "code": "lab_train",
    "id": "21db5e73be92486186d3fda30923ec0e",
    "idx": 10,
    "time": "2021-02-06T18:58:18.513Z",
    "type": "execution"
   },
   {
    "id": "21db5e73be92486186d3fda30923ec0e",
    "time": "2021-02-06T18:58:18.676Z",
    "type": "completion"
   },
   {
    "code": "#Number of training iterations\nnum_iters = 50\n#Size of training dataset\nnum_examples = 2000\n#Listing out the shapes of each model\ncolors_num = len(chip_norm[0])\ninput_size = 3\n\nnetwork_shapes = [(input_size, [10], colors_num), (input_size, [50], colors_num), (input_size, [100], colors_num)]\n#Learning rate of the network\nrate = 0.001\n\n#Generating Training Data\nlab_train, lab_test, chip_train, chip_test = train_test_split(lab_norm, chip_norm, test_size=0.2)\n\ninput_train = torch.FloatTensor(lab_train)\noutput_train = torch.FloatTensor(chip_train)\ninput_test= torch.FloatTensor(lab_test)\noutput_test = torch.FloatTensor(chip_test)",
    "id": "edd0058b1003415baca0ba38b6e34e64",
    "idx": 9,
    "time": "2021-02-06T18:59:51.920Z",
    "type": "execution"
   },
   {
    "id": "edd0058b1003415baca0ba38b6e34e64",
    "time": "2021-02-06T18:59:52.152Z",
    "type": "completion"
   },
   {
    "code": "#Array of losses over training period for each network\nfor net_num, shape in enumerate(network_shapes):\n    print('Network Shape:',flush = True)\n    print('Input Size = ' + str(shape[0]), flush = True)\n    print('Hidden Size = ' + str(shape[1]), flush = True)\n    print('Output Size = ' + str(shape[2]), flush = True)\n    NN = Neural_Network(inputSize = 3, outputSize = colors_num, hiddenSize = [3,3,3] , learning_rate = 0.001)\n\n    for i in range(num_iters):\n        #Calculating l1 error\n        error = NN.l1error(output_test, NN(input_test))\n        if i == 0: \n            dh = display(\"#\" + str(i) + \" Error: \" + str(error), display_id=True)\n        else:\n            dh.update(\"#\" + str(i) + \" Error: \" + str(error))\n            \n        NN.train(input_train, output_train)\n    #Saves the training results in a filed named \"Net 0\", \"Net 1\", etc. \n    NN.saveWeights(model = NN, path = \"saved_networks/Net \" + str(net_num));",
    "id": "f6ce5e0006d345e19be7b61f8d00e067",
    "idx": 10,
    "time": "2021-02-06T18:59:52.444Z",
    "type": "execution"
   },
   {
    "id": "f6ce5e0006d345e19be7b61f8d00e067",
    "time": "2021-02-06T19:01:15.324Z",
    "type": "completion"
   },
   {
    "code": "for net_num, shape in enumerate(network_shapes):\n    print('Network Shape:',flush = True)\n    print('Input Size = ' + str(shape[0]), flush = True)\n    print('Hidden Size = ' + str(shape[1]), flush = True)\n    print('Output Size = ' + str(shape[2]), flush = True)\n    # Loading the network we trained in the prev. section\n    \n    NN = Neural_Network(inputSize = shape[0], outputSize = shape[2],\n                        hiddenSize = shape[1] , learning_rate = rate)\n    NN.load_state_dict(torch.load(\"saved_networks/Net \" + str(net_num)))\n    \n    validation_error = NN.l1error(output_test, NN(input_test))\n    max_error = np.max(np.abs((output_test - NN(input_test)).detach().numpy()))\n    print(\"The validation error is: \" + str(validation_error), flush = True)  \n    print(\"The maximum error is:\" + str(max_error), flush = True)",
    "id": "7830aa56eb6d479488d2fc63bc3e0007",
    "idx": 11,
    "time": "2021-02-06T19:01:24.056Z",
    "type": "execution"
   },
   {
    "id": "7830aa56eb6d479488d2fc63bc3e0007",
    "time": "2021-02-06T19:01:24.162Z",
    "type": "completion"
   },
   {
    "code": "for net_num, shape in enumerate(network_shapes):\n    print('Network Shape:',flush = True)\n    print('Input Size = ' + str(shape[0]), flush = True)\n    print('Hidden Size = ' + str(shape[1]), flush = True)\n    print('Output Size = ' + str(shape[2]), flush = True)\n    # Loading the network we trained in the prev. section\n    \n    NN = Neural_Network(inputSize = shape[0], outputSize = shape[2],\n                        hiddenSize = shape[1] , learning_rate = rate)\n    NN.load_state_dict(torch.load(\"saved_networks/Net \" + str(net_num)))\n    \n    validation_error = NN.l1error(output_test, NN(input_test))\n    max_error = np.max(np.abs((output_test - NN(input_test)).detach().numpy()))\n    print(\"The validation error is: \" + str(validation_error), flush = True)  \n    print(\"The maximum error is:\" + str(max_error), flush = True)",
    "id": "7830aa56eb6d479488d2fc63bc3e0007",
    "idx": 11,
    "time": "2021-02-06T19:02:43.827Z",
    "type": "execution"
   },
   {
    "id": "7830aa56eb6d479488d2fc63bc3e0007",
    "time": "2021-02-06T19:02:43.934Z",
    "type": "completion"
   },
   {
    "code": "for net_num, shape in enumerate(network_shapes):\n    print('Network Shape:',flush = True)\n    print('Input Size = ' + str(shape[0]), flush = True)\n    print('Hidden Size = ' + str(shape[1]), flush = True)\n    print('Output Size = ' + str(shape[2]), flush = True)\n    print(shape[0], shape[1], shape[2])\n    # Loading the network we trained in the prev. section\n    \n    NN = Neural_Network(inputSize = shape[0], outputSize = shape[2],\n                        hiddenSize = shape[1] , learning_rate = rate)\n    NN.load_state_dict(torch.load(\"saved_networks/Net \" + str(net_num)))\n    \n    validation_error = NN.l1error(output_test, NN(input_test))\n    max_error = np.max(np.abs((output_test - NN(input_test)).detach().numpy()))\n    print(\"The validation error is: \" + str(validation_error), flush = True)  \n    print(\"The maximum error is:\" + str(max_error), flush = True)",
    "id": "7830aa56eb6d479488d2fc63bc3e0007",
    "idx": 11,
    "time": "2021-02-06T19:02:58.448Z",
    "type": "execution"
   },
   {
    "id": "7830aa56eb6d479488d2fc63bc3e0007",
    "time": "2021-02-06T19:02:58.545Z",
    "type": "completion"
   },
   {
    "code": "for net_num, shape in enumerate(network_shapes):\n    print('Network Shape:',flush = True)\n    print('Input Size = ' + str(shape[0]), flush = True)\n    print('Hidden Size = ' + str(shape[1]), flush = True)\n    print('Output Size = ' + str(shape[2]), flush = True)\n    # Loading the network we trained in the prev. section\n    \n    NN = Neural_Network(inputSize = shape[0], outputSize = shape[2],\n                        hiddenSize = shape[1] , learning_rate = rate)\n    print(net-num)\n    NN.load_state_dict(torch.load(\"saved_networks/Net \" + str(net_num)))\n    \n    validation_error = NN.l1error(output_test, NN(input_test))\n    max_error = np.max(np.abs((output_test - NN(input_test)).detach().numpy()))\n    print(\"The validation error is: \" + str(validation_error), flush = True)  \n    print(\"The maximum error is:\" + str(max_error), flush = True)",
    "id": "7830aa56eb6d479488d2fc63bc3e0007",
    "idx": 11,
    "time": "2021-02-06T19:03:45.357Z",
    "type": "execution"
   },
   {
    "id": "7830aa56eb6d479488d2fc63bc3e0007",
    "time": "2021-02-06T19:03:45.458Z",
    "type": "completion"
   },
   {
    "code": "for net_num, shape in enumerate(network_shapes):\n    print('Network Shape:',flush = True)\n    print('Input Size = ' + str(shape[0]), flush = True)\n    print('Hidden Size = ' + str(shape[1]), flush = True)\n    print('Output Size = ' + str(shape[2]), flush = True)\n    # Loading the network we trained in the prev. section\n    \n    NN = Neural_Network(inputSize = shape[0], outputSize = shape[2],\n                        hiddenSize = shape[1] , learning_rate = rate)\n    print(net_num)\n    NN.load_state_dict(torch.load(\"saved_networks/Net \" + str(net_num)))\n    \n    validation_error = NN.l1error(output_test, NN(input_test))\n    max_error = np.max(np.abs((output_test - NN(input_test)).detach().numpy()))\n    print(\"The validation error is: \" + str(validation_error), flush = True)  \n    print(\"The maximum error is:\" + str(max_error), flush = True)",
    "id": "7830aa56eb6d479488d2fc63bc3e0007",
    "idx": 11,
    "time": "2021-02-06T19:03:51.700Z",
    "type": "execution"
   },
   {
    "id": "7830aa56eb6d479488d2fc63bc3e0007",
    "time": "2021-02-06T19:03:51.777Z",
    "type": "completion"
   },
   {
    "code": "node_num = range(1,25)\nlayer_num = range(1,4)\n\n\nshape_collection = []\n\ndef trickle(arr, iteration_left, check):\n    if iteration_left == 0:\n        global shape_collection\n        #running the int fxn to make sure we don't have floats\n        mp = map(int, arr)\n        x = list(mp)\n        if check == sum(x):\n            shape_collection.append(x)\n    else:\n        new_arr = [0]+ arr + [0]\n        #recursively expanding the list symmetrically\n        while new_arr[0] < new_arr[1]-2 and new_arr[-1] < new_arr[-2]-2:\n            new_arr[0] += 1\n            new_arr[1] -= 1\n            new_arr[-1] += 1\n            new_arr[-2] -= 1\n        trickle(new_arr, iteration_left - 1, check)\n\nfor node in node_num:\n    for layer in layer_num:\n        if node//layer < 3:\n            continue\n        if layer%2 == 0:\n            trickle([node/2, node/2], (layer-2)/2, node)\n        else:\n            trickle([node], (layer-1)/2, node)\n        \n        \n        \n        \n\nprint(shape_collection)",
    "id": "64d8564a7b884a1984405f392fabb21e",
    "idx": 12,
    "time": "2021-02-06T19:07:47.762Z",
    "type": "execution"
   },
   {
    "id": "64d8564a7b884a1984405f392fabb21e",
    "time": "2021-02-06T19:07:47.842Z",
    "type": "completion"
   },
   {
    "code": "#Number of training iterations\nnum_iters = 500\n\n#Listing out the shapes of each model\ncolors_num = len(chip_norm[0])\ninput_size = 3\n\nnetwork_shapes = []\nfor s in shape_collection:\n    network_shapes.append((input_size,s,colors_num))\n\n#Learning rate of the network\nrate = 0.001\n\n#Generating Training Data\ninput_train, output_train, input_test, output_test = 0, 0, 0, 0\ndef shuffle():\n    lab_train, lab_test, chip_train, chip_test = train_test_split(lab_norm, chip_norm, test_size=0.2, random_state = 3, shuffle = True)\n    #test run on whole dataset\n    #lab_train, lab_test = lab_norm, lab_norm\n    #chip_train, chip_test = chip_norm, chip_norm\n    \n    global input_train, output_train, input_test, output_test\n    input_train = torch.FloatTensor(lab_train)\n    output_train = torch.FloatTensor(chip_train)\n    input_test= torch.FloatTensor(lab_test)\n    output_test = torch.FloatTensor(chip_test)\n\nprint(network_shapes)",
    "id": "d910e0e2e334411483adc407dcd04424",
    "idx": 13,
    "time": "2021-02-06T19:07:49.283Z",
    "type": "execution"
   },
   {
    "id": "d910e0e2e334411483adc407dcd04424",
    "time": "2021-02-06T19:07:49.330Z",
    "type": "completion"
   },
   {
    "code": "#Array of losses over training period for each network\noutput_file = {}\nfor n in node_num:\n    output_file[n] = {}\n    \nfor net_num, shape in enumerate(network_shapes):\n    shuffle()\n    print(\"Training: \",shape)\n    NN = Neural_Network(inputSize = shape[0], outputSize = shape[2],\n                        hiddenSize = shape[1] , learning_rate = rate)\n    error_arr = []\n    prev_error = 0\n    strike = 0\n    \n    for i in range(num_iters):       \n        NN.train(input_train, output_train)\n        validation_error = NN.l1error(output_test, NN(input_test))\n        #zero mistake counter at new training\n        if i == 0:\n            strike = 0\n        #adding error to array\n        error_arr.append(validation_error)\n        #wait for them to grow up\n        if prev_error < validation_error and i > 100:\n            if strike > 3:\n                print(\"Complete at iteration \", i, \"\\nFinal error: \", validation_error, \"\\n\")\n                break\n            else:\n                strike += 1\n        prev_error = validation_error\n\n    #Saves the training results in a filed named \"Net 0\", \"Net 1\", etc. \n    NN.saveWeights(model = NN, path = \"saved_networks/Net \" + str(net_num))\n    output_file[sum(shape[1])][len(shape[1])] = error_arr",
    "id": "818fef46e19e4960a9b9281a596a52f7",
    "idx": 14,
    "time": "2021-02-06T19:08:00.217Z",
    "type": "execution"
   },
   {
    "code": "import sys\nimport math\nimport numpy as np\n\"\"\"\nnot working\nfrom Language_Data_Scraper.py import *\n\"\"\"\nsys.path.insert(0, '..')\nfrom net_framework import *\nfrom sklearn.model_selection import train_test_split\nimport pandas as pd",
    "id": "0e403ae3e9b4423785f11c3d7b46a36c",
    "idx": 0,
    "time": "2021-02-06T22:44:54.280Z",
    "type": "execution"
   },
   {
    "code": "term_data = pd.read_csv('term.txt', sep=\"\\t\", header=None)\nterm_data.columns = [\"#Lnum\", \"#snum\", \"#cnum\", \"Term Abbrev\"]\nterm_data.head()",
    "id": "49e9b39ffb2944d48b6ccdc09010b658",
    "idx": 1,
    "time": "2021-02-06T22:44:54.450Z",
    "type": "execution"
   },
   {
    "code": "term_data['#Lnum'].unique()",
    "id": "5121391a3fb9447c863f9b6a21ed2789",
    "idx": 2,
    "time": "2021-02-06T22:44:54.610Z",
    "type": "execution"
   },
   {
    "code": "cnum_data = pd.read_csv('cnum-vhcm-lab-new.txt', sep=\"\\t\")\nlocations = cnum_data[['#cnum']]\nlocations['Normalized-L'] = (cnum_data['L*'] - cnum_data['L*'].mean())/(cnum_data['L*'] - cnum_data['L*'].mean()).max()\nlocations['Normalized-a'] = (cnum_data['a*'] - cnum_data['a*'].mean())/(cnum_data['a*'] - cnum_data['a*'].mean()).std() * 1/2\nlocations['Normalized-b'] = (cnum_data['b*'] - cnum_data['b*'].mean())/(cnum_data['b*'] - cnum_data['b*'].mean()).std() * 1/2\ndisplay(locations.head(5))",
    "id": "03a37b7ff7ce43208b74d0bbc44eea00",
    "idx": 3,
    "time": "2021-02-06T22:44:54.767Z",
    "type": "execution"
   },
   {
    "code": "# debug1 = cnum_data.loc[:, ['#cnum', 'L*', 'a*', 'b*']]\n# debug1['L*'] = (debug1['L*'] - debug1['L*'].mean()) / debug1['L*'].std()\n# debug1",
    "id": "3b364c7fbfe047e990150f2894e5d207",
    "idx": 4,
    "time": "2021-02-06T22:44:54.922Z",
    "type": "execution"
   },
   {
    "code": "locations = locations.sort_values('#cnum')\nchip_num = list(locations['#cnum'])\nlab_norm = [[row[2], row[3], row[4]] for row in locations.itertuples()]",
    "id": "90feda1a5c5c41a68e68ac9822b47500",
    "idx": 5,
    "time": "2021-02-06T22:44:55.585Z",
    "type": "execution"
   },
   {
    "code": "# #Neural Network Shape Test\n# NNtest = Neural_Network(inputSize = 3, outputSize = 9, hiddenSize = [3,3,3] , learning_rate = 0.001)\n# NNtest(torch.FloatTensor([[1, 1, 1], [1, 1, 1]]))\n",
    "id": "c4306a3ea3554ad2a7b64ce9a660fc86",
    "idx": 6,
    "time": "2021-02-06T22:44:56.042Z",
    "type": "execution"
   },
   {
    "code": "l1 = term_data[term_data.get('#Lnum').eq(1)]\nunique_symbols = list(l1['Term Abbrev'].unique())\nl1_grouped = l1.groupby('#cnum')['Term Abbrev'].apply(list)\nl1_chip_abbrev_percentage = [[(l1_grouped[i + 1].count(abbrev) / len(l1_grouped[i + 1])) \\\n                              for abbrev in unique_symbols] for i in range(len(l1_grouped))]",
    "id": "70e03cca165945b78f53df7ac997e754",
    "idx": 7,
    "time": "2021-02-06T22:44:56.541Z",
    "type": "execution"
   },
   {
    "id": "0e403ae3e9b4423785f11c3d7b46a36c",
    "time": "2021-02-06T22:44:56.693Z",
    "type": "completion"
   },
   {
    "code": "l1_result = pd.DataFrame(l1_chip_abbrev_percentage)\nl1_result.index += 1\nl1_result.index.name = '#cnum'\nl1_result.columns = unique_symbols\nprint(l1_result)\nchip_norm = []\n#pull the percentage for each cnum\nfor x in chip_num:\n#     chip_norm.append((l1_result.loc[l1[\"#cnum\"]==x]).values.tolist()[0])\n    chip_norm.append(l1_result.loc[x,:].values.tolist())",
    "id": "fc21542794344e2781ed7c8323668401",
    "idx": 8,
    "time": "2021-02-06T22:44:56.814Z",
    "type": "execution"
   },
   {
    "id": "49e9b39ffb2944d48b6ccdc09010b658",
    "time": "2021-02-06T22:44:57.172Z",
    "type": "completion"
   },
   {
    "id": "5121391a3fb9447c863f9b6a21ed2789",
    "time": "2021-02-06T22:44:57.181Z",
    "type": "completion"
   },
   {
    "code": "#Number of training iterations\nnum_iters = 50\n#Size of training dataset\nnum_examples = 2000\n#Listing out the shapes of each model\ncolors_num = len(chip_norm[0])\ninput_size = 3\n\nnetwork_shapes = [(input_size, [10], colors_num), (input_size, [50], colors_num), (input_size, [100], colors_num)]\n#Learning rate of the network\nrate = 0.001\n\n#Generating Training Data\nlab_train, lab_test, chip_train, chip_test = train_test_split(lab_norm, chip_norm, test_size=0.2)\n\ninput_train = torch.FloatTensor(lab_train)\noutput_train = torch.FloatTensor(chip_train)\ninput_test= torch.FloatTensor(lab_test)\noutput_test = torch.FloatTensor(chip_test)",
    "id": "01693c63b3c54f879d46abdd5696ea35",
    "idx": 9,
    "time": "2021-02-06T22:44:57.196Z",
    "type": "execution"
   },
   {
    "id": "03a37b7ff7ce43208b74d0bbc44eea00",
    "time": "2021-02-06T22:44:57.225Z",
    "type": "completion"
   },
   {
    "id": "3b364c7fbfe047e990150f2894e5d207",
    "time": "2021-02-06T22:44:57.241Z",
    "type": "completion"
   },
   {
    "id": "90feda1a5c5c41a68e68ac9822b47500",
    "time": "2021-02-06T22:44:57.257Z",
    "type": "completion"
   },
   {
    "id": "c4306a3ea3554ad2a7b64ce9a660fc86",
    "time": "2021-02-06T22:44:57.272Z",
    "type": "completion"
   },
   {
    "id": "70e03cca165945b78f53df7ac997e754",
    "time": "2021-02-06T22:44:57.373Z",
    "type": "completion"
   },
   {
    "id": "fc21542794344e2781ed7c8323668401",
    "time": "2021-02-06T22:44:57.444Z",
    "type": "completion"
   },
   {
    "id": "01693c63b3c54f879d46abdd5696ea35",
    "time": "2021-02-06T22:44:57.445Z",
    "type": "completion"
   },
   {
    "code": "#Array of losses over training period for each network\nfor net_num, shape in enumerate(network_shapes):\n    print('Network Shape:',flush = True)\n    print('Input Size = ' + str(shape[0]), flush = True)\n    print('Hidden Size = ' + str(shape[1]), flush = True)\n    print('Output Size = ' + str(shape[2]), flush = True)\n    NN = Neural_Network(inputSize = 3, outputSize = colors_num, hiddenSize = [3,3,3] , learning_rate = 0.001)\n\n    for i in range(num_iters):\n        #Calculating l1 error\n        error = NN.l1error(output_test, NN(input_test))\n        if i == 0: \n            dh = display(\"#\" + str(i) + \" Error: \" + str(error), display_id=True)\n        else:\n            dh.update(\"#\" + str(i) + \" Error: \" + str(error))\n            \n        NN.train(input_train, output_train)\n    #Saves the training results in a filed named \"Net 0\", \"Net 1\", etc. \n    NN.saveWeights(model = NN, path = \"saved_networks/Net \" + str(net_num));",
    "id": "04811196407b40048e92e59766e727ff",
    "idx": 10,
    "time": "2021-02-06T22:44:57.481Z",
    "type": "execution"
   },
   {
    "code": "for net_num, shape in enumerate(network_shapes):\n    print('Network Shape:',flush = True)\n    print('Input Size = ' + str(shape[0]), flush = True)\n    print('Hidden Size = ' + str(shape[1]), flush = True)\n    print('Output Size = ' + str(shape[2]), flush = True)\n    # Loading the network we trained in the prev. section\n    \n    NN = Neural_Network(inputSize = shape[0], outputSize = shape[2],\n                        hiddenSize = shape[1] , learning_rate = rate)\n    print(net_num)\n    NN.load_state_dict(torch.load(\"saved_networks/Net \" + str(net_num)))\n    \n    validation_error = NN.l1error(output_test, NN(input_test))\n    max_error = np.max(np.abs((output_test - NN(input_test)).detach().numpy()))\n    print(\"The validation error is: \" + str(validation_error), flush = True)  \n    print(\"The maximum error is:\" + str(max_error), flush = True)",
    "id": "5fcbbc9de1f3451b8c81b54e170f3d99",
    "idx": 11,
    "time": "2021-02-06T22:44:58.224Z",
    "type": "execution"
   },
   {
    "code": "node_num = range(1,25)\nlayer_num = range(1,4)\n\n\nshape_collection = []\n\ndef trickle(arr, iteration_left, check):\n    if iteration_left == 0:\n        global shape_collection\n        #running the int fxn to make sure we don't have floats\n        mp = map(int, arr)\n        x = list(mp)\n        if check == sum(x):\n            shape_collection.append(x)\n    else:\n        new_arr = [0]+ arr + [0]\n        #recursively expanding the list symmetrically\n        while new_arr[0] < new_arr[1]-2 and new_arr[-1] < new_arr[-2]-2:\n            new_arr[0] += 1\n            new_arr[1] -= 1\n            new_arr[-1] += 1\n            new_arr[-2] -= 1\n        trickle(new_arr, iteration_left - 1, check)\n\nfor node in node_num:\n    for layer in layer_num:\n        if node//layer < 3:\n            continue\n        if layer%2 == 0:\n            trickle([node/2, node/2], (layer-2)/2, node)\n        else:\n            trickle([node], (layer-1)/2, node)\n        \n        \n        \n        \n\nprint(shape_collection)",
    "id": "2d09069ca66742728f94f15c244e85cf",
    "idx": 12,
    "time": "2021-02-06T22:44:59.542Z",
    "type": "execution"
   },
   {
    "code": "#Number of training iterations\nnum_iters = 500\n\n#Listing out the shapes of each model\ncolors_num = len(chip_norm[0])\ninput_size = 3\n\nnetwork_shapes = []\nfor s in shape_collection:\n    network_shapes.append((input_size,s,colors_num))\n\n#Learning rate of the network\nrate = 0.001\n\n#Generating Training Data\ninput_train, output_train, input_test, output_test = 0, 0, 0, 0\ndef shuffle():\n    lab_train, lab_test, chip_train, chip_test = train_test_split(lab_norm, chip_norm, test_size=0.2, random_state = 3, shuffle = True)\n    #test run on whole dataset\n    #lab_train, lab_test = lab_norm, lab_norm\n    #chip_train, chip_test = chip_norm, chip_norm\n    \n    global input_train, output_train, input_test, output_test\n    input_train = torch.FloatTensor(lab_train)\n    output_train = torch.FloatTensor(chip_train)\n    input_test= torch.FloatTensor(lab_test)\n    output_test = torch.FloatTensor(chip_test)\n\nprint(network_shapes)",
    "id": "0fe8dc7016284b4f8380932c7b98392f",
    "idx": 13,
    "time": "2021-02-06T22:44:59.786Z",
    "type": "execution"
   },
   {
    "code": "#Array of losses over training period for each network\noutput_file = {}\nfor n in node_num:\n    output_file[n] = {}\n    \nfor net_num, shape in enumerate(network_shapes):\n    shuffle()\n    print(\"Training: \",shape)\n    NN = Neural_Network(inputSize = shape[0], outputSize = shape[2],\n                        hiddenSize = shape[1] , learning_rate = rate)\n    error_arr = []\n    prev_error = 0\n    strike = 0\n    \n    for i in range(num_iters):       \n        NN.train(input_train, output_train)\n        validation_error = NN.l1error(output_test, NN(input_test))\n        #zero mistake counter at new training\n        if i == 0:\n            strike = 0\n        #adding error to array\n        error_arr.append(validation_error)\n        #wait for them to grow up\n        if prev_error < validation_error and i > 100:\n            if strike > 3:\n                print(\"Complete at iteration \", i, \"\\nFinal error: \", validation_error, \"\\n\")\n                break\n            else:\n                strike += 1\n        prev_error = validation_error\n\n    #Saves the training results in a filed named \"Net 0\", \"Net 1\", etc. \n    NN.saveWeights(model = NN, path = \"saved_networks/Net \" + str(net_num))\n    output_file[sum(shape[1])][len(shape[1])] = error_arr",
    "id": "81206a89a4654a4cb6e7e785c66e9a56",
    "idx": 14,
    "time": "2021-02-06T22:45:00.167Z",
    "type": "execution"
   },
   {
    "id": "04811196407b40048e92e59766e727ff",
    "time": "2021-02-06T22:45:51.868Z",
    "type": "completion"
   },
   {
    "id": "5fcbbc9de1f3451b8c81b54e170f3d99",
    "time": "2021-02-06T22:45:51.869Z",
    "type": "completion"
   },
   {
    "id": "2d09069ca66742728f94f15c244e85cf",
    "time": "2021-02-06T22:45:51.870Z",
    "type": "completion"
   },
   {
    "id": "0fe8dc7016284b4f8380932c7b98392f",
    "time": "2021-02-06T22:45:51.871Z",
    "type": "completion"
   },
   {
    "id": "81206a89a4654a4cb6e7e785c66e9a56",
    "time": "2021-02-06T22:45:51.875Z",
    "type": "completion"
   },
   {
    "code": "node_num = range(1,25)\nlayer_num = range(1,4)\n\n\nshape_collection = []\n\ndef trickle(arr, iteration_left, check):\n    if iteration_left == 0:\n        global shape_collection\n        #running the int fxn to make sure we don't have floats\n        mp = map(int, arr)\n        x = list(mp)\n        if check == sum(x):\n            shape_collection.append(x)\n    else:\n        new_arr = [0]+ arr + [0]\n        #recursively expanding the list symmetrically\n        while new_arr[0] < new_arr[1]-2 and new_arr[-1] < new_arr[-2]-2:\n            new_arr[0] += 1\n            new_arr[1] -= 1\n            new_arr[-1] += 1\n            new_arr[-2] -= 1\n        trickle(new_arr, iteration_left - 1, check)\n\nfor node in node_num:\n    for layer in layer_num:\n        if node//layer < 3:\n            continue\n        if layer%2 == 0:\n            trickle([node/2, node/2], (layer-2)/2, node)\n        else:\n            trickle([node], (layer-1)/2, node)\n        \n        \n        \n        \n\nprint(shape_collection)",
    "id": "2d09069ca66742728f94f15c244e85cf",
    "idx": 12,
    "time": "2021-02-06T22:46:01.870Z",
    "type": "execution"
   },
   {
    "id": "2d09069ca66742728f94f15c244e85cf",
    "time": "2021-02-06T22:46:01.938Z",
    "type": "completion"
   },
   {
    "code": "#Number of training iterations\nnum_iters = 500\n\n#Listing out the shapes of each model\ncolors_num = len(chip_norm[0])\ninput_size = 3\n\nnetwork_shapes = []\nfor s in shape_collection:\n    network_shapes.append((input_size,s,colors_num))\n\n#Learning rate of the network\nrate = 0.001\n\n#Generating Training Data\ninput_train, output_train, input_test, output_test = 0, 0, 0, 0\ndef shuffle():\n    lab_train, lab_test, chip_train, chip_test = train_test_split(lab_norm, chip_norm, test_size=0.2, random_state = 3, shuffle = True)\n    #test run on whole dataset\n    #lab_train, lab_test = lab_norm, lab_norm\n    #chip_train, chip_test = chip_norm, chip_norm\n    \n    global input_train, output_train, input_test, output_test\n    input_train = torch.FloatTensor(lab_train)\n    output_train = torch.FloatTensor(chip_train)\n    input_test= torch.FloatTensor(lab_test)\n    output_test = torch.FloatTensor(chip_test)\n\nprint(network_shapes)",
    "id": "0fe8dc7016284b4f8380932c7b98392f",
    "idx": 13,
    "time": "2021-02-06T22:46:02.509Z",
    "type": "execution"
   },
   {
    "id": "0fe8dc7016284b4f8380932c7b98392f",
    "time": "2021-02-06T22:46:02.561Z",
    "type": "completion"
   },
   {
    "code": "#Array of losses over training period for each network\noutput_file = {}\nfor n in node_num:\n    output_file[n] = {}\n    \nfor net_num, shape in enumerate(network_shapes):\n    shuffle()\n    print(\"Training: \",shape)\n    NN = Neural_Network(inputSize = shape[0], outputSize = shape[2],\n                        hiddenSize = shape[1] , learning_rate = rate)\n    error_arr = []\n    prev_error = 0\n    strike = 0\n    \n    for i in range(num_iters):       \n        NN.train(input_train, output_train)\n        validation_error = NN.l1error(output_test, NN(input_test))\n        #zero mistake counter at new training\n        if i == 0:\n            strike = 0\n        #adding error to array\n        error_arr.append(validation_error)\n        #wait for them to grow up\n        if prev_error < validation_error and i > 100:\n            if strike > 3:\n                print(\"Complete at iteration \", i, \"\\nFinal error: \", validation_error, \"\\n\")\n                break\n            else:\n                strike += 1\n        prev_error = validation_error\n\n    #Saves the training results in a filed named \"Net 0\", \"Net 1\", etc. \n    NN.saveWeights(model = NN, path = \"saved_networks/Net \" + str(net_num))\n    output_file[sum(shape[1])][len(shape[1])] = error_arr",
    "id": "81206a89a4654a4cb6e7e785c66e9a56",
    "idx": 14,
    "time": "2021-02-06T22:46:03.018Z",
    "type": "execution"
   },
   {
    "code": "# #Array of losses over training period for each network\n# for net_num, shape in enumerate(network_shapes):\n#     print('Network Shape:',flush = True)\n#     print('Input Size = ' + str(shape[0]), flush = True)\n#     print('Hidden Size = ' + str(shape[1]), flush = True)\n#     print('Output Size = ' + str(shape[2]), flush = True)\n#     NN = Neural_Network(inputSize = 3, outputSize = colors_num, hiddenSize = [3,3,3] , learning_rate = 0.001)\n\n#     for i in range(num_iters):\n#         #Calculating l1 error\n#         error = NN.l1error(output_test, NN(input_test))\n#         if i == 0: \n#             dh = display(\"#\" + str(i) + \" Error: \" + str(error), display_id=True)\n#         else:\n#             dh.update(\"#\" + str(i) + \" Error: \" + str(error))\n            \n#         NN.train(input_train, output_train)\n#     #Saves the training results in a filed named \"Net 0\", \"Net 1\", etc. \n#     NN.saveWeights(model = NN, path = \"saved_networks/Net \" + str(net_num));",
    "id": "04811196407b40048e92e59766e727ff",
    "idx": 10,
    "time": "2021-02-06T22:46:39.071Z",
    "type": "execution"
   }
  ],
  "kernelspec": {
   "name": "python383jvsc74a57bd085231b2a2a40d6888275e65a2a73d52a2f5259839c8ea555e973cdffb6999b85",
   "display_name": "Python 3.8.3 64-bit (conda)"
  },
  "language_info": {
   "codemirror_mode": {
    "name": "ipython",
    "version": 3
   },
   "file_extension": ".py",
   "mimetype": "text/x-python",
   "name": "python",
   "nbconvert_exporter": "python",
   "pygments_lexer": "ipython3",
   "version": "3.8.3"
  },
  "varInspector": {
   "cols": {
    "lenName": 16,
    "lenType": 16,
    "lenVar": 40
   },
   "kernels_config": {
    "python": {
     "delete_cmd_postfix": "",
     "delete_cmd_prefix": "del ",
     "library": "var_list.py",
     "varRefreshCmd": "print(var_dic_list())"
    },
    "r": {
     "delete_cmd_postfix": ") ",
     "delete_cmd_prefix": "rm(",
     "library": "var_list.r",
     "varRefreshCmd": "cat(var_dic_list()) "
    }
   },
   "position": {
    "height": "277px",
    "left": "1061px",
    "right": "20px",
    "top": "120px",
    "width": "350px"
   },
   "types_to_exclude": [
    "module",
    "function",
    "builtin_function_or_method",
    "instance",
    "_Feature"
   ],
   "window_display": false
  }
 },
 "nbformat": 4,
 "nbformat_minor": 2
}