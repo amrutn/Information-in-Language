{
 "cells": [
  {
   "cell_type": "code",
   "execution_count": 2,
   "metadata": {},
   "outputs": [],
   "source": [
    "import sys\n",
    "import math\n",
    "import numpy as np\n",
    "import json\n",
    "sys.path.insert(0, '..')\n",
    "from net_framework import *\n",
    "from sklearn.model_selection import train_test_split\n",
    "import matplotlib.pyplot as plt\n",
    "import pandas as pd"
   ]
  },
  {
   "cell_type": "markdown",
   "metadata": {},
   "source": [
    "### Formatting Data"
   ]
  },
  {
   "cell_type": "code",
   "execution_count": 5,
   "metadata": {},
   "outputs": [
    {
     "output_type": "execute_result",
     "data": {
      "text/plain": [
       "   #Lnum  #snum  #cnum Term Abbrev\n",
       "0      1      1      1          LB\n",
       "1      1      1      2          LB\n",
       "2      1      1      3          LE\n",
       "3      1      1      4          WK\n",
       "4      1      1      5          LF"
      ],
      "text/html": "<div>\n<style scoped>\n    .dataframe tbody tr th:only-of-type {\n        vertical-align: middle;\n    }\n\n    .dataframe tbody tr th {\n        vertical-align: top;\n    }\n\n    .dataframe thead th {\n        text-align: right;\n    }\n</style>\n<table border=\"1\" class=\"dataframe\">\n  <thead>\n    <tr style=\"text-align: right;\">\n      <th></th>\n      <th>#Lnum</th>\n      <th>#snum</th>\n      <th>#cnum</th>\n      <th>Term Abbrev</th>\n    </tr>\n  </thead>\n  <tbody>\n    <tr>\n      <th>0</th>\n      <td>1</td>\n      <td>1</td>\n      <td>1</td>\n      <td>LB</td>\n    </tr>\n    <tr>\n      <th>1</th>\n      <td>1</td>\n      <td>1</td>\n      <td>2</td>\n      <td>LB</td>\n    </tr>\n    <tr>\n      <th>2</th>\n      <td>1</td>\n      <td>1</td>\n      <td>3</td>\n      <td>LE</td>\n    </tr>\n    <tr>\n      <th>3</th>\n      <td>1</td>\n      <td>1</td>\n      <td>4</td>\n      <td>WK</td>\n    </tr>\n    <tr>\n      <th>4</th>\n      <td>1</td>\n      <td>1</td>\n      <td>5</td>\n      <td>LF</td>\n    </tr>\n  </tbody>\n</table>\n</div>"
     },
     "metadata": {},
     "execution_count": 5
    }
   ],
   "source": [
    "term_data = pd.read_csv('term.txt', sep=\"\\t\", header=None)\n",
    "term_data.columns = [\"#Lnum\", \"#snum\", \"#cnum\", \"Term Abbrev\"]\n",
    "term_data.head()"
   ]
  },
  {
   "cell_type": "code",
   "execution_count": 6,
   "metadata": {},
   "outputs": [
    {
     "output_type": "execute_result",
     "data": {
      "text/plain": [
       "array([  1,   2,   3,   4,   5,   6,   7,   8,   9,  10,  11,  12,  13,\n",
       "        14,  15,  16,  17,  18,  19,  20,  21,  22,  23,  24,  25,  26,\n",
       "        27,  28,  29,  30,  31,  32,  33,  34,  35,  36,  37,  38,  39,\n",
       "        40,  41,  42,  43,  44,  45,  46,  47,  48,  49,  50,  51,  52,\n",
       "        53,  54,  55,  56,  57,  58,  59,  60,  61,  62,  63,  64,  65,\n",
       "        66,  67,  68,  69,  70,  71,  72,  73,  74,  75,  76,  77,  78,\n",
       "        79,  80,  81,  82,  83,  84,  85,  86,  87,  88,  89,  90,  91,\n",
       "        92,  93,  94,  95,  96,  97,  98,  99, 100, 101, 102, 103, 104,\n",
       "       105, 106, 107, 108, 109, 110])"
      ]
     },
     "metadata": {},
     "execution_count": 6
    }
   ],
   "source": [
    "term_data['#Lnum'].unique()"
   ]
  },
  {
   "cell_type": "code",
<<<<<<< Updated upstream
   "execution_count": 7,
=======
   "execution_count": 4,
   "metadata": {},
   "outputs": [
    {
     "output_type": "display_data",
     "data": {
      "text/plain": "   #cnum  Normalized-L  Normalized-a  Normalized-b\n0    141      0.853205     -0.025675     -0.138822\n1    274      0.747664     -0.025504     -0.138822\n2    129      0.747664      0.070445     -0.106039\n3    230      0.747664      0.070101     -0.089951\n4    302      0.747664      0.070617     -0.072041",
      "text/html": "<div>\n<style scoped>\n    .dataframe tbody tr th:only-of-type {\n        vertical-align: middle;\n    }\n\n    .dataframe tbody tr th {\n        vertical-align: top;\n    }\n\n    .dataframe thead th {\n        text-align: right;\n    }\n</style>\n<table border=\"1\" class=\"dataframe\">\n  <thead>\n    <tr style=\"text-align: right;\">\n      <th></th>\n      <th>#cnum</th>\n      <th>Normalized-L</th>\n      <th>Normalized-a</th>\n      <th>Normalized-b</th>\n    </tr>\n  </thead>\n  <tbody>\n    <tr>\n      <th>0</th>\n      <td>141</td>\n      <td>0.853205</td>\n      <td>-0.025675</td>\n      <td>-0.138822</td>\n    </tr>\n    <tr>\n      <th>1</th>\n      <td>274</td>\n      <td>0.747664</td>\n      <td>-0.025504</td>\n      <td>-0.138822</td>\n    </tr>\n    <tr>\n      <th>2</th>\n      <td>129</td>\n      <td>0.747664</td>\n      <td>0.070445</td>\n      <td>-0.106039</td>\n    </tr>\n    <tr>\n      <th>3</th>\n      <td>230</td>\n      <td>0.747664</td>\n      <td>0.070101</td>\n      <td>-0.089951</td>\n    </tr>\n    <tr>\n      <th>4</th>\n      <td>302</td>\n      <td>0.747664</td>\n      <td>0.070617</td>\n      <td>-0.072041</td>\n    </tr>\n  </tbody>\n</table>\n</div>"
     },
     "metadata": {}
    },
    {
     "output_type": "display_data",
     "data": {
      "text/plain": "     #cnum  Normalized-L  Normalized-a  Normalized-b\n0      141      0.853205     -0.025675     -0.138822\n1      274      0.747664     -0.025504     -0.138822\n2      129      0.747664      0.070445     -0.106039\n3      230      0.747664      0.070101     -0.089951\n4      302      0.747664      0.070617     -0.072041\n..     ...           ...           ...           ...\n325    305     -0.765518      0.567556     -0.362691\n326    267     -0.765518      0.584752     -0.297579\n327    243     -0.765518      0.593865     -0.235807\n328    182     -0.765518      0.601603     -0.171302\n329     89     -0.871488     -0.024988     -0.139429\n\n[330 rows x 4 columns]",
      "text/html": "<div>\n<style scoped>\n    .dataframe tbody tr th:only-of-type {\n        vertical-align: middle;\n    }\n\n    .dataframe tbody tr th {\n        vertical-align: top;\n    }\n\n    .dataframe thead th {\n        text-align: right;\n    }\n</style>\n<table border=\"1\" class=\"dataframe\">\n  <thead>\n    <tr style=\"text-align: right;\">\n      <th></th>\n      <th>#cnum</th>\n      <th>Normalized-L</th>\n      <th>Normalized-a</th>\n      <th>Normalized-b</th>\n    </tr>\n  </thead>\n  <tbody>\n    <tr>\n      <th>0</th>\n      <td>141</td>\n      <td>0.853205</td>\n      <td>-0.025675</td>\n      <td>-0.138822</td>\n    </tr>\n    <tr>\n      <th>1</th>\n      <td>274</td>\n      <td>0.747664</td>\n      <td>-0.025504</td>\n      <td>-0.138822</td>\n    </tr>\n    <tr>\n      <th>2</th>\n      <td>129</td>\n      <td>0.747664</td>\n      <td>0.070445</td>\n      <td>-0.106039</td>\n    </tr>\n    <tr>\n      <th>3</th>\n      <td>230</td>\n      <td>0.747664</td>\n      <td>0.070101</td>\n      <td>-0.089951</td>\n    </tr>\n    <tr>\n      <th>4</th>\n      <td>302</td>\n      <td>0.747664</td>\n      <td>0.070617</td>\n      <td>-0.072041</td>\n    </tr>\n    <tr>\n      <th>...</th>\n      <td>...</td>\n      <td>...</td>\n      <td>...</td>\n      <td>...</td>\n    </tr>\n    <tr>\n      <th>325</th>\n      <td>305</td>\n      <td>-0.765518</td>\n      <td>0.567556</td>\n      <td>-0.362691</td>\n    </tr>\n    <tr>\n      <th>326</th>\n      <td>267</td>\n      <td>-0.765518</td>\n      <td>0.584752</td>\n      <td>-0.297579</td>\n    </tr>\n    <tr>\n      <th>327</th>\n      <td>243</td>\n      <td>-0.765518</td>\n      <td>0.593865</td>\n      <td>-0.235807</td>\n    </tr>\n    <tr>\n      <th>328</th>\n      <td>182</td>\n      <td>-0.765518</td>\n      <td>0.601603</td>\n      <td>-0.171302</td>\n    </tr>\n    <tr>\n      <th>329</th>\n      <td>89</td>\n      <td>-0.871488</td>\n      <td>-0.024988</td>\n      <td>-0.139429</td>\n    </tr>\n  </tbody>\n</table>\n<p>330 rows × 4 columns</p>\n</div>"
     },
     "metadata": {}
    }
   ],
   "source": [
    "cnum_data = pd.read_csv('cnum-vhcm-lab-new.txt', sep=\"\\t\")\n",
    "locations = cnum_data[['#cnum']]\n",
    "locations['Normalized-L'] = (cnum_data['L*'] - cnum_data['L*'].mean())/(cnum_data['L*'] - cnum_data['L*'].mean()).std() * 1/2\n",
    "locations['Normalized-a'] = (cnum_data['a*'] - cnum_data['a*'].mean())/(cnum_data['a*'] - cnum_data['a*'].mean()).std() * 1/2\n",
    "locations['Normalized-b'] = (cnum_data['b*'] - cnum_data['b*'].mean())/(cnum_data['b*'] - cnum_data['b*'].mean()).std() * 1/2\n",
    "display(locations.head(5))\n",
    "display(locations)"
   ]
  },
  {
   "cell_type": "code",
   "execution_count": 5,
>>>>>>> Stashed changes
   "metadata": {},
   "outputs": [],
   "source": [
    "# debug1 = cnum_data.loc[:, ['#cnum', 'L*', 'a*', 'b*']]\n",
    "# debug1['L*'] = (debug1['L*'] - debug1['L*'].mean()) / debug1['L*'].std()\n",
    "# debug1"
   ]
  },
  {
   "cell_type": "code",
   "execution_count": 6,
   "metadata": {},
   "outputs": [],
   "source": [
    "locations = locations.sort_values('#cnum')\n",
    "chip_num = list(locations['#cnum'])\n",
    "lab_norm = [[row[2], row[3], row[4]] for row in locations.itertuples()]\n",
    "# print(lab_norm)"
   ]
  },
  {
   "cell_type": "code",
   "execution_count": 7,
   "metadata": {},
   "outputs": [],
   "source": [
    "# #Neural Network Shape Test\n",
    "# NNtest = Neural_Network(inputSize = 3, outputSize = 9, hiddenSize = [3,3,3] , learning_rate = 0.001)\n",
    "# NNtest(torch.FloatTensor([[1, 1, 1], [1, 1, 1]]))\n"
   ]
  },
  {
   "cell_type": "code",
   "execution_count": 8,
   "metadata": {},
   "outputs": [
    {
     "output_type": "display_data",
     "data": {
      "text/plain": "#cnum\n1      [LB, LB, F, LB, LF, G, G, G, G, G, F, LB, G, G...\n2      [LB, F, F, LF, F, F, G, WK, F, F, FU, LF, F, F...\n3      [LE, LE, WK, LE, LE, LE, LE, LE, LE, LE, LE, L...\n4      [WK, WK, LB, WK, WK, WK, S, WK, LB, S, WK, F, ...\n5      [LF, F, F, LF, LF, F, G, F, F, F, LF, LF, F, F...\n                             ...                        \n326    [WK, WK, LE, LE, LE, WK, F, WK, S, WK, WK, S, ...\n327    [LF, F, LF, LF, LF, LF, G, F, LF, LF, LF, LF, ...\n328    [G, LB, S, LB, LB, LB, LB, G, S, LB, LB, LB, G...\n329    [WK, WK, F, WK, LE, LE, S, WK, WK, F, S, LB, W...\n330    [LF, F, LF, LF, LF, LF, LF, F, F, LF, LF, LF, ...\nName: Term Abbrev, Length: 330, dtype: object"
     },
     "metadata": {}
    }
   ],
   "source": [
    "l1 = term_data[term_data.get('#Lnum').eq(1)]\n",
    "unique_symbols = list(l1['Term Abbrev'].unique())\n",
    "l1_grouped = l1.groupby('#cnum')['Term Abbrev'].apply(list)\n",
    "display(l1_grouped)\n",
    "l1_chip_abbrev_percentage = [[(l1_grouped[i + 1].count(abbrev) / len(l1_grouped[i + 1])) \\\n",
    "                              for abbrev in unique_symbols] for i in range(len(l1_grouped))]\n",
    "#display(l1_chip_abbrev_percentage)"
   ]
  },
  {
   "cell_type": "code",
   "execution_count": 9,
   "metadata": {},
   "outputs": [
    {
     "output_type": "stream",
     "name": "stdout",
     "text": [
      "         LB    LE    WK    LF     F     G     S   GB    FU\n#cnum                                                     \n1      0.36  0.00  0.00  0.04  0.08  0.52  0.00  0.0  0.00\n2      0.12  0.00  0.04  0.12  0.60  0.04  0.00  0.0  0.08\n3      0.00  0.96  0.04  0.00  0.00  0.00  0.00  0.0  0.00\n4      0.28  0.00  0.40  0.00  0.08  0.04  0.20  0.0  0.00\n5      0.04  0.00  0.00  0.20  0.68  0.08  0.00  0.0  0.00\n...     ...   ...   ...   ...   ...   ...   ...  ...   ...\n326    0.08  0.20  0.36  0.00  0.20  0.00  0.12  0.0  0.04\n327    0.04  0.00  0.00  0.68  0.20  0.04  0.04  0.0  0.00\n328    0.64  0.00  0.08  0.00  0.00  0.20  0.08  0.0  0.00\n329    0.08  0.08  0.40  0.00  0.12  0.00  0.28  0.0  0.04\n330    0.04  0.00  0.00  0.72  0.24  0.00  0.00  0.0  0.00\n\n[330 rows x 9 columns]\n"
     ]
    }
   ],
   "source": [
    "l1_result = pd.DataFrame(l1_chip_abbrev_percentage)\n",
    "l1_result.index += 1\n",
    "l1_result.index.name = '#cnum'\n",
    "l1_result.columns = unique_symbols\n",
    "print(l1_result)\n",
    "chip_norm = []\n",
    "#pull the percentage for each cnum\n",
    "for x in chip_num:\n",
    "#     chip_norm.append((l1_result.loc[l1[\"#cnum\"]==x]).values.tolist()[0])\n",
    "    chip_norm.append(l1_result.loc[x,:].values.tolist())\n",
    "#display(chip_norm)"
   ]
  },
  {
   "cell_type": "markdown",
   "metadata": {},
   "source": [
    "### Defining Network Shapes"
   ]
  },
  {
   "cell_type": "code",
   "execution_count": 10,
   "metadata": {},
   "outputs": [
    {
     "output_type": "stream",
     "name": "stdout",
     "text": [
      "[[1], [2], [3], [4], [5], [6], [3, 3], [7], [8], [4, 4], [9], [3, 3, 3], [10], [5, 5], [3, 4, 3], [11], [3, 5, 3], [12], [6, 6], [4, 4, 4], [13], [4, 5, 4], [14], [7, 7], [4, 6, 4], [15], [5, 5, 5], [16], [8, 8], [5, 6, 5], [17], [5, 7, 5], [18], [9, 9], [6, 6, 6], [19], [6, 7, 6], [20], [10, 10], [6, 8, 6], [21], [7, 7, 7], [22], [11, 11], [7, 8, 7], [23], [7, 9, 7], [24], [12, 12], [8, 8, 8]]\n"
     ]
    }
   ],
   "source": [
    "node_num = range(1,25)\n",
    "layer_num = range(1,4)\n",
    "\n",
    "\n",
    "shape_collection = []\n",
    "for node in node_num:\n",
    "    if node < 3:\n",
    "        shape_collection.append([node])\n",
    "\n",
    "def trickle(arr, iteration_left, check):\n",
    "    if iteration_left == 0:\n",
    "        global shape_collection\n",
    "        #running the int fxn to make sure we don't have floats\n",
    "        mp = map(int, arr)\n",
    "        x = list(mp)\n",
    "        if check == sum(x):\n",
    "            shape_collection.append(x)\n",
    "    else:\n",
    "        new_arr = [0]+ arr + [0]\n",
    "        #recursively expanding the list symmetrically\n",
    "        while new_arr[0] < new_arr[1]-2 and new_arr[-1] < new_arr[-2]-2:\n",
    "            new_arr[0] += 1\n",
    "            new_arr[1] -= 1\n",
    "            new_arr[-1] += 1\n",
    "            new_arr[-2] -= 1\n",
    "        trickle(new_arr, iteration_left - 1, check)\n",
    "\n",
    "for node in node_num:\n",
    "    for layer in layer_num:\n",
    "        if node//layer < 3:\n",
    "            continue\n",
    "        if layer%2 == 0:\n",
    "            trickle([node/2, node/2], (layer-2)/2, node)\n",
    "        else:\n",
    "            trickle([node], (layer-1)/2, node)      \n",
    "\n",
    "print(shape_collection)\n"
   ]
  },
  {
   "cell_type": "markdown",
   "metadata": {},
   "source": [
    "### Training Network"
   ]
  },
  {
   "cell_type": "code",
   "execution_count": 11,
   "metadata": {},
   "outputs": [
    {
     "output_type": "stream",
     "name": "stdout",
     "text": [
      "[(3, [1], 9), (3, [2], 9), (3, [3], 9), (3, [4], 9), (3, [5], 9), (3, [6], 9), (3, [3, 3], 9), (3, [7], 9), (3, [8], 9), (3, [4, 4], 9), (3, [9], 9), (3, [3, 3, 3], 9), (3, [10], 9), (3, [5, 5], 9), (3, [3, 4, 3], 9), (3, [11], 9), (3, [3, 5, 3], 9), (3, [12], 9), (3, [6, 6], 9), (3, [4, 4, 4], 9), (3, [13], 9), (3, [4, 5, 4], 9), (3, [14], 9), (3, [7, 7], 9), (3, [4, 6, 4], 9), (3, [15], 9), (3, [5, 5, 5], 9), (3, [16], 9), (3, [8, 8], 9), (3, [5, 6, 5], 9), (3, [17], 9), (3, [5, 7, 5], 9), (3, [18], 9), (3, [9, 9], 9), (3, [6, 6, 6], 9), (3, [19], 9), (3, [6, 7, 6], 9), (3, [20], 9), (3, [10, 10], 9), (3, [6, 8, 6], 9), (3, [21], 9), (3, [7, 7, 7], 9), (3, [22], 9), (3, [11, 11], 9), (3, [7, 8, 7], 9), (3, [23], 9), (3, [7, 9, 7], 9), (3, [24], 9), (3, [12, 12], 9), (3, [8, 8, 8], 9)]\n"
     ]
    }
   ],
   "source": [
    "\n",
    "#Number of training iterations\n",
    "num_iters = 1000\n",
    "\n",
    "#Listing out the shapes of each model\n",
    "colors_num = len(chip_norm[0])\n",
    "input_size = 3\n",
    "\n",
    "network_shapes = []\n",
    "for s in shape_collection:\n",
    "    network_shapes.append((input_size,s,colors_num))\n",
    "\n",
    "#Learning rate of the network\n",
    "rate = 0.001\n",
    "\n",
    "#Generating Training Data\n",
    "def shuffle(lab_norm, chip_norm):\n",
    "    '''\n",
    "    Applying train-test split\n",
    "    '''\n",
    "    lab_train, lab_test, chip_train, chip_test = train_test_split(lab_norm, chip_norm, test_size=0.2, shuffle = True)\n",
    "    input_train = torch.FloatTensor(lab_train)\n",
    "    output_train = torch.FloatTensor(chip_train)\n",
    "    input_test= torch.FloatTensor(lab_test)\n",
    "    output_test = torch.FloatTensor(chip_test)\n",
    "    return input_train, output_train, input_test, output_test\n",
    "\n",
    "print(network_shapes)"
   ]
  },
  {
   "cell_type": "code",
   "execution_count": 12,
   "metadata": {
    "scrolled": true
   },
   "outputs": [
    {
     "output_type": "stream",
     "name": "stdout",
     "text": [
      "Training:  (3, [1], 9)\nRun 1\n"
     ]
    },
    {
     "output_type": "display_data",
     "data": {
      "text/plain": "'#0 Validation Error: 0.3865947723388672'"
     },
     "metadata": {}
    },
    {
     "output_type": "stream",
     "name": "stdout",
     "text": [
      "Training:  (3, [2], 9)\nRun 1\n"
     ]
    },
    {
     "output_type": "display_data",
     "data": {
      "text/plain": "'#0 Validation Error: 0.2841513156890869'"
     },
     "metadata": {}
    },
    {
     "output_type": "stream",
     "name": "stdout",
     "text": [
      "Training:  (3, [3], 9)\nRun 1\n"
     ]
    },
    {
     "output_type": "display_data",
     "data": {
      "text/plain": "'#0 Validation Error: 0.31068646907806396'"
     },
     "metadata": {}
    },
    {
     "output_type": "stream",
     "name": "stdout",
     "text": [
      "Training:  (3, [4], 9)\nRun 1\n"
     ]
    },
    {
     "output_type": "display_data",
     "data": {
      "text/plain": "'#0 Validation Error: 0.30843228101730347'"
     },
     "metadata": {}
    },
    {
     "output_type": "stream",
     "name": "stdout",
     "text": [
      "Training:  (3, [5], 9)\nRun 1\n"
     ]
    },
    {
     "output_type": "display_data",
     "data": {
      "text/plain": "'#0 Validation Error: 0.3348727524280548'"
     },
     "metadata": {}
    },
    {
     "output_type": "stream",
     "name": "stdout",
     "text": [
      "Training:  (3, [6], 9)\nRun 1\n"
     ]
    },
    {
     "output_type": "display_data",
     "data": {
      "text/plain": "'#0 Validation Error: 0.3053096532821655'"
     },
     "metadata": {}
    },
    {
     "output_type": "stream",
     "name": "stdout",
     "text": [
      "Training:  (3, [3, 3], 9)\nRun 1\n"
     ]
    },
    {
     "output_type": "display_data",
     "data": {
      "text/plain": "'#0 Validation Error: 0.29204899072647095'"
     },
     "metadata": {}
    },
    {
     "output_type": "stream",
     "name": "stdout",
     "text": [
      "Complete at iteration  881 \nFinal error:  0.049535345286130905 \n\nTraining:  (3, [7], 9)\nRun 1\n"
     ]
    },
    {
     "output_type": "display_data",
     "data": {
      "text/plain": "'#0 Validation Error: 0.2927997410297394'"
     },
     "metadata": {}
    },
    {
     "output_type": "stream",
     "name": "stdout",
     "text": [
      "Training:  (3, [8], 9)\nRun 1\n"
     ]
    },
    {
     "output_type": "display_data",
     "data": {
      "text/plain": "'#0 Validation Error: 0.24108336865901947'"
     },
     "metadata": {}
    },
    {
     "output_type": "stream",
     "name": "stdout",
     "text": [
      "Complete at iteration  702 \nFinal error:  0.038193412125110626 \n\nTraining:  (3, [4, 4], 9)\nRun 1\n"
     ]
    },
    {
     "output_type": "display_data",
     "data": {
      "text/plain": "'#0 Validation Error: 0.30051758885383606'"
     },
     "metadata": {}
    },
    {
     "output_type": "stream",
     "name": "stdout",
     "text": [
      "Complete at iteration  868 \nFinal error:  0.0440383180975914 \n\nTraining:  (3, [9], 9)\nRun 1\n"
     ]
    },
    {
     "output_type": "display_data",
     "data": {
      "text/plain": "'#0 Validation Error: 0.25448787212371826'"
     },
     "metadata": {}
    },
    {
     "output_type": "stream",
     "name": "stdout",
     "text": [
      "Complete at iteration  866 \nFinal error:  0.03648275136947632 \n\nTraining:  (3, [3, 3, 3], 9)\nRun 1\n"
     ]
    },
    {
     "output_type": "display_data",
     "data": {
      "text/plain": "'#0 Validation Error: 0.21520723402500153'"
     },
     "metadata": {}
    },
    {
     "output_type": "stream",
     "name": "stdout",
     "text": [
      "Complete at iteration  260 \nFinal error:  0.05471344664692879 \n\nTraining:  (3, [10], 9)\nRun 1\n"
     ]
    },
    {
     "output_type": "display_data",
     "data": {
      "text/plain": "'#0 Validation Error: 0.25125858187675476'"
     },
     "metadata": {}
    },
    {
     "output_type": "stream",
     "name": "stdout",
     "text": [
      "Complete at iteration  444 \nFinal error:  0.03309405595064163 \n\nTraining:  (3, [5, 5], 9)\nRun 1\n"
     ]
    },
    {
     "output_type": "display_data",
     "data": {
      "text/plain": "'#0 Validation Error: 0.20305535197257996'"
     },
     "metadata": {}
    },
    {
     "output_type": "stream",
     "name": "stdout",
     "text": [
      "Complete at iteration  632 \nFinal error:  0.04672139510512352 \n\nTraining:  (3, [3, 4, 3], 9)\nRun 1\n"
     ]
    },
    {
     "output_type": "display_data",
     "data": {
      "text/plain": "'#0 Validation Error: 0.2690266966819763'"
     },
     "metadata": {}
    },
    {
     "output_type": "stream",
     "name": "stdout",
     "text": [
      "Training:  (3, [11], 9)\nRun 1\n"
     ]
    },
    {
     "output_type": "display_data",
     "data": {
      "text/plain": "'#0 Validation Error: 0.25156229734420776'"
     },
     "metadata": {}
    },
    {
     "output_type": "stream",
     "name": "stdout",
     "text": [
      "Training:  (3, [3, 5, 3], 9)\nRun 1\n"
     ]
    },
    {
     "output_type": "display_data",
     "data": {
      "text/plain": "'#0 Validation Error: 0.2585994303226471'"
     },
     "metadata": {}
    },
    {
     "output_type": "stream",
     "name": "stdout",
     "text": [
      "Training:  (3, [12], 9)\nRun 1\n"
     ]
    },
    {
     "output_type": "display_data",
     "data": {
      "text/plain": "'#0 Validation Error: 0.20053644478321075'"
     },
     "metadata": {}
    },
    {
     "output_type": "stream",
     "name": "stdout",
     "text": [
      "Training:  (3, [6, 6], 9)\nRun 1\n"
     ]
    },
    {
     "output_type": "display_data",
     "data": {
      "text/plain": "'#0 Validation Error: 0.18698692321777344'"
     },
     "metadata": {}
    },
    {
     "output_type": "stream",
     "name": "stdout",
     "text": [
      "Training:  (3, [4, 4, 4], 9)\nRun 1\n"
     ]
    },
    {
     "output_type": "display_data",
     "data": {
      "text/plain": "'#0 Validation Error: 0.17822004854679108'"
     },
     "metadata": {}
    },
    {
     "output_type": "stream",
     "name": "stdout",
     "text": [
      "Training:  (3, [13], 9)\nRun 1\n"
     ]
    },
    {
     "output_type": "display_data",
     "data": {
      "text/plain": "'#0 Validation Error: 0.22916147112846375'"
     },
     "metadata": {}
    },
    {
     "output_type": "stream",
     "name": "stdout",
     "text": [
      "Complete at iteration  495 \nFinal error:  0.036830902099609375 \n\nTraining:  (3, [4, 5, 4], 9)\nRun 1\n"
     ]
    },
    {
     "output_type": "display_data",
     "data": {
      "text/plain": "'#0 Validation Error: 0.2885149121284485'"
     },
     "metadata": {}
    },
    {
     "output_type": "stream",
     "name": "stdout",
     "text": [
      "Complete at iteration  384 \nFinal error:  0.041127461940050125 \n\nTraining:  (3, [14], 9)\nRun 1\n"
     ]
    },
    {
     "output_type": "display_data",
     "data": {
      "text/plain": "'#0 Validation Error: 0.22256213426589966'"
     },
     "metadata": {}
    },
    {
     "output_type": "stream",
     "name": "stdout",
     "text": [
      "Complete at iteration  598 \nFinal error:  0.033511143177747726 \n\nTraining:  (3, [7, 7], 9)\nRun 1\n"
     ]
    },
    {
     "output_type": "display_data",
     "data": {
      "text/plain": "'#0 Validation Error: 0.16951271891593933'"
     },
     "metadata": {}
    },
    {
     "output_type": "stream",
     "name": "stdout",
     "text": [
      "Training:  (3, [4, 6, 4], 9)\nRun 1\n"
     ]
    },
    {
     "output_type": "display_data",
     "data": {
      "text/plain": "'#0 Validation Error: 0.2623329162597656'"
     },
     "metadata": {}
    },
    {
     "output_type": "stream",
     "name": "stdout",
     "text": [
      "Training:  (3, [15], 9)\nRun 1\n"
     ]
    },
    {
     "output_type": "display_data",
     "data": {
      "text/plain": "'#0 Validation Error: 0.2063700258731842'"
     },
     "metadata": {}
    },
    {
     "output_type": "stream",
     "name": "stdout",
     "text": [
      "Training:  (3, [5, 5, 5], 9)\nRun 1\n"
     ]
    },
    {
     "output_type": "display_data",
     "data": {
      "text/plain": "'#0 Validation Error: 0.19921040534973145'"
     },
     "metadata": {}
    },
    {
     "output_type": "stream",
     "name": "stdout",
     "text": [
      "Complete at iteration  568 \nFinal error:  0.036829493939876556 \n\nTraining:  (3, [16], 9)\nRun 1\n"
     ]
    },
    {
     "output_type": "display_data",
     "data": {
      "text/plain": "'#0 Validation Error: 0.19260728359222412'"
     },
     "metadata": {}
    },
    {
     "output_type": "stream",
     "name": "stdout",
     "text": [
      "Training:  (3, [8, 8], 9)\nRun 1\n"
     ]
    },
    {
     "output_type": "display_data",
     "data": {
      "text/plain": "'#0 Validation Error: 0.16797034442424774'"
     },
     "metadata": {}
    },
    {
     "output_type": "stream",
     "name": "stdout",
     "text": [
      "Complete at iteration  181 \nFinal error:  0.0402948372066021 \n\nTraining:  (3, [5, 6, 5], 9)\nRun 1\n"
     ]
    },
    {
     "output_type": "display_data",
     "data": {
      "text/plain": "'#0 Validation Error: 0.17691238224506378'"
     },
     "metadata": {}
    },
    {
     "output_type": "stream",
     "name": "stdout",
     "text": [
      "Complete at iteration  444 \nFinal error:  0.04121925309300423 \n\nTraining:  (3, [17], 9)\nRun 1\n"
     ]
    },
    {
     "output_type": "display_data",
     "data": {
      "text/plain": "'#0 Validation Error: 0.19092246890068054'"
     },
     "metadata": {}
    },
    {
     "output_type": "stream",
     "name": "stdout",
     "text": [
      "Complete at iteration  742 \nFinal error:  0.038170620799064636 \n\nTraining:  (3, [5, 7, 5], 9)\nRun 1\n"
     ]
    },
    {
     "output_type": "display_data",
     "data": {
      "text/plain": "'#0 Validation Error: 0.2079397439956665'"
     },
     "metadata": {}
    },
    {
     "output_type": "stream",
     "name": "stdout",
     "text": [
      "Complete at iteration  177 \nFinal error:  0.047748032957315445 \n\nTraining:  (3, [18], 9)\nRun 1\n"
     ]
    },
    {
     "output_type": "display_data",
     "data": {
      "text/plain": "'#0 Validation Error: 0.1858384907245636'"
     },
     "metadata": {}
    },
    {
     "output_type": "stream",
     "name": "stdout",
     "text": [
      "Training:  (3, [9, 9], 9)\nRun 1\n"
     ]
    },
    {
     "output_type": "display_data",
     "data": {
      "text/plain": "'#0 Validation Error: 0.20231960713863373'"
     },
     "metadata": {}
    },
    {
     "output_type": "stream",
     "name": "stdout",
     "text": [
      "Complete at iteration  435 \nFinal error:  0.03550735488533974 \n\nTraining:  (3, [6, 6, 6], 9)\nRun 1\n"
     ]
    },
    {
     "output_type": "display_data",
     "data": {
      "text/plain": "'#0 Validation Error: 0.13669201731681824'"
     },
     "metadata": {}
    },
    {
     "output_type": "stream",
     "name": "stdout",
     "text": [
      "Complete at iteration  956 \nFinal error:  0.03360592573881149 \n\nTraining:  (3, [19], 9)\nRun 1\n"
     ]
    },
    {
     "output_type": "display_data",
     "data": {
      "text/plain": "'#0 Validation Error: 0.2031896710395813'"
     },
     "metadata": {}
    },
    {
     "output_type": "stream",
     "name": "stdout",
     "text": [
      "Training:  (3, [6, 7, 6], 9)\nRun 1\n"
     ]
    },
    {
     "output_type": "display_data",
     "data": {
      "text/plain": "'#0 Validation Error: 0.1425398588180542'"
     },
     "metadata": {}
    },
    {
     "output_type": "stream",
     "name": "stdout",
     "text": [
      "Complete at iteration  368 \nFinal error:  0.03377845883369446 \n\nTraining:  (3, [20], 9)\nRun 1\n"
     ]
    },
    {
     "output_type": "display_data",
     "data": {
      "text/plain": "'#0 Validation Error: 0.17501483857631683'"
     },
     "metadata": {}
    },
    {
     "output_type": "stream",
     "name": "stdout",
     "text": [
      "Training:  (3, [10, 10], 9)\nRun 1\n"
     ]
    },
    {
     "output_type": "display_data",
     "data": {
      "text/plain": "'#0 Validation Error: 0.15654084086418152'"
     },
     "metadata": {}
    },
    {
     "output_type": "stream",
     "name": "stdout",
     "text": [
      "Complete at iteration  651 \nFinal error:  0.03423195704817772 \n\nTraining:  (3, [6, 8, 6], 9)\nRun 1\n"
     ]
    },
    {
     "output_type": "display_data",
     "data": {
      "text/plain": "'#0 Validation Error: 0.1577347069978714'"
     },
     "metadata": {}
    },
    {
     "output_type": "stream",
     "name": "stdout",
     "text": [
      "Complete at iteration  726 \nFinal error:  0.03335590660572052 \n\nTraining:  (3, [21], 9)\nRun 1\n"
     ]
    },
    {
     "output_type": "display_data",
     "data": {
      "text/plain": "'#0 Validation Error: 0.17209140956401825'"
     },
     "metadata": {}
    },
    {
     "output_type": "stream",
     "name": "stdout",
     "text": [
      "Complete at iteration  400 \nFinal error:  0.03610226884484291 \n\nTraining:  (3, [7, 7, 7], 9)\nRun 1\n"
     ]
    },
    {
     "output_type": "display_data",
     "data": {
      "text/plain": "'#0 Validation Error: 0.16668668389320374'"
     },
     "metadata": {}
    },
    {
     "output_type": "stream",
     "name": "stdout",
     "text": [
      "Complete at iteration  389 \nFinal error:  0.03706741705536842 \n\nTraining:  (3, [22], 9)\nRun 1\n"
     ]
    },
    {
     "output_type": "display_data",
     "data": {
      "text/plain": "'#0 Validation Error: 0.15682543814182281'"
     },
     "metadata": {}
    },
    {
     "output_type": "stream",
     "name": "stdout",
     "text": [
      "Complete at iteration  636 \nFinal error:  0.03461506962776184 \n\nTraining:  (3, [11, 11], 9)\nRun 1\n"
     ]
    },
    {
     "output_type": "display_data",
     "data": {
      "text/plain": "'#0 Validation Error: 0.15942709147930145'"
     },
     "metadata": {}
    },
    {
     "output_type": "stream",
     "name": "stdout",
     "text": [
      "Complete at iteration  278 \nFinal error:  0.03627970069646835 \n\nTraining:  (3, [7, 8, 7], 9)\nRun 1\n"
     ]
    },
    {
     "output_type": "display_data",
     "data": {
<<<<<<< Updated upstream
      "text/plain": "     #cnum  Normalized-L  Normalized-a  Normalized-b\n0      141      0.853205     -0.025675     -0.138822\n1      274      0.747664     -0.025504     -0.138822\n2      129      0.747664      0.070445     -0.106039\n3      230      0.747664      0.070101     -0.089951\n4      302      0.747664      0.070617     -0.072041\n..     ...           ...           ...           ...\n325    305     -0.765518      0.567556     -0.362691\n326    267     -0.765518      0.584752     -0.297579\n327    243     -0.765518      0.593865     -0.235807\n328    182     -0.765518      0.601603     -0.171302\n329     89     -0.871488     -0.024988     -0.139429\n\n[330 rows x 4 columns]",
      "text/html": "<div>\n<style scoped>\n    .dataframe tbody tr th:only-of-type {\n        vertical-align: middle;\n    }\n\n    .dataframe tbody tr th {\n        vertical-align: top;\n    }\n\n    .dataframe thead th {\n        text-align: right;\n    }\n</style>\n<table border=\"1\" class=\"dataframe\">\n  <thead>\n    <tr style=\"text-align: right;\">\n      <th></th>\n      <th>#cnum</th>\n      <th>Normalized-L</th>\n      <th>Normalized-a</th>\n      <th>Normalized-b</th>\n    </tr>\n  </thead>\n  <tbody>\n    <tr>\n      <th>0</th>\n      <td>141</td>\n      <td>0.853205</td>\n      <td>-0.025675</td>\n      <td>-0.138822</td>\n    </tr>\n    <tr>\n      <th>1</th>\n      <td>274</td>\n      <td>0.747664</td>\n      <td>-0.025504</td>\n      <td>-0.138822</td>\n    </tr>\n    <tr>\n      <th>2</th>\n      <td>129</td>\n      <td>0.747664</td>\n      <td>0.070445</td>\n      <td>-0.106039</td>\n    </tr>\n    <tr>\n      <th>3</th>\n      <td>230</td>\n      <td>0.747664</td>\n      <td>0.070101</td>\n      <td>-0.089951</td>\n    </tr>\n    <tr>\n      <th>4</th>\n      <td>302</td>\n      <td>0.747664</td>\n      <td>0.070617</td>\n      <td>-0.072041</td>\n    </tr>\n    <tr>\n      <th>...</th>\n      <td>...</td>\n      <td>...</td>\n      <td>...</td>\n      <td>...</td>\n    </tr>\n    <tr>\n      <th>325</th>\n      <td>305</td>\n      <td>-0.765518</td>\n      <td>0.567556</td>\n      <td>-0.362691</td>\n    </tr>\n    <tr>\n      <th>326</th>\n      <td>267</td>\n      <td>-0.765518</td>\n      <td>0.584752</td>\n      <td>-0.297579</td>\n    </tr>\n    <tr>\n      <th>327</th>\n      <td>243</td>\n      <td>-0.765518</td>\n      <td>0.593865</td>\n      <td>-0.235807</td>\n    </tr>\n    <tr>\n      <th>328</th>\n      <td>182</td>\n      <td>-0.765518</td>\n      <td>0.601603</td>\n      <td>-0.171302</td>\n    </tr>\n    <tr>\n      <th>329</th>\n      <td>89</td>\n      <td>-0.871488</td>\n      <td>-0.024988</td>\n      <td>-0.139429</td>\n    </tr>\n  </tbody>\n</table>\n<p>330 rows × 4 columns</p>\n</div>"
     },
     "metadata": {}
    }
   ],
   "source": [
    "cnum_data = pd.read_csv('cnum-vhcm-lab-new.txt', sep=\"\\t\")\n",
    "locations = cnum_data[['#cnum']]\n",
    "locations['Normalized-L'] = (cnum_data['L*'] - cnum_data['L*'].mean())/(cnum_data['L*'] - cnum_data['L*'].mean()).std() * 1/2\n",
    "locations['Normalized-a'] = (cnum_data['a*'] - cnum_data['a*'].mean())/(cnum_data['a*'] - cnum_data['a*'].mean()).std() * 1/2\n",
    "locations['Normalized-b'] = (cnum_data['b*'] - cnum_data['b*'].mean())/(cnum_data['b*'] - cnum_data['b*'].mean()).std() * 1/2\n",
    "display(locations)"
   ]
  },
  {
   "cell_type": "code",
   "execution_count": 8,
   "metadata": {},
   "outputs": [],
   "source": [
    "# debug1 = cnum_data.loc[:, ['#cnum', 'L*', 'a*', 'b*']]\n",
    "# debug1['L*'] = (debug1['L*'] - debug1['L*'].mean()) / debug1['L*'].std()\n",
    "# debug1"
   ]
  },
  {
   "cell_type": "code",
   "execution_count": 9,
   "metadata": {},
   "outputs": [],
   "source": [
    "locations = locations.sort_values('#cnum')\n",
    "chip_num = list(locations['#cnum'])\n",
    "lab_norm = [[row[2], row[3], row[4]] for row in locations.itertuples()]\n",
    "# print(lab_norm)"
   ]
  },
  {
   "cell_type": "code",
   "execution_count": 10,
   "metadata": {},
   "outputs": [],
   "source": [
    "# #Neural Network Shape Test\n",
    "# NNtest = Neural_Network(inputSize = 3, outputSize = 9, hiddenSize = [3,3,3] , learning_rate = 0.001)\n",
    "# NNtest(torch.FloatTensor([[1, 1, 1], [1, 1, 1]]))\n"
   ]
  },
  {
   "cell_type": "code",
   "execution_count": 11,
   "metadata": {},
   "outputs": [],
   "source": [
    "language_num=5\n",
    "l1 = term_data[term_data.get('#Lnum').eq(language_num)]\n",
    "unique_symbols = list(l1['Term Abbrev'].unique())\n",
    "l1_grouped = l1.groupby('#cnum')['Term Abbrev'].apply(list)\n",
    "l1_chip_abbrev_percentage = [[(l1_grouped[i + 1].count(abbrev) / len(l1_grouped[i + 1])) \\\n",
    "                              for abbrev in unique_symbols] for i in range(len(l1_grouped))]\n",
    "#display(l1_chip_abbrev_percentage)"
   ]
  },
  {
   "cell_type": "code",
   "execution_count": 12,
   "metadata": {},
   "outputs": [
=======
      "text/plain": "'#0 Validation Error: 0.1427314579486847'"
     },
     "metadata": {}
    },
    {
     "output_type": "stream",
     "name": "stdout",
     "text": [
      "Complete at iteration  296 \nFinal error:  0.03277868032455444 \n\nTraining:  (3, [23], 9)\nRun 1\n"
     ]
    },
    {
     "output_type": "display_data",
     "data": {
      "text/plain": "'#0 Validation Error: 0.169334277510643'"
     },
     "metadata": {}
    },
    {
     "output_type": "stream",
     "name": "stdout",
     "text": [
      "Complete at iteration  307 \nFinal error:  0.03775763511657715 \n\nTraining:  (3, [7, 9, 7], 9)\nRun 1\n"
     ]
    },
    {
     "output_type": "display_data",
     "data": {
      "text/plain": "'#0 Validation Error: 0.13826440274715424'"
     },
     "metadata": {}
    },
    {
     "output_type": "stream",
     "name": "stdout",
     "text": [
      "Complete at iteration  312 \nFinal error:  0.038632266223430634 \n\nTraining:  (3, [24], 9)\nRun 1\n"
     ]
    },
    {
     "output_type": "display_data",
     "data": {
      "text/plain": "'#0 Validation Error: 0.15706807374954224'"
     },
     "metadata": {}
    },
>>>>>>> Stashed changes
    {
     "output_type": "stream",
     "name": "stdout",
     "text": [
<<<<<<< Updated upstream
      "              7         2    4         6         9         1         5    3  \\\n#cnum                                                                         \n1      0.833333  0.166667  0.0  0.000000  0.000000  0.000000  0.000000  0.0   \n2      0.333333  0.666667  0.0  0.000000  0.000000  0.000000  0.000000  0.0   \n3      0.000000  0.000000  1.0  0.000000  0.000000  0.000000  0.000000  0.0   \n4      0.000000  0.000000  0.0  1.000000  0.000000  0.000000  0.000000  0.0   \n5      0.333333  0.666667  0.0  0.000000  0.000000  0.000000  0.000000  0.0   \n...         ...       ...  ...       ...       ...       ...       ...  ...   \n326    0.000000  0.000000  0.0  0.000000  0.000000  0.000000  1.000000  0.0   \n327    0.166667  0.000000  0.0  0.000000  0.666667  0.000000  0.166667  0.0   \n328    0.166667  0.666667  0.0  0.166667  0.000000  0.000000  0.000000  0.0   \n329    0.000000  0.000000  0.0  0.333333  0.000000  0.166667  0.500000  0.0   \n330    0.166667  0.000000  0.0  0.000000  0.833333  0.000000  0.000000  0.0   \n\n         8  \n#cnum       \n1      0.0  \n2      0.0  \n3      0.0  \n4      0.0  \n5      0.0  \n...    ...  \n326    0.0  \n327    0.0  \n328    0.0  \n329    0.0  \n330    0.0  \n\n[330 rows x 9 columns]\n"
     ]
    }
   ],
   "source": [
    "l1_result = pd.DataFrame(l1_chip_abbrev_percentage)\n",
    "l1_result.index += 1\n",
    "l1_result.index.name = '#cnum'\n",
    "l1_result.columns = unique_symbols\n",
    "print(l1_result)\n",
    "chip_norm = []\n",
    "#pull the percentage for each cnum\n",
    "for x in chip_num:\n",
    "#     chip_norm.append((l1_result.loc[l1[\"#cnum\"]==x]).values.tolist()[0])\n",
    "    chip_norm.append(l1_result.loc[x,:].values.tolist())\n",
    "#display(chip_norm)"
   ]
  },
  {
   "cell_type": "markdown",
   "metadata": {},
   "source": [
    "### Defining Network Shapes"
   ]
  },
  {
   "cell_type": "code",
   "execution_count": 13,
   "metadata": {},
   "outputs": [
    {
     "output_type": "stream",
     "name": "stdout",
     "text": [
      "[[1], [2], [3], [4], [5], [6], [3, 3], [7], [8], [4, 4], [9], [3, 3, 3], [10], [5, 5], [3, 4, 3], [11], [3, 5, 3], [12], [6, 6], [4, 4, 4], [13], [4, 5, 4], [14], [7, 7], [4, 6, 4], [15], [5, 5, 5], [16], [8, 8], [5, 6, 5], [17], [5, 7, 5], [18], [9, 9], [6, 6, 6], [19], [6, 7, 6], [20], [10, 10], [6, 8, 6], [21], [7, 7, 7], [22], [11, 11], [7, 8, 7], [23], [7, 9, 7], [24], [12, 12], [8, 8, 8]]\n"
     ]
    }
   ],
   "source": [
    "node_num = range(1,25)\n",
    "layer_num = range(1,4)\n",
    "\n",
    "\n",
    "shape_collection = []\n",
    "for node in node_num:\n",
    "    if node < 3:\n",
    "        shape_collection.append([node])\n",
    "\n",
    "def trickle(arr, iteration_left, check):\n",
    "    if iteration_left == 0:\n",
    "        global shape_collection\n",
    "        #running the int fxn to make sure we don't have floats\n",
    "        mp = map(int, arr)\n",
    "        x = list(mp)\n",
    "        if check == sum(x):\n",
    "            shape_collection.append(x)\n",
    "    else:\n",
    "        new_arr = [0]+ arr + [0]\n",
    "        #recursively expanding the list symmetrically\n",
    "        while new_arr[0] < new_arr[1]-2 and new_arr[-1] < new_arr[-2]-2:\n",
    "            new_arr[0] += 1\n",
    "            new_arr[1] -= 1\n",
    "            new_arr[-1] += 1\n",
    "            new_arr[-2] -= 1\n",
    "        trickle(new_arr, iteration_left - 1, check)\n",
    "\n",
    "for node in node_num:\n",
    "    for layer in layer_num:\n",
    "        if node//layer < 3:\n",
    "            continue\n",
    "        if layer%2 == 0:\n",
    "            trickle([node/2, node/2], (layer-2)/2, node)\n",
    "        else:\n",
    "            trickle([node], (layer-1)/2, node)      \n",
    "\n",
    "print(shape_collection)\n"
   ]
  },
  {
   "cell_type": "markdown",
   "metadata": {},
   "source": [
    "### Training Network"
   ]
  },
  {
   "cell_type": "code",
   "execution_count": 14,
   "metadata": {},
   "outputs": [
    {
     "output_type": "stream",
     "name": "stdout",
     "text": [
      "[(3, [1], 9), (3, [2], 9), (3, [3], 9), (3, [4], 9), (3, [5], 9), (3, [6], 9), (3, [3, 3], 9), (3, [7], 9), (3, [8], 9), (3, [4, 4], 9), (3, [9], 9), (3, [3, 3, 3], 9), (3, [10], 9), (3, [5, 5], 9), (3, [3, 4, 3], 9), (3, [11], 9), (3, [3, 5, 3], 9), (3, [12], 9), (3, [6, 6], 9), (3, [4, 4, 4], 9), (3, [13], 9), (3, [4, 5, 4], 9), (3, [14], 9), (3, [7, 7], 9), (3, [4, 6, 4], 9), (3, [15], 9), (3, [5, 5, 5], 9), (3, [16], 9), (3, [8, 8], 9), (3, [5, 6, 5], 9), (3, [17], 9), (3, [5, 7, 5], 9), (3, [18], 9), (3, [9, 9], 9), (3, [6, 6, 6], 9), (3, [19], 9), (3, [6, 7, 6], 9), (3, [20], 9), (3, [10, 10], 9), (3, [6, 8, 6], 9), (3, [21], 9), (3, [7, 7, 7], 9), (3, [22], 9), (3, [11, 11], 9), (3, [7, 8, 7], 9), (3, [23], 9), (3, [7, 9, 7], 9), (3, [24], 9), (3, [12, 12], 9), (3, [8, 8, 8], 9)]\n"
     ]
    }
   ],
   "source": [
    "\n",
    "#Number of training iterations\n",
    "num_iters = 1000\n",
    "\n",
    "#Listing out the shapes of each model\n",
    "colors_num = len(chip_norm[0])\n",
    "input_size = 3\n",
    "\n",
    "network_shapes = []\n",
    "for s in shape_collection:\n",
    "    network_shapes.append((input_size,s,colors_num))\n",
    "\n",
    "#Learning rate of the network\n",
    "rate = 0.001\n",
    "\n",
    "#Generating Training Data\n",
    "def shuffle(lab_norm, chip_norm):\n",
    "    '''\n",
    "    Applying train-test split\n",
    "    '''\n",
    "    lab_train, lab_test, chip_train, chip_test = train_test_split(lab_norm, chip_norm, test_size=0.2, shuffle = True)\n",
    "    input_train = torch.FloatTensor(lab_train)\n",
    "    output_train = torch.FloatTensor(chip_train)\n",
    "    input_test= torch.FloatTensor(lab_test)\n",
    "    output_test = torch.FloatTensor(chip_test)\n",
    "    return input_train, output_train, input_test, output_test\n",
    "\n",
    "print(network_shapes)"
   ]
  },
  {
   "cell_type": "code",
   "execution_count": null,
   "metadata": {},
   "outputs": [],
   "source": [
=======
      "Complete at iteration  471 \nFinal error:  0.04089726135134697 \n\nTraining:  (3, [12, 12], 9)\nRun 1\n"
     ]
    },
    {
     "output_type": "display_data",
     "data": {
      "text/plain": "'#0 Validation Error: 0.140541210770607'"
     },
     "metadata": {}
    },
    {
     "output_type": "stream",
     "name": "stdout",
     "text": [
      "Complete at iteration  665 \nFinal error:  0.03273535147309303 \n\nTraining:  (3, [8, 8, 8], 9)\nRun 1\n"
     ]
    },
    {
     "output_type": "display_data",
     "data": {
      "text/plain": "'#662 Validation Error: 0.03966126590967178'"
     },
     "metadata": {}
    }
   ],
   "source": [
>>>>>>> Stashed changes
    "#Array of losses over training period for each network\n",
    "num_average = 1\n",
    "output_file = {}\n",
    "for n in node_num:\n",
    "    output_file[n] = {}\n",
    "    \n",
    "\n",
    "for net_num, shape in enumerate(network_shapes):\n",
    "    print(\"Training: \",shape)\n",
    "    net_error_arr = []\n",
    "    for j in range(num_average):\n",
    "        print('Run ' + str(j+1))\n",
    "        NN = Neural_Network(inputSize = shape[0], outputSize = shape[2],\n",
    "                            hiddenSize = shape[1] , learning_rate = rate)\n",
    "        error_arr = []\n",
    "        prev_error = 0\n",
    "        strike = 0\n",
    "\n",
    "        input_train, output_train, input_test, output_test = shuffle(lab_norm, chip_norm)\n",
    "\n",
    "        for i in range(num_iters):  \n",
    "            NN.train(input_train, output_train)\n",
    "            validation_error = NN.l1error(output_test, NN(input_test))\n",
    "            #Printing error\n",
    "            if i == 0: \n",
    "                dh = display(\"#\" + str(i) + \" Validation Error: \" + str(validation_error), display_id=True)\n",
    "            else:\n",
    "                dh.update(\"#\" + str(i) + \" Validation Error: \" + str(validation_error))\n",
    "            \n",
    "            #zero small error change\n",
    "            if i == 0:\n",
    "                strike = 0\n",
    "            #adding error to array\n",
    "            error_arr.append(validation_error)\n",
    "            #waiting for number 'too small' decreases or increases in validation error before ending training\n",
    "            if (prev_error < validation_error) and i > 100:\n",
    "                if strike > 5:\n",
    "                    print(\"Complete at iteration \", i, \"\\nFinal error: \", np.min(error_arr), \"\\n\")\n",
    "                    break\n",
    "                else:\n",
    "                    strike += 1\n",
    "            prev_error = validation_error\n",
    "        net_error_arr.append(np.min(error_arr))\n",
    "    output_file[sum(shape[1])][len(shape[1])] = [np.mean(net_error_arr), np.std(net_error_arr)]"
   ]
  },
  {
   "cell_type": "code",
   "execution_count": 13,
   "metadata": {},
   "outputs": [],
   "source": [
    "with open('validation_errors.json', 'w') as f:\n",
    "    json.dump(output_file, f)"
   ]
  },
  {
   "cell_type": "markdown",
   "metadata": {},
   "source": [
    "### Looking at minimum size of networks for each threshold value"
   ]
  },
  {
   "cell_type": "code",
<<<<<<< Updated upstream
   "execution_count": 3,
=======
   "execution_count": 17,
>>>>>>> Stashed changes
   "metadata": {},
   "outputs": [
    {
     "output_type": "error",
     "ename": "IndexError",
     "evalue": "too many indices for array: array is 0-dimensional, but 1 were indexed",
     "traceback": [
      "\u001b[0;31m---------------------------------------------------------------------------\u001b[0m",
      "\u001b[0;31mIndexError\u001b[0m                                Traceback (most recent call last)",
      "\u001b[0;32m<ipython-input-17-b90368578562>\u001b[0m in \u001b[0;36m<module>\u001b[0;34m\u001b[0m\n\u001b[1;32m      4\u001b[0m     \u001b[0mvals\u001b[0m \u001b[0;34m=\u001b[0m \u001b[0mout_dict_for_size\u001b[0m\u001b[0;34m.\u001b[0m\u001b[0mvalues\u001b[0m\u001b[0;34m(\u001b[0m\u001b[0;34m)\u001b[0m\u001b[0;34m\u001b[0m\u001b[0;34m\u001b[0m\u001b[0m\n\u001b[1;32m      5\u001b[0m     \u001b[0mvals\u001b[0m \u001b[0;34m=\u001b[0m \u001b[0mnp\u001b[0m\u001b[0;34m.\u001b[0m\u001b[0marray\u001b[0m\u001b[0;34m(\u001b[0m\u001b[0mvals\u001b[0m\u001b[0;34m)\u001b[0m\u001b[0;34m\u001b[0m\u001b[0;34m\u001b[0m\u001b[0m\n\u001b[0;32m----> 6\u001b[0;31m     \u001b[0mvals\u001b[0m \u001b[0;34m=\u001b[0m \u001b[0mvals\u001b[0m\u001b[0;34m[\u001b[0m\u001b[0;34m:\u001b[0m\u001b[0;36m0\u001b[0m\u001b[0;34m]\u001b[0m\u001b[0;34m\u001b[0m\u001b[0;34m\u001b[0m\u001b[0m\n\u001b[0m\u001b[1;32m      7\u001b[0m     \u001b[0merrors\u001b[0m\u001b[0;34m.\u001b[0m\u001b[0mappend\u001b[0m\u001b[0;34m(\u001b[0m\u001b[0mnp\u001b[0m\u001b[0;34m.\u001b[0m\u001b[0mmin\u001b[0m\u001b[0;34m(\u001b[0m\u001b[0mvals\u001b[0m\u001b[0;34m)\u001b[0m\u001b[0;34m)\u001b[0m\u001b[0;34m\u001b[0m\u001b[0;34m\u001b[0m\u001b[0m\n\u001b[1;32m      8\u001b[0m \u001b[0merrors\u001b[0m \u001b[0;34m=\u001b[0m \u001b[0mnp\u001b[0m\u001b[0;34m.\u001b[0m\u001b[0marray\u001b[0m\u001b[0;34m(\u001b[0m\u001b[0merrors\u001b[0m\u001b[0;34m)\u001b[0m\u001b[0;34m\u001b[0m\u001b[0;34m\u001b[0m\u001b[0m\n",
      "\u001b[0;31mIndexError\u001b[0m: too many indices for array: array is 0-dimensional, but 1 were indexed"
     ]
    }
   ],
   "source": [
    "with open('validation_errors.json') as f:\n",
    "    output_file=json.load(f)"
   ]
  },
  {
   "cell_type": "code",
   "execution_count": 15,
   "metadata": {
    "scrolled": true
   },
   "outputs": [
    {
     "output_type": "execute_result",
     "data": {
      "text/plain": [
       "(0.0, 0.2)"
      ]
     },
     "metadata": {},
     "execution_count": 15
    },
    {
     "output_type": "display_data",
     "data": {
      "text/plain": "<Figure size 432x288 with 1 Axes>",
      "image/svg+xml": "<?xml version=\"1.0\" encoding=\"utf-8\" standalone=\"no\"?>\n<!DOCTYPE svg PUBLIC \"-//W3C//DTD SVG 1.1//EN\"\n  \"http://www.w3.org/Graphics/SVG/1.1/DTD/svg11.dtd\">\n<!-- Created with matplotlib (https://matplotlib.org/) -->\n<svg height=\"277.314375pt\" version=\"1.1\" viewBox=\"0 0 396.917187 277.314375\" width=\"396.917187pt\" xmlns=\"http://www.w3.org/2000/svg\" xmlns:xlink=\"http://www.w3.org/1999/xlink\">\n <metadata>\n  <rdf:RDF xmlns:cc=\"http://creativecommons.org/ns#\" xmlns:dc=\"http://purl.org/dc/elements/1.1/\" xmlns:rdf=\"http://www.w3.org/1999/02/22-rdf-syntax-ns#\">\n   <cc:Work>\n    <dc:type rdf:resource=\"http://purl.org/dc/dcmitype/StillImage\"/>\n    <dc:date>2021-02-24T16:55:25.909302</dc:date>\n    <dc:format>image/svg+xml</dc:format>\n    <dc:creator>\n     <cc:Agent>\n      <dc:title>Matplotlib v3.3.2, https://matplotlib.org/</dc:title>\n     </cc:Agent>\n    </dc:creator>\n   </cc:Work>\n  </rdf:RDF>\n </metadata>\n <defs>\n  <style type=\"text/css\">*{stroke-linecap:butt;stroke-linejoin:round;}</style>\n </defs>\n <g id=\"figure_1\">\n  <g id=\"patch_1\">\n   <path d=\"M 0 277.314375 \nL 396.917187 277.314375 \nL 396.917187 0 \nL 0 0 \nz\n\" style=\"fill:none;\"/>\n  </g>\n  <g id=\"axes_1\">\n   <g id=\"patch_2\">\n    <path d=\"M 40.603125 239.758125 \nL 375.403125 239.758125 \nL 375.403125 22.318125 \nL 40.603125 22.318125 \nz\n\" style=\"fill:#ffffff;\"/>\n   </g>\n   <g id=\"matplotlib.axis_1\">\n    <g id=\"xtick_1\">\n     <g id=\"line2d_1\">\n      <defs>\n       <path d=\"M 0 0 \nL 0 3.5 \n\" id=\"m9c45183cf3\" style=\"stroke:#000000;stroke-width:0.8;\"/>\n      </defs>\n      <g>\n       <use style=\"stroke:#000000;stroke-width:0.8;\" x=\"40.603125\" xlink:href=\"#m9c45183cf3\" y=\"239.758125\"/>\n      </g>\n     </g>\n     <g id=\"text_1\">\n      <!-- 0.000 -->\n      <g transform=\"translate(26.289063 254.356562)scale(0.1 -0.1)\">\n       <defs>\n        <path d=\"M 31.78125 66.40625 \nQ 24.171875 66.40625 20.328125 58.90625 \nQ 16.5 51.421875 16.5 36.375 \nQ 16.5 21.390625 20.328125 13.890625 \nQ 24.171875 6.390625 31.78125 6.390625 \nQ 39.453125 6.390625 43.28125 13.890625 \nQ 47.125 21.390625 47.125 36.375 \nQ 47.125 51.421875 43.28125 58.90625 \nQ 39.453125 66.40625 31.78125 66.40625 \nz\nM 31.78125 74.21875 \nQ 44.046875 74.21875 50.515625 64.515625 \nQ 56.984375 54.828125 56.984375 36.375 \nQ 56.984375 17.96875 50.515625 8.265625 \nQ 44.046875 -1.421875 31.78125 -1.421875 \nQ 19.53125 -1.421875 13.0625 8.265625 \nQ 6.59375 17.96875 6.59375 36.375 \nQ 6.59375 54.828125 13.0625 64.515625 \nQ 19.53125 74.21875 31.78125 74.21875 \nz\n\" id=\"DejaVuSans-48\"/>\n        <path d=\"M 10.6875 12.40625 \nL 21 12.40625 \nL 21 0 \nL 10.6875 0 \nz\n\" id=\"DejaVuSans-46\"/>\n       </defs>\n       <use xlink:href=\"#DejaVuSans-48\"/>\n       <use x=\"63.623047\" xlink:href=\"#DejaVuSans-46\"/>\n       <use x=\"95.410156\" xlink:href=\"#DejaVuSans-48\"/>\n       <use x=\"159.033203\" xlink:href=\"#DejaVuSans-48\"/>\n       <use x=\"222.65625\" xlink:href=\"#DejaVuSans-48\"/>\n      </g>\n     </g>\n    </g>\n    <g id=\"xtick_2\">\n     <g id=\"line2d_2\">\n      <g>\n       <use style=\"stroke:#000000;stroke-width:0.8;\" x=\"82.453125\" xlink:href=\"#m9c45183cf3\" y=\"239.758125\"/>\n      </g>\n     </g>\n     <g id=\"text_2\">\n      <!-- 0.025 -->\n      <g transform=\"translate(68.139063 254.356562)scale(0.1 -0.1)\">\n       <defs>\n        <path d=\"M 19.1875 8.296875 \nL 53.609375 8.296875 \nL 53.609375 0 \nL 7.328125 0 \nL 7.328125 8.296875 \nQ 12.9375 14.109375 22.625 23.890625 \nQ 32.328125 33.6875 34.8125 36.53125 \nQ 39.546875 41.84375 41.421875 45.53125 \nQ 43.3125 49.21875 43.3125 52.78125 \nQ 43.3125 58.59375 39.234375 62.25 \nQ 35.15625 65.921875 28.609375 65.921875 \nQ 23.96875 65.921875 18.8125 64.3125 \nQ 13.671875 62.703125 7.8125 59.421875 \nL 7.8125 69.390625 \nQ 13.765625 71.78125 18.9375 73 \nQ 24.125 74.21875 28.421875 74.21875 \nQ 39.75 74.21875 46.484375 68.546875 \nQ 53.21875 62.890625 53.21875 53.421875 \nQ 53.21875 48.921875 51.53125 44.890625 \nQ 49.859375 40.875 45.40625 35.40625 \nQ 44.1875 33.984375 37.640625 27.21875 \nQ 31.109375 20.453125 19.1875 8.296875 \nz\n\" id=\"DejaVuSans-50\"/>\n        <path d=\"M 10.796875 72.90625 \nL 49.515625 72.90625 \nL 49.515625 64.59375 \nL 19.828125 64.59375 \nL 19.828125 46.734375 \nQ 21.96875 47.46875 24.109375 47.828125 \nQ 26.265625 48.1875 28.421875 48.1875 \nQ 40.625 48.1875 47.75 41.5 \nQ 54.890625 34.8125 54.890625 23.390625 \nQ 54.890625 11.625 47.5625 5.09375 \nQ 40.234375 -1.421875 26.90625 -1.421875 \nQ 22.3125 -1.421875 17.546875 -0.640625 \nQ 12.796875 0.140625 7.71875 1.703125 \nL 7.71875 11.625 \nQ 12.109375 9.234375 16.796875 8.0625 \nQ 21.484375 6.890625 26.703125 6.890625 \nQ 35.15625 6.890625 40.078125 11.328125 \nQ 45.015625 15.765625 45.015625 23.390625 \nQ 45.015625 31 40.078125 35.4375 \nQ 35.15625 39.890625 26.703125 39.890625 \nQ 22.75 39.890625 18.8125 39.015625 \nQ 14.890625 38.140625 10.796875 36.28125 \nz\n\" id=\"DejaVuSans-53\"/>\n       </defs>\n       <use xlink:href=\"#DejaVuSans-48\"/>\n       <use x=\"63.623047\" xlink:href=\"#DejaVuSans-46\"/>\n       <use x=\"95.410156\" xlink:href=\"#DejaVuSans-48\"/>\n       <use x=\"159.033203\" xlink:href=\"#DejaVuSans-50\"/>\n       <use x=\"222.65625\" xlink:href=\"#DejaVuSans-53\"/>\n      </g>\n     </g>\n    </g>\n    <g id=\"xtick_3\">\n     <g id=\"line2d_3\">\n      <g>\n       <use style=\"stroke:#000000;stroke-width:0.8;\" x=\"124.303125\" xlink:href=\"#m9c45183cf3\" y=\"239.758125\"/>\n      </g>\n     </g>\n     <g id=\"text_3\">\n      <!-- 0.050 -->\n      <g transform=\"translate(109.989063 254.356562)scale(0.1 -0.1)\">\n       <use xlink:href=\"#DejaVuSans-48\"/>\n       <use x=\"63.623047\" xlink:href=\"#DejaVuSans-46\"/>\n       <use x=\"95.410156\" xlink:href=\"#DejaVuSans-48\"/>\n       <use x=\"159.033203\" xlink:href=\"#DejaVuSans-53\"/>\n       <use x=\"222.65625\" xlink:href=\"#DejaVuSans-48\"/>\n      </g>\n     </g>\n    </g>\n    <g id=\"xtick_4\">\n     <g id=\"line2d_4\">\n      <g>\n       <use style=\"stroke:#000000;stroke-width:0.8;\" x=\"166.153125\" xlink:href=\"#m9c45183cf3\" y=\"239.758125\"/>\n      </g>\n     </g>\n     <g id=\"text_4\">\n      <!-- 0.075 -->\n      <g transform=\"translate(151.839063 254.356562)scale(0.1 -0.1)\">\n       <defs>\n        <path d=\"M 8.203125 72.90625 \nL 55.078125 72.90625 \nL 55.078125 68.703125 \nL 28.609375 0 \nL 18.3125 0 \nL 43.21875 64.59375 \nL 8.203125 64.59375 \nz\n\" id=\"DejaVuSans-55\"/>\n       </defs>\n       <use xlink:href=\"#DejaVuSans-48\"/>\n       <use x=\"63.623047\" xlink:href=\"#DejaVuSans-46\"/>\n       <use x=\"95.410156\" xlink:href=\"#DejaVuSans-48\"/>\n       <use x=\"159.033203\" xlink:href=\"#DejaVuSans-55\"/>\n       <use x=\"222.65625\" xlink:href=\"#DejaVuSans-53\"/>\n      </g>\n     </g>\n    </g>\n    <g id=\"xtick_5\">\n     <g id=\"line2d_5\">\n      <g>\n       <use style=\"stroke:#000000;stroke-width:0.8;\" x=\"208.003125\" xlink:href=\"#m9c45183cf3\" y=\"239.758125\"/>\n      </g>\n     </g>\n     <g id=\"text_5\">\n      <!-- 0.100 -->\n      <g transform=\"translate(193.689063 254.356562)scale(0.1 -0.1)\">\n       <defs>\n        <path d=\"M 12.40625 8.296875 \nL 28.515625 8.296875 \nL 28.515625 63.921875 \nL 10.984375 60.40625 \nL 10.984375 69.390625 \nL 28.421875 72.90625 \nL 38.28125 72.90625 \nL 38.28125 8.296875 \nL 54.390625 8.296875 \nL 54.390625 0 \nL 12.40625 0 \nz\n\" id=\"DejaVuSans-49\"/>\n       </defs>\n       <use xlink:href=\"#DejaVuSans-48\"/>\n       <use x=\"63.623047\" xlink:href=\"#DejaVuSans-46\"/>\n       <use x=\"95.410156\" xlink:href=\"#DejaVuSans-49\"/>\n       <use x=\"159.033203\" xlink:href=\"#DejaVuSans-48\"/>\n       <use x=\"222.65625\" xlink:href=\"#DejaVuSans-48\"/>\n      </g>\n     </g>\n    </g>\n    <g id=\"xtick_6\">\n     <g id=\"line2d_6\">\n      <g>\n       <use style=\"stroke:#000000;stroke-width:0.8;\" x=\"249.853125\" xlink:href=\"#m9c45183cf3\" y=\"239.758125\"/>\n      </g>\n     </g>\n     <g id=\"text_6\">\n      <!-- 0.125 -->\n      <g transform=\"translate(235.539063 254.356562)scale(0.1 -0.1)\">\n       <use xlink:href=\"#DejaVuSans-48\"/>\n       <use x=\"63.623047\" xlink:href=\"#DejaVuSans-46\"/>\n       <use x=\"95.410156\" xlink:href=\"#DejaVuSans-49\"/>\n       <use x=\"159.033203\" xlink:href=\"#DejaVuSans-50\"/>\n       <use x=\"222.65625\" xlink:href=\"#DejaVuSans-53\"/>\n      </g>\n     </g>\n    </g>\n    <g id=\"xtick_7\">\n     <g id=\"line2d_7\">\n      <g>\n       <use style=\"stroke:#000000;stroke-width:0.8;\" x=\"291.703125\" xlink:href=\"#m9c45183cf3\" y=\"239.758125\"/>\n      </g>\n     </g>\n     <g id=\"text_7\">\n      <!-- 0.150 -->\n      <g transform=\"translate(277.389063 254.356562)scale(0.1 -0.1)\">\n       <use xlink:href=\"#DejaVuSans-48\"/>\n       <use x=\"63.623047\" xlink:href=\"#DejaVuSans-46\"/>\n       <use x=\"95.410156\" xlink:href=\"#DejaVuSans-49\"/>\n       <use x=\"159.033203\" xlink:href=\"#DejaVuSans-53\"/>\n       <use x=\"222.65625\" xlink:href=\"#DejaVuSans-48\"/>\n      </g>\n     </g>\n    </g>\n    <g id=\"xtick_8\">\n     <g id=\"line2d_8\">\n      <g>\n       <use style=\"stroke:#000000;stroke-width:0.8;\" x=\"333.553125\" xlink:href=\"#m9c45183cf3\" y=\"239.758125\"/>\n      </g>\n     </g>\n     <g id=\"text_8\">\n      <!-- 0.175 -->\n      <g transform=\"translate(319.239063 254.356562)scale(0.1 -0.1)\">\n       <use xlink:href=\"#DejaVuSans-48\"/>\n       <use x=\"63.623047\" xlink:href=\"#DejaVuSans-46\"/>\n       <use x=\"95.410156\" xlink:href=\"#DejaVuSans-49\"/>\n       <use x=\"159.033203\" xlink:href=\"#DejaVuSans-55\"/>\n       <use x=\"222.65625\" xlink:href=\"#DejaVuSans-53\"/>\n      </g>\n     </g>\n    </g>\n    <g id=\"xtick_9\">\n     <g id=\"line2d_9\">\n      <g>\n       <use style=\"stroke:#000000;stroke-width:0.8;\" x=\"375.403125\" xlink:href=\"#m9c45183cf3\" y=\"239.758125\"/>\n      </g>\n     </g>\n     <g id=\"text_9\">\n      <!-- 0.200 -->\n      <g transform=\"translate(361.089063 254.356562)scale(0.1 -0.1)\">\n       <use xlink:href=\"#DejaVuSans-48\"/>\n       <use x=\"63.623047\" xlink:href=\"#DejaVuSans-46\"/>\n       <use x=\"95.410156\" xlink:href=\"#DejaVuSans-50\"/>\n       <use x=\"159.033203\" xlink:href=\"#DejaVuSans-48\"/>\n       <use x=\"222.65625\" xlink:href=\"#DejaVuSans-48\"/>\n      </g>\n     </g>\n    </g>\n    <g id=\"text_10\">\n     <!-- Error Treshold Value -->\n     <g transform=\"translate(158.176563 268.034687)scale(0.1 -0.1)\">\n      <defs>\n       <path d=\"M 9.8125 72.90625 \nL 55.90625 72.90625 \nL 55.90625 64.59375 \nL 19.671875 64.59375 \nL 19.671875 43.015625 \nL 54.390625 43.015625 \nL 54.390625 34.71875 \nL 19.671875 34.71875 \nL 19.671875 8.296875 \nL 56.78125 8.296875 \nL 56.78125 0 \nL 9.8125 0 \nz\n\" id=\"DejaVuSans-69\"/>\n       <path d=\"M 41.109375 46.296875 \nQ 39.59375 47.171875 37.8125 47.578125 \nQ 36.03125 48 33.890625 48 \nQ 26.265625 48 22.1875 43.046875 \nQ 18.109375 38.09375 18.109375 28.8125 \nL 18.109375 0 \nL 9.078125 0 \nL 9.078125 54.6875 \nL 18.109375 54.6875 \nL 18.109375 46.1875 \nQ 20.953125 51.171875 25.484375 53.578125 \nQ 30.03125 56 36.53125 56 \nQ 37.453125 56 38.578125 55.875 \nQ 39.703125 55.765625 41.0625 55.515625 \nz\n\" id=\"DejaVuSans-114\"/>\n       <path d=\"M 30.609375 48.390625 \nQ 23.390625 48.390625 19.1875 42.75 \nQ 14.984375 37.109375 14.984375 27.296875 \nQ 14.984375 17.484375 19.15625 11.84375 \nQ 23.34375 6.203125 30.609375 6.203125 \nQ 37.796875 6.203125 41.984375 11.859375 \nQ 46.1875 17.53125 46.1875 27.296875 \nQ 46.1875 37.015625 41.984375 42.703125 \nQ 37.796875 48.390625 30.609375 48.390625 \nz\nM 30.609375 56 \nQ 42.328125 56 49.015625 48.375 \nQ 55.71875 40.765625 55.71875 27.296875 \nQ 55.71875 13.875 49.015625 6.21875 \nQ 42.328125 -1.421875 30.609375 -1.421875 \nQ 18.84375 -1.421875 12.171875 6.21875 \nQ 5.515625 13.875 5.515625 27.296875 \nQ 5.515625 40.765625 12.171875 48.375 \nQ 18.84375 56 30.609375 56 \nz\n\" id=\"DejaVuSans-111\"/>\n       <path id=\"DejaVuSans-32\"/>\n       <path d=\"M -0.296875 72.90625 \nL 61.375 72.90625 \nL 61.375 64.59375 \nL 35.5 64.59375 \nL 35.5 0 \nL 25.59375 0 \nL 25.59375 64.59375 \nL -0.296875 64.59375 \nz\n\" id=\"DejaVuSans-84\"/>\n       <path d=\"M 56.203125 29.59375 \nL 56.203125 25.203125 \nL 14.890625 25.203125 \nQ 15.484375 15.921875 20.484375 11.0625 \nQ 25.484375 6.203125 34.421875 6.203125 \nQ 39.59375 6.203125 44.453125 7.46875 \nQ 49.3125 8.734375 54.109375 11.28125 \nL 54.109375 2.78125 \nQ 49.265625 0.734375 44.1875 -0.34375 \nQ 39.109375 -1.421875 33.890625 -1.421875 \nQ 20.796875 -1.421875 13.15625 6.1875 \nQ 5.515625 13.8125 5.515625 26.8125 \nQ 5.515625 40.234375 12.765625 48.109375 \nQ 20.015625 56 32.328125 56 \nQ 43.359375 56 49.78125 48.890625 \nQ 56.203125 41.796875 56.203125 29.59375 \nz\nM 47.21875 32.234375 \nQ 47.125 39.59375 43.09375 43.984375 \nQ 39.0625 48.390625 32.421875 48.390625 \nQ 24.90625 48.390625 20.390625 44.140625 \nQ 15.875 39.890625 15.1875 32.171875 \nz\n\" id=\"DejaVuSans-101\"/>\n       <path d=\"M 44.28125 53.078125 \nL 44.28125 44.578125 \nQ 40.484375 46.53125 36.375 47.5 \nQ 32.28125 48.484375 27.875 48.484375 \nQ 21.1875 48.484375 17.84375 46.4375 \nQ 14.5 44.390625 14.5 40.28125 \nQ 14.5 37.15625 16.890625 35.375 \nQ 19.28125 33.59375 26.515625 31.984375 \nL 29.59375 31.296875 \nQ 39.15625 29.25 43.1875 25.515625 \nQ 47.21875 21.78125 47.21875 15.09375 \nQ 47.21875 7.46875 41.1875 3.015625 \nQ 35.15625 -1.421875 24.609375 -1.421875 \nQ 20.21875 -1.421875 15.453125 -0.5625 \nQ 10.6875 0.296875 5.421875 2 \nL 5.421875 11.28125 \nQ 10.40625 8.6875 15.234375 7.390625 \nQ 20.0625 6.109375 24.8125 6.109375 \nQ 31.15625 6.109375 34.5625 8.28125 \nQ 37.984375 10.453125 37.984375 14.40625 \nQ 37.984375 18.0625 35.515625 20.015625 \nQ 33.0625 21.96875 24.703125 23.78125 \nL 21.578125 24.515625 \nQ 13.234375 26.265625 9.515625 29.90625 \nQ 5.8125 33.546875 5.8125 39.890625 \nQ 5.8125 47.609375 11.28125 51.796875 \nQ 16.75 56 26.8125 56 \nQ 31.78125 56 36.171875 55.265625 \nQ 40.578125 54.546875 44.28125 53.078125 \nz\n\" id=\"DejaVuSans-115\"/>\n       <path d=\"M 54.890625 33.015625 \nL 54.890625 0 \nL 45.90625 0 \nL 45.90625 32.71875 \nQ 45.90625 40.484375 42.875 44.328125 \nQ 39.84375 48.1875 33.796875 48.1875 \nQ 26.515625 48.1875 22.3125 43.546875 \nQ 18.109375 38.921875 18.109375 30.90625 \nL 18.109375 0 \nL 9.078125 0 \nL 9.078125 75.984375 \nL 18.109375 75.984375 \nL 18.109375 46.1875 \nQ 21.34375 51.125 25.703125 53.5625 \nQ 30.078125 56 35.796875 56 \nQ 45.21875 56 50.046875 50.171875 \nQ 54.890625 44.34375 54.890625 33.015625 \nz\n\" id=\"DejaVuSans-104\"/>\n       <path d=\"M 9.421875 75.984375 \nL 18.40625 75.984375 \nL 18.40625 0 \nL 9.421875 0 \nz\n\" id=\"DejaVuSans-108\"/>\n       <path d=\"M 45.40625 46.390625 \nL 45.40625 75.984375 \nL 54.390625 75.984375 \nL 54.390625 0 \nL 45.40625 0 \nL 45.40625 8.203125 \nQ 42.578125 3.328125 38.25 0.953125 \nQ 33.9375 -1.421875 27.875 -1.421875 \nQ 17.96875 -1.421875 11.734375 6.484375 \nQ 5.515625 14.40625 5.515625 27.296875 \nQ 5.515625 40.1875 11.734375 48.09375 \nQ 17.96875 56 27.875 56 \nQ 33.9375 56 38.25 53.625 \nQ 42.578125 51.265625 45.40625 46.390625 \nz\nM 14.796875 27.296875 \nQ 14.796875 17.390625 18.875 11.75 \nQ 22.953125 6.109375 30.078125 6.109375 \nQ 37.203125 6.109375 41.296875 11.75 \nQ 45.40625 17.390625 45.40625 27.296875 \nQ 45.40625 37.203125 41.296875 42.84375 \nQ 37.203125 48.484375 30.078125 48.484375 \nQ 22.953125 48.484375 18.875 42.84375 \nQ 14.796875 37.203125 14.796875 27.296875 \nz\n\" id=\"DejaVuSans-100\"/>\n       <path d=\"M 28.609375 0 \nL 0.78125 72.90625 \nL 11.078125 72.90625 \nL 34.1875 11.53125 \nL 57.328125 72.90625 \nL 67.578125 72.90625 \nL 39.796875 0 \nz\n\" id=\"DejaVuSans-86\"/>\n       <path d=\"M 34.28125 27.484375 \nQ 23.390625 27.484375 19.1875 25 \nQ 14.984375 22.515625 14.984375 16.5 \nQ 14.984375 11.71875 18.140625 8.90625 \nQ 21.296875 6.109375 26.703125 6.109375 \nQ 34.1875 6.109375 38.703125 11.40625 \nQ 43.21875 16.703125 43.21875 25.484375 \nL 43.21875 27.484375 \nz\nM 52.203125 31.203125 \nL 52.203125 0 \nL 43.21875 0 \nL 43.21875 8.296875 \nQ 40.140625 3.328125 35.546875 0.953125 \nQ 30.953125 -1.421875 24.3125 -1.421875 \nQ 15.921875 -1.421875 10.953125 3.296875 \nQ 6 8.015625 6 15.921875 \nQ 6 25.140625 12.171875 29.828125 \nQ 18.359375 34.515625 30.609375 34.515625 \nL 43.21875 34.515625 \nL 43.21875 35.40625 \nQ 43.21875 41.609375 39.140625 45 \nQ 35.0625 48.390625 27.6875 48.390625 \nQ 23 48.390625 18.546875 47.265625 \nQ 14.109375 46.140625 10.015625 43.890625 \nL 10.015625 52.203125 \nQ 14.9375 54.109375 19.578125 55.046875 \nQ 24.21875 56 28.609375 56 \nQ 40.484375 56 46.34375 49.84375 \nQ 52.203125 43.703125 52.203125 31.203125 \nz\n\" id=\"DejaVuSans-97\"/>\n       <path d=\"M 8.5 21.578125 \nL 8.5 54.6875 \nL 17.484375 54.6875 \nL 17.484375 21.921875 \nQ 17.484375 14.15625 20.5 10.265625 \nQ 23.53125 6.390625 29.59375 6.390625 \nQ 36.859375 6.390625 41.078125 11.03125 \nQ 45.3125 15.671875 45.3125 23.6875 \nL 45.3125 54.6875 \nL 54.296875 54.6875 \nL 54.296875 0 \nL 45.3125 0 \nL 45.3125 8.40625 \nQ 42.046875 3.421875 37.71875 1 \nQ 33.40625 -1.421875 27.6875 -1.421875 \nQ 18.265625 -1.421875 13.375 4.4375 \nQ 8.5 10.296875 8.5 21.578125 \nz\nM 31.109375 56 \nz\n\" id=\"DejaVuSans-117\"/>\n      </defs>\n      <use xlink:href=\"#DejaVuSans-69\"/>\n      <use x=\"63.183594\" xlink:href=\"#DejaVuSans-114\"/>\n      <use x=\"102.546875\" xlink:href=\"#DejaVuSans-114\"/>\n      <use x=\"141.410156\" xlink:href=\"#DejaVuSans-111\"/>\n      <use x=\"202.591797\" xlink:href=\"#DejaVuSans-114\"/>\n      <use x=\"243.705078\" xlink:href=\"#DejaVuSans-32\"/>\n      <use x=\"275.492188\" xlink:href=\"#DejaVuSans-84\"/>\n      <use x=\"321.826172\" xlink:href=\"#DejaVuSans-114\"/>\n      <use x=\"360.689453\" xlink:href=\"#DejaVuSans-101\"/>\n      <use x=\"422.212891\" xlink:href=\"#DejaVuSans-115\"/>\n      <use x=\"474.3125\" xlink:href=\"#DejaVuSans-104\"/>\n      <use x=\"537.691406\" xlink:href=\"#DejaVuSans-111\"/>\n      <use x=\"598.873047\" xlink:href=\"#DejaVuSans-108\"/>\n      <use x=\"626.65625\" xlink:href=\"#DejaVuSans-100\"/>\n      <use x=\"690.132812\" xlink:href=\"#DejaVuSans-32\"/>\n      <use x=\"721.919922\" xlink:href=\"#DejaVuSans-86\"/>\n      <use x=\"782.578125\" xlink:href=\"#DejaVuSans-97\"/>\n      <use x=\"843.857422\" xlink:href=\"#DejaVuSans-108\"/>\n      <use x=\"871.640625\" xlink:href=\"#DejaVuSans-117\"/>\n      <use x=\"935.019531\" xlink:href=\"#DejaVuSans-101\"/>\n     </g>\n    </g>\n   </g>\n   <g id=\"matplotlib.axis_2\">\n    <g id=\"ytick_1\">\n     <g id=\"line2d_10\">\n      <defs>\n       <path d=\"M 0 0 \nL -3.5 0 \n\" id=\"m27738a6093\" style=\"stroke:#000000;stroke-width:0.8;\"/>\n      </defs>\n      <g>\n       <use style=\"stroke:#000000;stroke-width:0.8;\" x=\"40.603125\" xlink:href=\"#m27738a6093\" y=\"238.468955\"/>\n      </g>\n     </g>\n     <g id=\"text_11\">\n      <!-- 0 -->\n      <g transform=\"translate(27.240625 242.268174)scale(0.1 -0.1)\">\n       <use xlink:href=\"#DejaVuSans-48\"/>\n      </g>\n     </g>\n    </g>\n    <g id=\"ytick_2\">\n     <g id=\"line2d_11\">\n      <g>\n       <use style=\"stroke:#000000;stroke-width:0.8;\" x=\"40.603125\" xlink:href=\"#m27738a6093\" y=\"195.496623\"/>\n      </g>\n     </g>\n     <g id=\"text_12\">\n      <!-- 5 -->\n      <g transform=\"translate(27.240625 199.295842)scale(0.1 -0.1)\">\n       <use xlink:href=\"#DejaVuSans-53\"/>\n      </g>\n     </g>\n    </g>\n    <g id=\"ytick_3\">\n     <g id=\"line2d_12\">\n      <g>\n       <use style=\"stroke:#000000;stroke-width:0.8;\" x=\"40.603125\" xlink:href=\"#m27738a6093\" y=\"152.524291\"/>\n      </g>\n     </g>\n     <g id=\"text_13\">\n      <!-- 10 -->\n      <g transform=\"translate(20.878125 156.32351)scale(0.1 -0.1)\">\n       <use xlink:href=\"#DejaVuSans-49\"/>\n       <use x=\"63.623047\" xlink:href=\"#DejaVuSans-48\"/>\n      </g>\n     </g>\n    </g>\n    <g id=\"ytick_4\">\n     <g id=\"line2d_13\">\n      <g>\n       <use style=\"stroke:#000000;stroke-width:0.8;\" x=\"40.603125\" xlink:href=\"#m27738a6093\" y=\"109.551959\"/>\n      </g>\n     </g>\n     <g id=\"text_14\">\n      <!-- 15 -->\n      <g transform=\"translate(20.878125 113.351178)scale(0.1 -0.1)\">\n       <use xlink:href=\"#DejaVuSans-49\"/>\n       <use x=\"63.623047\" xlink:href=\"#DejaVuSans-53\"/>\n      </g>\n     </g>\n    </g>\n    <g id=\"ytick_5\">\n     <g id=\"line2d_14\">\n      <g>\n       <use style=\"stroke:#000000;stroke-width:0.8;\" x=\"40.603125\" xlink:href=\"#m27738a6093\" y=\"66.579627\"/>\n      </g>\n     </g>\n     <g id=\"text_15\">\n      <!-- 20 -->\n      <g transform=\"translate(20.878125 70.378846)scale(0.1 -0.1)\">\n       <use xlink:href=\"#DejaVuSans-50\"/>\n       <use x=\"63.623047\" xlink:href=\"#DejaVuSans-48\"/>\n      </g>\n     </g>\n    </g>\n    <g id=\"ytick_6\">\n     <g id=\"line2d_15\">\n      <g>\n       <use style=\"stroke:#000000;stroke-width:0.8;\" x=\"40.603125\" xlink:href=\"#m27738a6093\" y=\"23.607295\"/>\n      </g>\n     </g>\n     <g id=\"text_16\">\n      <!-- 25 -->\n      <g transform=\"translate(20.878125 27.406514)scale(0.1 -0.1)\">\n       <use xlink:href=\"#DejaVuSans-50\"/>\n       <use x=\"63.623047\" xlink:href=\"#DejaVuSans-53\"/>\n      </g>\n     </g>\n    </g>\n    <g id=\"text_17\">\n     <!-- Minimum Network Size -->\n     <g transform=\"translate(14.798438 188.527187)rotate(-90)scale(0.1 -0.1)\">\n      <defs>\n       <path d=\"M 9.8125 72.90625 \nL 24.515625 72.90625 \nL 43.109375 23.296875 \nL 61.8125 72.90625 \nL 76.515625 72.90625 \nL 76.515625 0 \nL 66.890625 0 \nL 66.890625 64.015625 \nL 48.09375 14.015625 \nL 38.1875 14.015625 \nL 19.390625 64.015625 \nL 19.390625 0 \nL 9.8125 0 \nz\n\" id=\"DejaVuSans-77\"/>\n       <path d=\"M 9.421875 54.6875 \nL 18.40625 54.6875 \nL 18.40625 0 \nL 9.421875 0 \nz\nM 9.421875 75.984375 \nL 18.40625 75.984375 \nL 18.40625 64.59375 \nL 9.421875 64.59375 \nz\n\" id=\"DejaVuSans-105\"/>\n       <path d=\"M 54.890625 33.015625 \nL 54.890625 0 \nL 45.90625 0 \nL 45.90625 32.71875 \nQ 45.90625 40.484375 42.875 44.328125 \nQ 39.84375 48.1875 33.796875 48.1875 \nQ 26.515625 48.1875 22.3125 43.546875 \nQ 18.109375 38.921875 18.109375 30.90625 \nL 18.109375 0 \nL 9.078125 0 \nL 9.078125 54.6875 \nL 18.109375 54.6875 \nL 18.109375 46.1875 \nQ 21.34375 51.125 25.703125 53.5625 \nQ 30.078125 56 35.796875 56 \nQ 45.21875 56 50.046875 50.171875 \nQ 54.890625 44.34375 54.890625 33.015625 \nz\n\" id=\"DejaVuSans-110\"/>\n       <path d=\"M 52 44.1875 \nQ 55.375 50.25 60.0625 53.125 \nQ 64.75 56 71.09375 56 \nQ 79.640625 56 84.28125 50.015625 \nQ 88.921875 44.046875 88.921875 33.015625 \nL 88.921875 0 \nL 79.890625 0 \nL 79.890625 32.71875 \nQ 79.890625 40.578125 77.09375 44.375 \nQ 74.3125 48.1875 68.609375 48.1875 \nQ 61.625 48.1875 57.5625 43.546875 \nQ 53.515625 38.921875 53.515625 30.90625 \nL 53.515625 0 \nL 44.484375 0 \nL 44.484375 32.71875 \nQ 44.484375 40.625 41.703125 44.40625 \nQ 38.921875 48.1875 33.109375 48.1875 \nQ 26.21875 48.1875 22.15625 43.53125 \nQ 18.109375 38.875 18.109375 30.90625 \nL 18.109375 0 \nL 9.078125 0 \nL 9.078125 54.6875 \nL 18.109375 54.6875 \nL 18.109375 46.1875 \nQ 21.1875 51.21875 25.484375 53.609375 \nQ 29.78125 56 35.6875 56 \nQ 41.65625 56 45.828125 52.96875 \nQ 50 49.953125 52 44.1875 \nz\n\" id=\"DejaVuSans-109\"/>\n       <path d=\"M 9.8125 72.90625 \nL 23.09375 72.90625 \nL 55.421875 11.921875 \nL 55.421875 72.90625 \nL 64.984375 72.90625 \nL 64.984375 0 \nL 51.703125 0 \nL 19.390625 60.984375 \nL 19.390625 0 \nL 9.8125 0 \nz\n\" id=\"DejaVuSans-78\"/>\n       <path d=\"M 18.3125 70.21875 \nL 18.3125 54.6875 \nL 36.8125 54.6875 \nL 36.8125 47.703125 \nL 18.3125 47.703125 \nL 18.3125 18.015625 \nQ 18.3125 11.328125 20.140625 9.421875 \nQ 21.96875 7.515625 27.59375 7.515625 \nL 36.8125 7.515625 \nL 36.8125 0 \nL 27.59375 0 \nQ 17.1875 0 13.234375 3.875 \nQ 9.28125 7.765625 9.28125 18.015625 \nL 9.28125 47.703125 \nL 2.6875 47.703125 \nL 2.6875 54.6875 \nL 9.28125 54.6875 \nL 9.28125 70.21875 \nz\n\" id=\"DejaVuSans-116\"/>\n       <path d=\"M 4.203125 54.6875 \nL 13.1875 54.6875 \nL 24.421875 12.015625 \nL 35.59375 54.6875 \nL 46.1875 54.6875 \nL 57.421875 12.015625 \nL 68.609375 54.6875 \nL 77.59375 54.6875 \nL 63.28125 0 \nL 52.6875 0 \nL 40.921875 44.828125 \nL 29.109375 0 \nL 18.5 0 \nz\n\" id=\"DejaVuSans-119\"/>\n       <path d=\"M 9.078125 75.984375 \nL 18.109375 75.984375 \nL 18.109375 31.109375 \nL 44.921875 54.6875 \nL 56.390625 54.6875 \nL 27.390625 29.109375 \nL 57.625 0 \nL 45.90625 0 \nL 18.109375 26.703125 \nL 18.109375 0 \nL 9.078125 0 \nz\n\" id=\"DejaVuSans-107\"/>\n       <path d=\"M 53.515625 70.515625 \nL 53.515625 60.890625 \nQ 47.90625 63.578125 42.921875 64.890625 \nQ 37.9375 66.21875 33.296875 66.21875 \nQ 25.25 66.21875 20.875 63.09375 \nQ 16.5 59.96875 16.5 54.203125 \nQ 16.5 49.359375 19.40625 46.890625 \nQ 22.3125 44.4375 30.421875 42.921875 \nL 36.375 41.703125 \nQ 47.40625 39.59375 52.65625 34.296875 \nQ 57.90625 29 57.90625 20.125 \nQ 57.90625 9.515625 50.796875 4.046875 \nQ 43.703125 -1.421875 29.984375 -1.421875 \nQ 24.8125 -1.421875 18.96875 -0.25 \nQ 13.140625 0.921875 6.890625 3.21875 \nL 6.890625 13.375 \nQ 12.890625 10.015625 18.65625 8.296875 \nQ 24.421875 6.59375 29.984375 6.59375 \nQ 38.421875 6.59375 43.015625 9.90625 \nQ 47.609375 13.234375 47.609375 19.390625 \nQ 47.609375 24.75 44.3125 27.78125 \nQ 41.015625 30.8125 33.5 32.328125 \nL 27.484375 33.5 \nQ 16.453125 35.6875 11.515625 40.375 \nQ 6.59375 45.0625 6.59375 53.421875 \nQ 6.59375 63.09375 13.40625 68.65625 \nQ 20.21875 74.21875 32.171875 74.21875 \nQ 37.3125 74.21875 42.625 73.28125 \nQ 47.953125 72.359375 53.515625 70.515625 \nz\n\" id=\"DejaVuSans-83\"/>\n       <path d=\"M 5.515625 54.6875 \nL 48.1875 54.6875 \nL 48.1875 46.484375 \nL 14.40625 7.171875 \nL 48.1875 7.171875 \nL 48.1875 0 \nL 4.296875 0 \nL 4.296875 8.203125 \nL 38.09375 47.515625 \nL 5.515625 47.515625 \nz\n\" id=\"DejaVuSans-122\"/>\n      </defs>\n      <use xlink:href=\"#DejaVuSans-77\"/>\n      <use x=\"86.279297\" xlink:href=\"#DejaVuSans-105\"/>\n      <use x=\"114.0625\" xlink:href=\"#DejaVuSans-110\"/>\n      <use x=\"177.441406\" xlink:href=\"#DejaVuSans-105\"/>\n      <use x=\"205.224609\" xlink:href=\"#DejaVuSans-109\"/>\n      <use x=\"302.636719\" xlink:href=\"#DejaVuSans-117\"/>\n      <use x=\"366.015625\" xlink:href=\"#DejaVuSans-109\"/>\n      <use x=\"463.427734\" xlink:href=\"#DejaVuSans-32\"/>\n      <use x=\"495.214844\" xlink:href=\"#DejaVuSans-78\"/>\n      <use x=\"570.019531\" xlink:href=\"#DejaVuSans-101\"/>\n      <use x=\"631.542969\" xlink:href=\"#DejaVuSans-116\"/>\n      <use x=\"670.751953\" xlink:href=\"#DejaVuSans-119\"/>\n      <use x=\"752.539062\" xlink:href=\"#DejaVuSans-111\"/>\n      <use x=\"813.720703\" xlink:href=\"#DejaVuSans-114\"/>\n      <use x=\"854.833984\" xlink:href=\"#DejaVuSans-107\"/>\n      <use x=\"912.744141\" xlink:href=\"#DejaVuSans-32\"/>\n      <use x=\"944.53125\" xlink:href=\"#DejaVuSans-83\"/>\n      <use x=\"1008.007812\" xlink:href=\"#DejaVuSans-105\"/>\n      <use x=\"1035.791016\" xlink:href=\"#DejaVuSans-122\"/>\n      <use x=\"1088.28125\" xlink:href=\"#DejaVuSans-101\"/>\n     </g>\n    </g>\n   </g>\n   <g id=\"line2d_16\">\n    <path clip-path=\"url(#p7907862b0b)\" d=\"M 42.277125 32.201761 \nL 94.171125 32.201761 \nL 95.845125 49.390694 \nL 97.519125 152.524291 \nL 100.867125 152.524291 \nL 102.541125 161.118757 \nL 104.215125 161.118757 \nL 105.889125 204.091089 \nL 117.607125 204.091089 \nL 119.281125 212.685556 \nL 132.673125 212.685556 \nL 134.347125 221.280022 \nL 182.893125 221.280022 \nL 184.567125 229.874489 \nL 397.917187 229.874489 \nL 397.917187 229.874489 \n\" style=\"fill:none;stroke:#1f77b4;stroke-linecap:square;stroke-width:1.5;\"/>\n   </g>\n   <g id=\"patch_3\">\n    <path d=\"M 40.603125 239.758125 \nL 40.603125 22.318125 \n\" style=\"fill:none;stroke:#000000;stroke-linecap:square;stroke-linejoin:miter;stroke-width:0.8;\"/>\n   </g>\n   <g id=\"patch_4\">\n    <path d=\"M 375.403125 239.758125 \nL 375.403125 22.318125 \n\" style=\"fill:none;stroke:#000000;stroke-linecap:square;stroke-linejoin:miter;stroke-width:0.8;\"/>\n   </g>\n   <g id=\"patch_5\">\n    <path d=\"M 40.603125 239.758125 \nL 375.403125 239.758125 \n\" style=\"fill:none;stroke:#000000;stroke-linecap:square;stroke-linejoin:miter;stroke-width:0.8;\"/>\n   </g>\n   <g id=\"patch_6\">\n    <path d=\"M 40.603125 22.318125 \nL 375.403125 22.318125 \n\" style=\"fill:none;stroke:#000000;stroke-linecap:square;stroke-linejoin:miter;stroke-width:0.8;\"/>\n   </g>\n   <g id=\"text_18\">\n    <!-- Threshold Plot for Language 5 -->\n    <g transform=\"translate(117.822188 16.318125)scale(0.12 -0.12)\">\n     <defs>\n      <path d=\"M 19.671875 64.796875 \nL 19.671875 37.40625 \nL 32.078125 37.40625 \nQ 38.96875 37.40625 42.71875 40.96875 \nQ 46.484375 44.53125 46.484375 51.125 \nQ 46.484375 57.671875 42.71875 61.234375 \nQ 38.96875 64.796875 32.078125 64.796875 \nz\nM 9.8125 72.90625 \nL 32.078125 72.90625 \nQ 44.34375 72.90625 50.609375 67.359375 \nQ 56.890625 61.8125 56.890625 51.125 \nQ 56.890625 40.328125 50.609375 34.8125 \nQ 44.34375 29.296875 32.078125 29.296875 \nL 19.671875 29.296875 \nL 19.671875 0 \nL 9.8125 0 \nz\n\" id=\"DejaVuSans-80\"/>\n      <path d=\"M 37.109375 75.984375 \nL 37.109375 68.5 \nL 28.515625 68.5 \nQ 23.6875 68.5 21.796875 66.546875 \nQ 19.921875 64.59375 19.921875 59.515625 \nL 19.921875 54.6875 \nL 34.71875 54.6875 \nL 34.71875 47.703125 \nL 19.921875 47.703125 \nL 19.921875 0 \nL 10.890625 0 \nL 10.890625 47.703125 \nL 2.296875 47.703125 \nL 2.296875 54.6875 \nL 10.890625 54.6875 \nL 10.890625 58.5 \nQ 10.890625 67.625 15.140625 71.796875 \nQ 19.390625 75.984375 28.609375 75.984375 \nz\n\" id=\"DejaVuSans-102\"/>\n      <path d=\"M 9.8125 72.90625 \nL 19.671875 72.90625 \nL 19.671875 8.296875 \nL 55.171875 8.296875 \nL 55.171875 0 \nL 9.8125 0 \nz\n\" id=\"DejaVuSans-76\"/>\n      <path d=\"M 45.40625 27.984375 \nQ 45.40625 37.75 41.375 43.109375 \nQ 37.359375 48.484375 30.078125 48.484375 \nQ 22.859375 48.484375 18.828125 43.109375 \nQ 14.796875 37.75 14.796875 27.984375 \nQ 14.796875 18.265625 18.828125 12.890625 \nQ 22.859375 7.515625 30.078125 7.515625 \nQ 37.359375 7.515625 41.375 12.890625 \nQ 45.40625 18.265625 45.40625 27.984375 \nz\nM 54.390625 6.78125 \nQ 54.390625 -7.171875 48.1875 -13.984375 \nQ 42 -20.796875 29.203125 -20.796875 \nQ 24.46875 -20.796875 20.265625 -20.09375 \nQ 16.0625 -19.390625 12.109375 -17.921875 \nL 12.109375 -9.1875 \nQ 16.0625 -11.328125 19.921875 -12.34375 \nQ 23.78125 -13.375 27.78125 -13.375 \nQ 36.625 -13.375 41.015625 -8.765625 \nQ 45.40625 -4.15625 45.40625 5.171875 \nL 45.40625 9.625 \nQ 42.625 4.78125 38.28125 2.390625 \nQ 33.9375 0 27.875 0 \nQ 17.828125 0 11.671875 7.65625 \nQ 5.515625 15.328125 5.515625 27.984375 \nQ 5.515625 40.671875 11.671875 48.328125 \nQ 17.828125 56 27.875 56 \nQ 33.9375 56 38.28125 53.609375 \nQ 42.625 51.21875 45.40625 46.390625 \nL 45.40625 54.6875 \nL 54.390625 54.6875 \nz\n\" id=\"DejaVuSans-103\"/>\n     </defs>\n     <use xlink:href=\"#DejaVuSans-84\"/>\n     <use x=\"61.083984\" xlink:href=\"#DejaVuSans-104\"/>\n     <use x=\"124.462891\" xlink:href=\"#DejaVuSans-114\"/>\n     <use x=\"163.326172\" xlink:href=\"#DejaVuSans-101\"/>\n     <use x=\"224.849609\" xlink:href=\"#DejaVuSans-115\"/>\n     <use x=\"276.949219\" xlink:href=\"#DejaVuSans-104\"/>\n     <use x=\"340.328125\" xlink:href=\"#DejaVuSans-111\"/>\n     <use x=\"401.509766\" xlink:href=\"#DejaVuSans-108\"/>\n     <use x=\"429.292969\" xlink:href=\"#DejaVuSans-100\"/>\n     <use x=\"492.769531\" xlink:href=\"#DejaVuSans-32\"/>\n     <use x=\"524.556641\" xlink:href=\"#DejaVuSans-80\"/>\n     <use x=\"584.859375\" xlink:href=\"#DejaVuSans-108\"/>\n     <use x=\"612.642578\" xlink:href=\"#DejaVuSans-111\"/>\n     <use x=\"673.824219\" xlink:href=\"#DejaVuSans-116\"/>\n     <use x=\"713.033203\" xlink:href=\"#DejaVuSans-32\"/>\n     <use x=\"744.820312\" xlink:href=\"#DejaVuSans-102\"/>\n     <use x=\"780.025391\" xlink:href=\"#DejaVuSans-111\"/>\n     <use x=\"841.207031\" xlink:href=\"#DejaVuSans-114\"/>\n     <use x=\"882.320312\" xlink:href=\"#DejaVuSans-32\"/>\n     <use x=\"914.107422\" xlink:href=\"#DejaVuSans-76\"/>\n     <use x=\"969.820312\" xlink:href=\"#DejaVuSans-97\"/>\n     <use x=\"1031.099609\" xlink:href=\"#DejaVuSans-110\"/>\n     <use x=\"1094.478516\" xlink:href=\"#DejaVuSans-103\"/>\n     <use x=\"1157.955078\" xlink:href=\"#DejaVuSans-117\"/>\n     <use x=\"1221.333984\" xlink:href=\"#DejaVuSans-97\"/>\n     <use x=\"1282.613281\" xlink:href=\"#DejaVuSans-103\"/>\n     <use x=\"1346.089844\" xlink:href=\"#DejaVuSans-101\"/>\n     <use x=\"1407.613281\" xlink:href=\"#DejaVuSans-32\"/>\n     <use x=\"1439.400391\" xlink:href=\"#DejaVuSans-53\"/>\n    </g>\n   </g>\n  </g>\n </g>\n <defs>\n  <clipPath id=\"p7907862b0b\">\n   <rect height=\"217.44\" width=\"334.8\" x=\"40.603125\" y=\"22.318125\"/>\n  </clipPath>\n </defs>\n</svg>\n",
      "image/png": "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\n"
     },
     "metadata": {
      "needs_background": "light"
     }
    }
   ],
   "source": [
    "errors = []\n",
    "for size in node_num:\n",
    "    out_dict_for_size = output_file[str(size)]\n",
    "    vals = list(out_dict_for_size.values())\n",
    "    vals = np.array(vals)\n",
    "    vals = vals[:,0]\n",
    "    errors.append(np.min(vals))\n",
    "errors = np.array(errors)\n",
    "\n",
    "thresholds = np.arange(.001, 1, .001)\n",
    "\n",
    "min_sizes = []\n",
    "for threshold in thresholds:\n",
    "    idx = 0\n",
    "    for err in errors:\n",
    "        if err <= threshold:\n",
    "            break\n",
    "        idx += 1\n",
    "    if idx < len(node_num):\n",
    "        min_sizes.append(node_num[idx])\n",
    "    else:\n",
    "        min_sizes.append(max(node_num))\n",
    "        \n",
    "plt.title('Threshold Plot for Language {0}'.format(language_num))\n",
    "plt.plot(thresholds, min_sizes)\n",
    "plt.xlabel('Error Treshold Value')\n",
    "plt.ylabel('Minimum Network Size')\n",
    "plt.xlim(0,0.2)"
   ]
  },
  {
   "cell_type": "markdown",
   "metadata": {},
   "source": [
    "**Calculating Complexity in bits**"
   ]
  },
  {
   "cell_type": "code",
<<<<<<< Updated upstream
   "execution_count": 55,
=======
   "execution_count": null,
>>>>>>> Stashed changes
   "metadata": {},
   "outputs": [],
   "source": [
    "def language_complexity(lnum):\n",
    "    language_data = term_data[term_data.get('#Lnum').eq(lnum)]\n",
    "    unique_terms = list(language_data['Term Abbrev'].unique())\n",
    "    l1_grouped = language_data.groupby('#cnum')['Term Abbrev'].apply(list)\n",
    "    display(l1_grouped)\n",
    "    l1_chip_abbrev_percentage = [[(l1_grouped[i + 1].count(abbrev) / len(l1_grouped[i + 1])) \\\n",
    "                              for abbrev in unique_terms] for i in range(len(l1_grouped))]\n",
    "    l1_result = pd.DataFrame(l1_chip_abbrev_percentage)\n",
    "    l1_result.index += 1\n",
    "    l1_result.index.name = '#cnum'\n",
    "    l1_result.columns = unique_terms\n",
    "\n",
    "    chip_norm = []\n",
    "\n",
    "    for x in chip_num:\n",
    "        chip_norm.append(l1_result.loc[x,:].values.tolist())\n",
    "\n",
    "    terms = unique_terms\n",
    "    chips = list(language_data['#cnum'].unique())\n",
    "\n",
    "    complexity = 0\n",
    "    prior_m = 1 / len(chips)\n",
    "    for w in terms:\n",
    "        word_prob = 0\n",
    "        for m in chips:\n",
    "            word_prob += prior_m * l1_result.at[m, w]\n",
    "        for m in chips:\n",
    "            encoder_prob = l1_result.at[m, w]\n",
    "            if encoder_prob != 0:\n",
    "                mutual_information = prior_m * encoder_prob * np.log2(encoder_prob / word_prob)\n",
    "            complexity += mutual_information\n",
    "\n",
    "    return complexity"
   ]
  },
  {
   "cell_type": "code",
<<<<<<< Updated upstream
   "execution_count": 56,
   "metadata": {},
   "outputs": [
    {
     "data": {
      "text/plain": [
       "#cnum\n",
       "1      [7, 7, 7, 7, 7, 2]\n",
       "2      [2, 2, 7, 7, 2, 2]\n",
       "3      [4, 4, 4, 4, 4, 4]\n",
       "4      [6, 6, 6, 6, 6, 6]\n",
       "5      [7, 2, 7, 2, 2, 2]\n",
       "              ...        \n",
       "326    [5, 5, 5, 5, 5, 5]\n",
       "327    [7, 9, 9, 9, 5, 9]\n",
       "328    [2, 2, 2, 7, 2, 6]\n",
       "329    [1, 5, 5, 5, 6, 6]\n",
       "330    [7, 9, 9, 9, 9, 9]\n",
       "Name: Term Abbrev, Length: 330, dtype: object"
      ]
     },
     "metadata": {},
     "output_type": "display_data"
    },
    {
     "name": "stdout",
     "output_type": "stream",
     "text": [
      "9.803655245868127\n"
     ]
    }
   ],
=======
   "execution_count": null,
   "metadata": {},
   "outputs": [],
>>>>>>> Stashed changes
   "source": [
    "result = language_complexity(language_num)\n",
    "print(result)"
   ]
  }
 ],
 "metadata": {
  "history": [
   {
    "code": "import sys\nimport math\nimport numpy as np\n\"\"\"\nnot working\nfrom Language_Data_Scraper.py import *\n\"\"\"\nsys.path.insert(0, '..')\nfrom net_framework import *\nfrom sklearn.model_selection import train_test_split\nimport pandas as pd",
    "id": "98b63ce99ffa4f428115004fb0366917",
    "idx": 0,
    "time": "2021-02-03T02:17:02.768Z",
    "type": "execution"
   },
   {
    "code": "term_data = pd.read_csv('term.txt', sep=\"\\t\", header=None)\nterm_data.columns = [\"#Lnum\", \"#snum\", \"#cnum\", \"Term Abbrev\"]\nterm_data.head()",
    "id": "20b0acb43c014af6866c6ee50356a0b2",
    "idx": 1,
    "time": "2021-02-03T02:17:03.459Z",
    "type": "execution"
   },
   {
    "id": "98b63ce99ffa4f428115004fb0366917",
    "time": "2021-02-03T02:17:04.551Z",
    "type": "completion"
   },
   {
    "id": "20b0acb43c014af6866c6ee50356a0b2",
    "time": "2021-02-03T02:17:04.866Z",
    "type": "completion"
   },
   {
    "code": "cnum_data = pd.read_csv('cnum-vhcm-lab-new.txt', sep=\"\\t\")\nlocations = cnum_data[['#cnum']]\nlocations['Normalized-L'] = (cnum_data['L*'] - cnum_data['L*'].mean())/(cnum_data['L*'] - cnum_data['L*'].mean()).max()\nlocations['Normalized-a'] = (cnum_data['a*'] - cnum_data['a*'].mean())/(cnum_data['a*'] - cnum_data['a*'].mean()).std() * 1/2\nlocations['Normalized-b'] = (cnum_data['b*'] - cnum_data['b*'].mean())/(cnum_data['b*'] - cnum_data['b*'].mean()).std() * 1/2\ndisplay(locations.head(5))",
    "id": "6e3071fb1dde4215810e2a80d8e471a4",
    "idx": 2,
    "time": "2021-02-03T02:17:08.061Z",
    "type": "execution"
   },
   {
    "id": "6e3071fb1dde4215810e2a80d8e471a4",
    "time": "2021-02-03T02:17:08.139Z",
    "type": "completion"
   },
   {
    "code": "locations = locations.sort_values('#cnum')\nchip_num = list(locations['#cnum'])\nlab_norm = [[row[2], row[3], row[4]] for row in locations.itertuples()]",
    "id": "467e3a66759c4d08a81372178f7abd45",
    "idx": 3,
    "time": "2021-02-03T02:17:11.506Z",
    "type": "execution"
   },
   {
    "id": "467e3a66759c4d08a81372178f7abd45",
    "time": "2021-02-03T02:17:11.558Z",
    "type": "completion"
   },
   {
    "code": "l1 = term_data[term_data.get('#Lnum').eq(1)]\nunique_symbols = list(l1['Term Abbrev'].unique())\nl1_grouped = l1.groupby('#cnum')['Term Abbrev'].apply(list)\nl1_chip_abbrev_percentage = [[(l1_grouped[i + 1].count(abbrev) / len(l1_grouped[i + 1])) for abbrev in unique_symbols] for i in range(len(l1_grouped))]",
    "id": "02eaf4a67fb7453dadf7ec4de2ba2b00",
    "idx": 4,
    "time": "2021-02-03T02:17:11.748Z",
    "type": "execution"
   },
   {
    "id": "02eaf4a67fb7453dadf7ec4de2ba2b00",
    "time": "2021-02-03T02:17:11.840Z",
    "type": "completion"
   },
   {
    "code": "l1_result = pd.DataFrame(l1_chip_abbrev_percentage)\nl1_result.index += 1\nl1_result.index.name = '#cnum'\nl1_result.columns = unique_symbols\nprint(l1_result)\nchip_norm = []\n#pull the percentage for each cnum\nfor x in chip_num:\n    chip_norm.append((l1_result.loc[l1[\"#cnum\"]==x]).values.tolist()[0])",
    "id": "0f5a1ecf987049e68b1f180f53d014bd",
    "idx": 5,
    "time": "2021-02-03T02:17:11.958Z",
    "type": "execution"
   },
   {
    "id": "0f5a1ecf987049e68b1f180f53d014bd",
    "time": "2021-02-03T02:17:12.253Z",
    "type": "completion"
   },
   {
    "code": "#Number of training iterations\nnum_iters = 5000\n#Size of training dataset\nnum_examples = 2000\n#Listing out the shapes of each model\ncolors_num = len(chip_norm[0])\ninput_size = 3\n\nnetwork_shapes = [(input_size, [100], colors_num), (input_size, [100], colors_num), (input_size, [100], colors_num)]\n#Learning rate of the network\nrate = 0.001\n\n#Generating Training Data\nlab_train, lab_test, chip_train, chip_test = train_test_split(lab_norm, chip_norm, test_size=0.1)\n\ninput_train = torch.FloatTensor(lab_train)\noutput_train = torch.FloatTensor(chip_train)\ninput_test= torch.FloatTensor(lab_test)\noutput_test = torch.FloatTensor(chip_test)",
    "id": "8cc05ec00119411f8f0b62b4fa50265b",
    "idx": 6,
    "time": "2021-02-03T02:17:12.570Z",
    "type": "execution"
   },
   {
    "id": "8cc05ec00119411f8f0b62b4fa50265b",
    "time": "2021-02-03T02:17:12.619Z",
    "type": "completion"
   },
   {
    "code": "#Array of losses over training period for each network\nfor net_num, shape in enumerate(network_shapes):\n    print('Network Shape:',flush = True)\n    print('Input Size = ' + str(shape[0]), flush = True)\n    print('Hidden Size = ' + str(shape[1]), flush = True)\n    print('Output Size = ' + str(shape[2]), flush = True)\n    NN = Neural_Network(inputSize = 3, outputSize = colors_num, hiddenSize = [3,3,3] , learning_rate = 0.001)\n\n    for i in range(num_iters):\n        #Calculating l1 error\n        error = NN.l1error(output_train, NN(input_train))\n        if i == 0: \n            dh = display(\"#\" + str(i) + \" Error: \" + str(error), display_id=True)\n        else:\n            dh.update(\"#\" + str(i) + \" Error: \" + str(error))\n            \n        NN.train(input_train, output_train)\n    #Saves the training results in a filed named \"Net 0\", \"Net 1\", etc. \n    NN.saveWeights(model = NN, path = \"saved_networks/Net \" + str(net_num));",
    "id": "9277c562ac6843d08f0c0336d9745513",
    "idx": 7,
    "time": "2021-02-03T02:17:13.098Z",
    "type": "execution"
   },
   {
    "id": "9277c562ac6843d08f0c0336d9745513",
    "time": "2021-02-03T02:17:16.262Z",
    "type": "completion"
   },
   {
    "code": "l1_result = pd.DataFrame(l1_chip_abbrev_percentage)\nl1_result.index += 1\nl1_result.index.name = '#cnum'\nl1_result.columns = unique_symbols\nprint(l1_result)\nchip_norm = []\n#pull the percentage for each cnum\nfor x in chip_num:\n    chip_norm.append((l1_result.loc[l1[\"#cnum\"]==x]).values.tolist()[0])",
    "id": "0f5a1ecf987049e68b1f180f53d014bd",
    "idx": 5,
    "time": "2021-02-03T02:24:19.024Z",
    "type": "execution"
   },
   {
    "id": "0f5a1ecf987049e68b1f180f53d014bd",
    "time": "2021-02-03T02:24:19.357Z",
    "type": "completion"
   },
   {
    "code": "l1 = term_data[term_data.get('#Lnum').eq(2)]\nunique_symbols = list(l1['Term Abbrev'].unique())\nl1_grouped = l1.groupby('#cnum')['Term Abbrev'].apply(list)\nl1_chip_abbrev_percentage = [[(l1_grouped[i + 1].count(abbrev) / len(l1_grouped[i + 1])) for abbrev in unique_symbols] for i in range(len(l1_grouped))]",
    "id": "02eaf4a67fb7453dadf7ec4de2ba2b00",
    "idx": 4,
    "time": "2021-02-03T02:24:49.472Z",
    "type": "execution"
   },
   {
    "id": "02eaf4a67fb7453dadf7ec4de2ba2b00",
    "time": "2021-02-03T02:24:49.625Z",
    "type": "completion"
   },
   {
    "code": "l1_result = pd.DataFrame(l1_chip_abbrev_percentage)\nl1_result.index += 1\nl1_result.index.name = '#cnum'\nl1_result.columns = unique_symbols\nprint(l1_result)\nchip_norm = []\n#pull the percentage for each cnum\nfor x in chip_num:\n    chip_norm.append((l1_result.loc[l1[\"#cnum\"]==x]).values.tolist()[0])",
    "id": "0f5a1ecf987049e68b1f180f53d014bd",
    "idx": 5,
    "time": "2021-02-03T02:24:50.379Z",
    "type": "execution"
   },
   {
    "id": "0f5a1ecf987049e68b1f180f53d014bd",
    "time": "2021-02-03T02:24:50.485Z",
    "type": "completion"
   },
   {
    "code": "l1_result = pd.DataFrame(l1_chip_abbrev_percentage)\nl1_result.index += 1\nl1_result.index.name = '#cnum'\nl1_result.columns = unique_symbols\nprint(l1_result)\nchip_norm = []\n#pull the percentage for each cnum\nfor x in chip_num:\n    chip_norm.append((l1_result.loc[l1[\"#cnum\"]==x]).values.tolist()[0])\n    \nchip_norm",
    "id": "0f5a1ecf987049e68b1f180f53d014bd",
    "idx": 5,
    "time": "2021-02-03T02:25:21.820Z",
    "type": "execution"
   },
   {
    "id": "0f5a1ecf987049e68b1f180f53d014bd",
    "time": "2021-02-03T02:25:21.934Z",
    "type": "completion"
   },
   {
    "code": "l1 = term_data[term_data.get('#Lnum').eq(1)]\nunique_symbols = list(l1['Term Abbrev'].unique())\nl1_grouped = l1.groupby('#cnum')['Term Abbrev'].apply(list)\nl1_chip_abbrev_percentage = [[(l1_grouped[i + 1].count(abbrev) / len(l1_grouped[i + 1])) for abbrev in unique_symbols] for i in range(len(l1_grouped))]",
    "id": "02eaf4a67fb7453dadf7ec4de2ba2b00",
    "idx": 4,
    "time": "2021-02-03T02:25:26.177Z",
    "type": "execution"
   },
   {
    "id": "02eaf4a67fb7453dadf7ec4de2ba2b00",
    "time": "2021-02-03T02:25:26.258Z",
    "type": "completion"
   },
   {
    "code": "l1_result = pd.DataFrame(l1_chip_abbrev_percentage)\nl1_result.index += 1\nl1_result.index.name = '#cnum'\nl1_result.columns = unique_symbols\nprint(l1_result)\nchip_norm = []\n#pull the percentage for each cnum\nfor x in chip_num:\n    chip_norm.append((l1_result.loc[l1[\"#cnum\"]==x]).values.tolist()[0])\n    \nchip_norm",
    "id": "0f5a1ecf987049e68b1f180f53d014bd",
    "idx": 5,
    "time": "2021-02-03T02:25:26.373Z",
    "type": "execution"
   },
   {
    "id": "0f5a1ecf987049e68b1f180f53d014bd",
    "time": "2021-02-03T02:25:26.772Z",
    "type": "completion"
   },
   {
    "code": "chip_num",
    "id": "cf646372e8c149f695e18186263057f5",
    "idx": 4,
    "time": "2021-02-03T02:26:11.410Z",
    "type": "execution"
   },
   {
    "id": "cf646372e8c149f695e18186263057f5",
    "time": "2021-02-03T02:26:11.478Z",
    "type": "completion"
   },
   {
    "code": "lab_norm",
    "id": "cf646372e8c149f695e18186263057f5",
    "idx": 4,
    "time": "2021-02-03T02:26:22.729Z",
    "type": "execution"
   },
   {
    "id": "cf646372e8c149f695e18186263057f5",
    "time": "2021-02-03T02:26:22.830Z",
    "type": "completion"
   },
   {
    "code": "locations",
    "id": "cf646372e8c149f695e18186263057f5",
    "idx": 4,
    "time": "2021-02-03T02:26:29.288Z",
    "type": "execution"
   },
   {
    "id": "cf646372e8c149f695e18186263057f5",
    "time": "2021-02-03T02:26:29.375Z",
    "type": "completion"
   },
   {
    "code": "l1",
    "id": "11d0c357e9c0412a866ee6c42928bedd",
    "idx": 5,
    "time": "2021-02-03T02:28:27.321Z",
    "type": "execution"
   },
   {
    "id": "11d0c357e9c0412a866ee6c42928bedd",
    "time": "2021-02-03T02:28:27.377Z",
    "type": "completion"
   },
   {
    "code": "l1_grouped",
    "id": "11d0c357e9c0412a866ee6c42928bedd",
    "idx": 5,
    "time": "2021-02-03T02:29:19.390Z",
    "type": "execution"
   },
   {
    "id": "11d0c357e9c0412a866ee6c42928bedd",
    "time": "2021-02-03T02:29:19.445Z",
    "type": "completion"
   },
   {
    "code": "l1_grouped[0]",
    "id": "11d0c357e9c0412a866ee6c42928bedd",
    "idx": 5,
    "time": "2021-02-03T02:29:25.010Z",
    "type": "execution"
   },
   {
    "id": "11d0c357e9c0412a866ee6c42928bedd",
    "time": "2021-02-03T02:29:25.098Z",
    "type": "completion"
   },
   {
    "code": "l1_grouped",
    "id": "11d0c357e9c0412a866ee6c42928bedd",
    "idx": 5,
    "time": "2021-02-03T02:29:34.880Z",
    "type": "execution"
   },
   {
    "id": "11d0c357e9c0412a866ee6c42928bedd",
    "time": "2021-02-03T02:29:34.932Z",
    "type": "completion"
   },
   {
    "code": "l1_grouped[1]",
    "id": "11d0c357e9c0412a866ee6c42928bedd",
    "idx": 5,
    "time": "2021-02-03T02:29:45.667Z",
    "type": "execution"
   },
   {
    "id": "11d0c357e9c0412a866ee6c42928bedd",
    "time": "2021-02-03T02:29:45.710Z",
    "type": "completion"
   },
   {
    "code": "len(l1_grouped[1]",
    "id": "11d0c357e9c0412a866ee6c42928bedd",
    "idx": 5,
    "time": "2021-02-03T02:29:55.651Z",
    "type": "execution"
   },
   {
    "id": "11d0c357e9c0412a866ee6c42928bedd",
    "time": "2021-02-03T02:29:55.695Z",
    "type": "completion"
   },
   {
    "code": "len(l1_grouped[1])",
    "id": "11d0c357e9c0412a866ee6c42928bedd",
    "idx": 5,
    "time": "2021-02-03T02:29:58.486Z",
    "type": "execution"
   },
   {
    "id": "11d0c357e9c0412a866ee6c42928bedd",
    "time": "2021-02-03T02:29:58.586Z",
    "type": "completion"
   },
   {
    "code": "len(l1_grouped[2])",
    "id": "11d0c357e9c0412a866ee6c42928bedd",
    "idx": 5,
    "time": "2021-02-03T02:30:08.947Z",
    "type": "execution"
   },
   {
    "id": "11d0c357e9c0412a866ee6c42928bedd",
    "time": "2021-02-03T02:30:08.994Z",
    "type": "completion"
   },
   {
    "code": "l1 = term_data[term_data.get('#Lnum').eq(2)]\nunique_symbols = list(l1['Term Abbrev'].unique())\nl1_grouped = l1.groupby('#cnum')['Term Abbrev'].apply(list)\nl1_chip_abbrev_percentage = [[(l1_grouped[i + 1].count(abbrev) / len(l1_grouped[i + 1])) for abbrev in unique_symbols] for i in range(len(l1_grouped))]",
    "id": "02eaf4a67fb7453dadf7ec4de2ba2b00",
    "idx": 4,
    "time": "2021-02-03T02:30:25.427Z",
    "type": "execution"
   },
   {
    "id": "02eaf4a67fb7453dadf7ec4de2ba2b00",
    "time": "2021-02-03T02:30:25.558Z",
    "type": "completion"
   },
   {
    "code": "(l1_grouped[2])",
    "id": "11d0c357e9c0412a866ee6c42928bedd",
    "idx": 5,
    "time": "2021-02-03T02:30:29.331Z",
    "type": "execution"
   },
   {
    "id": "11d0c357e9c0412a866ee6c42928bedd",
    "time": "2021-02-03T02:30:29.375Z",
    "type": "completion"
   },
   {
    "code": "(l1_grouped)",
    "id": "11d0c357e9c0412a866ee6c42928bedd",
    "idx": 5,
    "time": "2021-02-03T02:30:35.569Z",
    "type": "execution"
   },
   {
    "id": "11d0c357e9c0412a866ee6c42928bedd",
    "time": "2021-02-03T02:30:35.630Z",
    "type": "completion"
   },
   {
    "code": "(l1_grouped)",
    "id": "11d0c357e9c0412a866ee6c42928bedd",
    "idx": 5,
    "time": "2021-02-03T02:31:07.091Z",
    "type": "execution"
   },
   {
    "id": "11d0c357e9c0412a866ee6c42928bedd",
    "time": "2021-02-03T02:31:07.141Z",
    "type": "completion"
   },
   {
    "code": "l1_result = pd.DataFrame(l1_chip_abbrev_percentage)\nl1_result.index += 1\nl1_result.index.name = '#cnum'\nl1_result.columns = unique_symbols\nprint(l1_result)\nchip_norm = []\n#pull the percentage for each cnum\nfor x in chip_num:\n    chip_norm.append((l1_result.loc[l1[\"#cnum\"]==x]).values.tolist()[0])\n    \nchip_norm",
    "id": "0f5a1ecf987049e68b1f180f53d014bd",
    "idx": 6,
    "time": "2021-02-03T02:31:57.834Z",
    "type": "execution"
   },
   {
    "id": "0f5a1ecf987049e68b1f180f53d014bd",
    "time": "2021-02-03T02:31:57.989Z",
    "type": "completion"
   },
   {
    "code": "unique_symbols",
    "id": "11d0c357e9c0412a866ee6c42928bedd",
    "idx": 5,
    "time": "2021-02-03T02:32:18.603Z",
    "type": "execution"
   },
   {
    "id": "11d0c357e9c0412a866ee6c42928bedd",
    "time": "2021-02-03T02:32:18.650Z",
    "type": "completion"
   },
   {
    "code": "len(unique_symbols)",
    "id": "11d0c357e9c0412a866ee6c42928bedd",
    "idx": 5,
    "time": "2021-02-03T02:32:31.570Z",
    "type": "execution"
   },
   {
    "id": "11d0c357e9c0412a866ee6c42928bedd",
    "time": "2021-02-03T02:32:31.661Z",
    "type": "completion"
   },
   {
    "code": "l1_grouped",
    "id": "11d0c357e9c0412a866ee6c42928bedd",
    "idx": 5,
    "time": "2021-02-03T02:32:44.502Z",
    "type": "execution"
   },
   {
    "id": "11d0c357e9c0412a866ee6c42928bedd",
    "time": "2021-02-03T02:32:44.556Z",
    "type": "completion"
   },
   {
    "code": "l1_grouped\nl1_chip_abbrev_percentage",
    "id": "11d0c357e9c0412a866ee6c42928bedd",
    "idx": 5,
    "time": "2021-02-03T02:33:02.372Z",
    "type": "execution"
   },
   {
    "id": "11d0c357e9c0412a866ee6c42928bedd",
    "time": "2021-02-03T02:33:03.174Z",
    "type": "completion"
   },
   {
    "code": "l1_result",
    "id": "c5f34e313dc24add925362a88193da74",
    "idx": 5,
    "time": "2021-02-03T02:34:25.660Z",
    "type": "execution"
   },
   {
    "id": "c5f34e313dc24add925362a88193da74",
    "time": "2021-02-03T02:34:25.764Z",
    "type": "completion"
   },
   {
    "code": "l1_result.loc[l1[\"#cnum\"]==1]",
    "id": "c5f34e313dc24add925362a88193da74",
    "idx": 5,
    "time": "2021-02-03T02:34:41.836Z",
    "type": "execution"
   },
   {
    "id": "c5f34e313dc24add925362a88193da74",
    "time": "2021-02-03T02:34:41.934Z",
    "type": "completion"
   },
   {
    "code": "l1_result.loc[1:]",
    "id": "c5f34e313dc24add925362a88193da74",
    "idx": 5,
    "time": "2021-02-03T02:36:01.388Z",
    "type": "execution"
   },
   {
    "id": "c5f34e313dc24add925362a88193da74",
    "time": "2021-02-03T02:36:01.493Z",
    "type": "completion"
   },
   {
    "code": "l1_result.loc[1,:]",
    "id": "c5f34e313dc24add925362a88193da74",
    "idx": 5,
    "time": "2021-02-03T02:36:16.371Z",
    "type": "execution"
   },
   {
    "id": "c5f34e313dc24add925362a88193da74",
    "time": "2021-02-03T02:36:16.426Z",
    "type": "completion"
   },
   {
    "code": "l1_result.loc[1,:].values.tolist()",
    "id": "c5f34e313dc24add925362a88193da74",
    "idx": 5,
    "time": "2021-02-03T02:37:22.747Z",
    "type": "execution"
   },
   {
    "id": "c5f34e313dc24add925362a88193da74",
    "time": "2021-02-03T02:37:22.801Z",
    "type": "completion"
   },
   {
    "code": "l1 = term_data[term_data.get('#Lnum').eq(1)]\nunique_symbols = list(l1['Term Abbrev'].unique())\nl1_grouped = l1.groupby('#cnum')['Term Abbrev'].apply(list)\nl1_chip_abbrev_percentage = [[(l1_grouped[i + 1].count(abbrev) / len(l1_grouped[i + 1])) for abbrev in unique_symbols] for i in range(len(l1_grouped))]",
    "id": "02eaf4a67fb7453dadf7ec4de2ba2b00",
    "idx": 4,
    "time": "2021-02-03T02:40:06.885Z",
    "type": "execution"
   },
   {
    "id": "02eaf4a67fb7453dadf7ec4de2ba2b00",
    "time": "2021-02-03T02:40:06.970Z",
    "type": "completion"
   },
   {
    "code": "l1_result = pd.DataFrame(l1_chip_abbrev_percentage)\nl1_result.index += 1\nl1_result.index.name = '#cnum'\nl1_result.columns = unique_symbols\nprint(l1_result)\nchip_norm = []\n#pull the percentage for each cnum\nfor x in chip_num:\n    chip_norm.append((l1_result.loc[l1[\"#cnum\"]==x]).values.tolist()[0])\n    \nchip_norm",
    "id": "0f5a1ecf987049e68b1f180f53d014bd",
    "idx": 6,
    "time": "2021-02-03T02:40:09.847Z",
    "type": "execution"
   },
   {
    "id": "0f5a1ecf987049e68b1f180f53d014bd",
    "time": "2021-02-03T02:40:10.221Z",
    "type": "completion"
   },
   {
    "code": "l1_result = pd.DataFrame(l1_chip_abbrev_percentage)\nl1_result.index += 1\nl1_result.index.name = '#cnum'\nl1_result.columns = unique_symbols\nprint(l1_result)\nchip_norm = []\n#pull the percentage for each cnum\nfor x in chip_num:\n#     chip_norm.append((l1_result.loc[l1[\"#cnum\"]==x]).values.tolist()[0])\n    chip_norm.append(l1_result.loc[1,:].values.tolist())\n    \nchip_norm",
    "id": "0f5a1ecf987049e68b1f180f53d014bd",
    "idx": 6,
    "time": "2021-02-03T02:40:41.672Z",
    "type": "execution"
   },
   {
    "id": "0f5a1ecf987049e68b1f180f53d014bd",
    "time": "2021-02-03T02:40:41.846Z",
    "type": "completion"
   },
   {
    "code": "l1_result = pd.DataFrame(l1_chip_abbrev_percentage)\nl1_result.index += 1\nl1_result.index.name = '#cnum'\nl1_result.columns = unique_symbols\nprint(l1_result)\nchip_norm = []\n#pull the percentage for each cnum\nfor x in chip_num:\n#     chip_norm.append((l1_result.loc[l1[\"#cnum\"]==x]).values.tolist()[0])\n    chip_norm.append(l1_result.loc[x,:].values.tolist())\n    \nchip_norm",
    "id": "0f5a1ecf987049e68b1f180f53d014bd",
    "idx": 6,
    "time": "2021-02-03T02:40:47.442Z",
    "type": "execution"
   },
   {
    "id": "0f5a1ecf987049e68b1f180f53d014bd",
    "time": "2021-02-03T02:40:47.600Z",
    "type": "completion"
   },
   {
    "code": "l1 = term_data[term_data.get('#Lnum').eq(2)]\nunique_symbols = list(l1['Term Abbrev'].unique())\nl1_grouped = l1.groupby('#cnum')['Term Abbrev'].apply(list)\nl1_chip_abbrev_percentage = [[(l1_grouped[i + 1].count(abbrev) / len(l1_grouped[i + 1])) for abbrev in unique_symbols] for i in range(len(l1_grouped))]",
    "id": "02eaf4a67fb7453dadf7ec4de2ba2b00",
    "idx": 4,
    "time": "2021-02-03T02:41:07.062Z",
    "type": "execution"
   },
   {
    "id": "02eaf4a67fb7453dadf7ec4de2ba2b00",
    "time": "2021-02-03T02:41:07.197Z",
    "type": "completion"
   },
   {
    "code": "l1_result = pd.DataFrame(l1_chip_abbrev_percentage)\nl1_result.index += 1\nl1_result.index.name = '#cnum'\nl1_result.columns = unique_symbols\nprint(l1_result)\nchip_norm = []\n#pull the percentage for each cnum\nfor x in chip_num:\n#     chip_norm.append((l1_result.loc[l1[\"#cnum\"]==x]).values.tolist()[0])\n    chip_norm.append(l1_result.loc[x,:].values.tolist())\n    \nchip_norm",
    "id": "0f5a1ecf987049e68b1f180f53d014bd",
    "idx": 6,
    "time": "2021-02-03T02:41:09.666Z",
    "type": "execution"
   },
   {
    "id": "0f5a1ecf987049e68b1f180f53d014bd",
    "time": "2021-02-03T02:41:10.109Z",
    "type": "completion"
   },
   {
    "code": "l1_result = pd.DataFrame(l1_chip_abbrev_percentage)\nl1_result.index += 1\nl1_result.index.name = '#cnum'\nl1_result.columns = unique_symbols\nprint(l1_result)\nchip_norm = []\n#pull the percentage for each cnum\nfor x in chip_num:\n#     chip_norm.append((l1_result.loc[l1[\"#cnum\"]==x]).values.tolist()[0])\n    chip_norm.append(l1_result.loc[x,:].values.tolist())\n    \nchip_norm.shape()",
    "id": "0f5a1ecf987049e68b1f180f53d014bd",
    "idx": 6,
    "time": "2021-02-03T02:41:27.119Z",
    "type": "execution"
   },
   {
    "id": "0f5a1ecf987049e68b1f180f53d014bd",
    "time": "2021-02-03T02:41:27.254Z",
    "type": "completion"
   },
   {
    "code": "l1_result = pd.DataFrame(l1_chip_abbrev_percentage)\nl1_result.index += 1\nl1_result.index.name = '#cnum'\nl1_result.columns = unique_symbols\nprint(l1_result)\nchip_norm = []\n#pull the percentage for each cnum\nfor x in chip_num:\n#     chip_norm.append((l1_result.loc[l1[\"#cnum\"]==x]).values.tolist()[0])\n    chip_norm.append(l1_result.loc[x,:].values.tolist())\n    \nchip_norm.shape",
    "id": "0f5a1ecf987049e68b1f180f53d014bd",
    "idx": 6,
    "time": "2021-02-03T02:41:39.706Z",
    "type": "execution"
   },
   {
    "id": "0f5a1ecf987049e68b1f180f53d014bd",
    "time": "2021-02-03T02:41:39.828Z",
    "type": "completion"
   },
   {
    "code": "l1_result = pd.DataFrame(l1_chip_abbrev_percentage)\nl1_result.index += 1\nl1_result.index.name = '#cnum'\nl1_result.columns = unique_symbols\nprint(l1_result)\nchip_norm = []\n#pull the percentage for each cnum\nfor x in chip_num:\n#     chip_norm.append((l1_result.loc[l1[\"#cnum\"]==x]).values.tolist()[0])\n    chip_norm.append(l1_result.loc[x,:].values.tolist())\n    \nlen(chip_norm)\nchip_norm[0]",
    "id": "0f5a1ecf987049e68b1f180f53d014bd",
    "idx": 6,
    "time": "2021-02-03T02:41:54.333Z",
    "type": "execution"
   },
   {
    "id": "0f5a1ecf987049e68b1f180f53d014bd",
    "time": "2021-02-03T02:41:54.583Z",
    "type": "completion"
   },
   {
    "code": "l1_result = pd.DataFrame(l1_chip_abbrev_percentage)\nl1_result.index += 1\nl1_result.index.name = '#cnum'\nl1_result.columns = unique_symbols\nprint(l1_result)\nchip_norm = []\n#pull the percentage for each cnum\nfor x in chip_num:\n#     chip_norm.append((l1_result.loc[l1[\"#cnum\"]==x]).values.tolist()[0])\n    chip_norm.append(l1_result.loc[x,:].values.tolist())\n    \nprint(len(chip_norm))\nchip_norm[0]",
    "id": "0f5a1ecf987049e68b1f180f53d014bd",
    "idx": 6,
    "time": "2021-02-03T02:42:07.176Z",
    "type": "execution"
   },
   {
    "id": "0f5a1ecf987049e68b1f180f53d014bd",
    "time": "2021-02-03T02:42:07.339Z",
    "type": "completion"
   },
   {
    "code": "l1_result = pd.DataFrame(l1_chip_abbrev_percentage)\nl1_result.index += 1\nl1_result.index.name = '#cnum'\nl1_result.columns = unique_symbols\nprint(l1_result)\nchip_norm = []\n#pull the percentage for each cnum\nfor x in chip_num:\n#     chip_norm.append((l1_result.loc[l1[\"#cnum\"]==x]).values.tolist()[0])\n    chip_norm.append(l1_result.loc[x,:].values.tolist())\n    \nprint(len(chip_norm))\nprint(len(chip_norm[0]))",
    "id": "0f5a1ecf987049e68b1f180f53d014bd",
    "idx": 6,
    "time": "2021-02-03T02:42:30.050Z",
    "type": "execution"
   },
   {
    "id": "0f5a1ecf987049e68b1f180f53d014bd",
    "time": "2021-02-03T02:42:30.147Z",
    "type": "completion"
   },
   {
    "code": "l1_result = pd.DataFrame(l1_chip_abbrev_percentage)\nl1_result.index += 1\nl1_result.index.name = '#cnum'\nl1_result.columns = unique_symbols\nprint(l1_result)\nchip_norm = []\n#pull the percentage for each cnum\nfor x in chip_num:\n#     chip_norm.append((l1_result.loc[l1[\"#cnum\"]==x]).values.tolist()[0])\n    chip_norm.append(l1_result.loc[x,:].values.tolist())",
    "id": "0f5a1ecf987049e68b1f180f53d014bd",
    "idx": 6,
    "time": "2021-02-03T02:42:57.806Z",
    "type": "execution"
   },
   {
    "id": "0f5a1ecf987049e68b1f180f53d014bd",
    "time": "2021-02-03T02:42:57.896Z",
    "type": "completion"
   },
   {
    "code": "#Number of training iterations\nnum_iters = 5000\n#Size of training dataset\nnum_examples = 2000\n#Listing out the shapes of each model\ncolors_num = len(chip_norm[0])\ninput_size = 3\n\nnetwork_shapes = [(input_size, [100], colors_num), (input_size, [100], colors_num), (input_size, [100], colors_num)]\n#Learning rate of the network\nrate = 0.001\n\n#Generating Training Data\nlab_train, lab_test, chip_train, chip_test = train_test_split(lab_norm, chip_norm, test_size=0.1)\n\ninput_train = torch.FloatTensor(lab_train)\noutput_train = torch.FloatTensor(chip_train)\ninput_test= torch.FloatTensor(lab_test)\noutput_test = torch.FloatTensor(chip_test)",
    "id": "8cc05ec00119411f8f0b62b4fa50265b",
    "idx": 7,
    "time": "2021-02-03T02:42:58.790Z",
    "type": "execution"
   },
   {
    "id": "8cc05ec00119411f8f0b62b4fa50265b",
    "time": "2021-02-03T02:42:58.834Z",
    "type": "completion"
   },
   {
    "code": "#Array of losses over training period for each network\nfor net_num, shape in enumerate(network_shapes):\n    print('Network Shape:',flush = True)\n    print('Input Size = ' + str(shape[0]), flush = True)\n    print('Hidden Size = ' + str(shape[1]), flush = True)\n    print('Output Size = ' + str(shape[2]), flush = True)\n    NN = Neural_Network(inputSize = 3, outputSize = colors_num, hiddenSize = [3,3,3] , learning_rate = 0.001)\n\n    for i in range(num_iters):\n        #Calculating l1 error\n        error = NN.l1error(output_train, NN(input_train))\n        if i == 0: \n            dh = display(\"#\" + str(i) + \" Error: \" + str(error), display_id=True)\n        else:\n            dh.update(\"#\" + str(i) + \" Error: \" + str(error))\n            \n        NN.train(input_train, output_train)\n    #Saves the training results in a filed named \"Net 0\", \"Net 1\", etc. \n    NN.saveWeights(model = NN, path = \"saved_networks/Net \" + str(net_num));",
    "id": "9277c562ac6843d08f0c0336d9745513",
    "idx": 8,
    "time": "2021-02-03T02:44:08.571Z",
    "type": "execution"
   },
   {
    "id": "9277c562ac6843d08f0c0336d9745513",
    "time": "2021-02-03T02:45:02.125Z",
    "type": "completion"
   },
   {
    "code": "for net_num, shape in enumerate(network_shapes):\n    print('Network Shape:',flush = True)\n    print('Input Size = ' + str(shape[0]), flush = True)\n    print('Hidden Size = ' + str(shape[1]), flush = True)\n    print('Output Size = ' + str(shape[2]), flush = True)\n    # Loading the network we trained in the prev. section\n    \n    NN = Neural_Network(inputSize = shape[0], outputSize = shape[2],\n                        hiddenSize = shape[1] , learning_rate = rate)\n    NN.load_state_dict(torch.load(\"saved_networks/Net \" + str(net_num)))\n    \n    validation_error = NN.l1error(output_test, NN(input_test))\n    max_error = np.max(np.abs((output_test - NN(input_test)).detach().numpy()))\n    print(\"The validation error is: \" + str(validation_error), flush = True)  \n    print(\"The maximum error is:\" + str(max_error), flush = True)",
    "id": "21a85bde696a47ee98c20f205cad5cd4",
    "idx": 9,
    "time": "2021-02-03T02:45:57.807Z",
    "type": "execution"
   },
   {
    "id": "21a85bde696a47ee98c20f205cad5cd4",
    "time": "2021-02-03T02:45:57.924Z",
    "type": "completion"
   },
   {
    "code": "l1 = term_data[term_data.get('#Lnum').eq(1)]\nunique_symbols = list(l1['Term Abbrev'].unique())\nl1_grouped = l1.groupby('#cnum')['Term Abbrev'].apply(list)\nl1_chip_abbrev_percentage = [[(l1_grouped[i + 1].count(abbrev) / len(l1_grouped[i + 1])) for abbrev in unique_symbols] for i in range(len(l1_grouped))]",
    "id": "02eaf4a67fb7453dadf7ec4de2ba2b00",
    "idx": 4,
    "time": "2021-02-03T02:53:48.766Z",
    "type": "execution"
   },
   {
    "id": "02eaf4a67fb7453dadf7ec4de2ba2b00",
    "time": "2021-02-03T02:53:48.849Z",
    "type": "completion"
   },
   {
    "code": "l1_result = pd.DataFrame(l1_chip_abbrev_percentage)\nl1_result.index += 1\nl1_result.index.name = '#cnum'\nl1_result.columns = unique_symbols\nprint(l1_result)\nchip_norm = []\n#pull the percentage for each cnum\nfor x in chip_num:\n#     chip_norm.append((l1_result.loc[l1[\"#cnum\"]==x]).values.tolist()[0])\n    chip_norm.append(l1_result.loc[x,:].values.tolist())",
    "id": "0f5a1ecf987049e68b1f180f53d014bd",
    "idx": 5,
    "time": "2021-02-03T02:53:48.976Z",
    "type": "execution"
   },
   {
    "id": "0f5a1ecf987049e68b1f180f53d014bd",
    "time": "2021-02-03T02:53:49.086Z",
    "type": "completion"
   },
   {
    "code": "#Number of training iterations\nnum_iters = 5000\n#Size of training dataset\nnum_examples = 2000\n#Listing out the shapes of each model\ncolors_num = len(chip_norm[0])\ninput_size = 3\n\nnetwork_shapes = [(input_size, [100], colors_num), (input_size, [100], colors_num), (input_size, [100], colors_num)]\n#Learning rate of the network\nrate = 0.001\n\n#Generating Training Data\nlab_train, lab_test, chip_train, chip_test = train_test_split(lab_norm, chip_norm, test_size=0.1)\n\ninput_train = torch.FloatTensor(lab_train)\noutput_train = torch.FloatTensor(chip_train)\ninput_test= torch.FloatTensor(lab_test)\noutput_test = torch.FloatTensor(chip_test)",
    "id": "8cc05ec00119411f8f0b62b4fa50265b",
    "idx": 6,
    "time": "2021-02-03T02:53:49.316Z",
    "type": "execution"
   },
   {
    "id": "8cc05ec00119411f8f0b62b4fa50265b",
    "time": "2021-02-03T02:53:49.365Z",
    "type": "completion"
   },
   {
    "code": "#Array of losses over training period for each network\nfor net_num, shape in enumerate(network_shapes):\n    print('Network Shape:',flush = True)\n    print('Input Size = ' + str(shape[0]), flush = True)\n    print('Hidden Size = ' + str(shape[1]), flush = True)\n    print('Output Size = ' + str(shape[2]), flush = True)\n    NN = Neural_Network(inputSize = 3, outputSize = colors_num, hiddenSize = [3,3,3] , learning_rate = 0.001)\n\n    for i in range(num_iters):\n        #Calculating l1 error\n        error = NN.l1error(output_train, NN(input_train))\n        if i == 0: \n            dh = display(\"#\" + str(i) + \" Error: \" + str(error), display_id=True)\n        else:\n            dh.update(\"#\" + str(i) + \" Error: \" + str(error))\n            \n        NN.train(input_train, output_train)\n    #Saves the training results in a filed named \"Net 0\", \"Net 1\", etc. \n    NN.saveWeights(model = NN, path = \"saved_networks/Net \" + str(net_num));",
    "id": "9277c562ac6843d08f0c0336d9745513",
    "idx": 7,
    "time": "2021-02-03T02:53:50.090Z",
    "type": "execution"
   },
   {
    "id": "9277c562ac6843d08f0c0336d9745513",
    "time": "2021-02-03T02:54:46.055Z",
    "type": "completion"
   },
   {
    "code": "for net_num, shape in enumerate(network_shapes):\n    print('Network Shape:',flush = True)\n    print('Input Size = ' + str(shape[0]), flush = True)\n    print('Hidden Size = ' + str(shape[1]), flush = True)\n    print('Output Size = ' + str(shape[2]), flush = True)\n    # Loading the network we trained in the prev. section\n    \n    NN = Neural_Network(inputSize = shape[0], outputSize = shape[2],\n                        hiddenSize = shape[1] , learning_rate = rate)\n    NN.load_state_dict(torch.load(\"saved_networks/Net \" + str(net_num)))\n    \n    validation_error = NN.l1error(output_test, NN(input_test))\n    max_error = np.max(np.abs((output_test - NN(input_test)).detach().numpy()))\n    print(\"The validation error is: \" + str(validation_error), flush = True)  \n    print(\"The maximum error is:\" + str(max_error), flush = True)",
    "id": "21a85bde696a47ee98c20f205cad5cd4",
    "idx": 8,
    "time": "2021-02-03T02:54:48.422Z",
    "type": "execution"
   },
   {
    "id": "21a85bde696a47ee98c20f205cad5cd4",
    "time": "2021-02-03T02:54:48.523Z",
    "type": "completion"
   },
   {
    "code": "for net_num, shape in enumerate(network_shapes):\n    print('Network Shape:',flush = True)\n    print('Input Size = ' + str(shape[0]), flush = True)\n    print('Hidden Size = ' + str(shape[1]), flush = True)\n    print('Output Size = ' + str(shape[2]), flush = True)\n    # Loading the network we trained in the prev. section\n    \n    NN = Neural_Network(inputSize = shape[0], outputSize = shape[2],\n                        hiddenSize = shape[1] , learning_rate = rate)\n    NN.load_state_dict(torch.load(\"saved_networks/Net \" + str(net_num)))\n    \n    validation_error = NN.l1error(output_test, NN(input_test))\n    max_error = np.max(np.abs((output_test - NN(input_test)).detach().numpy()))\n    print(\"The validation error is: \" + str(validation_error), flush = True)  \n    print(\"The maximum error is:\" + str(max_error), flush = True)",
    "id": "21a85bde696a47ee98c20f205cad5cd4",
    "idx": 8,
    "time": "2021-02-03T02:54:54.136Z",
    "type": "execution"
   },
   {
    "id": "21a85bde696a47ee98c20f205cad5cd4",
    "time": "2021-02-03T02:54:54.236Z",
    "type": "completion"
   },
   {
    "code": "locations",
    "id": "fd38caded7c2472d8d7f45c3be57ae56",
    "idx": 4,
    "time": "2021-02-03T04:04:36.310Z",
    "type": "execution"
   },
   {
    "id": "fd38caded7c2472d8d7f45c3be57ae56",
    "time": "2021-02-03T04:04:46.687Z",
    "type": "completion"
   },
   {
    "code": "import sys\nimport math\nimport numpy as np\n\"\"\"\nnot working\nfrom Language_Data_Scraper.py import *\n\"\"\"\nsys.path.insert(0, '..')\nfrom net_framework import *\nfrom sklearn.model_selection import train_test_split\nimport pandas as pd",
    "id": "98b63ce99ffa4f428115004fb0366917",
    "idx": 0,
    "time": "2021-02-03T04:04:53.275Z",
    "type": "execution"
   },
   {
    "code": "term_data = pd.read_csv('term.txt', sep=\"\\t\", header=None)\nterm_data.columns = [\"#Lnum\", \"#snum\", \"#cnum\", \"Term Abbrev\"]\nterm_data.head()",
    "id": "20b0acb43c014af6866c6ee50356a0b2",
    "idx": 1,
    "time": "2021-02-03T04:04:53.503Z",
    "type": "execution"
   },
   {
    "code": "cnum_data = pd.read_csv('cnum-vhcm-lab-new.txt', sep=\"\\t\")\nlocations = cnum_data[['#cnum']]\nlocations['Normalized-L'] = (cnum_data['L*'] - cnum_data['L*'].mean())/(cnum_data['L*'] - cnum_data['L*'].mean()).max()\nlocations['Normalized-a'] = (cnum_data['a*'] - cnum_data['a*'].mean())/(cnum_data['a*'] - cnum_data['a*'].mean()).std() * 1/2\nlocations['Normalized-b'] = (cnum_data['b*'] - cnum_data['b*'].mean())/(cnum_data['b*'] - cnum_data['b*'].mean()).std() * 1/2\ndisplay(locations.head(5))",
    "id": "6e3071fb1dde4215810e2a80d8e471a4",
    "idx": 2,
    "time": "2021-02-03T04:04:53.670Z",
    "type": "execution"
   },
   {
    "code": "locations = locations.sort_values('#cnum')\nchip_num = list(locations['#cnum'])\nlab_norm = [[row[2], row[3], row[4]] for row in locations.itertuples()]",
    "id": "467e3a66759c4d08a81372178f7abd45",
    "idx": 3,
    "time": "2021-02-03T04:04:53.858Z",
    "type": "execution"
   },
   {
    "id": "98b63ce99ffa4f428115004fb0366917",
    "time": "2021-02-03T04:04:54.984Z",
    "type": "completion"
   },
   {
    "code": "locations",
    "id": "fd38caded7c2472d8d7f45c3be57ae56",
    "idx": 4,
    "time": "2021-02-03T04:04:55.008Z",
    "type": "execution"
   },
   {
    "id": "20b0acb43c014af6866c6ee50356a0b2",
    "time": "2021-02-03T04:04:55.263Z",
    "type": "completion"
   },
   {
    "id": "6e3071fb1dde4215810e2a80d8e471a4",
    "time": "2021-02-03T04:04:55.293Z",
    "type": "completion"
   },
   {
    "id": "467e3a66759c4d08a81372178f7abd45",
    "time": "2021-02-03T04:04:55.297Z",
    "type": "completion"
   },
   {
    "id": "fd38caded7c2472d8d7f45c3be57ae56",
    "time": "2021-02-03T04:04:55.316Z",
    "type": "completion"
   },
   {
    "code": "locations = locations.sort_values('#cnum')\nchip_num = list(locations['#cnum'])\nlab_norm = [[row[2], row[3], row[4]] for row in locations.itertuples()]",
    "id": "467e3a66759c4d08a81372178f7abd45",
    "idx": 3,
    "time": "2021-02-03T04:06:06.303Z",
    "type": "execution"
   },
   {
    "id": "467e3a66759c4d08a81372178f7abd45",
    "time": "2021-02-03T04:06:06.357Z",
    "type": "completion"
   },
   {
    "code": "l1 = term_data[term_data.get('#Lnum').eq(1)]\nunique_symbols = list(l1['Term Abbrev'].unique())\nl1_grouped = l1.groupby('#cnum')['Term Abbrev'].apply(list)\nl1_chip_abbrev_percentage = [[(l1_grouped[i + 1].count(abbrev) / len(l1_grouped[i + 1])) for abbrev in unique_symbols] for i in range(len(l1_grouped))]",
    "id": "02eaf4a67fb7453dadf7ec4de2ba2b00",
    "idx": 4,
    "time": "2021-02-03T04:11:42.418Z",
    "type": "execution"
   },
   {
    "id": "02eaf4a67fb7453dadf7ec4de2ba2b00",
    "time": "2021-02-03T04:11:42.514Z",
    "type": "completion"
   },
   {
    "code": "l1_result = pd.DataFrame(l1_chip_abbrev_percentage)\nl1_result.index += 1\nl1_result.index.name = '#cnum'\nl1_result.columns = unique_symbols\nprint(l1_result)\nchip_norm = []\n#pull the percentage for each cnum\nfor x in chip_num:\n#     chip_norm.append((l1_result.loc[l1[\"#cnum\"]==x]).values.tolist()[0])\n    chip_norm.append(l1_result.loc[x,:].values.tolist())",
    "id": "0f5a1ecf987049e68b1f180f53d014bd",
    "idx": 5,
    "time": "2021-02-03T04:11:42.981Z",
    "type": "execution"
   },
   {
    "id": "0f5a1ecf987049e68b1f180f53d014bd",
    "time": "2021-02-03T04:11:43.076Z",
    "type": "completion"
   },
   {
    "code": "l1 = term_data[term_data.get('#Lnum').eq(2)]\nunique_symbols = list(l1['Term Abbrev'].unique())\nl1_grouped = l1.groupby('#cnum')['Term Abbrev'].apply(list)\nl1_chip_abbrev_percentage = [[(l1_grouped[i + 1].count(abbrev) / len(l1_grouped[i + 1])) for abbrev in unique_symbols] for i in range(len(l1_grouped))]",
    "id": "02eaf4a67fb7453dadf7ec4de2ba2b00",
    "idx": 4,
    "time": "2021-02-03T04:11:46.972Z",
    "type": "execution"
   },
   {
    "id": "02eaf4a67fb7453dadf7ec4de2ba2b00",
    "time": "2021-02-03T04:11:47.117Z",
    "type": "completion"
   },
   {
    "code": "l1_result = pd.DataFrame(l1_chip_abbrev_percentage)\nl1_result.index += 1\nl1_result.index.name = '#cnum'\nl1_result.columns = unique_symbols\nprint(l1_result)\nchip_norm = []\n#pull the percentage for each cnum\nfor x in chip_num:\n#     chip_norm.append((l1_result.loc[l1[\"#cnum\"]==x]).values.tolist()[0])\n    chip_norm.append(l1_result.loc[x,:].values.tolist())",
    "id": "0f5a1ecf987049e68b1f180f53d014bd",
    "idx": 5,
    "time": "2021-02-03T04:11:47.514Z",
    "type": "execution"
   },
   {
    "id": "0f5a1ecf987049e68b1f180f53d014bd",
    "time": "2021-02-03T04:11:47.630Z",
    "type": "completion"
   },
   {
    "code": "l1 = term_data[term_data.get('#Lnum').eq(3)]\nunique_symbols = list(l1['Term Abbrev'].unique())\nl1_grouped = l1.groupby('#cnum')['Term Abbrev'].apply(list)\nl1_chip_abbrev_percentage = [[(l1_grouped[i + 1].count(abbrev) / len(l1_grouped[i + 1])) for abbrev in unique_symbols] for i in range(len(l1_grouped))]",
    "id": "02eaf4a67fb7453dadf7ec4de2ba2b00",
    "idx": 4,
    "time": "2021-02-03T04:12:27.648Z",
    "type": "execution"
   },
   {
    "id": "02eaf4a67fb7453dadf7ec4de2ba2b00",
    "time": "2021-02-03T04:12:27.955Z",
    "type": "completion"
   },
   {
    "code": "l1_result = pd.DataFrame(l1_chip_abbrev_percentage)\nl1_result.index += 1\nl1_result.index.name = '#cnum'\nl1_result.columns = unique_symbols\nprint(l1_result)\nchip_norm = []\n#pull the percentage for each cnum\nfor x in chip_num:\n#     chip_norm.append((l1_result.loc[l1[\"#cnum\"]==x]).values.tolist()[0])\n    chip_norm.append(l1_result.loc[x,:].values.tolist())",
    "id": "0f5a1ecf987049e68b1f180f53d014bd",
    "idx": 5,
    "time": "2021-02-03T04:12:29.357Z",
    "type": "execution"
   },
   {
    "id": "0f5a1ecf987049e68b1f180f53d014bd",
    "time": "2021-02-03T04:12:29.517Z",
    "type": "completion"
   },
   {
    "code": "l1 = term_data[term_data.get('#Lnum').eq(1)]\nunique_symbols = list(l1['Term Abbrev'].unique())\nl1_grouped = l1.groupby('#cnum')['Term Abbrev'].apply(list)\nl1_chip_abbrev_percentage = [[(l1_grouped[i + 1].count(abbrev) / len(l1_grouped[i + 1])) for abbrev in unique_symbols] for i in range(len(l1_grouped))]",
    "id": "02eaf4a67fb7453dadf7ec4de2ba2b00",
    "idx": 4,
    "time": "2021-02-03T04:12:38.986Z",
    "type": "execution"
   },
   {
    "id": "02eaf4a67fb7453dadf7ec4de2ba2b00",
    "time": "2021-02-03T04:12:39.154Z",
    "type": "completion"
   },
   {
    "code": "l1_result = pd.DataFrame(l1_chip_abbrev_percentage)\nl1_result.index += 1\nl1_result.index.name = '#cnum'\nl1_result.columns = unique_symbols\nprint(l1_result)\nchip_norm = []\n#pull the percentage for each cnum\nfor x in chip_num:\n#     chip_norm.append((l1_result.loc[l1[\"#cnum\"]==x]).values.tolist()[0])\n    chip_norm.append(l1_result.loc[x,:].values.tolist())",
    "id": "0f5a1ecf987049e68b1f180f53d014bd",
    "idx": 5,
    "time": "2021-02-03T04:12:40.407Z",
    "type": "execution"
   },
   {
    "id": "0f5a1ecf987049e68b1f180f53d014bd",
    "time": "2021-02-03T04:12:40.495Z",
    "type": "completion"
   },
   {
    "code": "term_data['#cnum']",
    "id": "466c00fff29a428ca60f9db17cd69273",
    "idx": 2,
    "time": "2021-02-03T04:38:47.778Z",
    "type": "execution"
   },
   {
    "id": "466c00fff29a428ca60f9db17cd69273",
    "time": "2021-02-03T04:38:47.976Z",
    "type": "completion"
   },
   {
    "code": "term_data['#cnum'].unique",
    "id": "466c00fff29a428ca60f9db17cd69273",
    "idx": 2,
    "time": "2021-02-03T04:38:54.487Z",
    "type": "execution"
   },
   {
    "id": "466c00fff29a428ca60f9db17cd69273",
    "time": "2021-02-03T04:38:54.529Z",
    "type": "completion"
   },
   {
    "code": "term_data['#cnum'].unique()",
    "id": "466c00fff29a428ca60f9db17cd69273",
    "idx": 2,
    "time": "2021-02-03T04:38:59.539Z",
    "type": "execution"
   },
   {
    "id": "466c00fff29a428ca60f9db17cd69273",
    "time": "2021-02-03T04:38:59.592Z",
    "type": "completion"
   },
   {
    "code": "term_data['#Lnum'].unique()",
    "id": "466c00fff29a428ca60f9db17cd69273",
    "idx": 2,
    "time": "2021-02-03T04:39:07.612Z",
    "type": "execution"
   },
   {
    "id": "466c00fff29a428ca60f9db17cd69273",
    "time": "2021-02-03T04:39:07.672Z",
    "type": "completion"
   },
   {
    "code": "import sys\nimport math\nimport numpy as np\n\"\"\"\nnot working\nfrom Language_Data_Scraper.py import *\n\"\"\"\nsys.path.insert(0, '..')\nfrom net_framework import *\nfrom sklearn.model_selection import train_test_split\nimport pandas as pd",
    "id": "0e0ac933829d471595492e4acc88ea34",
    "idx": 0,
    "time": "2021-02-06T18:06:22.906Z",
    "type": "execution"
   },
   {
    "code": "term_data = pd.read_csv('term.txt', sep=\"\\t\", header=None)\nterm_data.columns = [\"#Lnum\", \"#snum\", \"#cnum\", \"Term Abbrev\"]\nterm_data.head()",
    "id": "4903bda737bf4f61a75993cf916b5233",
    "idx": 1,
    "time": "2021-02-06T18:06:23.110Z",
    "type": "execution"
   },
   {
    "code": "term_data['#Lnum'].unique()",
    "id": "4907e05ff41d411c8ef84c6c8eed8834",
    "idx": 2,
    "time": "2021-02-06T18:06:23.325Z",
    "type": "execution"
   },
   {
    "code": "cnum_data = pd.read_csv('cnum-vhcm-lab-new.txt', sep=\"\\t\")\nlocations = cnum_data[['#cnum']]\nlocations['Normalized-L'] = (cnum_data['L*'] - cnum_data['L*'].mean())/(cnum_data['L*'] - cnum_data['L*'].mean()).max()\nlocations['Normalized-a'] = (cnum_data['a*'] - cnum_data['a*'].mean())/(cnum_data['a*'] - cnum_data['a*'].mean()).std() * 1/2\nlocations['Normalized-b'] = (cnum_data['b*'] - cnum_data['b*'].mean())/(cnum_data['b*'] - cnum_data['b*'].mean()).std() * 1/2\ndisplay(locations.head(5))",
    "id": "d9226fd6339f4307870bf39af7b51873",
    "idx": 3,
    "time": "2021-02-06T18:06:23.570Z",
    "type": "execution"
   },
   {
    "code": "locations = locations.sort_values('#cnum')\nchip_num = list(locations['#cnum'])\nlab_norm = [[row[2], row[3], row[4]] for row in locations.itertuples()]",
    "id": "964bc2f9ed444796ade9ad151d64c2d2",
    "idx": 4,
    "time": "2021-02-06T18:06:23.889Z",
    "type": "execution"
   },
   {
    "code": "l1 = term_data[term_data.get('#Lnum').eq(1)]\nunique_symbols = list(l1['Term Abbrev'].unique())\nl1_grouped = l1.groupby('#cnum')['Term Abbrev'].apply(list)\nl1_chip_abbrev_percentage = [[(l1_grouped[i + 1].count(abbrev) / len(l1_grouped[i + 1])) for abbrev in unique_symbols] for i in range(len(l1_grouped))]",
    "id": "81f3f938e2c94d988f9b7cd7027da05d",
    "idx": 5,
    "time": "2021-02-06T18:06:24.430Z",
    "type": "execution"
   },
   {
    "code": "l1_result = pd.DataFrame(l1_chip_abbrev_percentage)\nl1_result.index += 1\nl1_result.index.name = '#cnum'\nl1_result.columns = unique_symbols\nprint(l1_result)\nchip_norm = []\n#pull the percentage for each cnum\nfor x in chip_num:\n#     chip_norm.append((l1_result.loc[l1[\"#cnum\"]==x]).values.tolist()[0])\n    chip_norm.append(l1_result.loc[x,:].values.tolist())",
    "id": "d4504a9739224a928fc7397367dfcfe3",
    "idx": 6,
    "time": "2021-02-06T18:06:25.289Z",
    "type": "execution"
   },
   {
    "id": "0e0ac933829d471595492e4acc88ea34",
    "time": "2021-02-06T18:06:25.313Z",
    "type": "completion"
   },
   {
    "id": "4903bda737bf4f61a75993cf916b5233",
    "time": "2021-02-06T18:06:25.820Z",
    "type": "completion"
   },
   {
    "id": "4907e05ff41d411c8ef84c6c8eed8834",
    "time": "2021-02-06T18:06:25.853Z",
    "type": "completion"
   },
   {
    "id": "d9226fd6339f4307870bf39af7b51873",
    "time": "2021-02-06T18:06:25.889Z",
    "type": "completion"
   },
   {
    "id": "964bc2f9ed444796ade9ad151d64c2d2",
    "time": "2021-02-06T18:06:25.908Z",
    "type": "completion"
   },
   {
    "id": "81f3f938e2c94d988f9b7cd7027da05d",
    "time": "2021-02-06T18:06:25.969Z",
    "type": "completion"
   },
   {
    "id": "d4504a9739224a928fc7397367dfcfe3",
    "time": "2021-02-06T18:06:26.066Z",
    "type": "completion"
   },
   {
    "code": "#Number of training iterations\nnum_iters = 5000\n#Size of training dataset\nnum_examples = 2000\n#Listing out the shapes of each model\ncolors_num = len(chip_norm[0])\ninput_size = 3\n\nnetwork_shapes = [(input_size, [100], colors_num), (input_size, [100], colors_num), (input_size, [100], colors_num)]\n#Learning rate of the network\nrate = 0.001\n\n#Generating Training Data\nlab_train, lab_test, chip_train, chip_test = train_test_split(lab_norm, chip_norm, test_size=0.1)\n\ninput_train = torch.FloatTensor(lab_train)\noutput_train = torch.FloatTensor(chip_train)\ninput_test= torch.FloatTensor(lab_test)\noutput_test = torch.FloatTensor(chip_test)",
    "id": "44941f4587c5419d9f229a7472ac6520",
    "idx": 7,
    "time": "2021-02-06T18:06:27.543Z",
    "type": "execution"
   },
   {
    "id": "44941f4587c5419d9f229a7472ac6520",
    "time": "2021-02-06T18:06:27.594Z",
    "type": "completion"
   },
   {
    "code": "l1 = term_data[term_data.get('#Lnum').eq(1)]\nunique_symbols = list(l1['Term Abbrev'].unique())\nl1_grouped = l1.groupby('#cnum')['Term Abbrev'].apply(list)\nl1_chip_abbrev_percentage = [[(l1_grouped[i + 1].count(abbrev) / len(l1_grouped[i + 1])) for abbrev in unique_symbols] for i in range(len(l1_grouped))]",
    "id": "81f3f938e2c94d988f9b7cd7027da05d",
    "idx": 5,
    "time": "2021-02-06T18:11:49.708Z",
    "type": "execution"
   },
   {
    "id": "81f3f938e2c94d988f9b7cd7027da05d",
    "time": "2021-02-06T18:11:49.815Z",
    "type": "completion"
   },
   {
    "code": "l1_result = pd.DataFrame(l1_chip_abbrev_percentage)\nl1_result.index += 1\nl1_result.index.name = '#cnum'\nl1_result.columns = unique_symbols\nprint(l1_result)\nchip_norm = []\n#pull the percentage for each cnum\nfor x in chip_num:\n#     chip_norm.append((l1_result.loc[l1[\"#cnum\"]==x]).values.tolist()[0])\n    chip_norm.append(l1_result.loc[x,:].values.tolist())",
    "id": "d4504a9739224a928fc7397367dfcfe3",
    "idx": 6,
    "time": "2021-02-06T18:11:49.997Z",
    "type": "execution"
   },
   {
    "id": "d4504a9739224a928fc7397367dfcfe3",
    "time": "2021-02-06T18:11:50.122Z",
    "type": "completion"
   },
   {
    "code": "#Number of training iterations\nnum_iters = 5000\n#Size of training dataset\nnum_examples = 2000\n#Listing out the shapes of each model\ncolors_num = len(chip_norm[0])\ninput_size = 3\n\nnetwork_shapes = [(input_size, [100], colors_num), (input_size, [100], colors_num), (input_size, [100], colors_num)]\n#Learning rate of the network\nrate = 0.001\n\n#Generating Training Data\nlab_train, lab_test, chip_train, chip_test = train_test_split(lab_norm, chip_norm, test_size=0.1)\n\ninput_train = torch.FloatTensor(lab_train)\noutput_train = torch.FloatTensor(chip_train)\ninput_test= torch.FloatTensor(lab_test)\noutput_test = torch.FloatTensor(chip_test)",
    "id": "44941f4587c5419d9f229a7472ac6520",
    "idx": 7,
    "time": "2021-02-06T18:11:54.897Z",
    "type": "execution"
   },
   {
    "id": "44941f4587c5419d9f229a7472ac6520",
    "time": "2021-02-06T18:11:54.948Z",
    "type": "completion"
   },
   {
    "code": "#Array of losses over training period for each network\nfor net_num, shape in enumerate(network_shapes):\n    print('Network Shape:',flush = True)\n    print('Input Size = ' + str(shape[0]), flush = True)\n    print('Hidden Size = ' + str(shape[1]), flush = True)\n    print('Output Size = ' + str(shape[2]), flush = True)\n    NN = Neural_Network(inputSize = 3, outputSize = colors_num, hiddenSize = [3,3,3] , learning_rate = 0.001)\n\n    for i in range(num_iters):\n        #Calculating l1 error\n        error = NN.l1error(output_train, NN(input_train))\n        if i == 0: \n            dh = display(\"#\" + str(i) + \" Error: \" + str(error), display_id=True)\n        else:\n            dh.update(\"#\" + str(i) + \" Error: \" + str(error))\n            \n        NN.train(input_train, output_train)\n    #Saves the training results in a filed named \"Net 0\", \"Net 1\", etc. \n    NN.saveWeights(model = NN, path = \"saved_networks/Net \" + str(net_num));",
    "id": "f673e22a10ec4607805bafd68cb56ec6",
    "idx": 8,
    "time": "2021-02-06T18:12:17.336Z",
    "type": "execution"
   },
   {
    "id": "f673e22a10ec4607805bafd68cb56ec6",
    "time": "2021-02-06T18:13:38.420Z",
    "type": "completion"
   },
   {
    "code": "for net_num, shape in enumerate(network_shapes):\n    print('Network Shape:',flush = True)\n    print('Input Size = ' + str(shape[0]), flush = True)\n    print('Hidden Size = ' + str(shape[1]), flush = True)\n    print('Output Size = ' + str(shape[2]), flush = True)\n    # Loading the network we trained in the prev. section\n    \n    NN = Neural_Network(inputSize = shape[0], outputSize = shape[2],\n                        hiddenSize = shape[1] , learning_rate = rate)\n    NN.load_state_dict(torch.load(\"saved_networks/Net \" + str(net_num)))\n    \n    validation_error = NN.l1error(output_test, NN(input_test))\n    max_error = np.max(np.abs((output_test - NN(input_test)).detach().numpy()))\n    print(\"The validation error is: \" + str(validation_error), flush = True)  \n    print(\"The maximum error is:\" + str(max_error), flush = True)",
    "id": "5c2f3a6b17b647788bd419eb494fc079",
    "idx": 9,
    "time": "2021-02-06T18:14:33.150Z",
    "type": "execution"
   },
   {
    "id": "5c2f3a6b17b647788bd419eb494fc079",
    "time": "2021-02-06T18:14:33.388Z",
    "type": "completion"
   },
   {
    "code": "#Array of losses over training period for each network\nfor net_num, shape in enumerate(network_shapes):\n    print('Network Shape:',flush = True)\n    print('Input Size = ' + str(shape[0]), flush = True)\n    print('Hidden Size = ' + str(shape[1]), flush = True)\n    print('Output Size = ' + str(shape[2]), flush = True)\n    NN = Neural_Network(inputSize = 3, outputSize = colors_num, hiddenSize = [3,3,3] , learning_rate = 0.001)\n\n    for i in range(num_iters):\n        #Calculating l1 error\n        error = NN.l1error(output_train, NN(input_train))\n        if i == 0: \n            dh = display(\"#\" + str(i) + \" Error: \" + str(error), display_id=True)\n        else:\n            dh.update(\"#\" + str(i) + \" Error: \" + str(error))\n            \n        NN.train(input_train, output_train)\n    #Saves the training results in a filed named \"Net 0\", \"Net 1\", etc. \n    NN.saveWeights(model = NN, path = \"saved_networks/Net \" + str(net_num));",
    "id": "f673e22a10ec4607805bafd68cb56ec6",
    "idx": 8,
    "time": "2021-02-06T18:15:52.597Z",
    "type": "execution"
   },
   {
    "id": "f673e22a10ec4607805bafd68cb56ec6",
    "time": "2021-02-06T18:17:12.579Z",
    "type": "completion"
   },
   {
    "code": "for net_num, shape in enumerate(network_shapes):\n    print('Network Shape:',flush = True)\n    print('Input Size = ' + str(shape[0]), flush = True)\n    print('Hidden Size = ' + str(shape[1]), flush = True)\n    print('Output Size = ' + str(shape[2]), flush = True)\n    # Loading the network we trained in the prev. section\n    \n    NN = Neural_Network(inputSize = shape[0], outputSize = shape[2],\n                        hiddenSize = shape[1] , learning_rate = rate)\n    NN.load_state_dict(torch.load(\"saved_networks/Net \" + str(net_num)))\n    \n    validation_error = NN.l1error(output_test, NN(input_test))\n    max_error = np.max(np.abs((output_test - NN(input_test)).detach().numpy()))\n    print(\"The validation error is: \" + str(validation_error), flush = True)  \n    print(\"The maximum error is:\" + str(max_error), flush = True)",
    "id": "5c2f3a6b17b647788bd419eb494fc079",
    "idx": 9,
    "time": "2021-02-06T18:17:15.471Z",
    "type": "execution"
   },
   {
    "id": "5c2f3a6b17b647788bd419eb494fc079",
    "time": "2021-02-06T18:17:15.790Z",
    "type": "completion"
   },
   {
    "code": "import sys\nimport math\nimport numpy as np\n\"\"\"\nnot working\nfrom Language_Data_Scraper.py import *\n\"\"\"\nsys.path.insert(0, '..')\nfrom net_framework import *\nfrom sklearn.model_selection import train_test_split\nimport pandas as pd",
    "id": "0e0ac933829d471595492e4acc88ea34",
    "idx": 0,
    "time": "2021-02-06T18:21:50.043Z",
    "type": "execution"
   },
   {
    "code": "term_data = pd.read_csv('term.txt', sep=\"\\t\", header=None)\nterm_data.columns = [\"#Lnum\", \"#snum\", \"#cnum\", \"Term Abbrev\"]\nterm_data.head()",
    "id": "4903bda737bf4f61a75993cf916b5233",
    "idx": 1,
    "time": "2021-02-06T18:21:50.046Z",
    "type": "execution"
   },
   {
    "code": "term_data['#Lnum'].unique()",
    "id": "4907e05ff41d411c8ef84c6c8eed8834",
    "idx": 2,
    "time": "2021-02-06T18:21:50.047Z",
    "type": "execution"
   },
   {
    "code": "cnum_data = pd.read_csv('cnum-vhcm-lab-new.txt', sep=\"\\t\")\nlocations = cnum_data[['#cnum']]\nlocations['Normalized-L'] = (cnum_data['L*'] - cnum_data['L*'].mean())/(cnum_data['L*'] - cnum_data['L*'].mean()).max()\nlocations['Normalized-a'] = (cnum_data['a*'] - cnum_data['a*'].mean())/(cnum_data['a*'] - cnum_data['a*'].mean()).std() * 1/2\nlocations['Normalized-b'] = (cnum_data['b*'] - cnum_data['b*'].mean())/(cnum_data['b*'] - cnum_data['b*'].mean()).std() * 1/2\ndisplay(locations.head(5))",
    "id": "d9226fd6339f4307870bf39af7b51873",
    "idx": 3,
    "time": "2021-02-06T18:21:50.048Z",
    "type": "execution"
   },
   {
    "code": "locations = locations.sort_values('#cnum')\nchip_num = list(locations['#cnum'])\nlab_norm = [[row[2], row[3], row[4]] for row in locations.itertuples()]",
    "id": "964bc2f9ed444796ade9ad151d64c2d2",
    "idx": 4,
    "time": "2021-02-06T18:21:50.049Z",
    "type": "execution"
   },
   {
    "code": "l1 = term_data[term_data.get('#Lnum').eq(1)]\nunique_symbols = list(l1['Term Abbrev'].unique())\nl1_grouped = l1.groupby('#cnum')['Term Abbrev'].apply(list)\nl1_chip_abbrev_percentage = [[(l1_grouped[i + 1].count(abbrev) / len(l1_grouped[i + 1])) for abbrev in unique_symbols] for i in range(len(l1_grouped))]",
    "id": "81f3f938e2c94d988f9b7cd7027da05d",
    "idx": 5,
    "time": "2021-02-06T18:21:50.050Z",
    "type": "execution"
   },
   {
    "code": "l1_result = pd.DataFrame(l1_chip_abbrev_percentage)\nl1_result.index += 1\nl1_result.index.name = '#cnum'\nl1_result.columns = unique_symbols\nprint(l1_result)\nchip_norm = []\n#pull the percentage for each cnum\nfor x in chip_num:\n#     chip_norm.append((l1_result.loc[l1[\"#cnum\"]==x]).values.tolist()[0])\n    chip_norm.append(l1_result.loc[x,:].values.tolist())",
    "id": "d4504a9739224a928fc7397367dfcfe3",
    "idx": 6,
    "time": "2021-02-06T18:21:50.051Z",
    "type": "execution"
   },
   {
    "code": "#Number of training iterations\nnum_iters = 5000\n#Size of training dataset\nnum_examples = 2000\n#Listing out the shapes of each model\ncolors_num = len(chip_norm[0])\ninput_size = 3\n\nnetwork_shapes = [(input_size, [100], colors_num), (input_size, [100], colors_num), (input_size, [100], colors_num)]\n#Learning rate of the network\nrate = 0.001\n\n#Generating Training Data\nlab_train, lab_test, chip_train, chip_test = train_test_split(lab_norm, chip_norm, test_size=0.1)\n\ninput_train = torch.FloatTensor(lab_train)\noutput_train = torch.FloatTensor(chip_train)\ninput_test= torch.FloatTensor(lab_test)\noutput_test = torch.FloatTensor(chip_test)",
    "id": "44941f4587c5419d9f229a7472ac6520",
    "idx": 7,
    "time": "2021-02-06T18:21:50.052Z",
    "type": "execution"
   },
   {
    "code": "#Array of losses over training period for each network\nfor net_num, shape in enumerate(network_shapes):\n    print('Network Shape:',flush = True)\n    print('Input Size = ' + str(shape[0]), flush = True)\n    print('Hidden Size = ' + str(shape[1]), flush = True)\n    print('Output Size = ' + str(shape[2]), flush = True)\n    NN = Neural_Network(inputSize = 3, outputSize = colors_num, hiddenSize = [3,3,3] , learning_rate = 0.001)\n\n    for i in range(num_iters):\n        #Calculating l1 error\n        error = NN.l1error(output_train, NN(input_train))\n        if i == 0: \n            dh = display(\"#\" + str(i) + \" Error: \" + str(error), display_id=True)\n        else:\n            dh.update(\"#\" + str(i) + \" Error: \" + str(error))\n            \n        NN.train(input_train, output_train)\n    #Saves the training results in a filed named \"Net 0\", \"Net 1\", etc. \n    NN.saveWeights(model = NN, path = \"saved_networks/Net \" + str(net_num));",
    "id": "f673e22a10ec4607805bafd68cb56ec6",
    "idx": 8,
    "time": "2021-02-06T18:21:50.053Z",
    "type": "execution"
   },
   {
    "code": "for net_num, shape in enumerate(network_shapes):\n    print('Network Shape:',flush = True)\n    print('Input Size = ' + str(shape[0]), flush = True)\n    print('Hidden Size = ' + str(shape[1]), flush = True)\n    print('Output Size = ' + str(shape[2]), flush = True)\n    # Loading the network we trained in the prev. section\n    \n    NN = Neural_Network(inputSize = shape[0], outputSize = shape[2],\n                        hiddenSize = shape[1] , learning_rate = rate)\n    NN.load_state_dict(torch.load(\"saved_networks/Net \" + str(net_num)))\n    \n    validation_error = NN.l1error(output_test, NN(input_test))\n    max_error = np.max(np.abs((output_test - NN(input_test)).detach().numpy()))\n    print(\"The validation error is: \" + str(validation_error), flush = True)  \n    print(\"The maximum error is:\" + str(max_error), flush = True)",
    "id": "5c2f3a6b17b647788bd419eb494fc079",
    "idx": 9,
    "time": "2021-02-06T18:21:50.054Z",
    "type": "execution"
   },
   {
    "id": "0e0ac933829d471595492e4acc88ea34",
    "time": "2021-02-06T18:21:52.356Z",
    "type": "completion"
   },
   {
    "id": "4903bda737bf4f61a75993cf916b5233",
    "time": "2021-02-06T18:21:52.798Z",
    "type": "completion"
   },
   {
    "id": "4907e05ff41d411c8ef84c6c8eed8834",
    "time": "2021-02-06T18:21:52.820Z",
    "type": "completion"
   },
   {
    "id": "d9226fd6339f4307870bf39af7b51873",
    "time": "2021-02-06T18:21:52.867Z",
    "type": "completion"
   },
   {
    "id": "964bc2f9ed444796ade9ad151d64c2d2",
    "time": "2021-02-06T18:21:52.876Z",
    "type": "completion"
   },
   {
    "id": "81f3f938e2c94d988f9b7cd7027da05d",
    "time": "2021-02-06T18:21:52.949Z",
    "type": "completion"
   },
   {
    "id": "d4504a9739224a928fc7397367dfcfe3",
    "time": "2021-02-06T18:21:53.049Z",
    "type": "completion"
   },
   {
    "id": "44941f4587c5419d9f229a7472ac6520",
    "time": "2021-02-06T18:21:53.056Z",
    "type": "completion"
   },
   {
    "id": "f673e22a10ec4607805bafd68cb56ec6",
    "time": "2021-02-06T18:21:53.266Z",
    "type": "completion"
   },
   {
    "id": "5c2f3a6b17b647788bd419eb494fc079",
    "time": "2021-02-06T18:21:53.304Z",
    "type": "completion"
   },
   {
    "code": "import sys\nimport math\nimport numpy as np\n\"\"\"\nnot working\nfrom Language_Data_Scraper.py import *\n\"\"\"\nsys.path.insert(0, '..')\nfrom net_framework import *\nfrom sklearn.model_selection import train_test_split\nimport pandas as pd",
    "id": "0e0ac933829d471595492e4acc88ea34",
    "idx": 0,
    "time": "2021-02-06T18:22:16.243Z",
    "type": "execution"
   },
   {
    "code": "term_data = pd.read_csv('term.txt', sep=\"\\t\", header=None)\nterm_data.columns = [\"#Lnum\", \"#snum\", \"#cnum\", \"Term Abbrev\"]\nterm_data.head()",
    "id": "4903bda737bf4f61a75993cf916b5233",
    "idx": 1,
    "time": "2021-02-06T18:22:16.244Z",
    "type": "execution"
   },
   {
    "code": "term_data['#Lnum'].unique()",
    "id": "4907e05ff41d411c8ef84c6c8eed8834",
    "idx": 2,
    "time": "2021-02-06T18:22:16.245Z",
    "type": "execution"
   },
   {
    "code": "cnum_data = pd.read_csv('cnum-vhcm-lab-new.txt', sep=\"\\t\")\nlocations = cnum_data[['#cnum']]\nlocations['Normalized-L'] = (cnum_data['L*'] - cnum_data['L*'].mean())/(cnum_data['L*'] - cnum_data['L*'].mean()).max()\nlocations['Normalized-a'] = (cnum_data['a*'] - cnum_data['a*'].mean())/(cnum_data['a*'] - cnum_data['a*'].mean()).std() * 1/2\nlocations['Normalized-b'] = (cnum_data['b*'] - cnum_data['b*'].mean())/(cnum_data['b*'] - cnum_data['b*'].mean()).std() * 1/2\ndisplay(locations.head(5))",
    "id": "d9226fd6339f4307870bf39af7b51873",
    "idx": 3,
    "time": "2021-02-06T18:22:16.246Z",
    "type": "execution"
   },
   {
    "code": "locations = locations.sort_values('#cnum')\nchip_num = list(locations['#cnum'])\nlab_norm = [[row[2], row[3], row[4]] for row in locations.itertuples()]",
    "id": "964bc2f9ed444796ade9ad151d64c2d2",
    "idx": 4,
    "time": "2021-02-06T18:22:16.248Z",
    "type": "execution"
   },
   {
    "code": "l1 = term_data[term_data.get('#Lnum').eq(1)]\nunique_symbols = list(l1['Term Abbrev'].unique())\nl1_grouped = l1.groupby('#cnum')['Term Abbrev'].apply(list)\nl1_chip_abbrev_percentage = [[(l1_grouped[i + 1].count(abbrev) / len(l1_grouped[i + 1])) for abbrev in unique_symbols] for i in range(len(l1_grouped))]",
    "id": "81f3f938e2c94d988f9b7cd7027da05d",
    "idx": 5,
    "time": "2021-02-06T18:22:16.248Z",
    "type": "execution"
   },
   {
    "code": "l1_result = pd.DataFrame(l1_chip_abbrev_percentage)\nl1_result.index += 1\nl1_result.index.name = '#cnum'\nl1_result.columns = unique_symbols\nprint(l1_result)\nchip_norm = []\n#pull the percentage for each cnum\nfor x in chip_num:\n#     chip_norm.append((l1_result.loc[l1[\"#cnum\"]==x]).values.tolist()[0])\n    chip_norm.append(l1_result.loc[x,:].values.tolist())",
    "id": "d4504a9739224a928fc7397367dfcfe3",
    "idx": 6,
    "time": "2021-02-06T18:22:16.249Z",
    "type": "execution"
   },
   {
    "code": "#Number of training iterations\nnum_iters = 5000\n#Size of training dataset\nnum_examples = 2000\n#Listing out the shapes of each model\ncolors_num = len(chip_norm[0])\ninput_size = 3\n\nnetwork_shapes = [(input_size, [100], colors_num), (input_size, [100], colors_num), (input_size, [100], colors_num)]\n#Learning rate of the network\nrate = 0.001\n\n#Generating Training Data\nlab_train, lab_test, chip_train, chip_test = train_test_split(lab_norm, chip_norm, test_size=0.1)\n\ninput_train = torch.FloatTensor(lab_train)\noutput_train = torch.FloatTensor(chip_train)\ninput_test= torch.FloatTensor(lab_test)\noutput_test = torch.FloatTensor(chip_test)",
    "id": "44941f4587c5419d9f229a7472ac6520",
    "idx": 7,
    "time": "2021-02-06T18:22:16.250Z",
    "type": "execution"
   },
   {
    "code": "#Array of losses over training period for each network\nfor net_num, shape in enumerate(network_shapes):\n    print('Network Shape:',flush = True)\n    print('Input Size = ' + str(shape[0]), flush = True)\n    print('Hidden Size = ' + str(shape[1]), flush = True)\n    print('Output Size = ' + str(shape[2]), flush = True)\n    NN = Neural_Network(inputSize = 3, outputSize = colors_num, hiddenSize = [3,3,3] , learning_rate = 0.001)\n\n    for i in range(num_iters):\n        #Calculating l1 error\n        error = NN.l1error(output_train, NN(input_train))\n        if i == 0: \n            dh = display(\"#\" + str(i) + \" Error: \" + str(error), display_id=True)\n        else:\n            dh.update(\"#\" + str(i) + \" Error: \" + str(error))\n            \n        NN.train(input_train, output_train)\n    #Saves the training results in a filed named \"Net 0\", \"Net 1\", etc. \n    NN.saveWeights(model = NN, path = \"saved_networks/Net \" + str(net_num));",
    "id": "f673e22a10ec4607805bafd68cb56ec6",
    "idx": 8,
    "time": "2021-02-06T18:22:16.251Z",
    "type": "execution"
   },
   {
    "code": "for net_num, shape in enumerate(network_shapes):\n    print('Network Shape:',flush = True)\n    print('Input Size = ' + str(shape[0]), flush = True)\n    print('Hidden Size = ' + str(shape[1]), flush = True)\n    print('Output Size = ' + str(shape[2]), flush = True)\n    # Loading the network we trained in the prev. section\n    \n    NN = Neural_Network(inputSize = shape[0], outputSize = shape[2],\n                        hiddenSize = shape[1] , learning_rate = rate)\n    NN.load_state_dict(torch.load(\"saved_networks/Net \" + str(net_num)))\n    \n    validation_error = NN.l1error(output_test, NN(input_test))\n    max_error = np.max(np.abs((output_test - NN(input_test)).detach().numpy()))\n    print(\"The validation error is: \" + str(validation_error), flush = True)  \n    print(\"The maximum error is:\" + str(max_error), flush = True)",
    "id": "5c2f3a6b17b647788bd419eb494fc079",
    "idx": 9,
    "time": "2021-02-06T18:22:16.252Z",
    "type": "execution"
   },
   {
    "id": "0e0ac933829d471595492e4acc88ea34",
    "time": "2021-02-06T18:22:18.731Z",
    "type": "completion"
   },
   {
    "id": "4903bda737bf4f61a75993cf916b5233",
    "time": "2021-02-06T18:22:19.173Z",
    "type": "completion"
   },
   {
    "id": "4907e05ff41d411c8ef84c6c8eed8834",
    "time": "2021-02-06T18:22:19.194Z",
    "type": "completion"
   },
   {
    "id": "d9226fd6339f4307870bf39af7b51873",
    "time": "2021-02-06T18:22:19.267Z",
    "type": "completion"
   },
   {
    "id": "964bc2f9ed444796ade9ad151d64c2d2",
    "time": "2021-02-06T18:22:19.279Z",
    "type": "completion"
   },
   {
    "id": "81f3f938e2c94d988f9b7cd7027da05d",
    "time": "2021-02-06T18:22:19.422Z",
    "type": "completion"
   },
   {
    "id": "d4504a9739224a928fc7397367dfcfe3",
    "time": "2021-02-06T18:22:19.500Z",
    "type": "completion"
   },
   {
    "id": "44941f4587c5419d9f229a7472ac6520",
    "time": "2021-02-06T18:22:19.518Z",
    "type": "completion"
   },
   {
    "id": "f673e22a10ec4607805bafd68cb56ec6",
    "time": "2021-02-06T18:23:01.889Z",
    "type": "completion"
   },
   {
    "id": "5c2f3a6b17b647788bd419eb494fc079",
    "time": "2021-02-06T18:23:01.921Z",
    "type": "completion"
   },
   {
    "code": "#Number of training iterations\nnum_iters = 50\n#Size of training dataset\nnum_examples = 2000\n#Listing out the shapes of each model\ncolors_num = len(chip_norm[0])\ninput_size = 3\n\nnetwork_shapes = [(input_size, [100], colors_num), (input_size, [100], colors_num), (input_size, [100], colors_num)]\n#Learning rate of the network\nrate = 0.001\n\n#Generating Training Data\nlab_train, lab_test, chip_train, chip_test = train_test_split(lab_norm, chip_norm, test_size=0.1)\n\ninput_train = torch.FloatTensor(lab_train)\noutput_train = torch.FloatTensor(chip_train)\ninput_test= torch.FloatTensor(lab_test)\noutput_test = torch.FloatTensor(chip_test)",
    "id": "44941f4587c5419d9f229a7472ac6520",
    "idx": 7,
    "time": "2021-02-06T18:23:21.229Z",
    "type": "execution"
   },
   {
    "id": "44941f4587c5419d9f229a7472ac6520",
    "time": "2021-02-06T18:23:21.285Z",
    "type": "completion"
   },
   {
    "code": "#Array of losses over training period for each network\nfor net_num, shape in enumerate(network_shapes):\n    print('Network Shape:',flush = True)\n    print('Input Size = ' + str(shape[0]), flush = True)\n    print('Hidden Size = ' + str(shape[1]), flush = True)\n    print('Output Size = ' + str(shape[2]), flush = True)\n    NN = Neural_Network(inputSize = 3, outputSize = colors_num, hiddenSize = [3,3,3] , learning_rate = 0.001)\n\n    for i in range(num_iters):\n        #Calculating l1 error\n        error = NN.l1error(output_train, NN(input_train))\n        if i == 0: \n            dh = display(\"#\" + str(i) + \" Error: \" + str(error), display_id=True)\n        else:\n            dh.update(\"#\" + str(i) + \" Error: \" + str(error))\n            \n        NN.train(input_train, output_train)\n    #Saves the training results in a filed named \"Net 0\", \"Net 1\", etc. \n    NN.saveWeights(model = NN, path = \"saved_networks/Net \" + str(net_num));",
    "id": "f673e22a10ec4607805bafd68cb56ec6",
    "idx": 8,
    "time": "2021-02-06T18:23:21.456Z",
    "type": "execution"
   },
   {
    "code": "for net_num, shape in enumerate(network_shapes):\n    print('Network Shape:',flush = True)\n    print('Input Size = ' + str(shape[0]), flush = True)\n    print('Hidden Size = ' + str(shape[1]), flush = True)\n    print('Output Size = ' + str(shape[2]), flush = True)\n    # Loading the network we trained in the prev. section\n    \n    NN = Neural_Network(inputSize = shape[0], outputSize = shape[2],\n                        hiddenSize = shape[1] , learning_rate = rate)\n    NN.load_state_dict(torch.load(\"saved_networks/Net \" + str(net_num)))\n    \n    validation_error = NN.l1error(output_test, NN(input_test))\n    max_error = np.max(np.abs((output_test - NN(input_test)).detach().numpy()))\n    print(\"The validation error is: \" + str(validation_error), flush = True)  \n    print(\"The maximum error is:\" + str(max_error), flush = True)",
    "id": "5c2f3a6b17b647788bd419eb494fc079",
    "idx": 9,
    "time": "2021-02-06T18:23:21.747Z",
    "type": "execution"
   },
   {
    "id": "f673e22a10ec4607805bafd68cb56ec6",
    "time": "2021-02-06T18:24:53.493Z",
    "type": "completion"
   },
   {
    "id": "5c2f3a6b17b647788bd419eb494fc079",
    "time": "2021-02-06T18:24:53.653Z",
    "type": "completion"
   },
   {
    "code": "chip_norm",
    "id": "42db734a766c45fba8b74a2a838c014d",
    "idx": 7,
    "time": "2021-02-06T18:26:53.230Z",
    "type": "execution"
   },
   {
    "id": "42db734a766c45fba8b74a2a838c014d",
    "time": "2021-02-06T18:26:53.399Z",
    "type": "completion"
   },
   {
    "code": "l1 = term_data[term_data.get('#Lnum').eq(2)]\nunique_symbols = list(l1['Term Abbrev'].unique())\nl1_grouped = l1.groupby('#cnum')['Term Abbrev'].apply(list)\nl1_chip_abbrev_percentage = [[(l1_grouped[i + 1].count(abbrev) / len(l1_grouped[i + 1])) for abbrev in unique_symbols] for i in range(len(l1_grouped))]",
    "id": "81f3f938e2c94d988f9b7cd7027da05d",
    "idx": 5,
    "time": "2021-02-06T18:27:09.279Z",
    "type": "execution"
   },
   {
    "id": "81f3f938e2c94d988f9b7cd7027da05d",
    "time": "2021-02-06T18:27:09.459Z",
    "type": "completion"
   },
   {
    "code": "l1_result = pd.DataFrame(l1_chip_abbrev_percentage)\nl1_result.index += 1\nl1_result.index.name = '#cnum'\nl1_result.columns = unique_symbols\nprint(l1_result)\nchip_norm = []\n#pull the percentage for each cnum\nfor x in chip_num:\n#     chip_norm.append((l1_result.loc[l1[\"#cnum\"]==x]).values.tolist()[0])\n    chip_norm.append(l1_result.loc[x,:].values.tolist())",
    "id": "d4504a9739224a928fc7397367dfcfe3",
    "idx": 6,
    "time": "2021-02-06T18:27:09.735Z",
    "type": "execution"
   },
   {
    "id": "d4504a9739224a928fc7397367dfcfe3",
    "time": "2021-02-06T18:27:09.879Z",
    "type": "completion"
   },
   {
    "code": "l1 = term_data[term_data.get('#Lnum').eq(1)]\nunique_symbols = list(l1['Term Abbrev'].unique())\nl1_grouped = l1.groupby('#cnum')['Term Abbrev'].apply(list)\nl1_chip_abbrev_percentage = [[(l1_grouped[i + 1].count(abbrev) / len(l1_grouped[i + 1])) for abbrev in unique_symbols] for i in range(len(l1_grouped))]",
    "id": "81f3f938e2c94d988f9b7cd7027da05d",
    "idx": 5,
    "time": "2021-02-06T18:27:32.992Z",
    "type": "execution"
   },
   {
    "id": "81f3f938e2c94d988f9b7cd7027da05d",
    "time": "2021-02-06T18:27:33.107Z",
    "type": "completion"
   },
   {
    "code": "l1_result = pd.DataFrame(l1_chip_abbrev_percentage)\nl1_result.index += 1\nl1_result.index.name = '#cnum'\nl1_result.columns = unique_symbols\nprint(l1_result)\nchip_norm = []\n#pull the percentage for each cnum\nfor x in chip_num:\n#     chip_norm.append((l1_result.loc[l1[\"#cnum\"]==x]).values.tolist()[0])\n    chip_norm.append(l1_result.loc[x,:].values.tolist())",
    "id": "d4504a9739224a928fc7397367dfcfe3",
    "idx": 6,
    "time": "2021-02-06T18:27:33.440Z",
    "type": "execution"
   },
   {
    "id": "d4504a9739224a928fc7397367dfcfe3",
    "time": "2021-02-06T18:27:33.576Z",
    "type": "completion"
   },
   {
    "code": "l1_result",
    "id": "42db734a766c45fba8b74a2a838c014d",
    "idx": 7,
    "time": "2021-02-06T18:27:44.399Z",
    "type": "execution"
   },
   {
    "id": "42db734a766c45fba8b74a2a838c014d",
    "time": "2021-02-06T18:27:44.499Z",
    "type": "completion"
   },
   {
    "code": "l1_result.GB",
    "id": "42db734a766c45fba8b74a2a838c014d",
    "idx": 7,
    "time": "2021-02-06T18:27:53.103Z",
    "type": "execution"
   },
   {
    "id": "42db734a766c45fba8b74a2a838c014d",
    "time": "2021-02-06T18:27:53.165Z",
    "type": "completion"
   },
   {
    "code": "l1_result.GB.unique()",
    "id": "42db734a766c45fba8b74a2a838c014d",
    "idx": 7,
    "time": "2021-02-06T18:27:57.411Z",
    "type": "execution"
   },
   {
    "id": "42db734a766c45fba8b74a2a838c014d",
    "time": "2021-02-06T18:27:57.481Z",
    "type": "completion"
   },
   {
    "code": "cnum_data[['#cnum']]",
    "id": "bd9253b38b51423a9a3ea36ed78f65dd",
    "idx": 4,
    "time": "2021-02-06T18:30:39.517Z",
    "type": "execution"
   },
   {
    "id": "bd9253b38b51423a9a3ea36ed78f65dd",
    "time": "2021-02-06T18:30:39.585Z",
    "type": "completion"
   },
   {
    "code": "cnum_data",
    "id": "bd9253b38b51423a9a3ea36ed78f65dd",
    "idx": 4,
    "time": "2021-02-06T18:30:49.443Z",
    "type": "execution"
   },
   {
    "id": "bd9253b38b51423a9a3ea36ed78f65dd",
    "time": "2021-02-06T18:30:49.514Z",
    "type": "completion"
   },
   {
    "code": "cnum_data.loc[:, ['L*', 'a*', 'b*']]",
    "id": "bd9253b38b51423a9a3ea36ed78f65dd",
    "idx": 4,
    "time": "2021-02-06T18:31:42.664Z",
    "type": "execution"
   },
   {
    "id": "bd9253b38b51423a9a3ea36ed78f65dd",
    "time": "2021-02-06T18:31:42.747Z",
    "type": "completion"
   },
   {
    "code": "cnum_data.loc[:, ['#cnum', 'L*', 'a*', 'b*']]",
    "id": "bd9253b38b51423a9a3ea36ed78f65dd",
    "idx": 4,
    "time": "2021-02-06T18:31:57.416Z",
    "type": "execution"
   },
   {
    "id": "bd9253b38b51423a9a3ea36ed78f65dd",
    "time": "2021-02-06T18:31:57.478Z",
    "type": "completion"
   },
   {
    "code": "debug1 = cnum_data.loc[:, ['#cnum', 'L*', 'a*', 'b*']]\n# debug1['L*'] = debug1['L*'] - \nnormalized_df=(debug1-debug1.mean())/debug1.std()",
    "id": "bd9253b38b51423a9a3ea36ed78f65dd",
    "idx": 4,
    "time": "2021-02-06T18:34:07.368Z",
    "type": "execution"
   },
   {
    "id": "bd9253b38b51423a9a3ea36ed78f65dd",
    "time": "2021-02-06T18:34:07.427Z",
    "type": "completion"
   },
   {
    "code": "debug1 = cnum_data.loc[:, ['#cnum', 'L*', 'a*', 'b*']]\n# debug1['L*'] = debug1['L*'] - \nnormalized_df=(debug1-debug1.mean())/debug1.std()\nnormalized_df",
    "id": "bd9253b38b51423a9a3ea36ed78f65dd",
    "idx": 4,
    "time": "2021-02-06T18:34:16.430Z",
    "type": "execution"
   },
   {
    "id": "bd9253b38b51423a9a3ea36ed78f65dd",
    "time": "2021-02-06T18:34:16.505Z",
    "type": "completion"
   },
   {
    "code": "debug1 = cnum_data.loc[:, ['#cnum', 'L*', 'a*', 'b*']]\ndebug1['L*'] = (debug1['L*'] - debug1['L*'].mean) / debug1['L*'].std()\n",
    "id": "bd9253b38b51423a9a3ea36ed78f65dd",
    "idx": 4,
    "time": "2021-02-06T18:35:43.131Z",
    "type": "execution"
   },
   {
    "id": "bd9253b38b51423a9a3ea36ed78f65dd",
    "time": "2021-02-06T18:35:43.245Z",
    "type": "completion"
   },
   {
    "code": "debug1 = cnum_data.loc[:, ['#cnum', 'L*', 'a*', 'b*']]\ndebug1['L*'] = (debug1['L*'] - debug1['L*'].mean) / debug1['L*'].std\n",
    "id": "bd9253b38b51423a9a3ea36ed78f65dd",
    "idx": 4,
    "time": "2021-02-06T18:36:00.211Z",
    "type": "execution"
   },
   {
    "id": "bd9253b38b51423a9a3ea36ed78f65dd",
    "time": "2021-02-06T18:36:00.325Z",
    "type": "completion"
   },
   {
    "code": "debug1 = cnum_data.loc[:, ['#cnum', 'L*', 'a*', 'b*']]\ndebug1['L*'] = (debug1['L*'] - debug1['L*'].mean()) #/ debug1['L*'].std\n",
    "id": "bd9253b38b51423a9a3ea36ed78f65dd",
    "idx": 4,
    "time": "2021-02-06T18:36:06.335Z",
    "type": "execution"
   },
   {
    "id": "bd9253b38b51423a9a3ea36ed78f65dd",
    "time": "2021-02-06T18:36:06.387Z",
    "type": "completion"
   },
   {
    "code": "debug1 = cnum_data.loc[:, ['#cnum', 'L*', 'a*', 'b*']]\ndebug1['L*'] = (debug1['L*'] - debug1['L*'].mean()) / debug1['L*'].std()\n",
    "id": "bd9253b38b51423a9a3ea36ed78f65dd",
    "idx": 4,
    "time": "2021-02-06T18:36:18.477Z",
    "type": "execution"
   },
   {
    "id": "bd9253b38b51423a9a3ea36ed78f65dd",
    "time": "2021-02-06T18:36:18.554Z",
    "type": "completion"
   },
   {
    "code": "debug1 = cnum_data.loc[:, ['#cnum', 'L*', 'a*', 'b*']]\ndebug1['L*'] = (debug1['L*'] - debug1['L*'].mean()) / debug1['L*'].std()\ndebug1",
    "id": "bd9253b38b51423a9a3ea36ed78f65dd",
    "idx": 4,
    "time": "2021-02-06T18:36:24.120Z",
    "type": "execution"
   },
   {
    "id": "bd9253b38b51423a9a3ea36ed78f65dd",
    "time": "2021-02-06T18:36:24.192Z",
    "type": "completion"
   },
   {
    "code": "# debug1 = cnum_data.loc[:, ['#cnum', 'L*', 'a*', 'b*']]\n# debug1['L*'] = (debug1['L*'] - debug1['L*'].mean()) / debug1['L*'].std()\n# debug1",
    "id": "bd9253b38b51423a9a3ea36ed78f65dd",
    "idx": 4,
    "time": "2021-02-06T18:39:11.010Z",
    "type": "execution"
   },
   {
    "id": "bd9253b38b51423a9a3ea36ed78f65dd",
    "time": "2021-02-06T18:39:11.057Z",
    "type": "completion"
   },
   {
    "code": "locattions",
    "id": "d8ce44b873434ba88decdb4f4709e46b",
    "idx": 6,
    "time": "2021-02-06T18:39:58.590Z",
    "type": "execution"
   },
   {
    "id": "d8ce44b873434ba88decdb4f4709e46b",
    "time": "2021-02-06T18:39:58.665Z",
    "type": "completion"
   },
   {
    "code": "locations",
    "id": "d8ce44b873434ba88decdb4f4709e46b",
    "idx": 6,
    "time": "2021-02-06T18:40:00.807Z",
    "type": "execution"
   },
   {
    "id": "d8ce44b873434ba88decdb4f4709e46b",
    "time": "2021-02-06T18:40:00.869Z",
    "type": "completion"
   },
   {
    "code": "chip_num",
    "id": "d8ce44b873434ba88decdb4f4709e46b",
    "idx": 6,
    "time": "2021-02-06T18:40:06.496Z",
    "type": "execution"
   },
   {
    "id": "d8ce44b873434ba88decdb4f4709e46b",
    "time": "2021-02-06T18:40:06.563Z",
    "type": "completion"
   },
   {
    "code": "len(chip_num)",
    "id": "d8ce44b873434ba88decdb4f4709e46b",
    "idx": 6,
    "time": "2021-02-06T18:40:21.037Z",
    "type": "execution"
   },
   {
    "code": "l1",
    "id": "3e8b7c30c3154eeba55292a9c9f2a338",
    "idx": 7,
    "time": "2021-02-06T18:44:08.553Z",
    "type": "execution"
   },
   {
    "id": "3e8b7c30c3154eeba55292a9c9f2a338",
    "time": "2021-02-06T18:44:08.624Z",
    "type": "completion"
   },
   {
    "code": "NNtest = Neural_Network(inputSize = 3, outputSize = 1, hiddenSize = [3,3,3] , learning_rate = 0.001)",
    "id": "a0f7425e61a24e9287eedeb3847c96a9",
    "idx": 6,
    "time": "2021-02-06T18:45:07.997Z",
    "type": "execution"
   },
   {
    "id": "a0f7425e61a24e9287eedeb3847c96a9",
    "time": "2021-02-06T18:45:08.264Z",
    "type": "completion"
   },
   {
    "code": "lab_norm",
    "id": "4332d3385ba746e3b29bcac0b0c43061",
    "idx": 6,
    "time": "2021-02-06T18:45:36.177Z",
    "type": "execution"
   },
   {
    "id": "4332d3385ba746e3b29bcac0b0c43061",
    "time": "2021-02-06T18:45:36.310Z",
    "type": "completion"
   },
   {
    "code": "lab_norm.shape",
    "id": "4332d3385ba746e3b29bcac0b0c43061",
    "idx": 6,
    "time": "2021-02-06T18:45:40.341Z",
    "type": "execution"
   },
   {
    "id": "4332d3385ba746e3b29bcac0b0c43061",
    "time": "2021-02-06T18:45:40.396Z",
    "type": "completion"
   },
   {
    "code": "len(lab_norm)",
    "id": "4332d3385ba746e3b29bcac0b0c43061",
    "idx": 6,
    "time": "2021-02-06T18:45:51.499Z",
    "type": "execution"
   },
   {
    "id": "4332d3385ba746e3b29bcac0b0c43061",
    "time": "2021-02-06T18:45:51.627Z",
    "type": "completion"
   },
   {
    "code": "NNtest = Neural_Network(inputSize = 3, outputSize = 1, hiddenSize = [3,3,3] , learning_rate = 0.001)\nNNtest([[1, 1, 1]])\n",
    "id": "a0f7425e61a24e9287eedeb3847c96a9",
    "idx": 6,
    "time": "2021-02-06T18:46:31.225Z",
    "type": "execution"
   },
   {
    "id": "a0f7425e61a24e9287eedeb3847c96a9",
    "time": "2021-02-06T18:46:31.365Z",
    "type": "completion"
   },
   {
    "code": "NNtest = Neural_Network(inputSize = 3, outputSize = 1, hiddenSize = [3,3,3] , learning_rate = 0.001)\nNNtest(torch.FloatTensor([[1, 1, 1]]))\n",
    "id": "a0f7425e61a24e9287eedeb3847c96a9",
    "idx": 6,
    "time": "2021-02-06T18:47:37.740Z",
    "type": "execution"
   },
   {
    "id": "a0f7425e61a24e9287eedeb3847c96a9",
    "time": "2021-02-06T18:47:37.815Z",
    "type": "completion"
   },
   {
    "code": "NNtest = Neural_Network(inputSize = 3, outputSize = 1, hiddenSize = [3,3,3] , learning_rate = 0.001)\nNNtest(torch.FloatTensor([[1, 1, 1], [1, 1, 1]]))\n",
    "id": "a0f7425e61a24e9287eedeb3847c96a9",
    "idx": 6,
    "time": "2021-02-06T18:48:01.822Z",
    "type": "execution"
   },
   {
    "id": "a0f7425e61a24e9287eedeb3847c96a9",
    "time": "2021-02-06T18:48:01.883Z",
    "type": "completion"
   },
   {
    "code": "# #Neural Network Shape Test\n# NNtest = Neural_Network(inputSize = 3, outputSize = 1, hiddenSize = [3,3,3] , learning_rate = 0.001)\n# NNtest(torch.FloatTensor([[1, 1, 1], [1, 1, 1]]))\n",
    "id": "a0f7425e61a24e9287eedeb3847c96a9",
    "idx": 6,
    "time": "2021-02-06T18:48:38.123Z",
    "type": "execution"
   },
   {
    "id": "a0f7425e61a24e9287eedeb3847c96a9",
    "time": "2021-02-06T18:48:38.178Z",
    "type": "completion"
   },
   {
    "code": "unique_symbols",
    "id": "3e8b7c30c3154eeba55292a9c9f2a338",
    "idx": 8,
    "time": "2021-02-06T18:49:22.578Z",
    "type": "execution"
   },
   {
    "id": "3e8b7c30c3154eeba55292a9c9f2a338",
    "time": "2021-02-06T18:49:22.633Z",
    "type": "completion"
   },
   {
    "code": "l1",
    "id": "3e8b7c30c3154eeba55292a9c9f2a338",
    "idx": 8,
    "time": "2021-02-06T18:49:37.774Z",
    "type": "execution"
   },
   {
    "id": "3e8b7c30c3154eeba55292a9c9f2a338",
    "time": "2021-02-06T18:49:37.863Z",
    "type": "completion"
   },
   {
    "code": "l1['#Lnum']",
    "id": "3e8b7c30c3154eeba55292a9c9f2a338",
    "idx": 8,
    "time": "2021-02-06T18:50:46.716Z",
    "type": "execution"
   },
   {
    "id": "3e8b7c30c3154eeba55292a9c9f2a338",
    "time": "2021-02-06T18:50:46.795Z",
    "type": "completion"
   },
   {
    "code": "l1['#Lnum'].unique()",
    "id": "3e8b7c30c3154eeba55292a9c9f2a338",
    "idx": 8,
    "time": "2021-02-06T18:50:52.868Z",
    "type": "execution"
   },
   {
    "id": "3e8b7c30c3154eeba55292a9c9f2a338",
    "time": "2021-02-06T18:50:52.969Z",
    "type": "completion"
   },
   {
    "code": "unique_symbols",
    "id": "3e8b7c30c3154eeba55292a9c9f2a338",
    "idx": 8,
    "time": "2021-02-06T18:50:58.566Z",
    "type": "execution"
   },
   {
    "id": "3e8b7c30c3154eeba55292a9c9f2a338",
    "time": "2021-02-06T18:50:58.976Z",
    "type": "completion"
   },
   {
    "code": "l1_grouped",
    "id": "3e8b7c30c3154eeba55292a9c9f2a338",
    "idx": 8,
    "time": "2021-02-06T18:51:14.664Z",
    "type": "execution"
   },
   {
    "id": "3e8b7c30c3154eeba55292a9c9f2a338",
    "time": "2021-02-06T18:51:14.766Z",
    "type": "completion"
   },
   {
    "code": "l1_chip_abbrev_percentage",
    "id": "3e8b7c30c3154eeba55292a9c9f2a338",
    "idx": 8,
    "time": "2021-02-06T18:52:17.986Z",
    "type": "execution"
   },
   {
    "id": "3e8b7c30c3154eeba55292a9c9f2a338",
    "time": "2021-02-06T18:52:18.155Z",
    "type": "completion"
   },
   {
    "code": "len(l1_chip_abbrev_percentage)",
    "id": "3e8b7c30c3154eeba55292a9c9f2a338",
    "idx": 8,
    "time": "2021-02-06T18:52:31.119Z",
    "type": "execution"
   },
   {
    "id": "3e8b7c30c3154eeba55292a9c9f2a338",
    "time": "2021-02-06T18:52:31.188Z",
    "type": "completion"
   },
   {
    "code": "l1_result",
    "id": "1a980cbd8b2744578380cb27f9517068",
    "idx": 9,
    "time": "2021-02-06T18:52:53.003Z",
    "type": "execution"
   },
   {
    "id": "1a980cbd8b2744578380cb27f9517068",
    "time": "2021-02-06T18:52:53.092Z",
    "type": "completion"
   },
   {
    "code": "l1_result.shape",
    "id": "1a980cbd8b2744578380cb27f9517068",
    "idx": 9,
    "time": "2021-02-06T18:52:58.477Z",
    "type": "execution"
   },
   {
    "id": "1a980cbd8b2744578380cb27f9517068",
    "time": "2021-02-06T18:52:58.608Z",
    "type": "completion"
   },
   {
    "code": "chip_norm",
    "id": "1a980cbd8b2744578380cb27f9517068",
    "idx": 9,
    "time": "2021-02-06T18:53:26.083Z",
    "type": "execution"
   },
   {
    "id": "1a980cbd8b2744578380cb27f9517068",
    "time": "2021-02-06T18:53:26.329Z",
    "type": "completion"
   },
   {
    "code": "l1_chip_abbrev_percentage",
    "id": "6a4ca79e1c1f4970821c477347770df2",
    "idx": 9,
    "time": "2021-02-06T18:53:37.681Z",
    "type": "execution"
   },
   {
    "id": "6a4ca79e1c1f4970821c477347770df2",
    "time": "2021-02-06T18:53:37.886Z",
    "type": "completion"
   },
   {
    "code": "l1_chip_abbrev_percentage == chip_norm",
    "id": "6a4ca79e1c1f4970821c477347770df2",
    "idx": 9,
    "time": "2021-02-06T18:54:01.573Z",
    "type": "execution"
   },
   {
    "id": "6a4ca79e1c1f4970821c477347770df2",
    "time": "2021-02-06T18:54:01.634Z",
    "type": "completion"
   },
   {
    "code": "l1 = term_data[term_data.get('#Lnum').eq(1)]\nunique_symbols = list(l1['Term Abbrev'].unique())\nl1_grouped = l1.groupby('#cnum')['Term Abbrev'].apply(list)\nl1_chip_abbrev_percentage = [[(l1_grouped[i + 1].count(abbrev) / len(l1_grouped[i + 1])) \\\n                              for abbrev in unique_symbols] for i in range(len(l1_grouped))]",
    "id": "d87e693cad3e42ed8e6cc801b9ea65a0",
    "idx": 7,
    "time": "2021-02-06T18:55:04.151Z",
    "type": "execution"
   },
   {
    "id": "d87e693cad3e42ed8e6cc801b9ea65a0",
    "time": "2021-02-06T18:55:04.267Z",
    "type": "completion"
   },
   {
    "code": "range(1, 10)",
    "id": "166fd4bb85d84a50b6e68cd2a14428f6",
    "idx": 8,
    "time": "2021-02-06T18:55:50.684Z",
    "type": "execution"
   },
   {
    "id": "166fd4bb85d84a50b6e68cd2a14428f6",
    "time": "2021-02-06T18:55:50.738Z",
    "type": "completion"
   },
   {
    "code": "np.arange(1, 10)",
    "id": "166fd4bb85d84a50b6e68cd2a14428f6",
    "idx": 8,
    "time": "2021-02-06T18:55:56.492Z",
    "type": "execution"
   },
   {
    "id": "166fd4bb85d84a50b6e68cd2a14428f6",
    "time": "2021-02-06T18:55:56.559Z",
    "type": "completion"
   },
   {
    "code": "l1",
    "id": "166fd4bb85d84a50b6e68cd2a14428f6",
    "idx": 8,
    "time": "2021-02-06T18:56:08.844Z",
    "type": "execution"
   },
   {
    "id": "166fd4bb85d84a50b6e68cd2a14428f6",
    "time": "2021-02-06T18:56:08.948Z",
    "type": "completion"
   },
   {
    "code": "# #Neural Network Shape Test\nNNtest = Neural_Network(inputSize = 3, outputSize = 9, hiddenSize = [3,3,3] , learning_rate = 0.001)\nNNtest(torch.FloatTensor([[1, 1, 1], [1, 1, 1]]))\n",
    "id": "a0f7425e61a24e9287eedeb3847c96a9",
    "idx": 6,
    "time": "2021-02-06T18:57:33.980Z",
    "type": "execution"
   },
   {
    "id": "a0f7425e61a24e9287eedeb3847c96a9",
    "time": "2021-02-06T18:57:34.052Z",
    "type": "completion"
   },
   {
    "code": "lab_train",
    "id": "21db5e73be92486186d3fda30923ec0e",
    "idx": 10,
    "time": "2021-02-06T18:58:18.513Z",
    "type": "execution"
   },
   {
    "id": "21db5e73be92486186d3fda30923ec0e",
    "time": "2021-02-06T18:58:18.676Z",
    "type": "completion"
   },
   {
    "code": "#Number of training iterations\nnum_iters = 50\n#Size of training dataset\nnum_examples = 2000\n#Listing out the shapes of each model\ncolors_num = len(chip_norm[0])\ninput_size = 3\n\nnetwork_shapes = [(input_size, [10], colors_num), (input_size, [50], colors_num), (input_size, [100], colors_num)]\n#Learning rate of the network\nrate = 0.001\n\n#Generating Training Data\nlab_train, lab_test, chip_train, chip_test = train_test_split(lab_norm, chip_norm, test_size=0.2)\n\ninput_train = torch.FloatTensor(lab_train)\noutput_train = torch.FloatTensor(chip_train)\ninput_test= torch.FloatTensor(lab_test)\noutput_test = torch.FloatTensor(chip_test)",
    "id": "edd0058b1003415baca0ba38b6e34e64",
    "idx": 9,
    "time": "2021-02-06T18:59:51.920Z",
    "type": "execution"
   },
   {
    "id": "edd0058b1003415baca0ba38b6e34e64",
    "time": "2021-02-06T18:59:52.152Z",
    "type": "completion"
   },
   {
    "code": "#Array of losses over training period for each network\nfor net_num, shape in enumerate(network_shapes):\n    print('Network Shape:',flush = True)\n    print('Input Size = ' + str(shape[0]), flush = True)\n    print('Hidden Size = ' + str(shape[1]), flush = True)\n    print('Output Size = ' + str(shape[2]), flush = True)\n    NN = Neural_Network(inputSize = 3, outputSize = colors_num, hiddenSize = [3,3,3] , learning_rate = 0.001)\n\n    for i in range(num_iters):\n        #Calculating l1 error\n        error = NN.l1error(output_test, NN(input_test))\n        if i == 0: \n            dh = display(\"#\" + str(i) + \" Error: \" + str(error), display_id=True)\n        else:\n            dh.update(\"#\" + str(i) + \" Error: \" + str(error))\n            \n        NN.train(input_train, output_train)\n    #Saves the training results in a filed named \"Net 0\", \"Net 1\", etc. \n    NN.saveWeights(model = NN, path = \"saved_networks/Net \" + str(net_num));",
    "id": "f6ce5e0006d345e19be7b61f8d00e067",
    "idx": 10,
    "time": "2021-02-06T18:59:52.444Z",
    "type": "execution"
   },
   {
    "id": "f6ce5e0006d345e19be7b61f8d00e067",
    "time": "2021-02-06T19:01:15.324Z",
    "type": "completion"
   },
   {
    "code": "for net_num, shape in enumerate(network_shapes):\n    print('Network Shape:',flush = True)\n    print('Input Size = ' + str(shape[0]), flush = True)\n    print('Hidden Size = ' + str(shape[1]), flush = True)\n    print('Output Size = ' + str(shape[2]), flush = True)\n    # Loading the network we trained in the prev. section\n    \n    NN = Neural_Network(inputSize = shape[0], outputSize = shape[2],\n                        hiddenSize = shape[1] , learning_rate = rate)\n    NN.load_state_dict(torch.load(\"saved_networks/Net \" + str(net_num)))\n    \n    validation_error = NN.l1error(output_test, NN(input_test))\n    max_error = np.max(np.abs((output_test - NN(input_test)).detach().numpy()))\n    print(\"The validation error is: \" + str(validation_error), flush = True)  \n    print(\"The maximum error is:\" + str(max_error), flush = True)",
    "id": "7830aa56eb6d479488d2fc63bc3e0007",
    "idx": 11,
    "time": "2021-02-06T19:01:24.056Z",
    "type": "execution"
   },
   {
    "id": "7830aa56eb6d479488d2fc63bc3e0007",
    "time": "2021-02-06T19:01:24.162Z",
    "type": "completion"
   },
   {
    "code": "for net_num, shape in enumerate(network_shapes):\n    print('Network Shape:',flush = True)\n    print('Input Size = ' + str(shape[0]), flush = True)\n    print('Hidden Size = ' + str(shape[1]), flush = True)\n    print('Output Size = ' + str(shape[2]), flush = True)\n    # Loading the network we trained in the prev. section\n    \n    NN = Neural_Network(inputSize = shape[0], outputSize = shape[2],\n                        hiddenSize = shape[1] , learning_rate = rate)\n    NN.load_state_dict(torch.load(\"saved_networks/Net \" + str(net_num)))\n    \n    validation_error = NN.l1error(output_test, NN(input_test))\n    max_error = np.max(np.abs((output_test - NN(input_test)).detach().numpy()))\n    print(\"The validation error is: \" + str(validation_error), flush = True)  \n    print(\"The maximum error is:\" + str(max_error), flush = True)",
    "id": "7830aa56eb6d479488d2fc63bc3e0007",
    "idx": 11,
    "time": "2021-02-06T19:02:43.827Z",
    "type": "execution"
   },
   {
    "id": "7830aa56eb6d479488d2fc63bc3e0007",
    "time": "2021-02-06T19:02:43.934Z",
    "type": "completion"
   },
   {
    "code": "for net_num, shape in enumerate(network_shapes):\n    print('Network Shape:',flush = True)\n    print('Input Size = ' + str(shape[0]), flush = True)\n    print('Hidden Size = ' + str(shape[1]), flush = True)\n    print('Output Size = ' + str(shape[2]), flush = True)\n    print(shape[0], shape[1], shape[2])\n    # Loading the network we trained in the prev. section\n    \n    NN = Neural_Network(inputSize = shape[0], outputSize = shape[2],\n                        hiddenSize = shape[1] , learning_rate = rate)\n    NN.load_state_dict(torch.load(\"saved_networks/Net \" + str(net_num)))\n    \n    validation_error = NN.l1error(output_test, NN(input_test))\n    max_error = np.max(np.abs((output_test - NN(input_test)).detach().numpy()))\n    print(\"The validation error is: \" + str(validation_error), flush = True)  \n    print(\"The maximum error is:\" + str(max_error), flush = True)",
    "id": "7830aa56eb6d479488d2fc63bc3e0007",
    "idx": 11,
    "time": "2021-02-06T19:02:58.448Z",
    "type": "execution"
   },
   {
    "id": "7830aa56eb6d479488d2fc63bc3e0007",
    "time": "2021-02-06T19:02:58.545Z",
    "type": "completion"
   },
   {
    "code": "for net_num, shape in enumerate(network_shapes):\n    print('Network Shape:',flush = True)\n    print('Input Size = ' + str(shape[0]), flush = True)\n    print('Hidden Size = ' + str(shape[1]), flush = True)\n    print('Output Size = ' + str(shape[2]), flush = True)\n    # Loading the network we trained in the prev. section\n    \n    NN = Neural_Network(inputSize = shape[0], outputSize = shape[2],\n                        hiddenSize = shape[1] , learning_rate = rate)\n    print(net-num)\n    NN.load_state_dict(torch.load(\"saved_networks/Net \" + str(net_num)))\n    \n    validation_error = NN.l1error(output_test, NN(input_test))\n    max_error = np.max(np.abs((output_test - NN(input_test)).detach().numpy()))\n    print(\"The validation error is: \" + str(validation_error), flush = True)  \n    print(\"The maximum error is:\" + str(max_error), flush = True)",
    "id": "7830aa56eb6d479488d2fc63bc3e0007",
    "idx": 11,
    "time": "2021-02-06T19:03:45.357Z",
    "type": "execution"
   },
   {
    "id": "7830aa56eb6d479488d2fc63bc3e0007",
    "time": "2021-02-06T19:03:45.458Z",
    "type": "completion"
   },
   {
    "code": "for net_num, shape in enumerate(network_shapes):\n    print('Network Shape:',flush = True)\n    print('Input Size = ' + str(shape[0]), flush = True)\n    print('Hidden Size = ' + str(shape[1]), flush = True)\n    print('Output Size = ' + str(shape[2]), flush = True)\n    # Loading the network we trained in the prev. section\n    \n    NN = Neural_Network(inputSize = shape[0], outputSize = shape[2],\n                        hiddenSize = shape[1] , learning_rate = rate)\n    print(net_num)\n    NN.load_state_dict(torch.load(\"saved_networks/Net \" + str(net_num)))\n    \n    validation_error = NN.l1error(output_test, NN(input_test))\n    max_error = np.max(np.abs((output_test - NN(input_test)).detach().numpy()))\n    print(\"The validation error is: \" + str(validation_error), flush = True)  \n    print(\"The maximum error is:\" + str(max_error), flush = True)",
    "id": "7830aa56eb6d479488d2fc63bc3e0007",
    "idx": 11,
    "time": "2021-02-06T19:03:51.700Z",
    "type": "execution"
   },
   {
    "id": "7830aa56eb6d479488d2fc63bc3e0007",
    "time": "2021-02-06T19:03:51.777Z",
    "type": "completion"
   },
   {
    "code": "node_num = range(1,25)\nlayer_num = range(1,4)\n\n\nshape_collection = []\n\ndef trickle(arr, iteration_left, check):\n    if iteration_left == 0:\n        global shape_collection\n        #running the int fxn to make sure we don't have floats\n        mp = map(int, arr)\n        x = list(mp)\n        if check == sum(x):\n            shape_collection.append(x)\n    else:\n        new_arr = [0]+ arr + [0]\n        #recursively expanding the list symmetrically\n        while new_arr[0] < new_arr[1]-2 and new_arr[-1] < new_arr[-2]-2:\n            new_arr[0] += 1\n            new_arr[1] -= 1\n            new_arr[-1] += 1\n            new_arr[-2] -= 1\n        trickle(new_arr, iteration_left - 1, check)\n\nfor node in node_num:\n    for layer in layer_num:\n        if node//layer < 3:\n            continue\n        if layer%2 == 0:\n            trickle([node/2, node/2], (layer-2)/2, node)\n        else:\n            trickle([node], (layer-1)/2, node)\n        \n        \n        \n        \n\nprint(shape_collection)",
    "id": "64d8564a7b884a1984405f392fabb21e",
    "idx": 12,
    "time": "2021-02-06T19:07:47.762Z",
    "type": "execution"
   },
   {
    "id": "64d8564a7b884a1984405f392fabb21e",
    "time": "2021-02-06T19:07:47.842Z",
    "type": "completion"
   },
   {
    "code": "#Number of training iterations\nnum_iters = 500\n\n#Listing out the shapes of each model\ncolors_num = len(chip_norm[0])\ninput_size = 3\n\nnetwork_shapes = []\nfor s in shape_collection:\n    network_shapes.append((input_size,s,colors_num))\n\n#Learning rate of the network\nrate = 0.001\n\n#Generating Training Data\ninput_train, output_train, input_test, output_test = 0, 0, 0, 0\ndef shuffle():\n    lab_train, lab_test, chip_train, chip_test = train_test_split(lab_norm, chip_norm, test_size=0.2, random_state = 3, shuffle = True)\n    #test run on whole dataset\n    #lab_train, lab_test = lab_norm, lab_norm\n    #chip_train, chip_test = chip_norm, chip_norm\n    \n    global input_train, output_train, input_test, output_test\n    input_train = torch.FloatTensor(lab_train)\n    output_train = torch.FloatTensor(chip_train)\n    input_test= torch.FloatTensor(lab_test)\n    output_test = torch.FloatTensor(chip_test)\n\nprint(network_shapes)",
    "id": "d910e0e2e334411483adc407dcd04424",
    "idx": 13,
    "time": "2021-02-06T19:07:49.283Z",
    "type": "execution"
   },
   {
    "id": "d910e0e2e334411483adc407dcd04424",
    "time": "2021-02-06T19:07:49.330Z",
    "type": "completion"
   },
   {
    "code": "#Array of losses over training period for each network\noutput_file = {}\nfor n in node_num:\n    output_file[n] = {}\n    \nfor net_num, shape in enumerate(network_shapes):\n    shuffle()\n    print(\"Training: \",shape)\n    NN = Neural_Network(inputSize = shape[0], outputSize = shape[2],\n                        hiddenSize = shape[1] , learning_rate = rate)\n    error_arr = []\n    prev_error = 0\n    strike = 0\n    \n    for i in range(num_iters):       \n        NN.train(input_train, output_train)\n        validation_error = NN.l1error(output_test, NN(input_test))\n        #zero mistake counter at new training\n        if i == 0:\n            strike = 0\n        #adding error to array\n        error_arr.append(validation_error)\n        #wait for them to grow up\n        if prev_error < validation_error and i > 100:\n            if strike > 3:\n                print(\"Complete at iteration \", i, \"\\nFinal error: \", validation_error, \"\\n\")\n                break\n            else:\n                strike += 1\n        prev_error = validation_error\n\n    #Saves the training results in a filed named \"Net 0\", \"Net 1\", etc. \n    NN.saveWeights(model = NN, path = \"saved_networks/Net \" + str(net_num))\n    output_file[sum(shape[1])][len(shape[1])] = error_arr",
    "id": "818fef46e19e4960a9b9281a596a52f7",
    "idx": 14,
    "time": "2021-02-06T19:08:00.217Z",
    "type": "execution"
   },
   {
    "code": "import sys\nimport math\nimport numpy as np\n\"\"\"\nnot working\nfrom Language_Data_Scraper.py import *\n\"\"\"\nsys.path.insert(0, '..')\nfrom net_framework import *\nfrom sklearn.model_selection import train_test_split\nimport pandas as pd",
    "id": "0e403ae3e9b4423785f11c3d7b46a36c",
    "idx": 0,
    "time": "2021-02-06T22:44:54.280Z",
    "type": "execution"
   },
   {
    "code": "term_data = pd.read_csv('term.txt', sep=\"\\t\", header=None)\nterm_data.columns = [\"#Lnum\", \"#snum\", \"#cnum\", \"Term Abbrev\"]\nterm_data.head()",
    "id": "49e9b39ffb2944d48b6ccdc09010b658",
    "idx": 1,
    "time": "2021-02-06T22:44:54.450Z",
    "type": "execution"
   },
   {
    "code": "term_data['#Lnum'].unique()",
    "id": "5121391a3fb9447c863f9b6a21ed2789",
    "idx": 2,
    "time": "2021-02-06T22:44:54.610Z",
    "type": "execution"
   },
   {
    "code": "cnum_data = pd.read_csv('cnum-vhcm-lab-new.txt', sep=\"\\t\")\nlocations = cnum_data[['#cnum']]\nlocations['Normalized-L'] = (cnum_data['L*'] - cnum_data['L*'].mean())/(cnum_data['L*'] - cnum_data['L*'].mean()).max()\nlocations['Normalized-a'] = (cnum_data['a*'] - cnum_data['a*'].mean())/(cnum_data['a*'] - cnum_data['a*'].mean()).std() * 1/2\nlocations['Normalized-b'] = (cnum_data['b*'] - cnum_data['b*'].mean())/(cnum_data['b*'] - cnum_data['b*'].mean()).std() * 1/2\ndisplay(locations.head(5))",
    "id": "03a37b7ff7ce43208b74d0bbc44eea00",
    "idx": 3,
    "time": "2021-02-06T22:44:54.767Z",
    "type": "execution"
   },
   {
    "code": "# debug1 = cnum_data.loc[:, ['#cnum', 'L*', 'a*', 'b*']]\n# debug1['L*'] = (debug1['L*'] - debug1['L*'].mean()) / debug1['L*'].std()\n# debug1",
    "id": "3b364c7fbfe047e990150f2894e5d207",
    "idx": 4,
    "time": "2021-02-06T22:44:54.922Z",
    "type": "execution"
   },
   {
    "code": "locations = locations.sort_values('#cnum')\nchip_num = list(locations['#cnum'])\nlab_norm = [[row[2], row[3], row[4]] for row in locations.itertuples()]",
    "id": "90feda1a5c5c41a68e68ac9822b47500",
    "idx": 5,
    "time": "2021-02-06T22:44:55.585Z",
    "type": "execution"
   },
   {
    "code": "# #Neural Network Shape Test\n# NNtest = Neural_Network(inputSize = 3, outputSize = 9, hiddenSize = [3,3,3] , learning_rate = 0.001)\n# NNtest(torch.FloatTensor([[1, 1, 1], [1, 1, 1]]))\n",
    "id": "c4306a3ea3554ad2a7b64ce9a660fc86",
    "idx": 6,
    "time": "2021-02-06T22:44:56.042Z",
    "type": "execution"
   },
   {
    "code": "l1 = term_data[term_data.get('#Lnum').eq(1)]\nunique_symbols = list(l1['Term Abbrev'].unique())\nl1_grouped = l1.groupby('#cnum')['Term Abbrev'].apply(list)\nl1_chip_abbrev_percentage = [[(l1_grouped[i + 1].count(abbrev) / len(l1_grouped[i + 1])) \\\n                              for abbrev in unique_symbols] for i in range(len(l1_grouped))]",
    "id": "70e03cca165945b78f53df7ac997e754",
    "idx": 7,
    "time": "2021-02-06T22:44:56.541Z",
    "type": "execution"
   },
   {
    "id": "0e403ae3e9b4423785f11c3d7b46a36c",
    "time": "2021-02-06T22:44:56.693Z",
    "type": "completion"
   },
   {
    "code": "l1_result = pd.DataFrame(l1_chip_abbrev_percentage)\nl1_result.index += 1\nl1_result.index.name = '#cnum'\nl1_result.columns = unique_symbols\nprint(l1_result)\nchip_norm = []\n#pull the percentage for each cnum\nfor x in chip_num:\n#     chip_norm.append((l1_result.loc[l1[\"#cnum\"]==x]).values.tolist()[0])\n    chip_norm.append(l1_result.loc[x,:].values.tolist())",
    "id": "fc21542794344e2781ed7c8323668401",
    "idx": 8,
    "time": "2021-02-06T22:44:56.814Z",
    "type": "execution"
   },
   {
    "id": "49e9b39ffb2944d48b6ccdc09010b658",
    "time": "2021-02-06T22:44:57.172Z",
    "type": "completion"
   },
   {
    "id": "5121391a3fb9447c863f9b6a21ed2789",
    "time": "2021-02-06T22:44:57.181Z",
    "type": "completion"
   },
   {
    "code": "#Number of training iterations\nnum_iters = 50\n#Size of training dataset\nnum_examples = 2000\n#Listing out the shapes of each model\ncolors_num = len(chip_norm[0])\ninput_size = 3\n\nnetwork_shapes = [(input_size, [10], colors_num), (input_size, [50], colors_num), (input_size, [100], colors_num)]\n#Learning rate of the network\nrate = 0.001\n\n#Generating Training Data\nlab_train, lab_test, chip_train, chip_test = train_test_split(lab_norm, chip_norm, test_size=0.2)\n\ninput_train = torch.FloatTensor(lab_train)\noutput_train = torch.FloatTensor(chip_train)\ninput_test= torch.FloatTensor(lab_test)\noutput_test = torch.FloatTensor(chip_test)",
    "id": "01693c63b3c54f879d46abdd5696ea35",
    "idx": 9,
    "time": "2021-02-06T22:44:57.196Z",
    "type": "execution"
   },
   {
    "id": "03a37b7ff7ce43208b74d0bbc44eea00",
    "time": "2021-02-06T22:44:57.225Z",
    "type": "completion"
   },
   {
    "id": "3b364c7fbfe047e990150f2894e5d207",
    "time": "2021-02-06T22:44:57.241Z",
    "type": "completion"
   },
   {
    "id": "90feda1a5c5c41a68e68ac9822b47500",
    "time": "2021-02-06T22:44:57.257Z",
    "type": "completion"
   },
   {
    "id": "c4306a3ea3554ad2a7b64ce9a660fc86",
    "time": "2021-02-06T22:44:57.272Z",
    "type": "completion"
   },
   {
    "id": "70e03cca165945b78f53df7ac997e754",
    "time": "2021-02-06T22:44:57.373Z",
    "type": "completion"
   },
   {
    "id": "fc21542794344e2781ed7c8323668401",
    "time": "2021-02-06T22:44:57.444Z",
    "type": "completion"
   },
   {
    "id": "01693c63b3c54f879d46abdd5696ea35",
    "time": "2021-02-06T22:44:57.445Z",
    "type": "completion"
   },
   {
    "code": "#Array of losses over training period for each network\nfor net_num, shape in enumerate(network_shapes):\n    print('Network Shape:',flush = True)\n    print('Input Size = ' + str(shape[0]), flush = True)\n    print('Hidden Size = ' + str(shape[1]), flush = True)\n    print('Output Size = ' + str(shape[2]), flush = True)\n    NN = Neural_Network(inputSize = 3, outputSize = colors_num, hiddenSize = [3,3,3] , learning_rate = 0.001)\n\n    for i in range(num_iters):\n        #Calculating l1 error\n        error = NN.l1error(output_test, NN(input_test))\n        if i == 0: \n            dh = display(\"#\" + str(i) + \" Error: \" + str(error), display_id=True)\n        else:\n            dh.update(\"#\" + str(i) + \" Error: \" + str(error))\n            \n        NN.train(input_train, output_train)\n    #Saves the training results in a filed named \"Net 0\", \"Net 1\", etc. \n    NN.saveWeights(model = NN, path = \"saved_networks/Net \" + str(net_num));",
    "id": "04811196407b40048e92e59766e727ff",
    "idx": 10,
    "time": "2021-02-06T22:44:57.481Z",
    "type": "execution"
   },
   {
    "code": "for net_num, shape in enumerate(network_shapes):\n    print('Network Shape:',flush = True)\n    print('Input Size = ' + str(shape[0]), flush = True)\n    print('Hidden Size = ' + str(shape[1]), flush = True)\n    print('Output Size = ' + str(shape[2]), flush = True)\n    # Loading the network we trained in the prev. section\n    \n    NN = Neural_Network(inputSize = shape[0], outputSize = shape[2],\n                        hiddenSize = shape[1] , learning_rate = rate)\n    print(net_num)\n    NN.load_state_dict(torch.load(\"saved_networks/Net \" + str(net_num)))\n    \n    validation_error = NN.l1error(output_test, NN(input_test))\n    max_error = np.max(np.abs((output_test - NN(input_test)).detach().numpy()))\n    print(\"The validation error is: \" + str(validation_error), flush = True)  \n    print(\"The maximum error is:\" + str(max_error), flush = True)",
    "id": "5fcbbc9de1f3451b8c81b54e170f3d99",
    "idx": 11,
    "time": "2021-02-06T22:44:58.224Z",
    "type": "execution"
   },
   {
    "code": "node_num = range(1,25)\nlayer_num = range(1,4)\n\n\nshape_collection = []\n\ndef trickle(arr, iteration_left, check):\n    if iteration_left == 0:\n        global shape_collection\n        #running the int fxn to make sure we don't have floats\n        mp = map(int, arr)\n        x = list(mp)\n        if check == sum(x):\n            shape_collection.append(x)\n    else:\n        new_arr = [0]+ arr + [0]\n        #recursively expanding the list symmetrically\n        while new_arr[0] < new_arr[1]-2 and new_arr[-1] < new_arr[-2]-2:\n            new_arr[0] += 1\n            new_arr[1] -= 1\n            new_arr[-1] += 1\n            new_arr[-2] -= 1\n        trickle(new_arr, iteration_left - 1, check)\n\nfor node in node_num:\n    for layer in layer_num:\n        if node//layer < 3:\n            continue\n        if layer%2 == 0:\n            trickle([node/2, node/2], (layer-2)/2, node)\n        else:\n            trickle([node], (layer-1)/2, node)\n        \n        \n        \n        \n\nprint(shape_collection)",
    "id": "2d09069ca66742728f94f15c244e85cf",
    "idx": 12,
    "time": "2021-02-06T22:44:59.542Z",
    "type": "execution"
   },
   {
    "code": "#Number of training iterations\nnum_iters = 500\n\n#Listing out the shapes of each model\ncolors_num = len(chip_norm[0])\ninput_size = 3\n\nnetwork_shapes = []\nfor s in shape_collection:\n    network_shapes.append((input_size,s,colors_num))\n\n#Learning rate of the network\nrate = 0.001\n\n#Generating Training Data\ninput_train, output_train, input_test, output_test = 0, 0, 0, 0\ndef shuffle():\n    lab_train, lab_test, chip_train, chip_test = train_test_split(lab_norm, chip_norm, test_size=0.2, random_state = 3, shuffle = True)\n    #test run on whole dataset\n    #lab_train, lab_test = lab_norm, lab_norm\n    #chip_train, chip_test = chip_norm, chip_norm\n    \n    global input_train, output_train, input_test, output_test\n    input_train = torch.FloatTensor(lab_train)\n    output_train = torch.FloatTensor(chip_train)\n    input_test= torch.FloatTensor(lab_test)\n    output_test = torch.FloatTensor(chip_test)\n\nprint(network_shapes)",
    "id": "0fe8dc7016284b4f8380932c7b98392f",
    "idx": 13,
    "time": "2021-02-06T22:44:59.786Z",
    "type": "execution"
   },
   {
    "code": "#Array of losses over training period for each network\noutput_file = {}\nfor n in node_num:\n    output_file[n] = {}\n    \nfor net_num, shape in enumerate(network_shapes):\n    shuffle()\n    print(\"Training: \",shape)\n    NN = Neural_Network(inputSize = shape[0], outputSize = shape[2],\n                        hiddenSize = shape[1] , learning_rate = rate)\n    error_arr = []\n    prev_error = 0\n    strike = 0\n    \n    for i in range(num_iters):       \n        NN.train(input_train, output_train)\n        validation_error = NN.l1error(output_test, NN(input_test))\n        #zero mistake counter at new training\n        if i == 0:\n            strike = 0\n        #adding error to array\n        error_arr.append(validation_error)\n        #wait for them to grow up\n        if prev_error < validation_error and i > 100:\n            if strike > 3:\n                print(\"Complete at iteration \", i, \"\\nFinal error: \", validation_error, \"\\n\")\n                break\n            else:\n                strike += 1\n        prev_error = validation_error\n\n    #Saves the training results in a filed named \"Net 0\", \"Net 1\", etc. \n    NN.saveWeights(model = NN, path = \"saved_networks/Net \" + str(net_num))\n    output_file[sum(shape[1])][len(shape[1])] = error_arr",
    "id": "81206a89a4654a4cb6e7e785c66e9a56",
    "idx": 14,
    "time": "2021-02-06T22:45:00.167Z",
    "type": "execution"
   },
   {
    "id": "04811196407b40048e92e59766e727ff",
    "time": "2021-02-06T22:45:51.868Z",
    "type": "completion"
   },
   {
    "id": "5fcbbc9de1f3451b8c81b54e170f3d99",
    "time": "2021-02-06T22:45:51.869Z",
    "type": "completion"
   },
   {
    "id": "2d09069ca66742728f94f15c244e85cf",
    "time": "2021-02-06T22:45:51.870Z",
    "type": "completion"
   },
   {
    "id": "0fe8dc7016284b4f8380932c7b98392f",
    "time": "2021-02-06T22:45:51.871Z",
    "type": "completion"
   },
   {
    "id": "81206a89a4654a4cb6e7e785c66e9a56",
    "time": "2021-02-06T22:45:51.875Z",
    "type": "completion"
   },
   {
    "code": "node_num = range(1,25)\nlayer_num = range(1,4)\n\n\nshape_collection = []\n\ndef trickle(arr, iteration_left, check):\n    if iteration_left == 0:\n        global shape_collection\n        #running the int fxn to make sure we don't have floats\n        mp = map(int, arr)\n        x = list(mp)\n        if check == sum(x):\n            shape_collection.append(x)\n    else:\n        new_arr = [0]+ arr + [0]\n        #recursively expanding the list symmetrically\n        while new_arr[0] < new_arr[1]-2 and new_arr[-1] < new_arr[-2]-2:\n            new_arr[0] += 1\n            new_arr[1] -= 1\n            new_arr[-1] += 1\n            new_arr[-2] -= 1\n        trickle(new_arr, iteration_left - 1, check)\n\nfor node in node_num:\n    for layer in layer_num:\n        if node//layer < 3:\n            continue\n        if layer%2 == 0:\n            trickle([node/2, node/2], (layer-2)/2, node)\n        else:\n            trickle([node], (layer-1)/2, node)\n        \n        \n        \n        \n\nprint(shape_collection)",
    "id": "2d09069ca66742728f94f15c244e85cf",
    "idx": 12,
    "time": "2021-02-06T22:46:01.870Z",
    "type": "execution"
   },
   {
    "id": "2d09069ca66742728f94f15c244e85cf",
    "time": "2021-02-06T22:46:01.938Z",
    "type": "completion"
   },
   {
    "code": "#Number of training iterations\nnum_iters = 500\n\n#Listing out the shapes of each model\ncolors_num = len(chip_norm[0])\ninput_size = 3\n\nnetwork_shapes = []\nfor s in shape_collection:\n    network_shapes.append((input_size,s,colors_num))\n\n#Learning rate of the network\nrate = 0.001\n\n#Generating Training Data\ninput_train, output_train, input_test, output_test = 0, 0, 0, 0\ndef shuffle():\n    lab_train, lab_test, chip_train, chip_test = train_test_split(lab_norm, chip_norm, test_size=0.2, random_state = 3, shuffle = True)\n    #test run on whole dataset\n    #lab_train, lab_test = lab_norm, lab_norm\n    #chip_train, chip_test = chip_norm, chip_norm\n    \n    global input_train, output_train, input_test, output_test\n    input_train = torch.FloatTensor(lab_train)\n    output_train = torch.FloatTensor(chip_train)\n    input_test= torch.FloatTensor(lab_test)\n    output_test = torch.FloatTensor(chip_test)\n\nprint(network_shapes)",
    "id": "0fe8dc7016284b4f8380932c7b98392f",
    "idx": 13,
    "time": "2021-02-06T22:46:02.509Z",
    "type": "execution"
   },
   {
    "id": "0fe8dc7016284b4f8380932c7b98392f",
    "time": "2021-02-06T22:46:02.561Z",
    "type": "completion"
   },
   {
    "code": "#Array of losses over training period for each network\noutput_file = {}\nfor n in node_num:\n    output_file[n] = {}\n    \nfor net_num, shape in enumerate(network_shapes):\n    shuffle()\n    print(\"Training: \",shape)\n    NN = Neural_Network(inputSize = shape[0], outputSize = shape[2],\n                        hiddenSize = shape[1] , learning_rate = rate)\n    error_arr = []\n    prev_error = 0\n    strike = 0\n    \n    for i in range(num_iters):       \n        NN.train(input_train, output_train)\n        validation_error = NN.l1error(output_test, NN(input_test))\n        #zero mistake counter at new training\n        if i == 0:\n            strike = 0\n        #adding error to array\n        error_arr.append(validation_error)\n        #wait for them to grow up\n        if prev_error < validation_error and i > 100:\n            if strike > 3:\n                print(\"Complete at iteration \", i, \"\\nFinal error: \", validation_error, \"\\n\")\n                break\n            else:\n                strike += 1\n        prev_error = validation_error\n\n    #Saves the training results in a filed named \"Net 0\", \"Net 1\", etc. \n    NN.saveWeights(model = NN, path = \"saved_networks/Net \" + str(net_num))\n    output_file[sum(shape[1])][len(shape[1])] = error_arr",
    "id": "81206a89a4654a4cb6e7e785c66e9a56",
    "idx": 14,
    "time": "2021-02-06T22:46:03.018Z",
    "type": "execution"
   },
   {
    "code": "# #Array of losses over training period for each network\n# for net_num, shape in enumerate(network_shapes):\n#     print('Network Shape:',flush = True)\n#     print('Input Size = ' + str(shape[0]), flush = True)\n#     print('Hidden Size = ' + str(shape[1]), flush = True)\n#     print('Output Size = ' + str(shape[2]), flush = True)\n#     NN = Neural_Network(inputSize = 3, outputSize = colors_num, hiddenSize = [3,3,3] , learning_rate = 0.001)\n\n#     for i in range(num_iters):\n#         #Calculating l1 error\n#         error = NN.l1error(output_test, NN(input_test))\n#         if i == 0: \n#             dh = display(\"#\" + str(i) + \" Error: \" + str(error), display_id=True)\n#         else:\n#             dh.update(\"#\" + str(i) + \" Error: \" + str(error))\n            \n#         NN.train(input_train, output_train)\n#     #Saves the training results in a filed named \"Net 0\", \"Net 1\", etc. \n#     NN.saveWeights(model = NN, path = \"saved_networks/Net \" + str(net_num));",
    "id": "04811196407b40048e92e59766e727ff",
    "idx": 10,
    "time": "2021-02-06T22:46:39.071Z",
    "type": "execution"
   }
  ],
  "kernelspec": {
   "name": "python3",
   "display_name": "Python 3.8.5 64-bit",
   "metadata": {
    "interpreter": {
     "hash": "aee8b7b246df8f9039afb4144a1f6fd8d2ca17a180786b69acc140d282b71a49"
    }
   }
  },
  "language_info": {
   "codemirror_mode": {
    "name": "ipython",
    "version": 3
   },
   "file_extension": ".py",
   "mimetype": "text/x-python",
   "name": "python",
   "nbconvert_exporter": "python",
   "pygments_lexer": "ipython3",
   "version": "3.8.5-final"
  },
  "varInspector": {
   "cols": {
    "lenName": 16,
    "lenType": 16,
    "lenVar": 40
   },
   "kernels_config": {
    "python": {
     "delete_cmd_postfix": "",
     "delete_cmd_prefix": "del ",
     "library": "var_list.py",
     "varRefreshCmd": "print(var_dic_list())"
    },
    "r": {
     "delete_cmd_postfix": ") ",
     "delete_cmd_prefix": "rm(",
     "library": "var_list.r",
     "varRefreshCmd": "cat(var_dic_list()) "
    }
   },
   "position": {
    "height": "277px",
    "left": "1061px",
    "right": "20px",
    "top": "120px",
    "width": "350px"
   },
   "types_to_exclude": [
    "module",
    "function",
    "builtin_function_or_method",
    "instance",
    "_Feature"
   ],
   "window_display": false
  }
 },
 "nbformat": 4,
 "nbformat_minor": 2
}